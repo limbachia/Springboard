{
 "cells": [
  {
   "cell_type": "markdown",
   "metadata": {},
   "source": [
    "# [Ned Batchelder: Getting Started Testing - PyCon 2014](https://youtu.be/FxSsnHeWQBY)"
   ]
  },
  {
   "cell_type": "code",
   "execution_count": 1,
   "metadata": {},
   "outputs": [
    {
     "name": "stdout",
     "output_type": "stream",
     "text": [
      "Overwriting portfolio1.py\n"
     ]
    }
   ],
   "source": [
    "%%writefile portfolio1.py\n",
    "class Portfolio(object):\n",
    "    \"\"\"A simple portfolio\"\"\"\n",
    "    def __init__(self):\n",
    "        # stocks is a list of lists:\n",
    "        #   [[name, shares, price], ...]\n",
    "        self.stocks = []\n",
    "        \n",
    "    def buy(self, name, shares, price):\n",
    "        \"\"\"Buy `name`: `shares` shares at `price`.\"\"\"\n",
    "        self.stocks.append([name,shares,price])\n",
    "    \n",
    "    def cost(self):\n",
    "        \"\"\"What was total cost of this portfolio?\"\"\"\n",
    "        amt = 0.0\n",
    "        for name, shares, price in self.stocks:\n",
    "            amt += shares*price \n",
    "        return amt\n",
    "    \n",
    "    def sell(self, name, shares):\n",
    "        \"\"\"Sell some shares\"\"\"\n",
    "        for holding in self.stocks:\n",
    "            if holding[0] == name:\n",
    "                if holding[1] < shares:\n",
    "                    raise ValueError(\"Not enough shares\")\n",
    "                holding[1] -= shares\n",
    "                break\n",
    "        else:\n",
    "            raise ValueError(\"You don't own that stock\")\n",
    "            "
   ]
  },
  {
   "cell_type": "code",
   "execution_count": 2,
   "metadata": {},
   "outputs": [
    {
     "name": "stdout",
     "output_type": "stream",
     "text": [
      "0.0\n",
      "849.74\n"
     ]
    }
   ],
   "source": [
    "from portfolio1 import Portfolio\n",
    "myStocks = Portfolio()\n",
    "print(myStocks.cost())\n",
    "myStocks.buy('Telsa',2,424.87)\n",
    "print(myStocks.cost())"
   ]
  },
  {
   "cell_type": "markdown",
   "metadata": {},
   "source": [
    "## A simple unit test"
   ]
  },
  {
   "cell_type": "code",
   "execution_count": 3,
   "metadata": {},
   "outputs": [
    {
     "name": "stdout",
     "output_type": "stream",
     "text": [
      "Overwriting test_port1.py\n"
     ]
    }
   ],
   "source": [
    "%%writefile test_port1.py\n",
    "import unittest\n",
    "from portfolio1 import Portfolio\n",
    "\n",
    "class PortfolioTest(unittest.TestCase):\n",
    "    def test_buy_one_stock(self):\n",
    "        p = Portfolio()\n",
    "        p.buy(\"IBM\", 100, 176.48)\n",
    "        assert p.cost() == 17648.0"
   ]
  },
  {
   "cell_type": "code",
   "execution_count": 4,
   "metadata": {},
   "outputs": [
    {
     "name": "stderr",
     "output_type": "stream",
     "text": [
      ".\n",
      "----------------------------------------------------------------------\n",
      "Ran 1 test in 0.000s\n",
      "\n",
      "OK\n"
     ]
    }
   ],
   "source": [
    "%%bash\n",
    "\n",
    "python -m unittest test_port1"
   ]
  },
  {
   "cell_type": "markdown",
   "metadata": {},
   "source": [
    "Single dot in above means ran only one test. Everything went okay!"
   ]
  },
  {
   "cell_type": "markdown",
   "metadata": {},
   "source": [
    "## Add more tests"
   ]
  },
  {
   "cell_type": "code",
   "execution_count": 7,
   "metadata": {},
   "outputs": [
    {
     "name": "stdout",
     "output_type": "stream",
     "text": [
      "Overwriting test_port2.py\n"
     ]
    }
   ],
   "source": [
    "%%writefile test_port2.py\n",
    "\n",
    "import unittest \n",
    "from portfolio1 import Portfolio\n",
    "\n",
    "class PortfolioTest(unittest.TestCase):\n",
    "    def test_empty(self):\n",
    "        p = Portfolio()\n",
    "        assert p.cost() == 0\n",
    "    \n",
    "    def test_buy_one_stock(self):\n",
    "        p = Portfolio()\n",
    "        p.buy(\"IBM\", 100, 176.48)\n",
    "        assert p.cost() == 17648.0\n",
    "        \n",
    "    def test_buy_two_stocks(self):\n",
    "        p = Portfolio()\n",
    "        p.buy(\"IBM\", 100, 176.48)\n",
    "        p.buy(\"HPQ\", 100, 36.15)\n",
    "        self.assertEqual(p.cost(), 17648.0 + 3615.0)"
   ]
  },
  {
   "cell_type": "code",
   "execution_count": 8,
   "metadata": {},
   "outputs": [
    {
     "name": "stderr",
     "output_type": "stream",
     "text": [
      "...\n",
      "----------------------------------------------------------------------\n",
      "Ran 3 tests in 0.000s\n",
      "\n",
      "OK\n"
     ]
    }
   ],
   "source": [
    "%%bash\n",
    "\n",
    "python -m unittest test_port2"
   ]
  },
  {
   "cell_type": "markdown",
   "metadata": {},
   "source": [
    "## Test sell()"
   ]
  },
  {
   "cell_type": "code",
   "execution_count": 13,
   "metadata": {},
   "outputs": [
    {
     "name": "stdout",
     "output_type": "stream",
     "text": [
      "Overwriting test_port3.py\n"
     ]
    }
   ],
   "source": [
    "%%writefile test_port3.py\n",
    "import unittest \n",
    "from portfolio1 import Portfolio\n",
    "\n",
    "class PortfolioSellTest(unittest.TestCase):\n",
    "    def test_sell(self):\n",
    "        p = Portfolio()\n",
    "        p.buy(\"MSFT\", 100, 27.0)\n",
    "        p.buy(\"DELL\", 100, 17.0)\n",
    "        p.buy(\"ORCL\", 100, 34.0)\n",
    "        p.sell(\"MSFT\", 50)\n",
    "        self.assertEqual(p.cost(),6450)\n",
    "    \n",
    "    def test_not_enough(self):\n",
    "        p = Portfolio() # Didn't I just do this?\n",
    "        p.buy(\"MSFT\", 100, 27.0)\n",
    "        p.buy(\"DELL\", 100, 17.0)\n",
    "        p.buy(\"ORCL\", 100, 34.0)\n",
    "        with self.assertRaises(ValueError):\n",
    "            p.sell(\"MSFT\",200)\n",
    "            \n",
    "    def test_dont_own_it(self):\n",
    "        p = Portfolio() # What, again??\n",
    "        p.buy(\"MSFT\", 100, 27.0)\n",
    "        p.buy(\"DELL\", 100, 17.0)\n",
    "        p.buy(\"ORCL\", 100, 34.0)\n",
    "        with self.assertRaises(ValueError):\n",
    "            p.sell(\"IBM\",1)"
   ]
  },
  {
   "cell_type": "code",
   "execution_count": 14,
   "metadata": {},
   "outputs": [
    {
     "name": "stderr",
     "output_type": "stream",
     "text": [
      "...\n",
      "----------------------------------------------------------------------\n",
      "Ran 3 tests in 0.000s\n",
      "\n",
      "OK\n"
     ]
    }
   ],
   "source": [
    "%%bash\n",
    "\n",
    "python -m unittest test_port3"
   ]
  },
  {
   "cell_type": "markdown",
   "metadata": {},
   "source": [
    "There is a lot of repetition of same code in class PortfolioSellTest.\n",
    "Let's refactor it."
   ]
  },
  {
   "cell_type": "code",
   "execution_count": 15,
   "metadata": {},
   "outputs": [
    {
     "name": "stdout",
     "output_type": "stream",
     "text": [
      "Overwriting test_port3.py\n"
     ]
    }
   ],
   "source": [
    "%%writefile test_port3.py\n",
    "import unittest \n",
    "from portfolio1 import Portfolio\n",
    "\n",
    "class PortfolioSellTest(unittest.TestCase):\n",
    "    # The following setUp method is invoked before each test method\n",
    "    def setUp(self):\n",
    "        self.p = Portfolio()\n",
    "        self.p.buy(\"MSFT\", 100, 27.0)\n",
    "        self.p.buy(\"DELL\", 100, 17.0)\n",
    "        self.p.buy(\"ORCL\", 100, 34.0)\n",
    "        \n",
    "    def test_sell(self):\n",
    "        self.p.sell(\"MSFT\", 50)\n",
    "        self.assertEqual(self.p.cost(),6450)\n",
    "    \n",
    "    def test_not_enough(self):\n",
    "        with self.assertRaises(ValueError):\n",
    "            self.p.sell(\"MSFT\",200)\n",
    "            \n",
    "    def test_dont_own_it(self):\n",
    "        with self.assertRaises(ValueError):\n",
    "            self.p.sell(\"IBM\",1)"
   ]
  },
  {
   "cell_type": "code",
   "execution_count": 16,
   "metadata": {},
   "outputs": [
    {
     "name": "stderr",
     "output_type": "stream",
     "text": [
      "...\n",
      "----------------------------------------------------------------------\n",
      "Ran 3 tests in 0.000s\n",
      "\n",
      "OK\n"
     ]
    }
   ],
   "source": [
    "%%bash\n",
    "\n",
    "python -m unittest test_port3"
   ]
  },
  {
   "cell_type": "code",
   "execution_count": null,
   "metadata": {},
   "outputs": [],
   "source": []
  }
 ],
 "metadata": {
  "kernelspec": {
   "display_name": "Python 3",
   "language": "python",
   "name": "python3"
  },
  "language_info": {
   "codemirror_mode": {
    "name": "ipython",
    "version": 3
   },
   "file_extension": ".py",
   "mimetype": "text/x-python",
   "name": "python",
   "nbconvert_exporter": "python",
   "pygments_lexer": "ipython3",
   "version": "3.7.3"
  }
 },
 "nbformat": 4,
 "nbformat_minor": 4
}
