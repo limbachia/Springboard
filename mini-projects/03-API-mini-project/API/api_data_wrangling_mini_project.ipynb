{
 "cells": [
  {
   "cell_type": "markdown",
   "metadata": {},
   "source": [
    "This exercise will require you to pull some data from the Qunadl API. Qaundl is currently the most widely used aggregator of financial market data."
   ]
  },
  {
   "cell_type": "markdown",
   "metadata": {},
   "source": [
    "As a first step, you will need to register a free account on the http://www.quandl.com website."
   ]
  },
  {
   "cell_type": "markdown",
   "metadata": {},
   "source": [
    "After you register, you will be provided with a unique API key, that you should store:"
   ]
  },
  {
   "cell_type": "code",
   "execution_count": 1,
   "metadata": {},
   "outputs": [],
   "source": [
    "# Store the API key as a string - according to PEP8, constants are always named in all upper case\n",
    "API_KEY = 'ZKbWtzzgtp4AXiDa3CF7'"
   ]
  },
  {
   "cell_type": "markdown",
   "metadata": {},
   "source": [
    "Qaundl has a large number of data sources, but, unfortunately, most of them require a Premium subscription. Still, there are also a good number of free datasets."
   ]
  },
  {
   "cell_type": "markdown",
   "metadata": {},
   "source": [
    "For this mini project, we will focus on equities data from the Frankfurt Stock Exhange (FSE), which is available for free. We'll try and analyze the stock prices of a company called Carl Zeiss Meditec, which manufactures tools for eye examinations, as well as medical lasers for laser eye surgery: https://www.zeiss.com/meditec/int/home.html. The company is listed under the stock ticker AFX_X."
   ]
  },
  {
   "cell_type": "markdown",
   "metadata": {},
   "source": [
    "You can find the detailed Quandl API instructions here: https://docs.quandl.com/docs/time-series"
   ]
  },
  {
   "cell_type": "markdown",
   "metadata": {},
   "source": [
    "While there is a dedicated Python package for connecting to the Quandl API, we would prefer that you use the *requests* package, which can be easily downloaded using *pip* or *conda*. You can find the documentation for the package here: http://docs.python-requests.org/en/master/ "
   ]
  },
  {
   "cell_type": "markdown",
   "metadata": {},
   "source": [
    "Finally, apart from the *requests* package, you are encouraged to not use any third party Python packages, such as *pandas*, and instead focus on what's available in the Python Standard Library (the *collections* module might come in handy: https://pymotw.com/3/collections/ ).\n",
    "Also, since you won't have access to DataFrames, you are encouraged to us Python's native data structures - preferably dictionaries, though some questions can also be answered using lists.\n",
    "You can read more on these data structures here: https://docs.python.org/3/tutorial/datastructures.html"
   ]
  },
  {
   "cell_type": "markdown",
   "metadata": {},
   "source": [
    "Keep in mind that the JSON responses you will be getting from the API map almost one-to-one to Python's dictionaries. Unfortunately, they can be very nested, so make sure you read up on indexing dictionaries in the documentation provided above."
   ]
  },
  {
   "cell_type": "code",
   "execution_count": 2,
   "metadata": {},
   "outputs": [],
   "source": [
    "# First, import the relevant modules\n",
    "import requests"
   ]
  },
  {
   "cell_type": "code",
   "execution_count": 3,
   "metadata": {},
   "outputs": [
    {
     "name": "stdout",
     "output_type": "stream",
     "text": [
      "Your request was successful!\n"
     ]
    }
   ],
   "source": [
    "# Now, call the Quandl API and pull out a small sample of the data (only one day) to get a glimpse\n",
    "# into the JSON structure that will be returned\n",
    "\n",
    "url = \"https://www.quandl.com/api/v3/datasets/FSE/AFX_X/data.json\"\n",
    "params = dict(api_key=API_KEY,start_date='2020-05-07',end_date='2020-05-08')\n",
    "res = requests.get(url=url,params=params)\n",
    "\n",
    "if res.status_code == 200:\n",
    "    print('Your request was successful!')"
   ]
  },
  {
   "cell_type": "code",
   "execution_count": 4,
   "metadata": {},
   "outputs": [
    {
     "data": {
      "text/plain": [
       "dict_keys(['dataset_data'])"
      ]
     },
     "execution_count": 4,
     "metadata": {},
     "output_type": "execute_result"
    }
   ],
   "source": [
    "# Inspect the JSON structure of the object you created, and take note of how nested it is,\n",
    "# as well as the overall structure\n",
    "\n",
    "res.json().keys()"
   ]
  },
  {
   "cell_type": "markdown",
   "metadata": {},
   "source": [
    "In the first level of the dictionary, 'dataset_data' is the only key. All information is stored inside this key."
   ]
  },
  {
   "cell_type": "code",
   "execution_count": 5,
   "metadata": {},
   "outputs": [
    {
     "data": {
      "text/plain": [
       "dict_keys(['limit', 'transform', 'column_index', 'column_names', 'start_date', 'end_date', 'frequency', 'data', 'collapse', 'order'])"
      ]
     },
     "execution_count": 5,
     "metadata": {},
     "output_type": "execute_result"
    }
   ],
   "source": [
    "res.json()['dataset_data'].keys()"
   ]
  },
  {
   "cell_type": "markdown",
   "metadata": {},
   "source": [
    "Above keys are in the second level of dictionary. The information needed for this exercise is stored in keys 'column_names' and 'data'. \n",
    "\n",
    "'data' consists of relavant information, and 'column_names' consist of corresponding labels. Lets take a look at them"
   ]
  },
  {
   "cell_type": "code",
   "execution_count": 6,
   "metadata": {},
   "outputs": [
    {
     "name": "stdout",
     "output_type": "stream",
     "text": [
      "Date : 2020-05-08\n",
      "Open : 96.35\n",
      "High : 97.35\n",
      "Low : 95.15\n",
      "Close : 95.3\n",
      "Change : None\n",
      "Traded Volume : 134071.0\n",
      "Turnover : 12869764.45\n",
      "Last Price of the Day : None\n",
      "Daily Traded Units : None\n",
      "Daily Turnover : None\n"
     ]
    }
   ],
   "source": [
    "colnames = res.json()['dataset_data']['column_names']\n",
    "data = res.json()['dataset_data']['data'][0]\n",
    "for col, val in zip(colnames,data):\n",
    "    print(col,':', val)"
   ]
  },
  {
   "cell_type": "markdown",
   "metadata": {},
   "source": [
    "## These are your tasks for this mini project:"
   ]
  },
  {
   "cell_type": "markdown",
   "metadata": {},
   "source": [
    "1. Collect data from the Franfurt Stock Exchange, for the ticker AFX_X, for the whole year 2017 (keep in mind that the date format is YYYY-MM-DD)."
   ]
  },
  {
   "cell_type": "code",
   "execution_count": 7,
   "metadata": {},
   "outputs": [
    {
     "name": "stdout",
     "output_type": "stream",
     "text": [
      "Your request was successful!\n"
     ]
    }
   ],
   "source": [
    "# url request\n",
    "url = \"https://www.quandl.com/api/v3/datasets/FSE/AFX_X/data.json\"\n",
    "\n",
    "# Request parameters defining api_key, start and end dates to access data only for the year 2017.\n",
    "params = dict(api_key=API_KEY,start_date='2017-01-01',end_date='2017-12-31')\n",
    "# Send request\n",
    "res = requests.get(url=url,params=params)\n",
    "\n",
    "# If the request status code is 200, that means we successfully received response for the request \n",
    "if res.status_code == 200:\n",
    "    print('Your request was successful!')"
   ]
  },
  {
   "cell_type": "markdown",
   "metadata": {},
   "source": [
    "2. Convert the returned JSON object into a Python dictionary."
   ]
  },
  {
   "cell_type": "code",
   "execution_count": 8,
   "metadata": {},
   "outputs": [
    {
     "name": "stdout",
     "output_type": "stream",
     "text": [
      "Data Type: <class 'dict'>\n"
     ]
    }
   ],
   "source": [
    "data = res.json()\n",
    "print('Data Type:', type(data))"
   ]
  },
  {
   "cell_type": "markdown",
   "metadata": {},
   "source": [
    "3. Calculate what the highest and lowest opening prices were for the stock in this period."
   ]
  },
  {
   "cell_type": "code",
   "execution_count": 9,
   "metadata": {},
   "outputs": [
    {
     "name": "stdout",
     "output_type": "stream",
     "text": [
      "Lowest opening price in year 2017: $34.00\n",
      "Highest opening price in year 2017: $53.11\n"
     ]
    }
   ],
   "source": [
    "from collections import defaultdict\n",
    "\n",
    "# Store column names in a variable.\n",
    "colnames = data['dataset_data']['column_names']\n",
    "\n",
    "# Defining an empty dictionary with list as the default storage datatype \n",
    "daily_data = defaultdict(list)\n",
    "\n",
    "# Fill the empty dictionary with data from each day in the year 2017, with proper key names\n",
    "for obs in data['dataset_data']['data']:\n",
    "    for key, val in zip(colnames,obs):\n",
    "        daily_data[key].append(val)\n",
    "\n",
    "print('Lowest opening price in year 2017: $%.2f' %(min([val for val in daily_data['Open'] if val is not None])))\n",
    "print('Highest opening price in year 2017: $%.2f' %(max([val for val in daily_data['Open'] if val is not None])))"
   ]
  },
  {
   "cell_type": "markdown",
   "metadata": {},
   "source": [
    "4. What was the largest change in any one day (based on High and Low price)?"
   ]
  },
  {
   "cell_type": "code",
   "execution_count": 10,
   "metadata": {},
   "outputs": [
    {
     "name": "stdout",
     "output_type": "stream",
     "text": [
      "Largest change in any one day (based on High and Low price): $2.81\n"
     ]
    }
   ],
   "source": [
    "# Here change is defined as the absolute difference between High and Low prices of a particular day.\n",
    "\n",
    "# Initialize an empty list.\n",
    "change = []\n",
    "\n",
    "# Append the empty list with absolute difference between High and Low prices for each day.\n",
    "for high, low in zip(daily_data['High'],daily_data['Low']):\n",
    "    if None not in [high,low]:\n",
    "        change.append(abs(high-low))\n",
    "        \n",
    "\n",
    "print('Largest change in any one day (based on High and Low price): $%.2f' %(max(change)))"
   ]
  },
  {
   "cell_type": "markdown",
   "metadata": {},
   "source": [
    "5. What was the largest change between any two days (based on Closing Price)?"
   ]
  },
  {
   "cell_type": "code",
   "execution_count": 11,
   "metadata": {},
   "outputs": [
    {
     "name": "stdout",
     "output_type": "stream",
     "text": [
      "Largest change between any two days (based on Closing Price): $2.56\n"
     ]
    }
   ],
   "source": [
    "# Here change is defined as the absolute difference between the closing prices of two consecutive days.\n",
    "\n",
    "# Store closing prices in a variable.\n",
    "close_price = daily_data['Close']\n",
    "\n",
    "# Initialize a list with first element as 0 (this is only for convenience of indexing).\n",
    "change = [0]\n",
    "\n",
    "# Append the list with absolute difference between the closing prices of two consecutive days.\n",
    "for i in range(1,len(close_price)):\n",
    "    change.append(abs(close_price[i] - close_price[i-1]))\n",
    "    \n",
    "print('Largest change between any two days (based on Closing Price): $%.2f' %(max(change)))"
   ]
  },
  {
   "cell_type": "markdown",
   "metadata": {},
   "source": [
    "6. What was the average daily trading volume during this year?"
   ]
  },
  {
   "cell_type": "code",
   "execution_count": 12,
   "metadata": {},
   "outputs": [
    {
     "name": "stdout",
     "output_type": "stream",
     "text": [
      "Average daily trading volume: $89124.34\n"
     ]
    }
   ],
   "source": [
    "# Store daily trading volume as a list\n",
    "tv = daily_data['Traded Volume']\n",
    "\n",
    "# Compute and display its mean\n",
    "mean_tv = sum(tv)/len(tv)\n",
    "print('Average daily trading volume: $%.2f' %(mean_tv))"
   ]
  },
  {
   "cell_type": "markdown",
   "metadata": {},
   "source": [
    "7. (Optional) What was the median trading volume during this year. (Note: you may need to implement your own function for calculating the median.)"
   ]
  },
  {
   "cell_type": "code",
   "execution_count": 13,
   "metadata": {},
   "outputs": [
    {
     "name": "stdout",
     "output_type": "stream",
     "text": [
      "Median trading volume during year 2017: $76286.00\n"
     ]
    }
   ],
   "source": [
    "# median function to compute median.\n",
    "def median(array):\n",
    "    array = sorted(array)\n",
    "    # if odd number of values in array\n",
    "    if len(array) % 2 == 1:\n",
    "        idx = int(len(array)/2)\n",
    "        median =  array[idx]\n",
    "    # if even number of values in array\n",
    "    else:\n",
    "        idx = int(len(array)/2)\n",
    "        median = (array[idx] + array[idx-1])/2\n",
    "    return median\n",
    "\n",
    "print('Median trading volume during year 2017: $%.2f' %(median(tv)))"
   ]
  },
  {
   "cell_type": "code",
   "execution_count": null,
   "metadata": {},
   "outputs": [],
   "source": []
  }
 ],
 "metadata": {
  "kernelspec": {
   "display_name": "Python 3",
   "language": "python",
   "name": "python3"
  },
  "language_info": {
   "codemirror_mode": {
    "name": "ipython",
    "version": 3
   },
   "file_extension": ".py",
   "mimetype": "text/x-python",
   "name": "python",
   "nbconvert_exporter": "python",
   "pygments_lexer": "ipython3",
   "version": "3.7.3"
  }
 },
 "nbformat": 4,
 "nbformat_minor": 4
}
