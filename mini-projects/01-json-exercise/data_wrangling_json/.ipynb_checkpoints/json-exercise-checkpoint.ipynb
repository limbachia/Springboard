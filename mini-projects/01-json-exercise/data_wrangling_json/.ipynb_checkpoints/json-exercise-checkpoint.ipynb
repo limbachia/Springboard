{
 "cells": [
  {
   "cell_type": "markdown",
   "metadata": {},
   "source": [
    "# **Mini-Project: Data Wrangling JSON Exercise**"
   ]
  },
  {
   "cell_type": "markdown",
   "metadata": {},
   "source": [
    "## Import pandas, numpy and json packages"
   ]
  },
  {
   "cell_type": "code",
   "execution_count": 1,
   "metadata": {},
   "outputs": [],
   "source": [
    "import pandas as pd\n",
    "import numpy as np\n",
    "import json\n",
    "from pandas.io.json import json_normalize\n",
    "\n",
    "import matplotlib.pyplot as plt\n",
    "%matplotlib inline"
   ]
  },
  {
   "cell_type": "markdown",
   "metadata": {},
   "source": [
    "## Laod the World Bank Projects json dataset"
   ]
  },
  {
   "cell_type": "code",
   "execution_count": 2,
   "metadata": {},
   "outputs": [],
   "source": [
    "with open('data/world_bank_projects.json') as file:\n",
    "    data = json.load(file)"
   ]
  },
  {
   "cell_type": "code",
   "execution_count": 3,
   "metadata": {
    "scrolled": true
   },
   "outputs": [
    {
     "name": "stdout",
     "output_type": "stream",
     "text": [
      "datatype is  <class 'list'>\n",
      "data has 500 entries\n"
     ]
    }
   ],
   "source": [
    "print('datatype is ',type(data))\n",
    "print('data has %s entries' %(len(data)))"
   ]
  },
  {
   "cell_type": "markdown",
   "metadata": {},
   "source": [
    "## Quick glance at the data to understand its structure"
   ]
  },
  {
   "cell_type": "code",
   "execution_count": 4,
   "metadata": {
    "scrolled": false
   },
   "outputs": [
    {
     "name": "stdout",
     "output_type": "stream",
     "text": [
      "{'_id': {...},\n",
      " 'approvalfy': 1999,\n",
      " 'board_approval_month': 'November',\n",
      " 'boardapprovaldate': '2013-11-12T00:00:00Z',\n",
      " 'borrower': 'FEDERAL DEMOCRATIC REPUBLIC OF ETHIOPIA',\n",
      " 'closingdate': '2018-07-07T00:00:00Z',\n",
      " 'country_namecode': 'Federal Democratic Republic of Ethiopia!$!ET',\n",
      " 'countrycode': 'ET',\n",
      " 'countryname': 'Federal Democratic Republic of Ethiopia',\n",
      " 'countryshortname': 'Ethiopia',\n",
      " 'docty': 'Project Information Document,Indigenous Peoples Plan,Project '\n",
      "          'Information Document',\n",
      " 'envassesmentcategorycode': 'C',\n",
      " 'grantamt': 0,\n",
      " 'ibrdcommamt': 0,\n",
      " 'id': 'P129828',\n",
      " 'idacommamt': 130000000,\n",
      " 'impagency': 'MINISTRY OF EDUCATION',\n",
      " 'lendinginstr': 'Investment Project Financing',\n",
      " 'lendinginstrtype': 'IN',\n",
      " 'lendprojectcost': 550000000,\n",
      " 'majorsector_percent': [...],\n",
      " 'mjsector_namecode': [...],\n",
      " 'mjtheme': [...],\n",
      " 'mjtheme_namecode': [...],\n",
      " 'mjthemecode': '8,11',\n",
      " 'prodline': 'PE',\n",
      " 'prodlinetext': 'IBRD/IDA',\n",
      " 'productlinetype': 'L',\n",
      " 'project_abstract': {...},\n",
      " 'project_name': 'Ethiopia General Education Quality Improvement Project II',\n",
      " 'projectdocs': [...],\n",
      " 'projectfinancialtype': 'IDA',\n",
      " 'projectstatusdisplay': 'Active',\n",
      " 'regionname': 'Africa',\n",
      " 'sector': [...],\n",
      " 'sector1': {...},\n",
      " 'sector2': {...},\n",
      " 'sector3': {...},\n",
      " 'sector4': {...},\n",
      " 'sector_namecode': [...],\n",
      " 'sectorcode': 'ET,BS,ES,EP',\n",
      " 'source': 'IBRD',\n",
      " 'status': 'Active',\n",
      " 'supplementprojectflg': 'N',\n",
      " 'theme1': {...},\n",
      " 'theme_namecode': [...],\n",
      " 'themecode': '65',\n",
      " 'totalamt': 130000000,\n",
      " 'totalcommamt': 130000000,\n",
      " 'url': 'http://www.worldbank.org/projects/P129828/ethiopia-general-education-quality-improvement-project-ii?lang=en'}\n"
     ]
    }
   ],
   "source": [
    "from pprint import pprint\n",
    "pprint(data[0],depth=1,compact=True)"
   ]
  },
  {
   "cell_type": "markdown",
   "metadata": {},
   "source": [
    "Since exercise hints at finding information about major project theme by looking at the 'mjtheme_namecode' field, lets use this field along with other relavent fields like countryname, countrycode to create a dataframe."
   ]
  },
  {
   "cell_type": "code",
   "execution_count": 5,
   "metadata": {},
   "outputs": [],
   "source": [
    "df = json_normalize(data,'mjtheme_namecode',['countrycode',\n",
    "                                             'countryname',\n",
    "                                             'countryshortname',\n",
    "                                            ])"
   ]
  },
  {
   "cell_type": "code",
   "execution_count": 6,
   "metadata": {
    "scrolled": true
   },
   "outputs": [
    {
     "data": {
      "text/html": [
       "<div>\n",
       "<style scoped>\n",
       "    .dataframe tbody tr th:only-of-type {\n",
       "        vertical-align: middle;\n",
       "    }\n",
       "\n",
       "    .dataframe tbody tr th {\n",
       "        vertical-align: top;\n",
       "    }\n",
       "\n",
       "    .dataframe thead th {\n",
       "        text-align: right;\n",
       "    }\n",
       "</style>\n",
       "<table border=\"1\" class=\"dataframe\">\n",
       "  <thead>\n",
       "    <tr style=\"text-align: right;\">\n",
       "      <th></th>\n",
       "      <th>code</th>\n",
       "      <th>name</th>\n",
       "      <th>countrycode</th>\n",
       "      <th>countryname</th>\n",
       "      <th>countryshortname</th>\n",
       "    </tr>\n",
       "  </thead>\n",
       "  <tbody>\n",
       "    <tr>\n",
       "      <th>0</th>\n",
       "      <td>8</td>\n",
       "      <td>Human development</td>\n",
       "      <td>ET</td>\n",
       "      <td>Federal Democratic Republic of Ethiopia</td>\n",
       "      <td>Ethiopia</td>\n",
       "    </tr>\n",
       "    <tr>\n",
       "      <th>1</th>\n",
       "      <td>11</td>\n",
       "      <td></td>\n",
       "      <td>ET</td>\n",
       "      <td>Federal Democratic Republic of Ethiopia</td>\n",
       "      <td>Ethiopia</td>\n",
       "    </tr>\n",
       "    <tr>\n",
       "      <th>2</th>\n",
       "      <td>1</td>\n",
       "      <td>Economic management</td>\n",
       "      <td>TN</td>\n",
       "      <td>Republic of Tunisia</td>\n",
       "      <td>Tunisia</td>\n",
       "    </tr>\n",
       "    <tr>\n",
       "      <th>3</th>\n",
       "      <td>6</td>\n",
       "      <td>Social protection and risk management</td>\n",
       "      <td>TN</td>\n",
       "      <td>Republic of Tunisia</td>\n",
       "      <td>Tunisia</td>\n",
       "    </tr>\n",
       "    <tr>\n",
       "      <th>4</th>\n",
       "      <td>5</td>\n",
       "      <td>Trade and integration</td>\n",
       "      <td>TV</td>\n",
       "      <td>Tuvalu</td>\n",
       "      <td>Tuvalu</td>\n",
       "    </tr>\n",
       "  </tbody>\n",
       "</table>\n",
       "</div>"
      ],
      "text/plain": [
       "  code                                   name countrycode  \\\n",
       "0    8                      Human development          ET   \n",
       "1   11                                                 ET   \n",
       "2    1                    Economic management          TN   \n",
       "3    6  Social protection and risk management          TN   \n",
       "4    5                  Trade and integration          TV   \n",
       "\n",
       "                               countryname countryshortname  \n",
       "0  Federal Democratic Republic of Ethiopia         Ethiopia  \n",
       "1  Federal Democratic Republic of Ethiopia         Ethiopia  \n",
       "2                      Republic of Tunisia          Tunisia  \n",
       "3                      Republic of Tunisia          Tunisia  \n",
       "4                                   Tuvalu           Tuvalu  "
      ]
     },
     "execution_count": 6,
     "metadata": {},
     "output_type": "execute_result"
    }
   ],
   "source": [
    "df.head()"
   ]
  },
  {
   "cell_type": "code",
   "execution_count": 7,
   "metadata": {},
   "outputs": [
    {
     "data": {
      "text/plain": [
       "(1499, 5)"
      ]
     },
     "execution_count": 7,
     "metadata": {},
     "output_type": "execute_result"
    }
   ],
   "source": [
    "df.shape"
   ]
  },
  {
   "cell_type": "code",
   "execution_count": 8,
   "metadata": {
    "scrolled": true
   },
   "outputs": [
    {
     "name": "stdout",
     "output_type": "stream",
     "text": [
      "<class 'pandas.core.frame.DataFrame'>\n",
      "RangeIndex: 1499 entries, 0 to 1498\n",
      "Data columns (total 5 columns):\n",
      "code                1499 non-null object\n",
      "name                1499 non-null object\n",
      "countrycode         1499 non-null object\n",
      "countryname         1499 non-null object\n",
      "countryshortname    1499 non-null object\n",
      "dtypes: object(5)\n",
      "memory usage: 58.6+ KB\n"
     ]
    }
   ],
   "source": [
    "df.info()"
   ]
  },
  {
   "cell_type": "markdown",
   "metadata": {},
   "source": [
    "info() output indicates that there are no null values, but we can see a missing value for name in the second column of the datframe: there is an empty string. Lets fix this by replacing emtpy strings with NaN."
   ]
  },
  {
   "cell_type": "code",
   "execution_count": 9,
   "metadata": {},
   "outputs": [],
   "source": [
    "df.replace({'':np.nan},inplace=True)"
   ]
  },
  {
   "cell_type": "code",
   "execution_count": 10,
   "metadata": {},
   "outputs": [
    {
     "name": "stdout",
     "output_type": "stream",
     "text": [
      "<class 'pandas.core.frame.DataFrame'>\n",
      "RangeIndex: 1499 entries, 0 to 1498\n",
      "Data columns (total 5 columns):\n",
      "code                1499 non-null object\n",
      "name                1377 non-null object\n",
      "countrycode         1499 non-null object\n",
      "countryname         1499 non-null object\n",
      "countryshortname    1499 non-null object\n",
      "dtypes: object(5)\n",
      "memory usage: 58.6+ KB\n"
     ]
    }
   ],
   "source": [
    "df.info()"
   ]
  },
  {
   "cell_type": "markdown",
   "metadata": {},
   "source": [
    "info() now shows the true number of non-null entries for all the columns. Look like there are 122 missing values in the name column,"
   ]
  },
  {
   "cell_type": "markdown",
   "metadata": {},
   "source": [
    "## **1. Top 10 countries with most projects**"
   ]
  },
  {
   "cell_type": "markdown",
   "metadata": {},
   "source": [
    "Every entry in the 'mjtheme_namecode' is a project.  \n",
    "Lets check 'mjtheme_namecode' for few countries."
   ]
  },
  {
   "cell_type": "code",
   "execution_count": 11,
   "metadata": {},
   "outputs": [
    {
     "name": "stdout",
     "output_type": "stream",
     "text": [
      "Major Theme Names and Code:\n",
      "Federal Democratic Republic of Ethiopia\n",
      "[{'code': '8', 'name': 'Human development'}, {'code': '11', 'name': ''}]\n",
      "Republic of Tunisia\n",
      "[{'code': '1', 'name': 'Economic management'},\n",
      " {'code': '6', 'name': 'Social protection and risk management'}]\n",
      "Tuvalu\n",
      "[{'code': '5', 'name': 'Trade and integration'},\n",
      " {'code': '2', 'name': 'Public sector governance'},\n",
      " {'code': '11', 'name': 'Environment and natural resources management'},\n",
      " {'code': '6', 'name': 'Social protection and risk management'}]\n",
      "Republic of Yemen\n",
      "[{'code': '7', 'name': 'Social dev/gender/inclusion'},\n",
      " {'code': '7', 'name': 'Social dev/gender/inclusion'}]\n",
      "Kingdom of Lesotho\n",
      "[{'code': '5', 'name': 'Trade and integration'},\n",
      " {'code': '4', 'name': 'Financial and private sector development'}]\n"
     ]
    }
   ],
   "source": [
    "print('Major Theme Names and Code:')\n",
    "for country in data[:5]:\n",
    "    print(country['countryname'])\n",
    "    pprint(country['mjtheme_namecode'],depth=2,compact=True)\n",
    "    #print('\\n')"
   ]
  },
  {
   "cell_type": "markdown",
   "metadata": {},
   "source": [
    "Countries have different number of projects.\n",
    "\n",
    "**List of top ten countries with most projects.**"
   ]
  },
  {
   "cell_type": "code",
   "execution_count": 12,
   "metadata": {
    "scrolled": true
   },
   "outputs": [
    {
     "data": {
      "text/plain": [
       "Republic of Indonesia              56\n",
       "Republic of India                  51\n",
       "Socialist Republic of Vietnam      43\n",
       "People's Republic of Bangladesh    41\n",
       "Federative Republic of Brazil      41\n",
       "People's Republic of China         40\n",
       "Africa                             39\n",
       "Republic of Yemen                  34\n",
       "Kingdom of Morocco                 32\n",
       "Republic of Mozambique             31\n",
       "Name: countryname, dtype: int64"
      ]
     },
     "execution_count": 12,
     "metadata": {},
     "output_type": "execute_result"
    }
   ],
   "source": [
    "df.countryname.value_counts().head(10)"
   ]
  },
  {
   "cell_type": "markdown",
   "metadata": {},
   "source": [
    "Notice Africa, which is a continent, is included as a \"country\" in the top ten countries with highest number of projects. \n",
    "\n",
    "Let's first explore other fields to find out if country could be found in them. From just visual inpection of the dataset, 'borrower' seems to be another field that can potentially help in determining the country name. \n",
    "\n",
    "Lets wrangle!!\n",
    "\n",
    "Not all entries seem to have the 'borrower' field, so lets create a separate list of entires that have the 'borrower' information."
   ]
  },
  {
   "cell_type": "code",
   "execution_count": 13,
   "metadata": {},
   "outputs": [],
   "source": [
    "data_with_borrower_info = [entry for entry in data if 'borrower' in list(entry.keys())]"
   ]
  },
  {
   "cell_type": "code",
   "execution_count": 14,
   "metadata": {},
   "outputs": [
    {
     "data": {
      "text/plain": [
       "485"
      ]
     },
     "execution_count": 14,
     "metadata": {},
     "output_type": "execute_result"
    }
   ],
   "source": [
    "len(data_with_borrower_info)"
   ]
  },
  {
   "cell_type": "code",
   "execution_count": 15,
   "metadata": {},
   "outputs": [
    {
     "data": {
      "text/html": [
       "<div>\n",
       "<style scoped>\n",
       "    .dataframe tbody tr th:only-of-type {\n",
       "        vertical-align: middle;\n",
       "    }\n",
       "\n",
       "    .dataframe tbody tr th {\n",
       "        vertical-align: top;\n",
       "    }\n",
       "\n",
       "    .dataframe thead th {\n",
       "        text-align: right;\n",
       "    }\n",
       "</style>\n",
       "<table border=\"1\" class=\"dataframe\">\n",
       "  <thead>\n",
       "    <tr style=\"text-align: right;\">\n",
       "      <th></th>\n",
       "      <th>countryname</th>\n",
       "      <th>countryshortname</th>\n",
       "      <th>borrower</th>\n",
       "    </tr>\n",
       "  </thead>\n",
       "  <tbody>\n",
       "    <tr>\n",
       "      <th>0</th>\n",
       "      <td>Federal Democratic Republic of Ethiopia</td>\n",
       "      <td>Ethiopia</td>\n",
       "      <td>FEDERAL DEMOCRATIC REPUBLIC OF ETHIOPIA</td>\n",
       "    </tr>\n",
       "    <tr>\n",
       "      <th>1</th>\n",
       "      <td>Republic of Tunisia</td>\n",
       "      <td>Tunisia</td>\n",
       "      <td>GOVERNMENT OF TUNISIA</td>\n",
       "    </tr>\n",
       "    <tr>\n",
       "      <th>2</th>\n",
       "      <td>Tuvalu</td>\n",
       "      <td>Tuvalu</td>\n",
       "      <td>MINISTRY OF FINANCE AND ECONOMIC DEVEL</td>\n",
       "    </tr>\n",
       "    <tr>\n",
       "      <th>3</th>\n",
       "      <td>Republic of Yemen</td>\n",
       "      <td>Yemen, Republic of</td>\n",
       "      <td>MIN. OF PLANNING AND INT'L COOPERATION</td>\n",
       "    </tr>\n",
       "    <tr>\n",
       "      <th>4</th>\n",
       "      <td>Kingdom of Lesotho</td>\n",
       "      <td>Lesotho</td>\n",
       "      <td>MINISTRY OF FINANCE</td>\n",
       "    </tr>\n",
       "  </tbody>\n",
       "</table>\n",
       "</div>"
      ],
      "text/plain": [
       "                               countryname    countryshortname  \\\n",
       "0  Federal Democratic Republic of Ethiopia            Ethiopia   \n",
       "1                      Republic of Tunisia             Tunisia   \n",
       "2                                   Tuvalu              Tuvalu   \n",
       "3                        Republic of Yemen  Yemen, Republic of   \n",
       "4                       Kingdom of Lesotho             Lesotho   \n",
       "\n",
       "                                  borrower  \n",
       "0  FEDERAL DEMOCRATIC REPUBLIC OF ETHIOPIA  \n",
       "1                    GOVERNMENT OF TUNISIA  \n",
       "2   MINISTRY OF FINANCE AND ECONOMIC DEVEL  \n",
       "3   MIN. OF PLANNING AND INT'L COOPERATION  \n",
       "4                      MINISTRY OF FINANCE  "
      ]
     },
     "execution_count": 15,
     "metadata": {},
     "output_type": "execute_result"
    }
   ],
   "source": [
    "tmp_df = json_normalize(data_with_borrower_info,'mjtheme_namecode',['countryname','countryshortname','borrower'])\n",
    "tmp_df.head()\n",
    "# 'code' and 'name' columns are not important, so lets drop them. Lets also drop duplicate rows\n",
    "tmp_df.drop(['name','code'],axis=1,inplace = True)\n",
    "tmp_df.drop_duplicates(inplace= True)\n",
    "tmp_df.reset_index(drop=True,inplace=True)\n",
    "tmp_df.head()"
   ]
  },
  {
   "cell_type": "markdown",
   "metadata": {},
   "source": [
    "Lets create a boolean column 'country_in_borrower'. \n",
    "\n",
    "If short name of the country is included in the borrower's name, then that entry will get True, False otherwise."
   ]
  },
  {
   "cell_type": "code",
   "execution_count": 16,
   "metadata": {},
   "outputs": [],
   "source": [
    "tmp_df['country_in_borrower'] = tmp_df.apply(lambda row: True if row['countryshortname'].lower() in row['borrower'].lower() else False,axis=1)"
   ]
  },
  {
   "cell_type": "code",
   "execution_count": 17,
   "metadata": {
    "scrolled": true
   },
   "outputs": [
    {
     "data": {
      "text/html": [
       "<div>\n",
       "<style scoped>\n",
       "    .dataframe tbody tr th:only-of-type {\n",
       "        vertical-align: middle;\n",
       "    }\n",
       "\n",
       "    .dataframe tbody tr th {\n",
       "        vertical-align: top;\n",
       "    }\n",
       "\n",
       "    .dataframe thead th {\n",
       "        text-align: right;\n",
       "    }\n",
       "</style>\n",
       "<table border=\"1\" class=\"dataframe\">\n",
       "  <thead>\n",
       "    <tr style=\"text-align: right;\">\n",
       "      <th></th>\n",
       "      <th>countryname</th>\n",
       "      <th>countryshortname</th>\n",
       "      <th>borrower</th>\n",
       "      <th>country_in_borrower</th>\n",
       "    </tr>\n",
       "  </thead>\n",
       "  <tbody>\n",
       "    <tr>\n",
       "      <th>2</th>\n",
       "      <td>Tuvalu</td>\n",
       "      <td>Tuvalu</td>\n",
       "      <td>MINISTRY OF FINANCE AND ECONOMIC DEVEL</td>\n",
       "      <td>False</td>\n",
       "    </tr>\n",
       "    <tr>\n",
       "      <th>3</th>\n",
       "      <td>Republic of Yemen</td>\n",
       "      <td>Yemen, Republic of</td>\n",
       "      <td>MIN. OF PLANNING AND INT'L COOPERATION</td>\n",
       "      <td>False</td>\n",
       "    </tr>\n",
       "    <tr>\n",
       "      <th>4</th>\n",
       "      <td>Kingdom of Lesotho</td>\n",
       "      <td>Lesotho</td>\n",
       "      <td>MINISTRY OF FINANCE</td>\n",
       "      <td>False</td>\n",
       "    </tr>\n",
       "    <tr>\n",
       "      <th>12</th>\n",
       "      <td>Democratic Republic of Timor-Leste</td>\n",
       "      <td>Timor-Leste</td>\n",
       "      <td>GOVERNMENT OF TIMOR LESTE</td>\n",
       "      <td>False</td>\n",
       "    </tr>\n",
       "    <tr>\n",
       "      <th>14</th>\n",
       "      <td>Samoa</td>\n",
       "      <td>Samoa</td>\n",
       "      <td>MINISTRY OF FINANCE</td>\n",
       "      <td>False</td>\n",
       "    </tr>\n",
       "    <tr>\n",
       "      <th>15</th>\n",
       "      <td>Republic of Madagascar</td>\n",
       "      <td>Madagascar</td>\n",
       "      <td>MINISTRY OF FINANCE AND BUDGET (MFB)</td>\n",
       "      <td>False</td>\n",
       "    </tr>\n",
       "    <tr>\n",
       "      <th>17</th>\n",
       "      <td>Kingdom of Morocco</td>\n",
       "      <td>Morocco</td>\n",
       "      <td>MINISTRY OF FINANCE</td>\n",
       "      <td>False</td>\n",
       "    </tr>\n",
       "    <tr>\n",
       "      <th>18</th>\n",
       "      <td>Kyrgyz Republic</td>\n",
       "      <td>Kyrgyz Republic</td>\n",
       "      <td>AGA KHAN DEVELOPMENT NETWORK (AKDN)</td>\n",
       "      <td>False</td>\n",
       "    </tr>\n",
       "    <tr>\n",
       "      <th>20</th>\n",
       "      <td>Hashemite Kingdom of Jordan</td>\n",
       "      <td>Jordan</td>\n",
       "      <td>MINISTRY OF PLANNING AND INTERNATIONAL C</td>\n",
       "      <td>False</td>\n",
       "    </tr>\n",
       "    <tr>\n",
       "      <th>23</th>\n",
       "      <td>East Asia and Pacific</td>\n",
       "      <td>East Asia and Pacific</td>\n",
       "      <td>UNIVERSITY OF QUEENSLAND</td>\n",
       "      <td>False</td>\n",
       "    </tr>\n",
       "    <tr>\n",
       "      <th>24</th>\n",
       "      <td>Lao People's Democratic Republic</td>\n",
       "      <td>Lao People's Democratic Republic</td>\n",
       "      <td>LAO PEOPLES DEMOCRATIC REPUBLIC</td>\n",
       "      <td>False</td>\n",
       "    </tr>\n",
       "    <tr>\n",
       "      <th>25</th>\n",
       "      <td>Pacific Islands</td>\n",
       "      <td>Pacific Islands</td>\n",
       "      <td>PACIFIC AVIATION SECURITY OFFICE</td>\n",
       "      <td>False</td>\n",
       "    </tr>\n",
       "    <tr>\n",
       "      <th>35</th>\n",
       "      <td>West Bank and Gaza</td>\n",
       "      <td>West Bank and Gaza</td>\n",
       "      <td>THE PALESTINE LIBERATION ORGANIZATION</td>\n",
       "      <td>False</td>\n",
       "    </tr>\n",
       "    <tr>\n",
       "      <th>36</th>\n",
       "      <td>Argentine Republic</td>\n",
       "      <td>Argentina</td>\n",
       "      <td>THE ARGENTINE REPUBLIC</td>\n",
       "      <td>False</td>\n",
       "    </tr>\n",
       "    <tr>\n",
       "      <th>37</th>\n",
       "      <td>Republic of The Gambia</td>\n",
       "      <td>Gambia, The</td>\n",
       "      <td>THE GOVERNMENT OF THE GAMBIA</td>\n",
       "      <td>False</td>\n",
       "    </tr>\n",
       "    <tr>\n",
       "      <th>39</th>\n",
       "      <td>Republic of Congo</td>\n",
       "      <td>Congo, Republic of</td>\n",
       "      <td>CONGO REPUB</td>\n",
       "      <td>False</td>\n",
       "    </tr>\n",
       "    <tr>\n",
       "      <th>41</th>\n",
       "      <td>Democratic Republic of Sao Tome and Prin</td>\n",
       "      <td>Sao Tome and Principe</td>\n",
       "      <td>SAO TOME &amp; PRINCIPE</td>\n",
       "      <td>False</td>\n",
       "    </tr>\n",
       "    <tr>\n",
       "      <th>43</th>\n",
       "      <td>Africa</td>\n",
       "      <td>Africa</td>\n",
       "      <td>ECOWAS</td>\n",
       "      <td>False</td>\n",
       "    </tr>\n",
       "    <tr>\n",
       "      <th>44</th>\n",
       "      <td>Africa</td>\n",
       "      <td>Africa</td>\n",
       "      <td>UGANDA-COMOROS</td>\n",
       "      <td>False</td>\n",
       "    </tr>\n",
       "    <tr>\n",
       "      <th>48</th>\n",
       "      <td>Republic of Yemen</td>\n",
       "      <td>Yemen, Republic of</td>\n",
       "      <td>REPUBLIC OF YEMEN</td>\n",
       "      <td>False</td>\n",
       "    </tr>\n",
       "    <tr>\n",
       "      <th>49</th>\n",
       "      <td>Africa</td>\n",
       "      <td>Africa</td>\n",
       "      <td>OSS, IUCN, CILSS</td>\n",
       "      <td>False</td>\n",
       "    </tr>\n",
       "    <tr>\n",
       "      <th>50</th>\n",
       "      <td>Pacific Islands</td>\n",
       "      <td>Pacific Islands</td>\n",
       "      <td>SECRETARIAT OF THE PACIFIC COMMUNITY</td>\n",
       "      <td>False</td>\n",
       "    </tr>\n",
       "    <tr>\n",
       "      <th>52</th>\n",
       "      <td>World</td>\n",
       "      <td>World</td>\n",
       "      <td>DJIBOUTI,EGYPT,JORDAN,SUDAN,YEMEN</td>\n",
       "      <td>False</td>\n",
       "    </tr>\n",
       "    <tr>\n",
       "      <th>53</th>\n",
       "      <td>Pacific Islands</td>\n",
       "      <td>Pacific Islands</td>\n",
       "      <td>DEPARTMENT OF FINANCE</td>\n",
       "      <td>False</td>\n",
       "    </tr>\n",
       "    <tr>\n",
       "      <th>54</th>\n",
       "      <td>Africa</td>\n",
       "      <td>Africa</td>\n",
       "      <td>BANK EXECUTED</td>\n",
       "      <td>False</td>\n",
       "    </tr>\n",
       "    <tr>\n",
       "      <th>56</th>\n",
       "      <td>Republic of Ecuador</td>\n",
       "      <td>Ecuador</td>\n",
       "      <td>MANTA MUNICIPALITY</td>\n",
       "      <td>False</td>\n",
       "    </tr>\n",
       "    <tr>\n",
       "      <th>59</th>\n",
       "      <td>Africa</td>\n",
       "      <td>Africa</td>\n",
       "      <td>BURUNDI,RWANDA,TANZANIA</td>\n",
       "      <td>False</td>\n",
       "    </tr>\n",
       "    <tr>\n",
       "      <th>60</th>\n",
       "      <td>Kingdom of Morocco</td>\n",
       "      <td>Morocco</td>\n",
       "      <td>FONDS D'EQUIPMENT COMMUNAL</td>\n",
       "      <td>False</td>\n",
       "    </tr>\n",
       "    <tr>\n",
       "      <th>61</th>\n",
       "      <td>Islamic Republic of Mauritania</td>\n",
       "      <td>Mauritania</td>\n",
       "      <td>OFFICE NATIONAL DE LA STATISTIQUE</td>\n",
       "      <td>False</td>\n",
       "    </tr>\n",
       "    <tr>\n",
       "      <th>63</th>\n",
       "      <td>West Bank and Gaza</td>\n",
       "      <td>West Bank and Gaza</td>\n",
       "      <td>NGO DEVELOPMENT CENTER</td>\n",
       "      <td>False</td>\n",
       "    </tr>\n",
       "    <tr>\n",
       "      <th>...</th>\n",
       "      <td>...</td>\n",
       "      <td>...</td>\n",
       "      <td>...</td>\n",
       "      <td>...</td>\n",
       "    </tr>\n",
       "    <tr>\n",
       "      <th>254</th>\n",
       "      <td>Republic of Namibia</td>\n",
       "      <td>Namibia</td>\n",
       "      <td>MINISTRY OF ENVIRONMENT AND TOURISM</td>\n",
       "      <td>False</td>\n",
       "    </tr>\n",
       "    <tr>\n",
       "      <th>256</th>\n",
       "      <td>Democratic Republic of the Congo</td>\n",
       "      <td>Congo, Democratic Republic of</td>\n",
       "      <td>GOVERNMENT OF DRC</td>\n",
       "      <td>False</td>\n",
       "    </tr>\n",
       "    <tr>\n",
       "      <th>258</th>\n",
       "      <td>Arab Republic of Egypt</td>\n",
       "      <td>Egypt, Arab Republic of</td>\n",
       "      <td>EGYPTIAN NATL ASSOC SCIENCE AND SCIENTIS</td>\n",
       "      <td>False</td>\n",
       "    </tr>\n",
       "    <tr>\n",
       "      <th>264</th>\n",
       "      <td>Republic of The Gambia</td>\n",
       "      <td>Gambia, The</td>\n",
       "      <td>MINISTRY OF FINANCE AND ECONOMIC AFFAIRS</td>\n",
       "      <td>False</td>\n",
       "    </tr>\n",
       "    <tr>\n",
       "      <th>265</th>\n",
       "      <td>Islamic Republic of Pakistan</td>\n",
       "      <td>Pakistan</td>\n",
       "      <td>GOVERNMENT OF KHYBER PAKHTUNKHWA</td>\n",
       "      <td>False</td>\n",
       "    </tr>\n",
       "    <tr>\n",
       "      <th>266</th>\n",
       "      <td>Macedonia, former Yugoslav Republic of</td>\n",
       "      <td>Macedonia, former Yugoslav Republic of</td>\n",
       "      <td>FORMER YUGOSLAV REPUBLIC OF MACEDONIA</td>\n",
       "      <td>False</td>\n",
       "    </tr>\n",
       "    <tr>\n",
       "      <th>267</th>\n",
       "      <td>Republic of Madagascar</td>\n",
       "      <td>Madagascar</td>\n",
       "      <td>MINISTRY OF FINANCE AND BUDGET</td>\n",
       "      <td>False</td>\n",
       "    </tr>\n",
       "    <tr>\n",
       "      <th>268</th>\n",
       "      <td>West Bank and Gaza</td>\n",
       "      <td>West Bank and Gaza</td>\n",
       "      <td>PALESTINE LIBERATION ORGANIZATION (PLO)</td>\n",
       "      <td>False</td>\n",
       "    </tr>\n",
       "    <tr>\n",
       "      <th>270</th>\n",
       "      <td>Republic of India</td>\n",
       "      <td>India</td>\n",
       "      <td>GOVERNMENT OF HIMACHAL PRADESH</td>\n",
       "      <td>False</td>\n",
       "    </tr>\n",
       "    <tr>\n",
       "      <th>271</th>\n",
       "      <td>United Mexican States</td>\n",
       "      <td>Mexico</td>\n",
       "      <td>UNITED MEXICAN STATES</td>\n",
       "      <td>False</td>\n",
       "    </tr>\n",
       "    <tr>\n",
       "      <th>273</th>\n",
       "      <td>Pacific Islands</td>\n",
       "      <td>Pacific Islands</td>\n",
       "      <td>PARTICIPATING PICS</td>\n",
       "      <td>False</td>\n",
       "    </tr>\n",
       "    <tr>\n",
       "      <th>281</th>\n",
       "      <td>Federative Republic of Brazil</td>\n",
       "      <td>Brazil</td>\n",
       "      <td>STATE OF PARANÁ</td>\n",
       "      <td>False</td>\n",
       "    </tr>\n",
       "    <tr>\n",
       "      <th>282</th>\n",
       "      <td>Federative Republic of Brazil</td>\n",
       "      <td>Brazil</td>\n",
       "      <td>STATE GOVERNMENT OF RIO DE JANEIRO</td>\n",
       "      <td>False</td>\n",
       "    </tr>\n",
       "    <tr>\n",
       "      <th>283</th>\n",
       "      <td>South Asia</td>\n",
       "      <td>South Asia</td>\n",
       "      <td>BREASTFEEDING PROMOTION NETWORK OF INDIA</td>\n",
       "      <td>False</td>\n",
       "    </tr>\n",
       "    <tr>\n",
       "      <th>284</th>\n",
       "      <td>Kingdom of Morocco</td>\n",
       "      <td>Morocco</td>\n",
       "      <td>AMANAR FOR YOUTH BERBERS</td>\n",
       "      <td>False</td>\n",
       "    </tr>\n",
       "    <tr>\n",
       "      <th>289</th>\n",
       "      <td>Republic of Senegal</td>\n",
       "      <td>Senegal</td>\n",
       "      <td>ARD DE ZIGUINCHOR (ARDZ)</td>\n",
       "      <td>False</td>\n",
       "    </tr>\n",
       "    <tr>\n",
       "      <th>290</th>\n",
       "      <td>Nepal</td>\n",
       "      <td>Nepal</td>\n",
       "      <td>TOWN DEVELOPMENT FUND</td>\n",
       "      <td>False</td>\n",
       "    </tr>\n",
       "    <tr>\n",
       "      <th>292</th>\n",
       "      <td>Kingdom of Morocco</td>\n",
       "      <td>Morocco</td>\n",
       "      <td>MOROCCAN ASSOCIATION FAMILY RENAISSANCE</td>\n",
       "      <td>False</td>\n",
       "    </tr>\n",
       "    <tr>\n",
       "      <th>294</th>\n",
       "      <td>Kingdom of Bhutan</td>\n",
       "      <td>Bhutan</td>\n",
       "      <td>MINISTRY OF FINANCE</td>\n",
       "      <td>False</td>\n",
       "    </tr>\n",
       "    <tr>\n",
       "      <th>295</th>\n",
       "      <td>Africa</td>\n",
       "      <td>Africa</td>\n",
       "      <td>GOVERNMENT OF NIGER</td>\n",
       "      <td>False</td>\n",
       "    </tr>\n",
       "    <tr>\n",
       "      <th>303</th>\n",
       "      <td>Republic of Armenia</td>\n",
       "      <td>Armenia</td>\n",
       "      <td>MINISTRY OF NATURE PROTECTION</td>\n",
       "      <td>False</td>\n",
       "    </tr>\n",
       "    <tr>\n",
       "      <th>304</th>\n",
       "      <td>Republic of Albania</td>\n",
       "      <td>Albania</td>\n",
       "      <td>MINISTRY OF ENVIRONMENT, FORESTS, WATER</td>\n",
       "      <td>False</td>\n",
       "    </tr>\n",
       "    <tr>\n",
       "      <th>305</th>\n",
       "      <td>Republic of Guatemala</td>\n",
       "      <td>Guatemala</td>\n",
       "      <td>UT'Z CHE</td>\n",
       "      <td>False</td>\n",
       "    </tr>\n",
       "    <tr>\n",
       "      <th>307</th>\n",
       "      <td>Republic of the Philippines</td>\n",
       "      <td>Philippines</td>\n",
       "      <td>ILO, MINLAND &amp; CFSI &amp; BANK</td>\n",
       "      <td>False</td>\n",
       "    </tr>\n",
       "    <tr>\n",
       "      <th>309</th>\n",
       "      <td>Middle East and North Africa</td>\n",
       "      <td>Middle East and North Africa</td>\n",
       "      <td>GOVERNMENT OF LEBANON &amp; JORDAN</td>\n",
       "      <td>False</td>\n",
       "    </tr>\n",
       "    <tr>\n",
       "      <th>310</th>\n",
       "      <td>Federative Republic of Brazil</td>\n",
       "      <td>Brazil</td>\n",
       "      <td>THE STATE OF RIO DE JANEIRO</td>\n",
       "      <td>False</td>\n",
       "    </tr>\n",
       "    <tr>\n",
       "      <th>311</th>\n",
       "      <td>The Independent State of Papua New Guine</td>\n",
       "      <td>Papua New Guinea</td>\n",
       "      <td>UN-HABITAT</td>\n",
       "      <td>False</td>\n",
       "    </tr>\n",
       "    <tr>\n",
       "      <th>312</th>\n",
       "      <td>West Bank and Gaza</td>\n",
       "      <td>West Bank and Gaza</td>\n",
       "      <td>PALESTINIAN WATER AUTHORITY</td>\n",
       "      <td>False</td>\n",
       "    </tr>\n",
       "    <tr>\n",
       "      <th>313</th>\n",
       "      <td>Nepal</td>\n",
       "      <td>Nepal</td>\n",
       "      <td>MINISTRY OF EDUCATION</td>\n",
       "      <td>False</td>\n",
       "    </tr>\n",
       "    <tr>\n",
       "      <th>314</th>\n",
       "      <td>Jamaica</td>\n",
       "      <td>Jamaica</td>\n",
       "      <td>THE COMPETITIVENESS COMPANY</td>\n",
       "      <td>False</td>\n",
       "    </tr>\n",
       "  </tbody>\n",
       "</table>\n",
       "<p>144 rows × 4 columns</p>\n",
       "</div>"
      ],
      "text/plain": [
       "                                  countryname  \\\n",
       "2                                      Tuvalu   \n",
       "3                           Republic of Yemen   \n",
       "4                          Kingdom of Lesotho   \n",
       "12         Democratic Republic of Timor-Leste   \n",
       "14                                      Samoa   \n",
       "15                     Republic of Madagascar   \n",
       "17                         Kingdom of Morocco   \n",
       "18                            Kyrgyz Republic   \n",
       "20                Hashemite Kingdom of Jordan   \n",
       "23                      East Asia and Pacific   \n",
       "24           Lao People's Democratic Republic   \n",
       "25                            Pacific Islands   \n",
       "35                         West Bank and Gaza   \n",
       "36                         Argentine Republic   \n",
       "37                     Republic of The Gambia   \n",
       "39                          Republic of Congo   \n",
       "41   Democratic Republic of Sao Tome and Prin   \n",
       "43                                     Africa   \n",
       "44                                     Africa   \n",
       "48                          Republic of Yemen   \n",
       "49                                     Africa   \n",
       "50                            Pacific Islands   \n",
       "52                                      World   \n",
       "53                            Pacific Islands   \n",
       "54                                     Africa   \n",
       "56                        Republic of Ecuador   \n",
       "59                                     Africa   \n",
       "60                         Kingdom of Morocco   \n",
       "61             Islamic Republic of Mauritania   \n",
       "63                         West Bank and Gaza   \n",
       "..                                        ...   \n",
       "254                       Republic of Namibia   \n",
       "256          Democratic Republic of the Congo   \n",
       "258                    Arab Republic of Egypt   \n",
       "264                    Republic of The Gambia   \n",
       "265              Islamic Republic of Pakistan   \n",
       "266    Macedonia, former Yugoslav Republic of   \n",
       "267                    Republic of Madagascar   \n",
       "268                        West Bank and Gaza   \n",
       "270                         Republic of India   \n",
       "271                     United Mexican States   \n",
       "273                           Pacific Islands   \n",
       "281             Federative Republic of Brazil   \n",
       "282             Federative Republic of Brazil   \n",
       "283                                South Asia   \n",
       "284                        Kingdom of Morocco   \n",
       "289                       Republic of Senegal   \n",
       "290                                     Nepal   \n",
       "292                        Kingdom of Morocco   \n",
       "294                         Kingdom of Bhutan   \n",
       "295                                    Africa   \n",
       "303                       Republic of Armenia   \n",
       "304                       Republic of Albania   \n",
       "305                     Republic of Guatemala   \n",
       "307               Republic of the Philippines   \n",
       "309              Middle East and North Africa   \n",
       "310             Federative Republic of Brazil   \n",
       "311  The Independent State of Papua New Guine   \n",
       "312                        West Bank and Gaza   \n",
       "313                                     Nepal   \n",
       "314                                   Jamaica   \n",
       "\n",
       "                           countryshortname  \\\n",
       "2                                    Tuvalu   \n",
       "3                        Yemen, Republic of   \n",
       "4                                   Lesotho   \n",
       "12                              Timor-Leste   \n",
       "14                                    Samoa   \n",
       "15                               Madagascar   \n",
       "17                                  Morocco   \n",
       "18                          Kyrgyz Republic   \n",
       "20                                   Jordan   \n",
       "23                    East Asia and Pacific   \n",
       "24         Lao People's Democratic Republic   \n",
       "25                          Pacific Islands   \n",
       "35                       West Bank and Gaza   \n",
       "36                                Argentina   \n",
       "37                              Gambia, The   \n",
       "39                       Congo, Republic of   \n",
       "41                    Sao Tome and Principe   \n",
       "43                                   Africa   \n",
       "44                                   Africa   \n",
       "48                       Yemen, Republic of   \n",
       "49                                   Africa   \n",
       "50                          Pacific Islands   \n",
       "52                                    World   \n",
       "53                          Pacific Islands   \n",
       "54                                   Africa   \n",
       "56                                  Ecuador   \n",
       "59                                   Africa   \n",
       "60                                  Morocco   \n",
       "61                               Mauritania   \n",
       "63                       West Bank and Gaza   \n",
       "..                                      ...   \n",
       "254                                 Namibia   \n",
       "256           Congo, Democratic Republic of   \n",
       "258                 Egypt, Arab Republic of   \n",
       "264                             Gambia, The   \n",
       "265                                Pakistan   \n",
       "266  Macedonia, former Yugoslav Republic of   \n",
       "267                              Madagascar   \n",
       "268                      West Bank and Gaza   \n",
       "270                                   India   \n",
       "271                                  Mexico   \n",
       "273                         Pacific Islands   \n",
       "281                                  Brazil   \n",
       "282                                  Brazil   \n",
       "283                              South Asia   \n",
       "284                                 Morocco   \n",
       "289                                 Senegal   \n",
       "290                                   Nepal   \n",
       "292                                 Morocco   \n",
       "294                                  Bhutan   \n",
       "295                                  Africa   \n",
       "303                                 Armenia   \n",
       "304                                 Albania   \n",
       "305                               Guatemala   \n",
       "307                             Philippines   \n",
       "309            Middle East and North Africa   \n",
       "310                                  Brazil   \n",
       "311                        Papua New Guinea   \n",
       "312                      West Bank and Gaza   \n",
       "313                                   Nepal   \n",
       "314                                 Jamaica   \n",
       "\n",
       "                                     borrower  country_in_borrower  \n",
       "2      MINISTRY OF FINANCE AND ECONOMIC DEVEL                False  \n",
       "3      MIN. OF PLANNING AND INT'L COOPERATION                False  \n",
       "4                         MINISTRY OF FINANCE                False  \n",
       "12                  GOVERNMENT OF TIMOR LESTE                False  \n",
       "14                        MINISTRY OF FINANCE                False  \n",
       "15       MINISTRY OF FINANCE AND BUDGET (MFB)                False  \n",
       "17                        MINISTRY OF FINANCE                False  \n",
       "18        AGA KHAN DEVELOPMENT NETWORK (AKDN)                False  \n",
       "20   MINISTRY OF PLANNING AND INTERNATIONAL C                False  \n",
       "23                   UNIVERSITY OF QUEENSLAND                False  \n",
       "24            LAO PEOPLES DEMOCRATIC REPUBLIC                False  \n",
       "25           PACIFIC AVIATION SECURITY OFFICE                False  \n",
       "35      THE PALESTINE LIBERATION ORGANIZATION                False  \n",
       "36                     THE ARGENTINE REPUBLIC                False  \n",
       "37               THE GOVERNMENT OF THE GAMBIA                False  \n",
       "39                                CONGO REPUB                False  \n",
       "41                        SAO TOME & PRINCIPE                False  \n",
       "43                                     ECOWAS                False  \n",
       "44                             UGANDA-COMOROS                False  \n",
       "48                          REPUBLIC OF YEMEN                False  \n",
       "49                           OSS, IUCN, CILSS                False  \n",
       "50       SECRETARIAT OF THE PACIFIC COMMUNITY                False  \n",
       "52          DJIBOUTI,EGYPT,JORDAN,SUDAN,YEMEN                False  \n",
       "53                      DEPARTMENT OF FINANCE                False  \n",
       "54                              BANK EXECUTED                False  \n",
       "56                         MANTA MUNICIPALITY                False  \n",
       "59                    BURUNDI,RWANDA,TANZANIA                False  \n",
       "60                 FONDS D'EQUIPMENT COMMUNAL                False  \n",
       "61          OFFICE NATIONAL DE LA STATISTIQUE                False  \n",
       "63                     NGO DEVELOPMENT CENTER                False  \n",
       "..                                        ...                  ...  \n",
       "254       MINISTRY OF ENVIRONMENT AND TOURISM                False  \n",
       "256                         GOVERNMENT OF DRC                False  \n",
       "258  EGYPTIAN NATL ASSOC SCIENCE AND SCIENTIS                False  \n",
       "264  MINISTRY OF FINANCE AND ECONOMIC AFFAIRS                False  \n",
       "265          GOVERNMENT OF KHYBER PAKHTUNKHWA                False  \n",
       "266     FORMER YUGOSLAV REPUBLIC OF MACEDONIA                False  \n",
       "267            MINISTRY OF FINANCE AND BUDGET                False  \n",
       "268   PALESTINE LIBERATION ORGANIZATION (PLO)                False  \n",
       "270            GOVERNMENT OF HIMACHAL PRADESH                False  \n",
       "271                     UNITED MEXICAN STATES                False  \n",
       "273                        PARTICIPATING PICS                False  \n",
       "281                           STATE OF PARANÁ                False  \n",
       "282        STATE GOVERNMENT OF RIO DE JANEIRO                False  \n",
       "283  BREASTFEEDING PROMOTION NETWORK OF INDIA                False  \n",
       "284                  AMANAR FOR YOUTH BERBERS                False  \n",
       "289                  ARD DE ZIGUINCHOR (ARDZ)                False  \n",
       "290                     TOWN DEVELOPMENT FUND                False  \n",
       "292   MOROCCAN ASSOCIATION FAMILY RENAISSANCE                False  \n",
       "294                       MINISTRY OF FINANCE                False  \n",
       "295                       GOVERNMENT OF NIGER                False  \n",
       "303             MINISTRY OF NATURE PROTECTION                False  \n",
       "304   MINISTRY OF ENVIRONMENT, FORESTS, WATER                False  \n",
       "305                                  UT'Z CHE                False  \n",
       "307                ILO, MINLAND & CFSI & BANK                False  \n",
       "309            GOVERNMENT OF LEBANON & JORDAN                False  \n",
       "310               THE STATE OF RIO DE JANEIRO                False  \n",
       "311                                UN-HABITAT                False  \n",
       "312               PALESTINIAN WATER AUTHORITY                False  \n",
       "313                     MINISTRY OF EDUCATION                False  \n",
       "314               THE COMPETITIVENESS COMPANY                False  \n",
       "\n",
       "[144 rows x 4 columns]"
      ]
     },
     "execution_count": 17,
     "metadata": {},
     "output_type": "execute_result"
    }
   ],
   "source": [
    "tmp_df[~tmp_df['country_in_borrower']]"
   ]
  },
  {
   "cell_type": "markdown",
   "metadata": {},
   "source": [
    "Looks like borrower is always the country or its constituents. There is no example where borrower is another country."
   ]
  },
  {
   "cell_type": "code",
   "execution_count": 18,
   "metadata": {},
   "outputs": [
    {
     "data": {
      "text/html": [
       "<div>\n",
       "<style scoped>\n",
       "    .dataframe tbody tr th:only-of-type {\n",
       "        vertical-align: middle;\n",
       "    }\n",
       "\n",
       "    .dataframe tbody tr th {\n",
       "        vertical-align: top;\n",
       "    }\n",
       "\n",
       "    .dataframe thead th {\n",
       "        text-align: right;\n",
       "    }\n",
       "</style>\n",
       "<table border=\"1\" class=\"dataframe\">\n",
       "  <thead>\n",
       "    <tr style=\"text-align: right;\">\n",
       "      <th></th>\n",
       "      <th>countryname</th>\n",
       "      <th>countryshortname</th>\n",
       "      <th>borrower</th>\n",
       "      <th>country_in_borrower</th>\n",
       "    </tr>\n",
       "  </thead>\n",
       "  <tbody>\n",
       "    <tr>\n",
       "      <th>43</th>\n",
       "      <td>Africa</td>\n",
       "      <td>Africa</td>\n",
       "      <td>ECOWAS</td>\n",
       "      <td>False</td>\n",
       "    </tr>\n",
       "    <tr>\n",
       "      <th>44</th>\n",
       "      <td>Africa</td>\n",
       "      <td>Africa</td>\n",
       "      <td>UGANDA-COMOROS</td>\n",
       "      <td>False</td>\n",
       "    </tr>\n",
       "    <tr>\n",
       "      <th>49</th>\n",
       "      <td>Africa</td>\n",
       "      <td>Africa</td>\n",
       "      <td>OSS, IUCN, CILSS</td>\n",
       "      <td>False</td>\n",
       "    </tr>\n",
       "    <tr>\n",
       "      <th>54</th>\n",
       "      <td>Africa</td>\n",
       "      <td>Africa</td>\n",
       "      <td>BANK EXECUTED</td>\n",
       "      <td>False</td>\n",
       "    </tr>\n",
       "    <tr>\n",
       "      <th>59</th>\n",
       "      <td>Africa</td>\n",
       "      <td>Africa</td>\n",
       "      <td>BURUNDI,RWANDA,TANZANIA</td>\n",
       "      <td>False</td>\n",
       "    </tr>\n",
       "    <tr>\n",
       "      <th>85</th>\n",
       "      <td>Africa</td>\n",
       "      <td>Africa</td>\n",
       "      <td>GOVERNMENT OF MALI</td>\n",
       "      <td>False</td>\n",
       "    </tr>\n",
       "    <tr>\n",
       "      <th>144</th>\n",
       "      <td>Africa</td>\n",
       "      <td>Africa</td>\n",
       "      <td>MINISTRIES OF TELECOM AND ICT</td>\n",
       "      <td>False</td>\n",
       "    </tr>\n",
       "    <tr>\n",
       "      <th>158</th>\n",
       "      <td>Africa</td>\n",
       "      <td>Africa</td>\n",
       "      <td>TANZANIA</td>\n",
       "      <td>False</td>\n",
       "    </tr>\n",
       "    <tr>\n",
       "      <th>216</th>\n",
       "      <td>Africa</td>\n",
       "      <td>Africa</td>\n",
       "      <td>MALAWI, MOZAMBIQUE, ZAMBIA</td>\n",
       "      <td>False</td>\n",
       "    </tr>\n",
       "    <tr>\n",
       "      <th>250</th>\n",
       "      <td>Africa</td>\n",
       "      <td>Africa</td>\n",
       "      <td>NILE BASIN INITIATIVE</td>\n",
       "      <td>False</td>\n",
       "    </tr>\n",
       "    <tr>\n",
       "      <th>295</th>\n",
       "      <td>Africa</td>\n",
       "      <td>Africa</td>\n",
       "      <td>GOVERNMENT OF NIGER</td>\n",
       "      <td>False</td>\n",
       "    </tr>\n",
       "  </tbody>\n",
       "</table>\n",
       "</div>"
      ],
      "text/plain": [
       "    countryname countryshortname                       borrower  \\\n",
       "43       Africa           Africa                         ECOWAS   \n",
       "44       Africa           Africa                 UGANDA-COMOROS   \n",
       "49       Africa           Africa               OSS, IUCN, CILSS   \n",
       "54       Africa           Africa                  BANK EXECUTED   \n",
       "59       Africa           Africa        BURUNDI,RWANDA,TANZANIA   \n",
       "85       Africa           Africa             GOVERNMENT OF MALI   \n",
       "144      Africa           Africa  MINISTRIES OF TELECOM AND ICT   \n",
       "158      Africa           Africa                       TANZANIA   \n",
       "216      Africa           Africa     MALAWI, MOZAMBIQUE, ZAMBIA   \n",
       "250      Africa           Africa          NILE BASIN INITIATIVE   \n",
       "295      Africa           Africa            GOVERNMENT OF NIGER   \n",
       "\n",
       "     country_in_borrower  \n",
       "43                 False  \n",
       "44                 False  \n",
       "49                 False  \n",
       "54                 False  \n",
       "59                 False  \n",
       "85                 False  \n",
       "144                False  \n",
       "158                False  \n",
       "216                False  \n",
       "250                False  \n",
       "295                False  "
      ]
     },
     "execution_count": 18,
     "metadata": {},
     "output_type": "execute_result"
    }
   ],
   "source": [
    "tmp_df[tmp_df['countryshortname']=='Africa']"
   ]
  },
  {
   "cell_type": "markdown",
   "metadata": {},
   "source": [
    "So lets crate another column 'Pseudocountry' column which has the same info as the countryname column has for all countries, but for the continent of Africa, it would have borrower's name. \n",
    "\n",
    "But before that, we need to add the 'borrower' field with just empty string in the entries in dataset that don't have the 'borrower' field. "
   ]
  },
  {
   "cell_type": "code",
   "execution_count": 19,
   "metadata": {},
   "outputs": [],
   "source": [
    "new_data = []\n",
    "for entry in data:\n",
    "    if 'borrower' not in list(entry.keys()):\n",
    "        entry['borrower'] = ''\n",
    "    new_data.append(entry)"
   ]
  },
  {
   "cell_type": "code",
   "execution_count": 20,
   "metadata": {},
   "outputs": [],
   "source": [
    "df = json_normalize(data,'mjtheme_namecode',['countrycode',\n",
    "                                             'countryname',\n",
    "                                             'countryshortname',\n",
    "                                             'borrower'\n",
    "                                            ])"
   ]
  },
  {
   "cell_type": "code",
   "execution_count": 21,
   "metadata": {},
   "outputs": [],
   "source": [
    "df.replace({'':np.nan},inplace=True)"
   ]
  },
  {
   "cell_type": "code",
   "execution_count": 22,
   "metadata": {},
   "outputs": [
    {
     "data": {
      "text/plain": [
       "code                  0\n",
       "name                122\n",
       "countrycode           0\n",
       "countryname           0\n",
       "countryshortname      0\n",
       "borrower             53\n",
       "dtype: int64"
      ]
     },
     "execution_count": 22,
     "metadata": {},
     "output_type": "execute_result"
    }
   ],
   "source": [
    "df.isnull().sum()"
   ]
  },
  {
   "cell_type": "code",
   "execution_count": 23,
   "metadata": {},
   "outputs": [
    {
     "data": {
      "text/html": [
       "<div>\n",
       "<style scoped>\n",
       "    .dataframe tbody tr th:only-of-type {\n",
       "        vertical-align: middle;\n",
       "    }\n",
       "\n",
       "    .dataframe tbody tr th {\n",
       "        vertical-align: top;\n",
       "    }\n",
       "\n",
       "    .dataframe thead th {\n",
       "        text-align: right;\n",
       "    }\n",
       "</style>\n",
       "<table border=\"1\" class=\"dataframe\">\n",
       "  <thead>\n",
       "    <tr style=\"text-align: right;\">\n",
       "      <th></th>\n",
       "      <th>code</th>\n",
       "      <th>name</th>\n",
       "      <th>countrycode</th>\n",
       "      <th>countryname</th>\n",
       "      <th>countryshortname</th>\n",
       "      <th>borrower</th>\n",
       "    </tr>\n",
       "  </thead>\n",
       "  <tbody>\n",
       "    <tr>\n",
       "      <th>0</th>\n",
       "      <td>8</td>\n",
       "      <td>Human development</td>\n",
       "      <td>ET</td>\n",
       "      <td>Federal Democratic Republic of Ethiopia</td>\n",
       "      <td>Ethiopia</td>\n",
       "      <td>FEDERAL DEMOCRATIC REPUBLIC OF ETHIOPIA</td>\n",
       "    </tr>\n",
       "    <tr>\n",
       "      <th>1</th>\n",
       "      <td>11</td>\n",
       "      <td>NaN</td>\n",
       "      <td>ET</td>\n",
       "      <td>Federal Democratic Republic of Ethiopia</td>\n",
       "      <td>Ethiopia</td>\n",
       "      <td>FEDERAL DEMOCRATIC REPUBLIC OF ETHIOPIA</td>\n",
       "    </tr>\n",
       "    <tr>\n",
       "      <th>2</th>\n",
       "      <td>1</td>\n",
       "      <td>Economic management</td>\n",
       "      <td>TN</td>\n",
       "      <td>Republic of Tunisia</td>\n",
       "      <td>Tunisia</td>\n",
       "      <td>GOVERNMENT OF TUNISIA</td>\n",
       "    </tr>\n",
       "    <tr>\n",
       "      <th>3</th>\n",
       "      <td>6</td>\n",
       "      <td>Social protection and risk management</td>\n",
       "      <td>TN</td>\n",
       "      <td>Republic of Tunisia</td>\n",
       "      <td>Tunisia</td>\n",
       "      <td>GOVERNMENT OF TUNISIA</td>\n",
       "    </tr>\n",
       "    <tr>\n",
       "      <th>4</th>\n",
       "      <td>5</td>\n",
       "      <td>Trade and integration</td>\n",
       "      <td>TV</td>\n",
       "      <td>Tuvalu</td>\n",
       "      <td>Tuvalu</td>\n",
       "      <td>MINISTRY OF FINANCE AND ECONOMIC DEVEL</td>\n",
       "    </tr>\n",
       "  </tbody>\n",
       "</table>\n",
       "</div>"
      ],
      "text/plain": [
       "  code                                   name countrycode  \\\n",
       "0    8                      Human development          ET   \n",
       "1   11                                    NaN          ET   \n",
       "2    1                    Economic management          TN   \n",
       "3    6  Social protection and risk management          TN   \n",
       "4    5                  Trade and integration          TV   \n",
       "\n",
       "                               countryname countryshortname  \\\n",
       "0  Federal Democratic Republic of Ethiopia         Ethiopia   \n",
       "1  Federal Democratic Republic of Ethiopia         Ethiopia   \n",
       "2                      Republic of Tunisia          Tunisia   \n",
       "3                      Republic of Tunisia          Tunisia   \n",
       "4                                   Tuvalu           Tuvalu   \n",
       "\n",
       "                                  borrower  \n",
       "0  FEDERAL DEMOCRATIC REPUBLIC OF ETHIOPIA  \n",
       "1  FEDERAL DEMOCRATIC REPUBLIC OF ETHIOPIA  \n",
       "2                    GOVERNMENT OF TUNISIA  \n",
       "3                    GOVERNMENT OF TUNISIA  \n",
       "4   MINISTRY OF FINANCE AND ECONOMIC DEVEL  "
      ]
     },
     "execution_count": 23,
     "metadata": {},
     "output_type": "execute_result"
    }
   ],
   "source": [
    "df.head()"
   ]
  },
  {
   "cell_type": "code",
   "execution_count": 24,
   "metadata": {},
   "outputs": [
    {
     "name": "stdout",
     "output_type": "stream",
     "text": [
      "<class 'pandas.core.frame.DataFrame'>\n",
      "RangeIndex: 1499 entries, 0 to 1498\n",
      "Data columns (total 6 columns):\n",
      "code                1499 non-null object\n",
      "name                1377 non-null object\n",
      "countrycode         1499 non-null object\n",
      "countryname         1499 non-null object\n",
      "countryshortname    1499 non-null object\n",
      "borrower            1446 non-null object\n",
      "dtypes: object(6)\n",
      "memory usage: 70.3+ KB\n"
     ]
    }
   ],
   "source": [
    "df.info()"
   ]
  },
  {
   "cell_type": "code",
   "execution_count": 25,
   "metadata": {},
   "outputs": [
    {
     "data": {
      "text/html": [
       "<div>\n",
       "<style scoped>\n",
       "    .dataframe tbody tr th:only-of-type {\n",
       "        vertical-align: middle;\n",
       "    }\n",
       "\n",
       "    .dataframe tbody tr th {\n",
       "        vertical-align: top;\n",
       "    }\n",
       "\n",
       "    .dataframe thead th {\n",
       "        text-align: right;\n",
       "    }\n",
       "</style>\n",
       "<table border=\"1\" class=\"dataframe\">\n",
       "  <thead>\n",
       "    <tr style=\"text-align: right;\">\n",
       "      <th></th>\n",
       "      <th>code</th>\n",
       "      <th>name</th>\n",
       "      <th>countrycode</th>\n",
       "      <th>countryname</th>\n",
       "      <th>countryshortname</th>\n",
       "      <th>borrower</th>\n",
       "    </tr>\n",
       "  </thead>\n",
       "  <tbody>\n",
       "    <tr>\n",
       "      <th>120</th>\n",
       "      <td>8</td>\n",
       "      <td>Human development</td>\n",
       "      <td>3A</td>\n",
       "      <td>ECOWAS</td>\n",
       "      <td>Africa</td>\n",
       "      <td>ECOWAS</td>\n",
       "    </tr>\n",
       "    <tr>\n",
       "      <th>121</th>\n",
       "      <td>10</td>\n",
       "      <td>NaN</td>\n",
       "      <td>3A</td>\n",
       "      <td>ECOWAS</td>\n",
       "      <td>Africa</td>\n",
       "      <td>ECOWAS</td>\n",
       "    </tr>\n",
       "    <tr>\n",
       "      <th>122</th>\n",
       "      <td>2</td>\n",
       "      <td>Public sector governance</td>\n",
       "      <td>3A</td>\n",
       "      <td>UGANDA-COMOROS</td>\n",
       "      <td>Africa</td>\n",
       "      <td>UGANDA-COMOROS</td>\n",
       "    </tr>\n",
       "    <tr>\n",
       "      <th>123</th>\n",
       "      <td>10</td>\n",
       "      <td>Rural development</td>\n",
       "      <td>3A</td>\n",
       "      <td>UGANDA-COMOROS</td>\n",
       "      <td>Africa</td>\n",
       "      <td>UGANDA-COMOROS</td>\n",
       "    </tr>\n",
       "    <tr>\n",
       "      <th>124</th>\n",
       "      <td>4</td>\n",
       "      <td>Financial and private sector development</td>\n",
       "      <td>3A</td>\n",
       "      <td>UGANDA-COMOROS</td>\n",
       "      <td>Africa</td>\n",
       "      <td>UGANDA-COMOROS</td>\n",
       "    </tr>\n",
       "  </tbody>\n",
       "</table>\n",
       "</div>"
      ],
      "text/plain": [
       "    code                                      name countrycode  \\\n",
       "120    8                         Human development          3A   \n",
       "121   10                                       NaN          3A   \n",
       "122    2                  Public sector governance          3A   \n",
       "123   10                         Rural development          3A   \n",
       "124    4  Financial and private sector development          3A   \n",
       "\n",
       "        countryname countryshortname        borrower  \n",
       "120          ECOWAS           Africa          ECOWAS  \n",
       "121          ECOWAS           Africa          ECOWAS  \n",
       "122  UGANDA-COMOROS           Africa  UGANDA-COMOROS  \n",
       "123  UGANDA-COMOROS           Africa  UGANDA-COMOROS  \n",
       "124  UGANDA-COMOROS           Africa  UGANDA-COMOROS  "
      ]
     },
     "execution_count": 25,
     "metadata": {},
     "output_type": "execute_result"
    }
   ],
   "source": [
    "df.loc[df['countryname']=='Africa','countryname'] = df.loc[df['countryname']=='Africa','borrower']\n",
    "df.loc[df['countryshortname']=='Africa',:].head()"
   ]
  },
  {
   "cell_type": "markdown",
   "metadata": {},
   "source": [
    "Now, lets find the top ten countries with most projects."
   ]
  },
  {
   "cell_type": "code",
   "execution_count": 26,
   "metadata": {},
   "outputs": [
    {
     "data": {
      "text/plain": [
       "Text(0.5, 0, 'Country')"
      ]
     },
     "execution_count": 26,
     "metadata": {},
     "output_type": "execute_result"
    },
    {
     "data": {
      "image/png": "[encoded data removed]",
      "text/plain": [
       "<Figure size 432x288 with 1 Axes>"
      ]
     },
     "metadata": {
      "needs_background": "light"
     },
     "output_type": "display_data"
    }
   ],
   "source": [
    "df.countryname.value_counts().head(10).plot('bar',title='Top ten countries with highest number of projects')\n",
    "plt.ylabel('Number of Projects')\n",
    "plt.xlabel('Country')"
   ]
  },
  {
   "cell_type": "markdown",
   "metadata": {},
   "source": [
    "## **2. Top 10 major project themes**"
   ]
  },
  {
   "cell_type": "code",
   "execution_count": 27,
   "metadata": {
    "scrolled": true
   },
   "outputs": [
    {
     "name": "stdout",
     "output_type": "stream",
     "text": [
      "Number of unique Major Project Themes:  11\n"
     ]
    }
   ],
   "source": [
    "print('Number of unique Major Project Themes: ',df.code.unique().size)"
   ]
  },
  {
   "cell_type": "code",
   "execution_count": 28,
   "metadata": {
    "scrolled": true
   },
   "outputs": [
    {
     "data": {
      "text/plain": [
       "Text(0.5, 0, 'Theme Name Code')"
      ]
     },
     "execution_count": 28,
     "metadata": {},
     "output_type": "execute_result"
    },
    {
     "data": {
      "image/png": "[encoded data removed]",
      "text/plain": [
       "<Figure size 432x288 with 1 Axes>"
      ]
     },
     "metadata": {
      "needs_background": "light"
     },
     "output_type": "display_data"
    }
   ],
   "source": [
    "df['code'].value_counts()[:10].plot(kind = 'bar',title = 'Top Ten Major Project Themes')\n",
    "plt.xlabel('Theme Name Code')"
   ]
  },
  {
   "cell_type": "markdown",
   "metadata": {},
   "source": [
    "## **3. Create a dataframe with the missing names filled in.**"
   ]
  },
  {
   "cell_type": "code",
   "execution_count": 29,
   "metadata": {},
   "outputs": [],
   "source": [
    "new_df = df.copy()"
   ]
  },
  {
   "cell_type": "code",
   "execution_count": 30,
   "metadata": {},
   "outputs": [
    {
     "data": {
      "text/plain": [
       "{'8': 'Human development',\n",
       " '1': 'Economic management',\n",
       " '6': 'Social protection and risk management',\n",
       " '5': 'Trade and integration',\n",
       " '2': 'Public sector governance',\n",
       " '11': 'Environment and natural resources management',\n",
       " '7': 'Social dev/gender/inclusion',\n",
       " '4': 'Financial and private sector development',\n",
       " '10': 'Rural development',\n",
       " '9': 'Urban development',\n",
       " '3': 'Rule of law'}"
      ]
     },
     "execution_count": 30,
     "metadata": {},
     "output_type": "execute_result"
    }
   ],
   "source": [
    "code_name_mapper = dict(df[df.name.notnull()][['code','name']].values)\n",
    "code_name_mapper"
   ]
  },
  {
   "cell_type": "code",
   "execution_count": 31,
   "metadata": {},
   "outputs": [
    {
     "data": {
      "text/html": [
       "<div>\n",
       "<style scoped>\n",
       "    .dataframe tbody tr th:only-of-type {\n",
       "        vertical-align: middle;\n",
       "    }\n",
       "\n",
       "    .dataframe tbody tr th {\n",
       "        vertical-align: top;\n",
       "    }\n",
       "\n",
       "    .dataframe thead th {\n",
       "        text-align: right;\n",
       "    }\n",
       "</style>\n",
       "<table border=\"1\" class=\"dataframe\">\n",
       "  <thead>\n",
       "    <tr style=\"text-align: right;\">\n",
       "      <th></th>\n",
       "      <th>code</th>\n",
       "      <th>name</th>\n",
       "      <th>countrycode</th>\n",
       "      <th>countryname</th>\n",
       "      <th>countryshortname</th>\n",
       "      <th>borrower</th>\n",
       "    </tr>\n",
       "  </thead>\n",
       "  <tbody>\n",
       "    <tr>\n",
       "      <th>0</th>\n",
       "      <td>8</td>\n",
       "      <td>Human development</td>\n",
       "      <td>ET</td>\n",
       "      <td>Federal Democratic Republic of Ethiopia</td>\n",
       "      <td>Ethiopia</td>\n",
       "      <td>FEDERAL DEMOCRATIC REPUBLIC OF ETHIOPIA</td>\n",
       "    </tr>\n",
       "    <tr>\n",
       "      <th>1</th>\n",
       "      <td>11</td>\n",
       "      <td>Environment and natural resources management</td>\n",
       "      <td>ET</td>\n",
       "      <td>Federal Democratic Republic of Ethiopia</td>\n",
       "      <td>Ethiopia</td>\n",
       "      <td>FEDERAL DEMOCRATIC REPUBLIC OF ETHIOPIA</td>\n",
       "    </tr>\n",
       "    <tr>\n",
       "      <th>2</th>\n",
       "      <td>1</td>\n",
       "      <td>Economic management</td>\n",
       "      <td>TN</td>\n",
       "      <td>Republic of Tunisia</td>\n",
       "      <td>Tunisia</td>\n",
       "      <td>GOVERNMENT OF TUNISIA</td>\n",
       "    </tr>\n",
       "    <tr>\n",
       "      <th>3</th>\n",
       "      <td>6</td>\n",
       "      <td>Social protection and risk management</td>\n",
       "      <td>TN</td>\n",
       "      <td>Republic of Tunisia</td>\n",
       "      <td>Tunisia</td>\n",
       "      <td>GOVERNMENT OF TUNISIA</td>\n",
       "    </tr>\n",
       "    <tr>\n",
       "      <th>4</th>\n",
       "      <td>5</td>\n",
       "      <td>Trade and integration</td>\n",
       "      <td>TV</td>\n",
       "      <td>Tuvalu</td>\n",
       "      <td>Tuvalu</td>\n",
       "      <td>MINISTRY OF FINANCE AND ECONOMIC DEVEL</td>\n",
       "    </tr>\n",
       "  </tbody>\n",
       "</table>\n",
       "</div>"
      ],
      "text/plain": [
       "  code                                          name countrycode  \\\n",
       "0    8                             Human development          ET   \n",
       "1   11  Environment and natural resources management          ET   \n",
       "2    1                           Economic management          TN   \n",
       "3    6         Social protection and risk management          TN   \n",
       "4    5                         Trade and integration          TV   \n",
       "\n",
       "                               countryname countryshortname  \\\n",
       "0  Federal Democratic Republic of Ethiopia         Ethiopia   \n",
       "1  Federal Democratic Republic of Ethiopia         Ethiopia   \n",
       "2                      Republic of Tunisia          Tunisia   \n",
       "3                      Republic of Tunisia          Tunisia   \n",
       "4                                   Tuvalu           Tuvalu   \n",
       "\n",
       "                                  borrower  \n",
       "0  FEDERAL DEMOCRATIC REPUBLIC OF ETHIOPIA  \n",
       "1  FEDERAL DEMOCRATIC REPUBLIC OF ETHIOPIA  \n",
       "2                    GOVERNMENT OF TUNISIA  \n",
       "3                    GOVERNMENT OF TUNISIA  \n",
       "4   MINISTRY OF FINANCE AND ECONOMIC DEVEL  "
      ]
     },
     "execution_count": 31,
     "metadata": {},
     "output_type": "execute_result"
    }
   ],
   "source": [
    "new_df.loc[df.name.isnull(),'name'] = new_df.loc[df.name.isnull(),'code'].apply(lambda code: code_name_mapper[code])\n",
    "new_df.head()"
   ]
  },
  {
   "cell_type": "markdown",
   "metadata": {},
   "source": [
    "## 3.1. Visualization of top ten major project themes with project name instead of code."
   ]
  },
  {
   "cell_type": "code",
   "execution_count": 32,
   "metadata": {
    "scrolled": true
   },
   "outputs": [
    {
     "data": {
      "text/plain": [
       "Text(0.5, 0, 'Theme Name Code')"
      ]
     },
     "execution_count": 32,
     "metadata": {},
     "output_type": "execute_result"
    },
    {
     "data": {
      "image/png": "[encoded data removed]",
      "text/plain": [
       "<Figure size 432x288 with 1 Axes>"
      ]
     },
     "metadata": {
      "needs_background": "light"
     },
     "output_type": "display_data"
    }
   ],
   "source": [
    "new_df['name'].value_counts()[:10].plot(kind = 'bar',title = 'Top Ten Major Project Themes')\n",
    "plt.xlabel('Theme Name Code')"
   ]
  },
  {
   "cell_type": "markdown",
   "metadata": {},
   "source": [
    "## In tabular form"
   ]
  },
  {
   "cell_type": "code",
   "execution_count": 33,
   "metadata": {},
   "outputs": [
    {
     "data": {
      "text/plain": [
       "Environment and natural resources management    250\n",
       "Rural development                               216\n",
       "Human development                               210\n",
       "Public sector governance                        199\n",
       "Social protection and risk management           168\n",
       "Financial and private sector development        146\n",
       "Social dev/gender/inclusion                     130\n",
       "Trade and integration                            77\n",
       "Urban development                                50\n",
       "Economic management                              38\n",
       "Name: name, dtype: int64"
      ]
     },
     "execution_count": 33,
     "metadata": {},
     "output_type": "execute_result"
    }
   ],
   "source": [
    "new_df['name'].value_counts()[:10]"
   ]
  },
  {
   "cell_type": "code",
   "execution_count": null,
   "metadata": {},
   "outputs": [],
   "source": []
  }
 ],
 "metadata": {
  "kernelspec": {
   "display_name": "Python 3",
   "language": "python",
   "name": "python3"
  },
  "language_info": {
   "codemirror_mode": {
    "name": "ipython",
    "version": 3
   },
   "file_extension": ".py",
   "mimetype": "text/x-python",
   "name": "python",
   "nbconvert_exporter": "python",
   "pygments_lexer": "ipython3",
   "version": "3.7.3"
  }
 },
 "nbformat": 4,
 "nbformat_minor": 4
}
