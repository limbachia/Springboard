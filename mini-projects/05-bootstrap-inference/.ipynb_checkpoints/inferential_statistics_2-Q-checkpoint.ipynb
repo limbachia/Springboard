{
 "cells": [
  {
   "cell_type": "markdown",
   "metadata": {},
   "source": [
    "# Inferential statistics II - Bootstrapping"
   ]
  },
  {
   "cell_type": "markdown",
   "metadata": {},
   "source": [
    "## Introduction"
   ]
  },
  {
   "cell_type": "markdown",
   "metadata": {},
   "source": [
    "In the previous frequentist mini-projects, you did frequentist calculations to perform inference from a sample of data. Such inference relies on theory largely developed from the 19th-Century onwards that is subject to certain assumptions or theoretical limits. These are fine if those assumptions hold for the particular case you're working on, and what you want to do has a known theoretical distribution (for example the mean of a sampling distribution that we looked at in the previous mini-project.)"
   ]
  },
  {
   "cell_type": "markdown",
   "metadata": {},
   "source": [
    "In this mini-project, you'll use the same medical charge data you used in the frequentist inference mini-project, but this time you'll make inferences about the population using bootstrapping (ie. simulating repeated re-runs of an experiment.) If frequentism is about using assumptions and theoretical results to calculate what we expect to happen were an experiment to be run again and again and again, then bootstrapping is about using computing power to essentially re-run the sample draw again and again and again to see what actually happens."
   ]
  },
  {
   "cell_type": "markdown",
   "metadata": {},
   "source": [
    "## Prerequisites"
   ]
  },
  {
   "cell_type": "markdown",
   "metadata": {},
   "source": [
    "While these exercises do not strictly depend on these concepts, we encourage you to complete the previous mini-projects before starting this one so that you can approach this assignment with a good understanding of frequentist concepts like:\n",
    "* the _z_-statistic\n",
    "* the _t_-statistic\n",
    "* the difference and relationship between the two\n",
    "* the Central Limit Theorem, its assumptions and consequences\n",
    "* how to estimate the population mean and standard deviation from a sample\n",
    "* the concept of a sampling distribution of a test statistic, particularly for the mean\n",
    "* how to combine these concepts to calculate confidence intervals and p-values\n",
    "* how those confidence intervals and p-values allow you to perform hypothesis (or A/B) tests"
   ]
  },
  {
   "cell_type": "markdown",
   "metadata": {},
   "source": [
    "To complete mini-project, it's important that you first complete the bootstrap resources listed in this subunit, as they contain valuable information about how to calculate bootstrap replicates of summary statistics. Having an basic understanding of what confidence intervals and p-values are will also be helpful (we touch on them in this mini-project, but please speak to your mentor or conduct individual research if you'd like to learn more.) "
   ]
  },
  {
   "cell_type": "code",
   "execution_count": 1,
   "metadata": {},
   "outputs": [],
   "source": [
    "import pandas as pd\n",
    "import numpy as np\n",
    "from numpy.random import seed\n",
    "import matplotlib.pyplot as plt"
   ]
  },
  {
   "cell_type": "markdown",
   "metadata": {},
   "source": [
    "## Medical charge data set"
   ]
  },
  {
   "cell_type": "code",
   "execution_count": 2,
   "metadata": {},
   "outputs": [],
   "source": [
    "med_charges = pd.read_csv('data/insurance2.csv')"
   ]
  },
  {
   "cell_type": "code",
   "execution_count": 3,
   "metadata": {},
   "outputs": [
    {
     "data": {
      "text/html": [
       "<div>\n",
       "<style scoped>\n",
       "    .dataframe tbody tr th:only-of-type {\n",
       "        vertical-align: middle;\n",
       "    }\n",
       "\n",
       "    .dataframe tbody tr th {\n",
       "        vertical-align: top;\n",
       "    }\n",
       "\n",
       "    .dataframe thead th {\n",
       "        text-align: right;\n",
       "    }\n",
       "</style>\n",
       "<table border=\"1\" class=\"dataframe\">\n",
       "  <thead>\n",
       "    <tr style=\"text-align: right;\">\n",
       "      <th></th>\n",
       "      <th>age</th>\n",
       "      <th>sex</th>\n",
       "      <th>bmi</th>\n",
       "      <th>children</th>\n",
       "      <th>smoker</th>\n",
       "      <th>region</th>\n",
       "      <th>charges</th>\n",
       "      <th>insuranceclaim</th>\n",
       "    </tr>\n",
       "  </thead>\n",
       "  <tbody>\n",
       "    <tr>\n",
       "      <th>0</th>\n",
       "      <td>19</td>\n",
       "      <td>0</td>\n",
       "      <td>27.900</td>\n",
       "      <td>0</td>\n",
       "      <td>1</td>\n",
       "      <td>3</td>\n",
       "      <td>16884.92400</td>\n",
       "      <td>1</td>\n",
       "    </tr>\n",
       "    <tr>\n",
       "      <th>1</th>\n",
       "      <td>18</td>\n",
       "      <td>1</td>\n",
       "      <td>33.770</td>\n",
       "      <td>1</td>\n",
       "      <td>0</td>\n",
       "      <td>2</td>\n",
       "      <td>1725.55230</td>\n",
       "      <td>1</td>\n",
       "    </tr>\n",
       "    <tr>\n",
       "      <th>2</th>\n",
       "      <td>28</td>\n",
       "      <td>1</td>\n",
       "      <td>33.000</td>\n",
       "      <td>3</td>\n",
       "      <td>0</td>\n",
       "      <td>2</td>\n",
       "      <td>4449.46200</td>\n",
       "      <td>0</td>\n",
       "    </tr>\n",
       "    <tr>\n",
       "      <th>3</th>\n",
       "      <td>33</td>\n",
       "      <td>1</td>\n",
       "      <td>22.705</td>\n",
       "      <td>0</td>\n",
       "      <td>0</td>\n",
       "      <td>1</td>\n",
       "      <td>21984.47061</td>\n",
       "      <td>0</td>\n",
       "    </tr>\n",
       "    <tr>\n",
       "      <th>4</th>\n",
       "      <td>32</td>\n",
       "      <td>1</td>\n",
       "      <td>28.880</td>\n",
       "      <td>0</td>\n",
       "      <td>0</td>\n",
       "      <td>1</td>\n",
       "      <td>3866.85520</td>\n",
       "      <td>1</td>\n",
       "    </tr>\n",
       "  </tbody>\n",
       "</table>\n",
       "</div>"
      ],
      "text/plain": [
       "   age  sex     bmi  children  smoker  region      charges  insuranceclaim\n",
       "0   19    0  27.900         0       1       3  16884.92400               1\n",
       "1   18    1  33.770         1       0       2   1725.55230               1\n",
       "2   28    1  33.000         3       0       2   4449.46200               0\n",
       "3   33    1  22.705         0       0       1  21984.47061               0\n",
       "4   32    1  28.880         0       0       1   3866.85520               1"
      ]
     },
     "execution_count": 3,
     "metadata": {},
     "output_type": "execute_result"
    }
   ],
   "source": [
    "med_charges.head()"
   ]
  },
  {
   "cell_type": "markdown",
   "metadata": {},
   "source": [
    "In the previous assignment, you used the frequentist approach to estimate the lower limit for the 95% confidence interval on the mean hospital charge. This approach relies on statistical theory that has been developed over the years and is also limited to statistics for which theoretical results on the sampling distribution exist. These results are remarkably useful and applicable much of the time and under a surprisingly wide range of conditions."
   ]
  },
  {
   "cell_type": "markdown",
   "metadata": {},
   "source": [
    "Having calculated the 95% lower confidence interval using frequentist theory in the previous exercise, you'll now use bootstrap inference to verify your calculations and check that you get consistent results without making the assumptions required before. After all, the distribution of charges really was very non-normal."
   ]
  },
  {
   "cell_type": "markdown",
   "metadata": {},
   "source": [
    "__Q:__ Use bootstrap sampling to estimate the same 95% confidence interval lower limit as before."
   ]
  },
  {
   "cell_type": "markdown",
   "metadata": {},
   "source": [
    "__A:__ The lower limit of the bootstrap sampling distribution is __12724.47__, which is very similar to what we got using the theoratical sampling distribution."
   ]
  },
  {
   "cell_type": "code",
   "execution_count": 4,
   "metadata": {},
   "outputs": [
    {
     "name": "stdout",
     "output_type": "stream",
     "text": [
      "95% CI lower limit: 12724.47\n"
     ]
    }
   ],
   "source": [
    "np.random.seed(47)\n",
    "N_rep = 10000\n",
    "bs_charges_rep = np.empty(N_rep)\n",
    "for i in range(N_rep):\n",
    "    bs_charges_rep[i] = np.random.choice(med_charges.charges,size=len(med_charges)).mean()\n",
    "\n",
    "print('95%% CI lower limit: %.2f' %(np.percentile(bs_charges_rep,5)))"
   ]
  },
  {
   "cell_type": "markdown",
   "metadata": {},
   "source": [
    "If you performed 10000 replicates immediately after setting the random seed to 47, you should get the value 12724 here, which compares very well with the value 12725 obtained using the _t_-distribution confidence interval previously. It is a most pleasant result to see the predictions of classical frequentist theory match with results that are now possible through the number-crunching ability of computers."
   ]
  },
  {
   "cell_type": "markdown",
   "metadata": {},
   "source": [
    "Remember, in the previous mini-projects, we saw that there are two ways of performing a _t_-test from a sample, depending on whether we can assume the groups have equal variance or not. We can actually easily test this using the bootstrap approach!"
   ]
  },
  {
   "cell_type": "markdown",
   "metadata": {},
   "source": [
    "__Q:__ Calculate the 95% confidence interval for the difference between the standard deviations of insurance and non-insurance claim charges (insured - non-insured). Calculate the differences over 10000 replicates. Plot the histogram of values and mark the locations of the percentiles. State the null and alternative hypothesis and comment on whether you would retain or reject the null hypothesis in this case and why."
   ]
  },
  {
   "cell_type": "markdown",
   "metadata": {},
   "source": [
    "__A:__ The null hypothesis ($H_{0}$) is that both groups have equal standard deviations.\n",
    "\n",
    "$$H_{0}: \\sigma_{in} = \\sigma_{un}$$\n",
    "$$H_{1}: \\sigma_{in} \\neq \\sigma_{un}$$\n",
    "\n",
    "Histogram of standard devaition difference from the bootstrap replicates can be found below. The 95% CI is marked with red dash-dotted lines. Since the 95% CI does not include 0, we state that standard deviations of the two groups are significantly different from each other. Hence we can confidently reject the $H_{0}$."
   ]
  },
  {
   "cell_type": "code",
   "execution_count": 5,
   "metadata": {},
   "outputs": [],
   "source": [
    "## Functions to sample bootstrap replicates\n",
    "\n",
    "def bootstrap_replicate_1d(data,func):\n",
    "    \"\"\"Generate bootstrap replicate of 1D data.\"\"\"\n",
    "    bs_sample = np.random.choice(data,size=len(data))\n",
    "    return func(bs_sample)\n",
    "\n",
    "\n",
    "def draw_bs_reps(data, func,size=1):\n",
    "    \"\"\" Draw bootstrap replicates.\"\"\"\n",
    "\n",
    "    # Initialize array of replicates: bs_replicates\n",
    "    bs_replicates = np.empty(size)\n",
    "\n",
    "    # Generate replicates\n",
    "    for i in range(size):\n",
    "        bs_replicates[i] = bootstrap_replicate_1d(data,func)\n",
    "        \n",
    "    return bs_replicates"
   ]
  },
  {
   "cell_type": "code",
   "execution_count": 6,
   "metadata": {},
   "outputs": [],
   "source": [
    "charges_insured = med_charges.query(\"insuranceclaim == 1\")['charges'].values\n",
    "charges_uninsured = med_charges.query(\"insuranceclaim == 0\")['charges'].values\n",
    "\n",
    "# Generate bootstrap replicates\n",
    "bs_replicates_in = draw_bs_reps(charges_insured,np.std,N_rep)\n",
    "bs_replicates_un = draw_bs_reps(charges_uninsured,np.std,N_rep)\n",
    "\n",
    "# Take difference of the two bootstrap replicates\n",
    "bs_replicates = bs_replicates_in - bs_replicates_un\n",
    "\n",
    "# Empirical difference in standard deviations\n",
    "empirical_diff = np.std(charges_insured) - np.std(charges_uninsured)"
   ]
  },
  {
   "cell_type": "code",
   "execution_count": 7,
   "metadata": {},
   "outputs": [
    {
     "data": {
      "image/png": "[encoded data removed]",
      "text/plain": [
       "<Figure size 432x288 with 1 Axes>"
      ]
     },
     "metadata": {
      "needs_background": "light"
     },
     "output_type": "display_data"
    }
   ],
   "source": [
    "_=plt.hist(bs_replicates,bins=int(np.sqrt(N_rep)),density=False)\n",
    "_=plt.axvline(x=np.percentile(bs_replicates,2.5),color='red',linestyle='-.',label='95% CI')\n",
    "_=plt.axvline(x=empirical_diff,color='red',linestyle='-',label='Observed diff')\n",
    "_=plt.axvline(x=np.percentile(bs_replicates,97.5),color='red',linestyle='-.')\n",
    "_=plt.xlabel(r'$s_{in} - s_{un}$',fontsize=14)\n",
    "_=plt.ylabel('count',fontsize=14)\n",
    "_=plt.title('Distribution of difference in standard deviation',fontsize=14)\n",
    "_=plt.legend()"
   ]
  },
  {
   "cell_type": "markdown",
   "metadata": {},
   "source": [
    "## Confidence interval and p-value"
   ]
  },
  {
   "cell_type": "markdown",
   "metadata": {},
   "source": [
    "The confidence interval above is often a useful quantity to estimate. If we wish to limit our expected probability of making a Type I error (where we wrongly reject the null hypothesis, and it is, instead, true) to $\\alpha$, the associated confidence interval is our estimate of the interval within which we expect the true population value to be found $100\\times(1 - \\alpha)$% of the time we do this test. In the above we performed bootstrap replicates to estimate the interval and reject the null hypothesis if this interval did not contain zero. You will sometimes see such an interval reported in the output of statistical functions.\n",
    "\n",
    "The partner of the confidence interval is the p-value. The p-value and the confidence interval are linked through our choice of $\\alpha$. The p-value tells us how likely it is, under the null hypothesis, to get an outcome at least as extreme as what was observed. If this fails to reach the level of our _pre-specified_ $\\alpha$, we decide the null hypothesis is sufficiently unlikely to be true and thus reject it. To calculate this p-value via the bootstrap, we have to put ourselves in a position where we are simulating the null hypothesis being true and then calculate the fraction of times we observe a result at least as extreme as that actually observed.\n",
    "\n",
    "Remember how, previously, you used the _t_-test to calculate the p-value for the observed difference between the means of insured and non-insured medical cases. We're now going to repeat this, this time using the bootstrap approach.\n",
    "\n",
    "__Q:__ Perform a bootstrapped hypothesis test at the 5% significance level ($\\alpha = 0.05$) to calculate the p-value of the observed difference between insurance and non-insurance charges, state your null and alternative hypotheses and whether you retain or reject the null hypothesis for the given significance level."
   ]
  },
  {
   "cell_type": "markdown",
   "metadata": {},
   "source": [
    "__A:__ The null hypothesis ($H_{0}$) is that both groups have equal means.\n",
    "\n",
    "$$H_{0}: \\mu_{in} = \\mu_{un}$$\n",
    "$$H_{1}: \\mu_{in} \\neq \\mu_{un}$$\n",
    "\n",
    "We need to simulate a distribution for $H_{0}$ that both groups have equal means. This is done as follows:  \n",
    "1. Compute the mean of all charges.  \n",
    "2. Shift the means of each group such that both groups' mean become equal to the overall mean computed in step 1.\n",
    "3. Generate bootstrap replicates from the shifted data of each group.\n",
    "5. Subtract the bootstrap replicates of uninsured group from insured group.  \n",
    "6. Get the p-value from the distribution of the subtracted bootstrap replicate.  \n",
    "\n",
    "The chance of observing a difference as extreme as the empirical one is almost __0%__ if the $H_{0}$ was true. Hence, we can reject the $H_{0}$."
   ]
  },
  {
   "cell_type": "code",
   "execution_count": 8,
   "metadata": {},
   "outputs": [],
   "source": [
    "# Overall mean\n",
    "mean_charge = med_charges.charges.mean()\n",
    "\n",
    "# Shift the group charges\n",
    "charges_insured_shifted = charges_insured - charges_insured.mean() + mean_charge\n",
    "charges_uninsured_shifted = charges_uninsured - charges_uninsured.mean() + mean_charge"
   ]
  },
  {
   "cell_type": "code",
   "execution_count": 9,
   "metadata": {},
   "outputs": [],
   "source": [
    "# Generate bootstrap replicates\n",
    "bs_replicates_in = draw_bs_reps(charges_insured_shifted,np.mean,N_rep)\n",
    "bs_replicates_un = draw_bs_reps(charges_uninsured_shifted,np.mean,N_rep)\n",
    "\n",
    "# Take difference of the two bootstrap replicates\n",
    "bs_replicates = bs_replicates_in - bs_replicates_un\n",
    "\n",
    "\n",
    "bs_rep_obs_diff = draw_bs_reps(charges_insured,np.mean,N_rep) \\\n",
    "                  - draw_bs_reps(charges_uninsured,np.mean,N_rep)\n",
    "\n",
    "# Empirical difference in standard deviations\n",
    "empirical_diff = np.mean(charges_insured) - np.mean(charges_uninsured)"
   ]
  },
  {
   "cell_type": "code",
   "execution_count": 10,
   "metadata": {},
   "outputs": [
    {
     "name": "stdout",
     "output_type": "stream",
     "text": [
      "P-value: 0.0000\n"
     ]
    }
   ],
   "source": [
    "print('P-value: %.4f' %(np.sum(np.abs(bs_replicates) >= abs(empirical_diff))/len(bs_replicates)))"
   ]
  },
  {
   "cell_type": "markdown",
   "metadata": {},
   "source": [
    "__Q:__ To put the above result in perspective, plot the histogram of your bootstrapped differences along with lines marking the locations of the observed difference. (Why would we plot more than one line, given that we only have one observed difference?)"
   ]
  },
  {
   "cell_type": "markdown",
   "metadata": {},
   "source": [
    "__A:__ Below is the histogram of the bootstrap difference under the assumpution that $H_{0}$ is true, with 95% CI marked with red, dash-dotted lines. The observed difference is also shown with a vertical blue line. The observed difference is surrounded by translucent red lines which represent the uncertainty in the observed difference. \n",
    "\n",
    "The uncertainty is simulated by sampling bootstrap replicates (mean charges) from each group, and then by subracting one from the other. Although 10000 replicates were sampled, only 1000 red lines are shown in the plot to appriciate their sparseness at the extremes. \n",
    "\n",
    "The purpose of showing more than one line is to express how much the observed difference would fluctuate if the experiment was repeated lots of times. This is what is refered to as \"uncertainty\"."
   ]
  },
  {
   "cell_type": "code",
   "execution_count": 11,
   "metadata": {},
   "outputs": [
    {
     "data": {
      "image/png": "[encoded data removed]",
      "text/plain": [
       "<Figure size 432x288 with 1 Axes>"
      ]
     },
     "metadata": {
      "needs_background": "light"
     },
     "output_type": "display_data"
    }
   ],
   "source": [
    "_=plt.hist(bs_replicates,bins=int(np.sqrt(N_rep)),density=False)\n",
    "_=plt.axvline(x=np.percentile(bs_replicates,2.5),color='red',linestyle='-.',label='95% CI')\n",
    "_=plt.axvline(x=np.percentile(bs_replicates,50),color='red',linestyle='-')\n",
    "_=plt.axvline(x=np.percentile(bs_replicates,97.5),color='red',linestyle='-.')\n",
    "[plt.axvline(x=val,color='red',alpha=0.25) for val in bs_rep_obs_diff[::10]]\n",
    "_=plt.axvline(x=empirical_diff,color='C0',label='Observed\\ndifference')\n",
    "_=plt.xlabel(r'$\\bar{x}_{in} - \\bar{x}_{un}$ under $H_{0}$',fontsize=14)\n",
    "_=plt.ylabel('count',fontsize=14)\n",
    "_=plt.title('Distribution of mean difference under $H_{0}$',fontsize=14)\n",
    "_=plt.legend(loc='upper center')\n",
    "_=plt.xlim(-2500,10000)"
   ]
  },
  {
   "cell_type": "markdown",
   "metadata": {},
   "source": [
    "__Q:__ Compare your p-value above with that obtained using the _t_-test function in the previous assignment. Do you think you would want to try to perform enough bootstrap replicates to observe a random difference as large as that we did observe?"
   ]
  },
  {
   "cell_type": "markdown",
   "metadata": {},
   "source": [
    "__A:__ The p-values obtained here and in previous experiment are eqaul at least till the fourth decimal place (both p-values = 0.0000). Sure, if the goal is to observe at least one random difference that is as large as that we observed, we would want to perform even more bootstrap replicates. But even if we performed bootstap replicates infinite number of times, the probability of finding a differece as extreme as observed would be infinitesimally small if not 0, given that observed difference and its uncertainty is so far from the $H_{0}$ distribution. "
   ]
  },
  {
   "cell_type": "markdown",
   "metadata": {},
   "source": [
    "__Q:__ Consider the two variants of the _t_-test we performed in the previous assignment. Which one would you use now?"
   ]
  },
  {
   "cell_type": "markdown",
   "metadata": {},
   "source": [
    "__A:__ I would use the one which __does not__ aasume equal variances because, as we already saw above, the standard deviations (and therefore the variances) of the two groups are significantly different from each other."
   ]
  },
  {
   "cell_type": "markdown",
   "metadata": {},
   "source": [
    "__Q:__ If, instead of being asked whether the means of two groups were different, you were working with an ad-recommender team who wanted to release a new recommendation algorithm, and you were looking at click-through rate both for the current algorithm (call it A) and from trials of their new algorithm (call it B), would you perform a two-sided test as above? What would be your null and alternative hypotheses and what would be the real-world consequence of rejecting the null hypothesis?"
   ]
  },
  {
   "cell_type": "markdown",
   "metadata": {},
   "source": [
    "__A:__ Since _B_ (the new algorithm) is developed with the intention to increase the click-through rate, appropriate test would be whether _B_ significantly increased the click thru rate compared _A_. Therefore, a __one-sided__ test will be appropriate. \n",
    "\n",
    "The null hypothesis ($H_{0}$) would be that there is no influence of the algorithm type (_A or B_) on the click-through rate. Essentially meaning that click-through rate of _A_ and _B_ are equal. The alternative hypothesis ($H_{1}$) is our test hypothesis that click-through rate of _B_ is greater than _A_.\n",
    "\n",
    "Let $\\gamma$ be the click-through rate. \n",
    "$$H_{0}: \\gamma_{A} = \\gamma_{B}$$\n",
    "$$H_{1}: \\gamma_{A} < \\gamma_{B}$$\n",
    "\n",
    "The $H_{0}$ will get rejected if chances of observing the epmirical difference is less than 5% (if $H_{0}$ was true). Rejection of $H_{0}$ implies that the increase in click-through rate is statistically significant. However, the real-world consequence of rejecting the $H_{0}$ further depends of the practical significance. For example, although _B_ significantly increased the click-through rate from 10% (when using _A_) to 15%, is the increase of 5% considered practically significant?"
   ]
  },
  {
   "cell_type": "markdown",
   "metadata": {},
   "source": [
    "# Learning outcomes\n",
    "\n",
    "You've previously applied frequentist methods to calculate confidence intervals, p-values, and perform hypothesis tests. Frequentist methods use theoretical results to calculate what we expect would happen if experiments were to be run again and again and again. Now you've seen how you can do the same things using the bootstrap approach, which does not rely on such theory, and attendant assumptions, but instead literally does run experiments again and again and again.\n",
    "\n",
    "In these exercises, you have:\n",
    "* calculated the same confidence interval lower limit as you did previously\n",
    "* tested the assumption that the variances of the two groups (insured vs. non-insured) were equal - something a bit harder to do using the frequentist method because of the nature of the sampling distribution for variance\n",
    "* calculated the p-value for the difference between the means of the two groups and compared with the result obtained using the previous frequentist approach\n",
    "\n",
    "You are now well equipped to apply the bootstrap approach to a wide variety of problems. Just think about what conditions you wish to recreate in your simulated reruns."
   ]
  },
  {
   "cell_type": "code",
   "execution_count": null,
   "metadata": {},
   "outputs": [],
   "source": []
  }
 ],
 "metadata": {
  "kernelspec": {
   "display_name": "Python 3",
   "language": "python",
   "name": "python3"
  },
  "language_info": {
   "codemirror_mode": {
    "name": "ipython",
    "version": 3
   },
   "file_extension": ".py",
   "mimetype": "text/x-python",
   "name": "python",
   "nbconvert_exporter": "python",
   "pygments_lexer": "ipython3",
   "version": "3.7.3"
  }
 },
 "nbformat": 4,
 "nbformat_minor": 4
}
