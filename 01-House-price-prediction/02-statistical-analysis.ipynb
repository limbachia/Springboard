{
 "cells": [
  {
   "cell_type": "code",
   "execution_count": 1,
   "metadata": {},
   "outputs": [
    {
     "data": {
      "text/html": [
       "<script>\n",
       "code_show=true; \n",
       "function code_toggle() {\n",
       " if (code_show){\n",
       " $('div.input').hide();\n",
       " } else {\n",
       " $('div.input').show();\n",
       " }\n",
       " code_show = !code_show\n",
       "} \n",
       "$( document ).ready(code_toggle);\n",
       "</script>\n",
       "<form action=\"javascript:code_toggle()\"><input type=\"submit\" value=\"Show Code\"></form>"
      ],
      "text/plain": [
       "<IPython.core.display.HTML object>"
      ]
     },
     "execution_count": 1,
     "metadata": {},
     "output_type": "execute_result"
    }
   ],
   "source": [
    "from IPython.display import HTML\n",
    "\n",
    "HTML('''<script>\n",
    "code_show=true; \n",
    "function code_toggle() {\n",
    " if (code_show){\n",
    " $('div.input').hide();\n",
    " } else {\n",
    " $('div.input').show();\n",
    " }\n",
    " code_show = !code_show\n",
    "} \n",
    "$( document ).ready(code_toggle);\n",
    "</script>\n",
    "<form action=\"javascript:code_toggle()\"><input type=\"submit\" value=\"Show Code\"></form>''')"
   ]
  },
  {
   "cell_type": "markdown",
   "metadata": {},
   "source": [
    "# **Statistical Analysis**"
   ]
  },
  {
   "cell_type": "code",
   "execution_count": 2,
   "metadata": {},
   "outputs": [],
   "source": [
    "# Import useful libraries\n",
    "import pandas as pd\n",
    "import numpy as np\n",
    "import pickle\n",
    "import matplotlib.pyplot as plt\n",
    "\n",
    "from collections import defaultdict\n",
    "\n",
    "import matplotlib as mpl\n",
    "import seaborn as sns\n",
    "\n",
    "sns.set(style ='white',font_scale=1.25)\n",
    "\n",
    "%matplotlib inline"
   ]
  },
  {
   "cell_type": "code",
   "execution_count": 3,
   "metadata": {},
   "outputs": [],
   "source": [
    "with open('../data/01-House-Price/wrangled_data.pkl','rb') as file:\n",
    "    housing_orig, FEATURES = pickle.load(file)"
   ]
  },
  {
   "cell_type": "code",
   "execution_count": 4,
   "metadata": {},
   "outputs": [
    {
     "data": {
      "text/html": [
       "<div>\n",
       "<style scoped>\n",
       "    .dataframe tbody tr th:only-of-type {\n",
       "        vertical-align: middle;\n",
       "    }\n",
       "\n",
       "    .dataframe tbody tr th {\n",
       "        vertical-align: top;\n",
       "    }\n",
       "\n",
       "    .dataframe thead th {\n",
       "        text-align: right;\n",
       "    }\n",
       "</style>\n",
       "<table border=\"1\" class=\"dataframe\">\n",
       "  <thead>\n",
       "    <tr style=\"text-align: right;\">\n",
       "      <th></th>\n",
       "      <th>MSSubClass</th>\n",
       "      <th>MSZoning</th>\n",
       "      <th>LotFrontage</th>\n",
       "      <th>LotArea</th>\n",
       "      <th>Street</th>\n",
       "      <th>Alley</th>\n",
       "      <th>LotShape</th>\n",
       "      <th>LandContour</th>\n",
       "      <th>Utilities</th>\n",
       "      <th>LotConfig</th>\n",
       "      <th>...</th>\n",
       "      <th>SaleType</th>\n",
       "      <th>SaleCondition</th>\n",
       "      <th>SalePrice</th>\n",
       "      <th>log1p(SalePrice)</th>\n",
       "      <th>log1p(GrLivArea)</th>\n",
       "      <th>Lat</th>\n",
       "      <th>Lng</th>\n",
       "      <th>zipcode</th>\n",
       "      <th>median_household_income</th>\n",
       "      <th>median_home_value</th>\n",
       "    </tr>\n",
       "    <tr>\n",
       "      <th>Id</th>\n",
       "      <th></th>\n",
       "      <th></th>\n",
       "      <th></th>\n",
       "      <th></th>\n",
       "      <th></th>\n",
       "      <th></th>\n",
       "      <th></th>\n",
       "      <th></th>\n",
       "      <th></th>\n",
       "      <th></th>\n",
       "      <th></th>\n",
       "      <th></th>\n",
       "      <th></th>\n",
       "      <th></th>\n",
       "      <th></th>\n",
       "      <th></th>\n",
       "      <th></th>\n",
       "      <th></th>\n",
       "      <th></th>\n",
       "      <th></th>\n",
       "      <th></th>\n",
       "    </tr>\n",
       "  </thead>\n",
       "  <tbody>\n",
       "    <tr>\n",
       "      <th>1</th>\n",
       "      <td>60</td>\n",
       "      <td>RL</td>\n",
       "      <td>65.0</td>\n",
       "      <td>8450</td>\n",
       "      <td>Pave</td>\n",
       "      <td>Missing</td>\n",
       "      <td>Reg</td>\n",
       "      <td>Lvl</td>\n",
       "      <td>AllPub</td>\n",
       "      <td>Inside</td>\n",
       "      <td>...</td>\n",
       "      <td>WD</td>\n",
       "      <td>Normal</td>\n",
       "      <td>208500</td>\n",
       "      <td>12.247699</td>\n",
       "      <td>7.444833</td>\n",
       "      <td>42.022197</td>\n",
       "      <td>-93.651510</td>\n",
       "      <td>50010.0</td>\n",
       "      <td>48189.0</td>\n",
       "      <td>165300.0</td>\n",
       "    </tr>\n",
       "    <tr>\n",
       "      <th>2</th>\n",
       "      <td>20</td>\n",
       "      <td>RL</td>\n",
       "      <td>80.0</td>\n",
       "      <td>9600</td>\n",
       "      <td>Pave</td>\n",
       "      <td>Missing</td>\n",
       "      <td>Reg</td>\n",
       "      <td>Lvl</td>\n",
       "      <td>AllPub</td>\n",
       "      <td>FR2</td>\n",
       "      <td>...</td>\n",
       "      <td>WD</td>\n",
       "      <td>Normal</td>\n",
       "      <td>181500</td>\n",
       "      <td>12.109016</td>\n",
       "      <td>7.141245</td>\n",
       "      <td>42.041304</td>\n",
       "      <td>-93.650302</td>\n",
       "      <td>50011.0</td>\n",
       "      <td>48189.0</td>\n",
       "      <td>165300.0</td>\n",
       "    </tr>\n",
       "    <tr>\n",
       "      <th>3</th>\n",
       "      <td>60</td>\n",
       "      <td>RL</td>\n",
       "      <td>68.0</td>\n",
       "      <td>11250</td>\n",
       "      <td>Pave</td>\n",
       "      <td>Missing</td>\n",
       "      <td>IR1</td>\n",
       "      <td>Lvl</td>\n",
       "      <td>AllPub</td>\n",
       "      <td>Inside</td>\n",
       "      <td>...</td>\n",
       "      <td>WD</td>\n",
       "      <td>Normal</td>\n",
       "      <td>223500</td>\n",
       "      <td>12.317171</td>\n",
       "      <td>7.488294</td>\n",
       "      <td>42.022197</td>\n",
       "      <td>-93.651510</td>\n",
       "      <td>50010.0</td>\n",
       "      <td>48189.0</td>\n",
       "      <td>165300.0</td>\n",
       "    </tr>\n",
       "    <tr>\n",
       "      <th>4</th>\n",
       "      <td>70</td>\n",
       "      <td>RL</td>\n",
       "      <td>60.0</td>\n",
       "      <td>9550</td>\n",
       "      <td>Pave</td>\n",
       "      <td>Missing</td>\n",
       "      <td>IR1</td>\n",
       "      <td>Lvl</td>\n",
       "      <td>AllPub</td>\n",
       "      <td>Corner</td>\n",
       "      <td>...</td>\n",
       "      <td>WD</td>\n",
       "      <td>Abnorml</td>\n",
       "      <td>140000</td>\n",
       "      <td>11.849405</td>\n",
       "      <td>7.448916</td>\n",
       "      <td>42.018614</td>\n",
       "      <td>-93.648898</td>\n",
       "      <td>50014.0</td>\n",
       "      <td>37661.0</td>\n",
       "      <td>212500.0</td>\n",
       "    </tr>\n",
       "    <tr>\n",
       "      <th>5</th>\n",
       "      <td>60</td>\n",
       "      <td>RL</td>\n",
       "      <td>84.0</td>\n",
       "      <td>14260</td>\n",
       "      <td>Pave</td>\n",
       "      <td>Missing</td>\n",
       "      <td>IR1</td>\n",
       "      <td>Lvl</td>\n",
       "      <td>AllPub</td>\n",
       "      <td>FR2</td>\n",
       "      <td>...</td>\n",
       "      <td>WD</td>\n",
       "      <td>Normal</td>\n",
       "      <td>250000</td>\n",
       "      <td>12.429220</td>\n",
       "      <td>7.695758</td>\n",
       "      <td>42.053510</td>\n",
       "      <td>-93.648636</td>\n",
       "      <td>50010.0</td>\n",
       "      <td>48189.0</td>\n",
       "      <td>165300.0</td>\n",
       "    </tr>\n",
       "  </tbody>\n",
       "</table>\n",
       "<p>5 rows × 87 columns</p>\n",
       "</div>"
      ],
      "text/plain": [
       "   MSSubClass MSZoning  LotFrontage  LotArea Street    Alley LotShape  \\\n",
       "Id                                                                      \n",
       "1          60       RL         65.0     8450   Pave  Missing      Reg   \n",
       "2          20       RL         80.0     9600   Pave  Missing      Reg   \n",
       "3          60       RL         68.0    11250   Pave  Missing      IR1   \n",
       "4          70       RL         60.0     9550   Pave  Missing      IR1   \n",
       "5          60       RL         84.0    14260   Pave  Missing      IR1   \n",
       "\n",
       "   LandContour Utilities LotConfig  ... SaleType SaleCondition SalePrice  \\\n",
       "Id                                  ...                                    \n",
       "1          Lvl    AllPub    Inside  ...       WD        Normal    208500   \n",
       "2          Lvl    AllPub       FR2  ...       WD        Normal    181500   \n",
       "3          Lvl    AllPub    Inside  ...       WD        Normal    223500   \n",
       "4          Lvl    AllPub    Corner  ...       WD       Abnorml    140000   \n",
       "5          Lvl    AllPub       FR2  ...       WD        Normal    250000   \n",
       "\n",
       "   log1p(SalePrice) log1p(GrLivArea)        Lat        Lng  zipcode  \\\n",
       "Id                                                                    \n",
       "1         12.247699         7.444833  42.022197 -93.651510  50010.0   \n",
       "2         12.109016         7.141245  42.041304 -93.650302  50011.0   \n",
       "3         12.317171         7.488294  42.022197 -93.651510  50010.0   \n",
       "4         11.849405         7.448916  42.018614 -93.648898  50014.0   \n",
       "5         12.429220         7.695758  42.053510 -93.648636  50010.0   \n",
       "\n",
       "    median_household_income  median_home_value  \n",
       "Id                                              \n",
       "1                   48189.0           165300.0  \n",
       "2                   48189.0           165300.0  \n",
       "3                   48189.0           165300.0  \n",
       "4                   37661.0           212500.0  \n",
       "5                   48189.0           165300.0  \n",
       "\n",
       "[5 rows x 87 columns]"
      ]
     },
     "execution_count": 4,
     "metadata": {},
     "output_type": "execute_result"
    }
   ],
   "source": [
    "housing = housing_orig.copy()\n",
    "housing.head()"
   ]
  },
  {
   "cell_type": "code",
   "execution_count": 5,
   "metadata": {},
   "outputs": [],
   "source": [
    "def ecdf(data):\n",
    "    x = np.sort(data)\n",
    "    y = np.arange(1,len(x)+1)/len(x)\n",
    "    return x, y"
   ]
  },
  {
   "cell_type": "markdown",
   "metadata": {},
   "source": [
    "Important features:\n",
    "1. OverallCond\n",
    "2. SaleCondition\n",
    "3. Functional\n",
    "4. Neighborhood\n",
    "5. Exterior1st\n",
    "6. Condition1\n",
    "7. BsmtFinSF1\n",
    "8. BsmtFullBath\n",
    "9. OverallQual\n",
    "10. GarageYrBlt\n",
    "11. MSSubClass\n",
    "12. 1stFlrSF\n",
    "13. GarageArea\n",
    "14. BsmtQual\n",
    "15. TotalBsmtSF\n",
    "16. SaleType\n",
    "17. HeatingQC\n",
    "18. GarageType\n",
    "19. ExterQual\n",
    "20. RoofMatl\n",
    "21. Heating"
   ]
  },
  {
   "cell_type": "code",
   "execution_count": 6,
   "metadata": {},
   "outputs": [],
   "source": [
    "impfeat = 'OverallCond SaleCondition Functional \\\n",
    "            Neighborhood Exterior1st Condition1 \\\n",
    "            BsmtFinSF1 BsmtFullBath OverallQual \\\n",
    "            GarageYrBlt MSSubClass 1stFlrSF GarageArea \\\n",
    "            BsmtQual TotalBsmtSF SaleType HeatingQC \\\n",
    "            GarageType ExterQual RoofMatl Heating'.split()"
   ]
  },
  {
   "cell_type": "code",
   "execution_count": 7,
   "metadata": {},
   "outputs": [
    {
     "name": "stdout",
     "output_type": "stream",
     "text": [
      "<class 'pandas.core.frame.DataFrame'>\n",
      "Int64Index: 1443 entries, 1 to 1460\n",
      "Data columns (total 22 columns):\n",
      "OverallCond      1443 non-null int64\n",
      "SaleCondition    1443 non-null object\n",
      "Functional       1443 non-null object\n",
      "Neighborhood     1443 non-null object\n",
      "Exterior1st      1443 non-null object\n",
      "Condition1       1443 non-null object\n",
      "BsmtFinSF1       1443 non-null int64\n",
      "BsmtFullBath     1443 non-null int64\n",
      "OverallQual      1443 non-null int64\n",
      "GarageYrBlt      1443 non-null float64\n",
      "MSSubClass       1443 non-null object\n",
      "1stFlrSF         1443 non-null int64\n",
      "GarageArea       1443 non-null int64\n",
      "BsmtQual         1443 non-null object\n",
      "TotalBsmtSF      1443 non-null int64\n",
      "SaleType         1443 non-null object\n",
      "HeatingQC        1443 non-null object\n",
      "GarageType       1443 non-null object\n",
      "ExterQual        1443 non-null object\n",
      "RoofMatl         1443 non-null object\n",
      "Heating          1443 non-null object\n",
      "SalePrice        1443 non-null int64\n",
      "dtypes: float64(1), int64(8), object(13)\n",
      "memory usage: 259.3+ KB\n"
     ]
    }
   ],
   "source": [
    "housing = housing[impfeat+['SalePrice']]\n",
    "housing.info()"
   ]
  },
  {
   "cell_type": "code",
   "execution_count": 8,
   "metadata": {},
   "outputs": [
    {
     "data": {
      "text/plain": [
       "Abnorml     100\n",
       "AdjLand       4\n",
       "Alloca       12\n",
       "Family       20\n",
       "Normal     1184\n",
       "Partial     123\n",
       "Name: SaleCondition, dtype: int64"
      ]
     },
     "execution_count": 8,
     "metadata": {},
     "output_type": "execute_result"
    }
   ],
   "source": [
    "housing['SaleCondition'].value_counts().sort_index()"
   ]
  },
  {
   "cell_type": "code",
   "execution_count": 9,
   "metadata": {},
   "outputs": [
    {
     "data": {
      "image/png": "[encoded data removed]",
      "text/plain": [
       "<Figure size 432x288 with 1 Axes>"
      ]
     },
     "metadata": {
      "needs_background": "light"
     },
     "output_type": "display_data"
    }
   ],
   "source": [
    "for ii, level in enumerate(housing['SaleCondition'].unique()):\n",
    "    x,y = ecdf(housing[housing['SaleCondition']==level]['SalePrice'])\n",
    "    plt.plot(x,y,linestyle='None',marker='o',label=level,alpha=0.5,color='C%i' %(ii))\n",
    "\n",
    "_=plt.xticks(rotation = 45)\n",
    "_=plt.legend()"
   ]
  },
  {
   "cell_type": "code",
   "execution_count": 10,
   "metadata": {},
   "outputs": [],
   "source": [
    "def nlevels(df,cat=True):\n",
    "    unique_cats = defaultdict(int)\n",
    "    if cat:\n",
    "        for col in df.columns:\n",
    "            if df[col].dtypes == 'object':\n",
    "                unique_cats[col] = housing[col].nunique()\n",
    "        num_unique_cats = pd.Series(unique_cats,name='categorical')\n",
    "    else:\n",
    "        for col in df.columns:\n",
    "            if df[col].dtypes != 'object':\n",
    "                unique_cats[col] = housing[col].nunique()\n",
    "        num_unique_cats = pd.Series(unique_cats,name='non-categorical')\n",
    "        \n",
    "    return num_unique_cats.sort_values(ascending = False)"
   ]
  },
  {
   "cell_type": "code",
   "execution_count": 11,
   "metadata": {},
   "outputs": [
    {
     "data": {
      "text/plain": [
       "1stFlrSF        740\n",
       "TotalBsmtSF     710\n",
       "SalePrice       656\n",
       "BsmtFinSF1      628\n",
       "GarageArea      433\n",
       "GarageYrBlt      96\n",
       "OverallQual      10\n",
       "OverallCond       9\n",
       "BsmtFullBath      4\n",
       "Name: non-categorical, dtype: int64"
      ]
     },
     "execution_count": 11,
     "metadata": {},
     "output_type": "execute_result"
    }
   ],
   "source": [
    "nlevels(housing,False)"
   ]
  },
  {
   "cell_type": "code",
   "execution_count": 12,
   "metadata": {},
   "outputs": [
    {
     "data": {
      "text/plain": [
       "Neighborhood     25\n",
       "MSSubClass       15\n",
       "Exterior1st      15\n",
       "SaleType          9\n",
       "Condition1        9\n",
       "GarageType        7\n",
       "Functional        7\n",
       "Heating           6\n",
       "RoofMatl          6\n",
       "SaleCondition     6\n",
       "HeatingQC         5\n",
       "BsmtQual          5\n",
       "ExterQual         4\n",
       "Name: categorical, dtype: int64"
      ]
     },
     "execution_count": 12,
     "metadata": {},
     "output_type": "execute_result"
    }
   ],
   "source": [
    "nlevels(housing,True)"
   ]
  },
  {
   "cell_type": "markdown",
   "metadata": {},
   "source": [
    "## Correlation of quantitative variables with the target."
   ]
  },
  {
   "cell_type": "code",
   "execution_count": 13,
   "metadata": {},
   "outputs": [
    {
     "data": {
      "text/plain": [
       "OverallQual     0.813875\n",
       "GarageArea      0.649453\n",
       "TotalBsmtSF     0.595935\n",
       "GarageYrBlt     0.574716\n",
       "1stFlrSF        0.568190\n",
       "BsmtFinSF1      0.289964\n",
       "BsmtFullBath    0.216477\n",
       "OverallCond    -0.133790\n",
       "dtype: float64"
      ]
     },
     "execution_count": 13,
     "metadata": {},
     "output_type": "execute_result"
    }
   ],
   "source": [
    "housing.drop('SalePrice',axis=1).corrwith(housing.SalePrice,method='spearman').sort_values(ascending=False)"
   ]
  },
  {
   "cell_type": "markdown",
   "metadata": {},
   "source": [
    "Looks like OverallQual, GarageArea, TotalBsmtSF, GarageYrBlt, and 1stFlrSF are highly correlated with the SalePrice.\n",
    "\n",
    "To find out how significant is the correlation, we will do a permutation test. We will shuffle the values of the feature and re-compute the correlation to simulate the null distribution."
   ]
  },
  {
   "cell_type": "code",
   "execution_count": 23,
   "metadata": {},
   "outputs": [],
   "source": [
    "from scipy.stats import spearmanr\n",
    "def perm_test(SalePrice,feat,N = 10000):\n",
    "    feat = feat.copy()\n",
    "    emp_corr = spearmanr(SalePrice,feat)\n",
    "    corr_dist = np.empty(N)\n",
    "    k = 0\n",
    "    for ii in range(N):\n",
    "        np.random.shuffle(feat)\n",
    "        corr_dist[ii] = spearmanr(SalePrice,feat)[0]\n",
    "        k += np.abs(corr_dist[ii]) > np.abs(emp_corr[0])\n",
    "        \n",
    "    return (emp_corr[0], (k+1)/(N+1))"
   ]
  },
  {
   "cell_type": "code",
   "execution_count": 24,
   "metadata": {},
   "outputs": [
    {
     "name": "stdout",
     "output_type": "stream",
     "text": [
      "OverallQual: (coeff = 0.8139, p-value = 0.000100)\n",
      "GarageArea: (coeff = 0.6495, p-value = 0.000100)\n",
      "TotalBsmtSF: (coeff = 0.5959, p-value = 0.000100)\n",
      "GarageYrBlt: (coeff = 0.5747, p-value = 0.000100)\n",
      "1stFlrSF: (coeff = 0.5682, p-value = 0.000100)\n"
     ]
    }
   ],
   "source": [
    "np.random.seed(42)\n",
    "for feat in ['OverallQual','GarageArea','TotalBsmtSF','GarageYrBlt','1stFlrSF']:\n",
    "    emp_corr, p = perm_test(housing.SalePrice.values,housing[feat].values)\n",
    "    print(feat+': (coeff = %.4f, p-value = %.6f)' %(emp_corr,p))"
   ]
  },
  {
   "cell_type": "code",
   "execution_count": 33,
   "metadata": {},
   "outputs": [
    {
     "data": {
      "text/plain": [
       "<matplotlib.axes._subplots.AxesSubplot at 0x7f2a71649630>"
      ]
     },
     "execution_count": 33,
     "metadata": {},
     "output_type": "execute_result"
    },
    {
     "data": {
      "image/png": "[encoded data removed]",
      "text/plain": [
       "<Figure size 432x288 with 2 Axes>"
      ]
     },
     "metadata": {
      "needs_background": "light"
     },
     "output_type": "display_data"
    }
   ],
   "source": [
    "sns.heatmap(housing[['OverallQual','GarageArea','TotalBsmtSF','GarageYrBlt','1stFlrSF']].corr(),\n",
    "            vmax=1,vmin=-1,annot=True,cmap='coolwarm',fmt='.2f')"
   ]
  },
  {
   "cell_type": "code",
   "execution_count": null,
   "metadata": {},
   "outputs": [],
   "source": []
  }
 ],
 "metadata": {
  "kernelspec": {
   "display_name": "Python 3",
   "language": "python",
   "name": "python3"
  },
  "language_info": {
   "codemirror_mode": {
    "name": "ipython",
    "version": 3
   },
   "file_extension": ".py",
   "mimetype": "text/x-python",
   "name": "python",
   "nbconvert_exporter": "python",
   "pygments_lexer": "ipython3",
   "version": "3.7.3"
  }
 },
 "nbformat": 4,
 "nbformat_minor": 4
}
