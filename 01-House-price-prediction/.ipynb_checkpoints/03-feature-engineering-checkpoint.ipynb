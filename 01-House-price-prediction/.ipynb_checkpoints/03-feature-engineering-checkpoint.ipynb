{
 "cells": [
  {
   "cell_type": "code",
   "execution_count": 1,
   "metadata": {},
   "outputs": [
    {
     "data": {
      "text/html": [
       "<script>\n",
       "code_show=true; \n",
       "function code_toggle() {\n",
       " if (code_show){\n",
       " $('div.input').hide();\n",
       " } else {\n",
       " $('div.input').show();\n",
       " }\n",
       " code_show = !code_show\n",
       "} \n",
       "$( document ).ready(code_toggle);\n",
       "</script>\n",
       "<form action=\"javascript:code_toggle()\"><input type=\"submit\" value=\"Show Code\"></form>"
      ],
      "text/plain": [
       "<IPython.core.display.HTML object>"
      ]
     },
     "execution_count": 1,
     "metadata": {},
     "output_type": "execute_result"
    }
   ],
   "source": [
    "from IPython.display import HTML\n",
    "\n",
    "HTML('''<script>\n",
    "code_show=true; \n",
    "function code_toggle() {\n",
    " if (code_show){\n",
    " $('div.input').hide();\n",
    " } else {\n",
    " $('div.input').show();\n",
    " }\n",
    " code_show = !code_show\n",
    "} \n",
    "$( document ).ready(code_toggle);\n",
    "</script>\n",
    "<form action=\"javascript:code_toggle()\"><input type=\"submit\" value=\"Show Code\"></form>''')"
   ]
  },
  {
   "cell_type": "code",
   "execution_count": 2,
   "metadata": {},
   "outputs": [],
   "source": [
    "# Import useful libraries\n",
    "import pandas as pd\n",
    "import numpy as np\n",
    "import pickle\n",
    "import matplotlib.pyplot as plt\n",
    "\n",
    "from collections import defaultdict\n",
    "\n",
    "import matplotlib as mpl\n",
    "import seaborn as sns\n",
    "\n",
    "sns.set(style ='white',font_scale=1.25)\n",
    "\n",
    "%matplotlib inline"
   ]
  },
  {
   "cell_type": "code",
   "execution_count": 3,
   "metadata": {},
   "outputs": [],
   "source": [
    "with open('../data/01-House-Price/wrangled_data.pkl','rb') as file:\n",
    "    housing_orig, FEATURES = pickle.load(file)"
   ]
  },
  {
   "cell_type": "code",
   "execution_count": 4,
   "metadata": {},
   "outputs": [
    {
     "data": {
      "text/html": [
       "<div>\n",
       "<style scoped>\n",
       "    .dataframe tbody tr th:only-of-type {\n",
       "        vertical-align: middle;\n",
       "    }\n",
       "\n",
       "    .dataframe tbody tr th {\n",
       "        vertical-align: top;\n",
       "    }\n",
       "\n",
       "    .dataframe thead th {\n",
       "        text-align: right;\n",
       "    }\n",
       "</style>\n",
       "<table border=\"1\" class=\"dataframe\">\n",
       "  <thead>\n",
       "    <tr style=\"text-align: right;\">\n",
       "      <th></th>\n",
       "      <th>MSSubClass</th>\n",
       "      <th>MSZoning</th>\n",
       "      <th>LotFrontage</th>\n",
       "      <th>LotArea</th>\n",
       "      <th>Street</th>\n",
       "      <th>Alley</th>\n",
       "      <th>LotShape</th>\n",
       "      <th>LandContour</th>\n",
       "      <th>Utilities</th>\n",
       "      <th>LotConfig</th>\n",
       "      <th>...</th>\n",
       "      <th>SaleType</th>\n",
       "      <th>SaleCondition</th>\n",
       "      <th>SalePrice</th>\n",
       "      <th>log1p(SalePrice)</th>\n",
       "      <th>log1p(GrLivArea)</th>\n",
       "      <th>Lat</th>\n",
       "      <th>Lng</th>\n",
       "      <th>zipcode</th>\n",
       "      <th>median_household_income</th>\n",
       "      <th>median_home_value</th>\n",
       "    </tr>\n",
       "    <tr>\n",
       "      <th>Id</th>\n",
       "      <th></th>\n",
       "      <th></th>\n",
       "      <th></th>\n",
       "      <th></th>\n",
       "      <th></th>\n",
       "      <th></th>\n",
       "      <th></th>\n",
       "      <th></th>\n",
       "      <th></th>\n",
       "      <th></th>\n",
       "      <th></th>\n",
       "      <th></th>\n",
       "      <th></th>\n",
       "      <th></th>\n",
       "      <th></th>\n",
       "      <th></th>\n",
       "      <th></th>\n",
       "      <th></th>\n",
       "      <th></th>\n",
       "      <th></th>\n",
       "      <th></th>\n",
       "    </tr>\n",
       "  </thead>\n",
       "  <tbody>\n",
       "    <tr>\n",
       "      <th>1</th>\n",
       "      <td>60</td>\n",
       "      <td>RL</td>\n",
       "      <td>65.0</td>\n",
       "      <td>8450</td>\n",
       "      <td>Pave</td>\n",
       "      <td>Missing</td>\n",
       "      <td>Reg</td>\n",
       "      <td>Lvl</td>\n",
       "      <td>AllPub</td>\n",
       "      <td>Inside</td>\n",
       "      <td>...</td>\n",
       "      <td>WD</td>\n",
       "      <td>Normal</td>\n",
       "      <td>208500</td>\n",
       "      <td>12.247699</td>\n",
       "      <td>7.444833</td>\n",
       "      <td>42.022197</td>\n",
       "      <td>-93.651510</td>\n",
       "      <td>50010.0</td>\n",
       "      <td>48189.0</td>\n",
       "      <td>165300.0</td>\n",
       "    </tr>\n",
       "    <tr>\n",
       "      <th>2</th>\n",
       "      <td>20</td>\n",
       "      <td>RL</td>\n",
       "      <td>80.0</td>\n",
       "      <td>9600</td>\n",
       "      <td>Pave</td>\n",
       "      <td>Missing</td>\n",
       "      <td>Reg</td>\n",
       "      <td>Lvl</td>\n",
       "      <td>AllPub</td>\n",
       "      <td>FR2</td>\n",
       "      <td>...</td>\n",
       "      <td>WD</td>\n",
       "      <td>Normal</td>\n",
       "      <td>181500</td>\n",
       "      <td>12.109016</td>\n",
       "      <td>7.141245</td>\n",
       "      <td>42.041304</td>\n",
       "      <td>-93.650302</td>\n",
       "      <td>50011.0</td>\n",
       "      <td>48189.0</td>\n",
       "      <td>165300.0</td>\n",
       "    </tr>\n",
       "    <tr>\n",
       "      <th>3</th>\n",
       "      <td>60</td>\n",
       "      <td>RL</td>\n",
       "      <td>68.0</td>\n",
       "      <td>11250</td>\n",
       "      <td>Pave</td>\n",
       "      <td>Missing</td>\n",
       "      <td>IR1</td>\n",
       "      <td>Lvl</td>\n",
       "      <td>AllPub</td>\n",
       "      <td>Inside</td>\n",
       "      <td>...</td>\n",
       "      <td>WD</td>\n",
       "      <td>Normal</td>\n",
       "      <td>223500</td>\n",
       "      <td>12.317171</td>\n",
       "      <td>7.488294</td>\n",
       "      <td>42.022197</td>\n",
       "      <td>-93.651510</td>\n",
       "      <td>50010.0</td>\n",
       "      <td>48189.0</td>\n",
       "      <td>165300.0</td>\n",
       "    </tr>\n",
       "    <tr>\n",
       "      <th>4</th>\n",
       "      <td>70</td>\n",
       "      <td>RL</td>\n",
       "      <td>60.0</td>\n",
       "      <td>9550</td>\n",
       "      <td>Pave</td>\n",
       "      <td>Missing</td>\n",
       "      <td>IR1</td>\n",
       "      <td>Lvl</td>\n",
       "      <td>AllPub</td>\n",
       "      <td>Corner</td>\n",
       "      <td>...</td>\n",
       "      <td>WD</td>\n",
       "      <td>Abnorml</td>\n",
       "      <td>140000</td>\n",
       "      <td>11.849405</td>\n",
       "      <td>7.448916</td>\n",
       "      <td>42.018614</td>\n",
       "      <td>-93.648898</td>\n",
       "      <td>50014.0</td>\n",
       "      <td>37661.0</td>\n",
       "      <td>212500.0</td>\n",
       "    </tr>\n",
       "    <tr>\n",
       "      <th>5</th>\n",
       "      <td>60</td>\n",
       "      <td>RL</td>\n",
       "      <td>84.0</td>\n",
       "      <td>14260</td>\n",
       "      <td>Pave</td>\n",
       "      <td>Missing</td>\n",
       "      <td>IR1</td>\n",
       "      <td>Lvl</td>\n",
       "      <td>AllPub</td>\n",
       "      <td>FR2</td>\n",
       "      <td>...</td>\n",
       "      <td>WD</td>\n",
       "      <td>Normal</td>\n",
       "      <td>250000</td>\n",
       "      <td>12.429220</td>\n",
       "      <td>7.695758</td>\n",
       "      <td>42.053510</td>\n",
       "      <td>-93.648636</td>\n",
       "      <td>50010.0</td>\n",
       "      <td>48189.0</td>\n",
       "      <td>165300.0</td>\n",
       "    </tr>\n",
       "  </tbody>\n",
       "</table>\n",
       "<p>5 rows × 87 columns</p>\n",
       "</div>"
      ],
      "text/plain": [
       "   MSSubClass MSZoning  LotFrontage  LotArea Street    Alley LotShape  \\\n",
       "Id                                                                      \n",
       "1          60       RL         65.0     8450   Pave  Missing      Reg   \n",
       "2          20       RL         80.0     9600   Pave  Missing      Reg   \n",
       "3          60       RL         68.0    11250   Pave  Missing      IR1   \n",
       "4          70       RL         60.0     9550   Pave  Missing      IR1   \n",
       "5          60       RL         84.0    14260   Pave  Missing      IR1   \n",
       "\n",
       "   LandContour Utilities LotConfig  ... SaleType SaleCondition SalePrice  \\\n",
       "Id                                  ...                                    \n",
       "1          Lvl    AllPub    Inside  ...       WD        Normal    208500   \n",
       "2          Lvl    AllPub       FR2  ...       WD        Normal    181500   \n",
       "3          Lvl    AllPub    Inside  ...       WD        Normal    223500   \n",
       "4          Lvl    AllPub    Corner  ...       WD       Abnorml    140000   \n",
       "5          Lvl    AllPub       FR2  ...       WD        Normal    250000   \n",
       "\n",
       "   log1p(SalePrice) log1p(GrLivArea)        Lat        Lng  zipcode  \\\n",
       "Id                                                                    \n",
       "1         12.247699         7.444833  42.022197 -93.651510  50010.0   \n",
       "2         12.109016         7.141245  42.041304 -93.650302  50011.0   \n",
       "3         12.317171         7.488294  42.022197 -93.651510  50010.0   \n",
       "4         11.849405         7.448916  42.018614 -93.648898  50014.0   \n",
       "5         12.429220         7.695758  42.053510 -93.648636  50010.0   \n",
       "\n",
       "    median_household_income  median_home_value  \n",
       "Id                                              \n",
       "1                   48189.0           165300.0  \n",
       "2                   48189.0           165300.0  \n",
       "3                   48189.0           165300.0  \n",
       "4                   37661.0           212500.0  \n",
       "5                   48189.0           165300.0  \n",
       "\n",
       "[5 rows x 87 columns]"
      ]
     },
     "execution_count": 4,
     "metadata": {},
     "output_type": "execute_result"
    }
   ],
   "source": [
    "housing = housing_orig.copy()\n",
    "housing.head()"
   ]
  },
  {
   "cell_type": "markdown",
   "metadata": {},
   "source": [
    "## **Feature Engneering**\n"
   ]
  },
  {
   "cell_type": "markdown",
   "metadata": {},
   "source": [
    "### **Ordinal ecoding**: Description of following categorical feature indicate they have ordinal categories\n",
    "- LandSlope\n",
    "- ExterQual\n",
    "- ExterCond\n",
    "- BsmtQual\n",
    "- BsmtCond\n",
    "- BsmtExposure\n",
    "- BsmtFinType1\n",
    "- BsmtFinType2\n",
    "- HeatingQC\n",
    "- KitchenQual\n",
    "- FireplaceQu\n",
    "- GarageFinish\n",
    "- GarageQual\n",
    "- GarageCond\n",
    "- PavedDrive\n",
    "- PoolQC"
   ]
  },
  {
   "cell_type": "code",
   "execution_count": 5,
   "metadata": {},
   "outputs": [],
   "source": [
    "ordinal_map = {'LandSlope':{'Gtl':0,'Mod':1,'Sev':2},\n",
    "               'ExterQual':{'Ex':4,'Gd':3,'TA':2,'Fa':1,'Po':0},\n",
    "               'ExterCond':{'Ex':4,'Gd':3,'TA':2,'Fa':1,'Po':0},\n",
    "               'BsmtQual':{'Ex':5,'Gd':4,'TA':3,'Fa':2,'Po':1,'Missing':0}, # Houses that don't have a basement are assigned Typical/Average rating\n",
    "               'BsmtCond':{'Gd':4, 'TA':3, 'Fa':2, 'Po':1,'Missing':0},\n",
    "               'BsmtExposure':{'Gd':4,'Av':3,'Mn':2,'No':1,'Missing':0},\n",
    "               'BsmtFinType1': {'Missing': 0,'Unf':1,'LwQ':2,'Rec':3,'BLQ':4,'ALQ':5,'GLQ':6},\n",
    "               'BsmtFinType2': {'Missing': 0,'Unf':1,'LwQ':2,'Rec':3,'BLQ':4,'ALQ':5,'GLQ':6},\n",
    "               'HeatingQC':{'Po':0,'Fa':1,'TA':2,'Gd':3,'Ex':4},\n",
    "               'KitchenQual':{'Ex':4,'Gd':3,'TA':2,'Fa':1,'Po':0},\n",
    "               'FireplaceQu':{'Ex':5,'Gd':4,'TA':3,'Fa':2,'Po':1,'Missing':0},\n",
    "               'GarageFinish':{'Fin':3, 'RFn':2, 'Unf':1, 'Missing':0},\n",
    "               'GarageQual':{'Ex':5, 'Gd':4, 'TA':3, 'Fa':2, 'Po':1, 'Missing':0},\n",
    "               'GarageCond':{'Ex':5, 'Gd':4, 'TA':3, 'Fa':2, 'Po':1, 'Missing':0},\n",
    "               'PavedDrive':{'Y':2, 'P':1, 'N':0},\n",
    "               'PoolQC':{'Ex':4, 'Gd':3, 'TA':2, 'Fa':1, 'Missing':0}}"
   ]
  },
  {
   "cell_type": "code",
   "execution_count": 6,
   "metadata": {},
   "outputs": [
    {
     "data": {
      "text/html": [
       "<div>\n",
       "<style scoped>\n",
       "    .dataframe tbody tr th:only-of-type {\n",
       "        vertical-align: middle;\n",
       "    }\n",
       "\n",
       "    .dataframe tbody tr th {\n",
       "        vertical-align: top;\n",
       "    }\n",
       "\n",
       "    .dataframe thead th {\n",
       "        text-align: right;\n",
       "    }\n",
       "</style>\n",
       "<table border=\"1\" class=\"dataframe\">\n",
       "  <thead>\n",
       "    <tr style=\"text-align: right;\">\n",
       "      <th></th>\n",
       "      <th>LandSlope</th>\n",
       "      <th>ExterQual</th>\n",
       "      <th>ExterCond</th>\n",
       "      <th>BsmtQual</th>\n",
       "      <th>BsmtCond</th>\n",
       "      <th>BsmtExposure</th>\n",
       "      <th>BsmtFinType1</th>\n",
       "      <th>BsmtFinType2</th>\n",
       "      <th>HeatingQC</th>\n",
       "      <th>KitchenQual</th>\n",
       "      <th>FireplaceQu</th>\n",
       "      <th>GarageFinish</th>\n",
       "      <th>GarageQual</th>\n",
       "      <th>GarageCond</th>\n",
       "      <th>PavedDrive</th>\n",
       "      <th>PoolQC</th>\n",
       "    </tr>\n",
       "    <tr>\n",
       "      <th>Id</th>\n",
       "      <th></th>\n",
       "      <th></th>\n",
       "      <th></th>\n",
       "      <th></th>\n",
       "      <th></th>\n",
       "      <th></th>\n",
       "      <th></th>\n",
       "      <th></th>\n",
       "      <th></th>\n",
       "      <th></th>\n",
       "      <th></th>\n",
       "      <th></th>\n",
       "      <th></th>\n",
       "      <th></th>\n",
       "      <th></th>\n",
       "      <th></th>\n",
       "    </tr>\n",
       "  </thead>\n",
       "  <tbody>\n",
       "    <tr>\n",
       "      <th>1</th>\n",
       "      <td>0.0</td>\n",
       "      <td>3.0</td>\n",
       "      <td>2.0</td>\n",
       "      <td>4.0</td>\n",
       "      <td>3.0</td>\n",
       "      <td>1.0</td>\n",
       "      <td>6.0</td>\n",
       "      <td>1.0</td>\n",
       "      <td>4.0</td>\n",
       "      <td>3.0</td>\n",
       "      <td>0.0</td>\n",
       "      <td>2.0</td>\n",
       "      <td>3.0</td>\n",
       "      <td>3.0</td>\n",
       "      <td>2.0</td>\n",
       "      <td>0.0</td>\n",
       "    </tr>\n",
       "    <tr>\n",
       "      <th>2</th>\n",
       "      <td>0.0</td>\n",
       "      <td>2.0</td>\n",
       "      <td>2.0</td>\n",
       "      <td>4.0</td>\n",
       "      <td>3.0</td>\n",
       "      <td>4.0</td>\n",
       "      <td>5.0</td>\n",
       "      <td>1.0</td>\n",
       "      <td>4.0</td>\n",
       "      <td>2.0</td>\n",
       "      <td>3.0</td>\n",
       "      <td>2.0</td>\n",
       "      <td>3.0</td>\n",
       "      <td>3.0</td>\n",
       "      <td>2.0</td>\n",
       "      <td>0.0</td>\n",
       "    </tr>\n",
       "    <tr>\n",
       "      <th>3</th>\n",
       "      <td>0.0</td>\n",
       "      <td>3.0</td>\n",
       "      <td>2.0</td>\n",
       "      <td>4.0</td>\n",
       "      <td>3.0</td>\n",
       "      <td>2.0</td>\n",
       "      <td>6.0</td>\n",
       "      <td>1.0</td>\n",
       "      <td>4.0</td>\n",
       "      <td>3.0</td>\n",
       "      <td>3.0</td>\n",
       "      <td>2.0</td>\n",
       "      <td>3.0</td>\n",
       "      <td>3.0</td>\n",
       "      <td>2.0</td>\n",
       "      <td>0.0</td>\n",
       "    </tr>\n",
       "    <tr>\n",
       "      <th>4</th>\n",
       "      <td>0.0</td>\n",
       "      <td>2.0</td>\n",
       "      <td>2.0</td>\n",
       "      <td>3.0</td>\n",
       "      <td>4.0</td>\n",
       "      <td>1.0</td>\n",
       "      <td>5.0</td>\n",
       "      <td>1.0</td>\n",
       "      <td>3.0</td>\n",
       "      <td>3.0</td>\n",
       "      <td>4.0</td>\n",
       "      <td>1.0</td>\n",
       "      <td>3.0</td>\n",
       "      <td>3.0</td>\n",
       "      <td>2.0</td>\n",
       "      <td>0.0</td>\n",
       "    </tr>\n",
       "    <tr>\n",
       "      <th>5</th>\n",
       "      <td>0.0</td>\n",
       "      <td>3.0</td>\n",
       "      <td>2.0</td>\n",
       "      <td>4.0</td>\n",
       "      <td>3.0</td>\n",
       "      <td>3.0</td>\n",
       "      <td>6.0</td>\n",
       "      <td>1.0</td>\n",
       "      <td>4.0</td>\n",
       "      <td>3.0</td>\n",
       "      <td>3.0</td>\n",
       "      <td>2.0</td>\n",
       "      <td>3.0</td>\n",
       "      <td>3.0</td>\n",
       "      <td>2.0</td>\n",
       "      <td>0.0</td>\n",
       "    </tr>\n",
       "  </tbody>\n",
       "</table>\n",
       "</div>"
      ],
      "text/plain": [
       "    LandSlope  ExterQual  ExterCond  BsmtQual  BsmtCond  BsmtExposure  \\\n",
       "Id                                                                      \n",
       "1         0.0        3.0        2.0       4.0       3.0           1.0   \n",
       "2         0.0        2.0        2.0       4.0       3.0           4.0   \n",
       "3         0.0        3.0        2.0       4.0       3.0           2.0   \n",
       "4         0.0        2.0        2.0       3.0       4.0           1.0   \n",
       "5         0.0        3.0        2.0       4.0       3.0           3.0   \n",
       "\n",
       "    BsmtFinType1  BsmtFinType2  HeatingQC  KitchenQual  FireplaceQu  \\\n",
       "Id                                                                    \n",
       "1            6.0           1.0        4.0          3.0          0.0   \n",
       "2            5.0           1.0        4.0          2.0          3.0   \n",
       "3            6.0           1.0        4.0          3.0          3.0   \n",
       "4            5.0           1.0        3.0          3.0          4.0   \n",
       "5            6.0           1.0        4.0          3.0          3.0   \n",
       "\n",
       "    GarageFinish  GarageQual  GarageCond  PavedDrive  PoolQC  \n",
       "Id                                                            \n",
       "1            2.0         3.0         3.0         2.0     0.0  \n",
       "2            2.0         3.0         3.0         2.0     0.0  \n",
       "3            2.0         3.0         3.0         2.0     0.0  \n",
       "4            1.0         3.0         3.0         2.0     0.0  \n",
       "5            2.0         3.0         3.0         2.0     0.0  "
      ]
     },
     "execution_count": 6,
     "metadata": {},
     "output_type": "execute_result"
    }
   ],
   "source": [
    "housing_cat_encoded = housing[FEATURES['cat']].replace(ordinal_map)\n",
    "# convert the ordinal features to numeric data type (float)\n",
    "for col in housing_cat_encoded[list(ordinal_map.keys())]:\n",
    "    housing_cat_encoded[col] = housing_cat_encoded[col].astype(float)\n",
    "housing_cat_encoded[ordinal_map.keys()].head()"
   ]
  },
  {
   "cell_type": "markdown",
   "metadata": {},
   "source": [
    "### **One hot ecoding**: one hot encode following features\n",
    "\n",
    "- MSSubClass\n",
    "- MSZoning\n",
    "- Street\n",
    "- Alley\n",
    "- LotShape\n",
    "- LandContour\n",
    "- Utilities\n",
    "- LotConfig\n",
    "- Neighborhood\n",
    "- Condition1\n",
    "- Condition2\n",
    "- BldgType\n",
    "- HouseStyle\n",
    "- RoofStyle\n",
    "- RoofMatl\n",
    "- Exterior1st\n",
    "- Exterior2nd\n",
    "- MasVnrType\n",
    "- Foundation\n",
    "- Heating\n",
    "- CentralAir\n",
    "- Electrical\n",
    "- Functional\n",
    "- GarageType\n",
    "- Fence\n",
    "- MiscFeature\n",
    "- SaleType\n",
    "- SaleCondition"
   ]
  },
  {
   "cell_type": "code",
   "execution_count": 7,
   "metadata": {},
   "outputs": [],
   "source": [
    "housing_cat_encoded = pd.get_dummies(housing_cat_encoded,drop_first=True)"
   ]
  },
  {
   "cell_type": "code",
   "execution_count": 8,
   "metadata": {},
   "outputs": [],
   "source": [
    "FEATURES['encoded_cat'] = []\n",
    "for col in housing_cat_encoded.columns:\n",
    "    FEATURES['encoded_cat'].append(col)"
   ]
  },
  {
   "cell_type": "markdown",
   "metadata": {},
   "source": [
    "### Prepare the training set"
   ]
  },
  {
   "cell_type": "code",
   "execution_count": 9,
   "metadata": {},
   "outputs": [],
   "source": [
    "train = pd.concat([housing_cat_encoded,housing[FEATURES['num']]],axis=1)\n",
    "y = housing['log1p(SalePrice)']"
   ]
  },
  {
   "cell_type": "markdown",
   "metadata": {},
   "source": [
    "### **Adding interactions**\n",
    "- Check pairwise feature correlations\n",
    "- Create interaction of feature pairs with high correlations (>0.4)"
   ]
  },
  {
   "cell_type": "code",
   "execution_count": 10,
   "metadata": {},
   "outputs": [],
   "source": [
    "corr_df = train.corr()"
   ]
  },
  {
   "cell_type": "code",
   "execution_count": 11,
   "metadata": {},
   "outputs": [],
   "source": [
    "''' Create a dictionary with feature pairs as keys and their correlations as values'''\n",
    "corr_dict = {}\n",
    "for key, val in corr_df.unstack().to_dict().items():\n",
    "    if (key == key[::-1]) or (key in corr_dict) or (key[::-1] in corr_dict):\n",
    "        pass\n",
    "    else:\n",
    "        corr_dict[key] = val"
   ]
  },
  {
   "cell_type": "code",
   "execution_count": 12,
   "metadata": {},
   "outputs": [
    {
     "name": "stdout",
     "output_type": "stream",
     "text": [
      "Total pairs with corr greater than 0.40: 216\n"
     ]
    }
   ],
   "source": [
    "'''Find feature pairs with corr > 0.4'''\n",
    "high_corr_dict = {}\n",
    "targetCorr = 0.4\n",
    "for key, val in corr_dict.items():\n",
    "    if val > targetCorr:\n",
    "        high_corr_dict[key] = val\n",
    "        \n",
    "print('Total pairs with corr greater than %.2f: %i' %(targetCorr,len(high_corr_dict)))\n",
    "\n",
    "'''Sort corr dict in descending order'''\n",
    "from collections import OrderedDict\n",
    "high_corr_dict = OrderedDict(sorted(high_corr_dict.items(), key=lambda x: x[1],reverse=True))\n",
    "#print(high_corr_dict)"
   ]
  },
  {
   "cell_type": "code",
   "execution_count": 13,
   "metadata": {},
   "outputs": [],
   "source": [
    "interactions = []\n",
    "for feat1, feat2 in high_corr_dict:\n",
    "    train['X'.join([feat1,feat2])] = train[feat1] * train[feat2]\n",
    "    interactions.append('X'.join([feat1,feat2]))"
   ]
  },
  {
   "cell_type": "markdown",
   "metadata": {},
   "source": [
    "## **Correlation with the target variable**\n",
    "\n",
    "High correlations with newly engineered feature is a good indication."
   ]
  },
  {
   "cell_type": "code",
   "execution_count": 14,
   "metadata": {},
   "outputs": [
    {
     "data": {
      "text/plain": [
       "OverallQualXlog1p(GrLivArea)               0.859512\n",
       "OverallQualXGrLivArea                      0.853621\n",
       "KitchenQualXGrLivArea                      0.835965\n",
       "ExterQualXGrLivArea                        0.835361\n",
       "OverallQualXGarageCars                     0.833240\n",
       "OverallQualXYearBuilt                      0.828259\n",
       "OverallQualXYearRemodAdd                   0.825150\n",
       "ExterQualXlog1p(GrLivArea)                 0.822903\n",
       "ExterQualXOverallQual                      0.818428\n",
       "BsmtQualXOverallQual                       0.817425\n",
       "OverallQualXGarageYrBlt                    0.815093\n",
       "OverallQual                                0.813875\n",
       "KitchenQualXOverallQual                    0.813739\n",
       "GrLivAreaXGarageCars                       0.810813\n",
       "OverallQualXFullBath                       0.810122\n",
       "KitchenQualXlog1p(GrLivArea)               0.807933\n",
       "OverallQualXGarageArea                     0.802930\n",
       "GarageCarsXlog1p(GrLivArea)                0.801347\n",
       "GrLivAreaXGarageArea                       0.797965\n",
       "OverallQualX1stFlrSF                       0.790989\n",
       "OverallQualXTotRmsAbvGrd                   0.786488\n",
       "OverallQualXTotalBsmtSF                    0.785397\n",
       "KitchenQualXGarageCars                     0.782805\n",
       "ExterQualXGarageCars                       0.781009\n",
       "GarageFinishXOverallQual                   0.776097\n",
       "BsmtQualXGarageCars                        0.773825\n",
       "KitchenQualXFullBath                       0.765389\n",
       "KitchenQualXGarageArea                     0.763908\n",
       "ExterQualXGarageArea                       0.762140\n",
       "FullBathXGarageCars                        0.761277\n",
       "                                             ...   \n",
       "Neighborhood_MeadowV                      -0.148226\n",
       "Foundation_Slab                           -0.153294\n",
       "Electrical_FuseF                          -0.161304\n",
       "KitchenAbvGr                              -0.163581\n",
       "Neighborhood_BrkSide                      -0.173777\n",
       "Neighborhood_NAmesXFoundation_CBlock      -0.175451\n",
       "Lng                                       -0.176247\n",
       "Fence_MnPrv                               -0.179525\n",
       "Exterior1st_MetalSdXExterior2nd_MetalSd   -0.189059\n",
       "Exterior2nd_MetalSd                       -0.191542\n",
       "Exterior2nd_Wd Sdng                       -0.193484\n",
       "Exterior1st_MetalSd                       -0.195887\n",
       "Neighborhood_NAmes                        -0.197246\n",
       "SaleType_WD                               -0.199112\n",
       "Exterior1st_Wd SdngXExterior2nd_Wd Sdng   -0.199826\n",
       "Neighborhood_IDOTRR                       -0.204412\n",
       "Exterior1st_Wd Sdng                       -0.204429\n",
       "MSSubClass_50                             -0.205734\n",
       "EnclosedPorch                             -0.215458\n",
       "MSZoning_RMXNeighborhood_OldTown          -0.226980\n",
       "Neighborhood_Edwards                      -0.229358\n",
       "Neighborhood_EdwardsXmedian_home_value    -0.229358\n",
       "Neighborhood_OldTown                      -0.260207\n",
       "GarageType_Missing                        -0.300974\n",
       "LotShape_Reg                              -0.304233\n",
       "MSSubClass_30                             -0.311833\n",
       "Foundation_CBlock                         -0.376563\n",
       "MSZoning_RM                               -0.379823\n",
       "MasVnrType_None                           -0.395785\n",
       "GarageType_Detchd                         -0.439990\n",
       "Length: 445, dtype: float64"
      ]
     },
     "execution_count": 14,
     "metadata": {},
     "output_type": "execute_result"
    }
   ],
   "source": [
    "train.corrwith(y,method='spearman').sort_values(ascending=False)"
   ]
  },
  {
   "cell_type": "code",
   "execution_count": 15,
   "metadata": {},
   "outputs": [],
   "source": [
    "##with open('../data/01-House-Price/FE_data.pkl','wb') as file:\n",
    "#    pickle.dump((FEATURES,ordinal_map,interactions,train,y),file)"
   ]
  },
  {
   "cell_type": "markdown",
   "metadata": {},
   "source": [
    "## **Building ML model**"
   ]
  },
  {
   "cell_type": "code",
   "execution_count": 16,
   "metadata": {},
   "outputs": [
    {
     "name": "stdout",
     "output_type": "stream",
     "text": [
      "X_train : (1010, 445)\n",
      "X_test : (433, 445)\n",
      "y_train : (1010,)\n",
      "y_test : (433,)\n"
     ]
    }
   ],
   "source": [
    "from sklearn.model_selection import train_test_split\n",
    "\n",
    "X_train, X_test, y_train, y_test = train_test_split(train, y, test_size=0.3, random_state=42)\n",
    "\n",
    "print(\"X_train : \" + str(X_train.shape))\n",
    "print(\"X_test : \" + str(X_test.shape))\n",
    "print(\"y_train : \" + str(y_train.shape))\n",
    "print(\"y_test : \" + str(y_test.shape))"
   ]
  },
  {
   "cell_type": "markdown",
   "metadata": {},
   "source": [
    "# **Feature Standardizing**\n",
    "- Perform standardization on all features except those one hot encoded."
   ]
  },
  {
   "cell_type": "code",
   "execution_count": 17,
   "metadata": {},
   "outputs": [],
   "source": [
    "feat_to_norm = FEATURES['cont'] + list(ordinal_map.keys()) + [inter for inter in interactions if len(inter.split('_')) < 3]"
   ]
  },
  {
   "cell_type": "code",
   "execution_count": 18,
   "metadata": {},
   "outputs": [],
   "source": [
    "from sklearn.preprocessing import StandardScaler\n",
    "\n",
    "ss = StandardScaler()\n",
    "ss.fit(X_train[feat_to_norm])\n",
    "\n",
    "X_num_train_norm = pd.DataFrame(ss.transform(X_train[feat_to_norm]),columns=feat_to_norm,index=X_train.index)\n",
    "X_cat_train = X_train[[col for col in X_train.columns if col not in feat_to_norm]]\n",
    "X_train_preproc = pd.concat([X_num_train_norm,X_cat_train],axis=1)\n",
    "\n",
    "X_num_test_norm = pd.DataFrame(ss.transform(X_test[feat_to_norm]),columns=feat_to_norm,index=X_test.index)\n",
    "X_cat_test = X_test[[col for col in X_test.columns if col not in feat_to_norm]]\n",
    "X_test_preproc = pd.concat([X_num_test_norm,X_cat_test],axis=1)"
   ]
  },
  {
   "cell_type": "code",
   "execution_count": 19,
   "metadata": {},
   "outputs": [],
   "source": [
    "from collections import namedtuple\n",
    "\n",
    "models = namedtuple('models',['name','params',\n",
    "                              'cv5_mean_accuracy_train','cv5_std_accuracy_train',\n",
    "                              'cv5_mean_accuracy_test','cv5_std_accuracy_test'])\n",
    "model_list = []"
   ]
  },
  {
   "cell_type": "markdown",
   "metadata": {},
   "source": [
    "## **Linear Regression**"
   ]
  },
  {
   "cell_type": "code",
   "execution_count": 20,
   "metadata": {},
   "outputs": [],
   "source": [
    "from sklearn.linear_model import LinearRegression\n",
    "from sklearn.metrics import mean_squared_error, r2_score\n",
    "\n",
    "from sklearn.model_selection import cross_val_score"
   ]
  },
  {
   "cell_type": "code",
   "execution_count": 21,
   "metadata": {},
   "outputs": [],
   "source": [
    "def cv_rmse(mod,X,y,cv=5):\n",
    "    scores = cross_val_score(mod,X,y,scoring=\"neg_mean_squared_error\",cv=cv)\n",
    "    return np.sqrt(-scores)"
   ]
  },
  {
   "cell_type": "code",
   "execution_count": 22,
   "metadata": {},
   "outputs": [
    {
     "name": "stdout",
     "output_type": "stream",
     "text": [
      "Train R-sq: 0.9650466876100863\n",
      "Test R-sq: 0.821431546586311\n"
     ]
    }
   ],
   "source": [
    "lr = LinearRegression()\n",
    "lr.fit(X_train_preproc,y_train)\n",
    "\n",
    "\n",
    "y_train_pred = lr.predict(X_train_preproc)\n",
    "y_test_pred = lr.predict(X_test_preproc)\n",
    "\n",
    "print('Train R-sq:',r2_score(y_train,y_train_pred))\n",
    "print('Test R-sq:',r2_score(y_test,y_test_pred))"
   ]
  },
  {
   "cell_type": "code",
   "execution_count": 23,
   "metadata": {},
   "outputs": [
    {
     "data": {
      "image/png": "[encoded data removed]",
      "text/plain": [
       "<Figure size 432x288 with 1 Axes>"
      ]
     },
     "metadata": {
      "needs_background": "light"
     },
     "output_type": "display_data"
    },
    {
     "data": {
      "text/plain": [
       "[<matplotlib.lines.Line2D at 0x7f5cc5e90b38>]"
      ]
     },
     "execution_count": 23,
     "metadata": {},
     "output_type": "execute_result"
    },
    {
     "data": {
      "image/png": "[encoded data removed]",
      "text/plain": [
       "<Figure size 432x288 with 1 Axes>"
      ]
     },
     "metadata": {
      "needs_background": "light"
     },
     "output_type": "display_data"
    }
   ],
   "source": [
    "# Plot residuals\n",
    "plt.scatter(y_train_pred, y_train_pred - y_train, c = \"blue\", marker = \"s\", label = \"Training data\")\n",
    "plt.scatter(y_test_pred, y_test_pred - y_test, c = \"lightgreen\", marker = \"s\", label = \"Validation data\")\n",
    "plt.title(\"Linear regression\")\n",
    "plt.xlabel(\"Predicted values\")\n",
    "plt.ylabel(\"Residuals\")\n",
    "plt.legend(loc = \"upper left\")\n",
    "plt.hlines(y = 0, xmin = 10.5, xmax = 13.5, color = \"red\")\n",
    "plt.show()\n",
    "\n",
    "# Plot predictions\n",
    "plt.scatter(y_train_pred, y_train, c = \"blue\", marker = \"s\", label = \"Training data\")\n",
    "plt.scatter(y_test_pred, y_test, c = \"lightgreen\", marker = \"s\", label = \"Validation data\")\n",
    "plt.title(\"Linear regression\")\n",
    "plt.xlabel(\"Predicted values\")\n",
    "plt.ylabel(\"Real values\")\n",
    "plt.legend(loc = \"upper left\")\n",
    "plt.plot([10.5, 13.5], [10.5, 13.5], c = \"red\")"
   ]
  },
  {
   "cell_type": "code",
   "execution_count": 24,
   "metadata": {},
   "outputs": [
    {
     "name": "stdout",
     "output_type": "stream",
     "text": [
      "CV5 train accuracies: [0.1879633  0.52650426 0.16086904 0.20577652 0.15715511]\n",
      "---------------------------------------------------------------------------\n",
      "CV5 test accuracies: [ 5.72400422 13.49256233 17.31535597  2.97121579  7.43867032]\n"
     ]
    }
   ],
   "source": [
    "cv5_accuracy_train =  cv_rmse(lr, X_train_preproc, y_train, cv=5)\n",
    "cv5_accuracy_test =  cv_rmse(lr, X_test_preproc, y_test, cv=5)\n",
    "\n",
    "print('CV5 train accuracies:',cv5_accuracy_train)\n",
    "print('-'*75)\n",
    "print('CV5 test accuracies:', cv5_accuracy_test)\n",
    "\n",
    "model_list.append(models(name='LR',params=lr.get_params(),\n",
    "                         cv5_mean_accuracy_train = np.mean(cv5_accuracy_train),\n",
    "                         cv5_std_accuracy_train=np.std(cv5_accuracy_train),\n",
    "                         cv5_mean_accuracy_test=np.mean(cv5_accuracy_test),\n",
    "                         cv5_std_accuracy_test=np.std(cv5_accuracy_test)))"
   ]
  },
  {
   "cell_type": "markdown",
   "metadata": {},
   "source": [
    "## **Linear Regression with Ridge regularization (L2 penatly)**"
   ]
  },
  {
   "cell_type": "code",
   "execution_count": 25,
   "metadata": {},
   "outputs": [
    {
     "name": "stdout",
     "output_type": "stream",
     "text": [
      "Best alpha : 30.0\n"
     ]
    }
   ],
   "source": [
    "from sklearn.linear_model import RidgeCV, Ridge\n",
    "\n",
    "ridge = RidgeCV(alphas = [0.01, 0.03, 0.06, 0.1, 0.3, 0.6, 1, 3, 6, 10, 30, 60])\n",
    "ridge.fit(X_train_preproc, y_train)\n",
    "alpha = ridge.alpha_\n",
    "print(\"Best alpha :\", alpha)"
   ]
  },
  {
   "cell_type": "code",
   "execution_count": 26,
   "metadata": {},
   "outputs": [
    {
     "name": "stdout",
     "output_type": "stream",
     "text": [
      "Test accuracies:\n",
      "--------------------------------------------------\n",
      "R-sq: 0.9003353960621235\n",
      "MSE: 0.01388305602866811\n",
      "RMSE: 0.11782638086892133\n",
      "--------------------------------------------------\n",
      "R-sq orig price: 0.9041213829951165\n",
      "MSE orig price: 477346104.9842521\n",
      "RMSE orig price: 21848.25176036408\n"
     ]
    },
    {
     "name": "stderr",
     "output_type": "stream",
     "text": [
      "/home/climbach/anaconda3/lib/python3.7/site-packages/sklearn/linear_model/ridge.py:147: LinAlgWarning: Ill-conditioned matrix (rcond=1.79961e-21): result may not be accurate.\n",
      "  overwrite_a=True).T\n"
     ]
    }
   ],
   "source": [
    "ridge = Ridge(alpha=1)\n",
    "ridge.fit(X_train_preproc, y_train)\n",
    "y_pred = ridge.predict(X_test_preproc)\n",
    "\n",
    "print('Test accuracies:')\n",
    "print('-'*50)\n",
    "print('R-sq:', r2_score(y_test, y_pred))\n",
    "print('MSE:', mean_squared_error(y_test, y_pred))\n",
    "print('RMSE:', np.sqrt(mean_squared_error(y_test, y_pred)))\n",
    "\n",
    "y_test_exp = np.expm1(y_test)\n",
    "y_pred_exp = np.expm1(y_pred)\n",
    "print('-'*50)\n",
    "print('R-sq orig price:', r2_score(y_test_exp, y_pred_exp))\n",
    "print('MSE orig price:', mean_squared_error(y_test_exp, y_pred_exp))\n",
    "print('RMSE orig price:', np.sqrt(mean_squared_error(y_test_exp, y_pred_exp)))"
   ]
  },
  {
   "cell_type": "code",
   "execution_count": 30,
   "metadata": {},
   "outputs": [
    {
     "name": "stdout",
     "output_type": "stream",
     "text": [
      "Test accuracies:\n",
      "--------------------------------------------------\n",
      "R-sq: 0.9134064562897696\n",
      "MSE: 0.012062286624842274\n",
      "RMSE: 0.10982844178464099\n",
      "--------------------------------------------------\n",
      "R-sq orig price: 0.9137025938458079\n",
      "MSE orig price: 429644606.7411405\n",
      "RMSE orig price: 20727.87028956763\n"
     ]
    },
    {
     "name": "stderr",
     "output_type": "stream",
     "text": [
      "/home/climbach/anaconda3/lib/python3.7/site-packages/sklearn/linear_model/ridge.py:147: LinAlgWarning: Ill-conditioned matrix (rcond=4.21156e-20): result may not be accurate.\n",
      "  overwrite_a=True).T\n"
     ]
    }
   ],
   "source": [
    "ridge = Ridge(alpha=30)\n",
    "ridge.fit(X_train_preproc, y_train)\n",
    "y_pred = ridge.predict(X_test_preproc)\n",
    "\n",
    "print('Test accuracies:')\n",
    "print('-'*50)\n",
    "print('R-sq:', r2_score(y_test, y_pred))\n",
    "print('MSE:', mean_squared_error(y_test, y_pred))\n",
    "print('RMSE:', np.sqrt(mean_squared_error(y_test, y_pred)))\n",
    "\n",
    "y_test_exp = np.expm1(y_test)\n",
    "y_pred_exp = np.expm1(y_pred)\n",
    "print('-'*50)\n",
    "print('R-sq orig price:', r2_score(y_test_exp, y_pred_exp))\n",
    "print('MSE orig price:', mean_squared_error(y_test_exp, y_pred_exp))\n",
    "print('RMSE orig price:', np.sqrt(mean_squared_error(y_test_exp, y_pred_exp)))"
   ]
  },
  {
   "cell_type": "code",
   "execution_count": 31,
   "metadata": {},
   "outputs": [
    {
     "data": {
      "image/png": "[encoded data removed]",
      "text/plain": [
       "<Figure size 432x288 with 1 Axes>"
      ]
     },
     "metadata": {
      "needs_background": "light"
     },
     "output_type": "display_data"
    },
    {
     "data": {
      "image/png": "[encoded data removed]",
      "text/plain": [
       "<Figure size 432x288 with 1 Axes>"
      ]
     },
     "metadata": {
      "needs_background": "light"
     },
     "output_type": "display_data"
    },
    {
     "name": "stdout",
     "output_type": "stream",
     "text": [
      "Ridge picked 440 features and eliminated the other 5 features\n"
     ]
    },
    {
     "data": {
      "image/png": "[encoded data removed]",
      "text/plain": [
       "<Figure size 576x432 with 1 Axes>"
      ]
     },
     "metadata": {
      "needs_background": "light"
     },
     "output_type": "display_data"
    }
   ],
   "source": [
    "y_train_rdg = ridge.predict(X_train_preproc)\n",
    "y_test_rdg = ridge.predict(X_test_preproc)\n",
    "\n",
    "# Plot residuals\n",
    "plt.scatter(y_train_rdg, y_train_rdg - y_train, c = \"blue\", marker = \"s\", label = \"Training data\")\n",
    "plt.scatter(y_test_rdg, y_test_rdg - y_test, c = \"lightgreen\", marker = \"s\", label = \"Validation data\")\n",
    "plt.title(\"Linear regression with Ridge regularization\")\n",
    "plt.xlabel(\"Predicted values\")\n",
    "plt.ylabel(\"Residuals\")\n",
    "plt.legend(loc = \"upper left\")\n",
    "plt.hlines(y = 0, xmin = 10.5, xmax = 13.5, color = \"red\")\n",
    "plt.show()\n",
    "\n",
    "# Plot predictions\n",
    "plt.scatter(y_train_rdg, y_train, c = \"blue\", marker = \"s\", label = \"Training data\")\n",
    "plt.scatter(y_test_rdg, y_test, c = \"lightgreen\", marker = \"s\", label = \"Validation data\")\n",
    "plt.title(\"Linear regression with Ridge regularization\")\n",
    "plt.xlabel(\"Predicted values\")\n",
    "plt.ylabel(\"Real values\")\n",
    "plt.legend(loc = \"upper left\")\n",
    "plt.plot([10.5, 13.5], [10.5, 13.5], c = \"red\")\n",
    "plt.show()\n",
    "\n",
    "# Plot important coefficients\n",
    "coefs = pd.Series(ridge.coef_, index = X_train.columns)\n",
    "print(\"Ridge picked \" + str(sum(coefs != 0)) + \" features and eliminated the other \" +  \\\n",
    "      str(sum(coefs == 0)) + \" features\")\n",
    "imp_coefs = pd.concat([coefs.sort_values().head(10),\n",
    "                     coefs.sort_values().tail(10)])\n",
    "imp_coefs.plot(kind = \"barh\",figsize=(8,6))\n",
    "plt.title(\"Coefficients in the Ridge Model\");"
   ]
  },
  {
   "cell_type": "code",
   "execution_count": 32,
   "metadata": {},
   "outputs": [
    {
     "name": "stderr",
     "output_type": "stream",
     "text": [
      "/home/climbach/anaconda3/lib/python3.7/site-packages/sklearn/linear_model/ridge.py:147: LinAlgWarning: Ill-conditioned matrix (rcond=5.08849e-20): result may not be accurate.\n",
      "  overwrite_a=True).T\n",
      "/home/climbach/anaconda3/lib/python3.7/site-packages/sklearn/linear_model/ridge.py:147: LinAlgWarning: Ill-conditioned matrix (rcond=5.79505e-20): result may not be accurate.\n",
      "  overwrite_a=True).T\n",
      "/home/climbach/anaconda3/lib/python3.7/site-packages/sklearn/linear_model/ridge.py:147: LinAlgWarning: Ill-conditioned matrix (rcond=4.72508e-20): result may not be accurate.\n",
      "  overwrite_a=True).T\n",
      "/home/climbach/anaconda3/lib/python3.7/site-packages/sklearn/linear_model/ridge.py:147: LinAlgWarning: Ill-conditioned matrix (rcond=5.25519e-20): result may not be accurate.\n",
      "  overwrite_a=True).T\n",
      "/home/climbach/anaconda3/lib/python3.7/site-packages/sklearn/linear_model/ridge.py:147: LinAlgWarning: Ill-conditioned matrix (rcond=5.09983e-20): result may not be accurate.\n",
      "  overwrite_a=True).T\n",
      "/home/climbach/anaconda3/lib/python3.7/site-packages/sklearn/linear_model/ridge.py:189: UserWarning: Singular matrix in solving dual problem. Using least-squares solution instead.\n",
      "  warnings.warn(\"Singular matrix in solving dual problem. Using \"\n",
      "/home/climbach/anaconda3/lib/python3.7/site-packages/sklearn/linear_model/ridge.py:189: UserWarning: Singular matrix in solving dual problem. Using least-squares solution instead.\n",
      "  warnings.warn(\"Singular matrix in solving dual problem. Using \"\n"
     ]
    },
    {
     "name": "stdout",
     "output_type": "stream",
     "text": [
      "CV5 train R-sq: [0.10477156 0.11773618 0.10457172 0.14666793 0.09988603]\n",
      "---------------------------------------------------------------------------\n",
      "CV5 test R-sq: [0.35428302 0.19655722 0.4772603  0.41906941 0.42951177]\n"
     ]
    },
    {
     "name": "stderr",
     "output_type": "stream",
     "text": [
      "/home/climbach/anaconda3/lib/python3.7/site-packages/sklearn/linear_model/ridge.py:189: UserWarning: Singular matrix in solving dual problem. Using least-squares solution instead.\n",
      "  warnings.warn(\"Singular matrix in solving dual problem. Using \"\n",
      "/home/climbach/anaconda3/lib/python3.7/site-packages/sklearn/linear_model/ridge.py:189: UserWarning: Singular matrix in solving dual problem. Using least-squares solution instead.\n",
      "  warnings.warn(\"Singular matrix in solving dual problem. Using \"\n",
      "/home/climbach/anaconda3/lib/python3.7/site-packages/sklearn/linear_model/ridge.py:189: UserWarning: Singular matrix in solving dual problem. Using least-squares solution instead.\n",
      "  warnings.warn(\"Singular matrix in solving dual problem. Using \"\n"
     ]
    }
   ],
   "source": [
    "cv5_accuracy_train =  cv_rmse(ridge, X_train_preproc, y_train, cv=5)\n",
    "cv5_accuracy_test =  cv_rmse(ridge, X_test_preproc, y_test, cv=5)\n",
    "\n",
    "print('CV5 train R-sq:',cv5_accuracy_train)\n",
    "print('-'*75)\n",
    "print('CV5 test R-sq:', cv5_accuracy_test)\n",
    "\n",
    "model_list.append(models(name='ridge',params=ridge.get_params(),\n",
    "                         cv5_mean_accuracy_train = np.mean(cv5_accuracy_train),\n",
    "                         cv5_std_accuracy_train=np.std(cv5_accuracy_train),\n",
    "                         cv5_mean_accuracy_test=np.mean(cv5_accuracy_test),\n",
    "                         cv5_std_accuracy_test=np.std(cv5_accuracy_test)))"
   ]
  },
  {
   "cell_type": "markdown",
   "metadata": {},
   "source": [
    "## **Linear Regression with Lasso regularization (L1 penalty)**"
   ]
  },
  {
   "cell_type": "code",
   "execution_count": 33,
   "metadata": {},
   "outputs": [],
   "source": [
    "from sklearn.linear_model import LassoCV, Lasso"
   ]
  },
  {
   "cell_type": "raw",
   "metadata": {},
   "source": [
    "lasso = LassoCV(alphas = [0.0001, 0.0003, 0.0006, 0.001, 0.003, 0.006, 0.01, 0.03, 0.06, 0.1, \n",
    "                          0.3, 0.6, 1], \n",
    "                max_iter = 50000, cv = 10)\n",
    "lasso.fit(X_train_preproc, y_train)\n",
    "alpha = lasso.alpha_\n",
    "print(\"Best alpha :\", alpha)"
   ]
  },
  {
   "cell_type": "code",
   "execution_count": 34,
   "metadata": {},
   "outputs": [
    {
     "name": "stdout",
     "output_type": "stream",
     "text": [
      "R-sq: 0.8136496653868723\n",
      "MSE: 0.02595818409119165\n",
      "RMSE: 0.16111543715979437\n",
      "--------------------------------------------------\n",
      "R-sq orig price: 0.8092200284123943\n",
      "MSE orig price: 949826762.1206021\n",
      "RMSE orig price: 30819.259597216187\n"
     ]
    },
    {
     "name": "stderr",
     "output_type": "stream",
     "text": [
      "/home/climbach/anaconda3/lib/python3.7/site-packages/sklearn/linear_model/coordinate_descent.py:475: ConvergenceWarning: Objective did not converge. You might want to increase the number of iterations. Duality gap: 18.655302276628202, tolerance: 0.016279907156276183\n",
      "  positive)\n"
     ]
    }
   ],
   "source": [
    "lasso = Lasso(alpha=1)\n",
    "lasso.fit(X_train_preproc, y_train)\n",
    "y_pred = lasso.predict(X_test_preproc)\n",
    "print('R-sq:', r2_score(y_test, y_pred))\n",
    "print('MSE:', mean_squared_error(y_test, y_pred))\n",
    "print('RMSE:', np.sqrt(mean_squared_error(y_test, y_pred)))\n",
    "\n",
    "y_pred_exp = np.expm1(y_pred)\n",
    "print('-'*50)\n",
    "print('R-sq orig price:', r2_score(y_test_exp, y_pred_exp))\n",
    "print('MSE orig price:', mean_squared_error(y_test_exp, y_pred_exp))\n",
    "print('RMSE orig price:', np.sqrt(mean_squared_error(y_test_exp, y_pred_exp)))"
   ]
  },
  {
   "cell_type": "code",
   "execution_count": 35,
   "metadata": {},
   "outputs": [
    {
     "name": "stdout",
     "output_type": "stream",
     "text": [
      "R-sq: 0.9145273342963806\n",
      "MSE: 0.011906150829863526\n",
      "RMSE: 0.10911530978677339\n",
      "--------------------------------------------------\n",
      "R-sq orig price: 0.9160276908735048\n",
      "MSE orig price: 418068761.7346876\n",
      "RMSE orig price: 20446.729854299138\n"
     ]
    },
    {
     "name": "stderr",
     "output_type": "stream",
     "text": [
      "/home/climbach/anaconda3/lib/python3.7/site-packages/sklearn/linear_model/coordinate_descent.py:475: ConvergenceWarning: Objective did not converge. You might want to increase the number of iterations. Duality gap: 5.293638907464091, tolerance: 0.016279907156276183\n",
      "  positive)\n"
     ]
    }
   ],
   "source": [
    "lasso = Lasso(alpha=0.0003)\n",
    "lasso.fit(X_train_preproc, y_train)\n",
    "y_pred = lasso.predict(X_test_preproc)\n",
    "print('R-sq:', r2_score(y_test, y_pred))\n",
    "print('MSE:', mean_squared_error(y_test, y_pred))\n",
    "print('RMSE:', np.sqrt(mean_squared_error(y_test, y_pred)))\n",
    "\n",
    "\n",
    "y_pred_exp = np.expm1(y_pred)\n",
    "print('-'*50)\n",
    "print('R-sq orig price:', r2_score(y_test_exp, y_pred_exp))\n",
    "print('MSE orig price:', mean_squared_error(y_test_exp, y_pred_exp))\n",
    "print('RMSE orig price:', np.sqrt(mean_squared_error(y_test_exp, y_pred_exp)))"
   ]
  },
  {
   "cell_type": "code",
   "execution_count": 36,
   "metadata": {},
   "outputs": [
    {
     "data": {
      "image/png": "[encoded data removed]",
      "text/plain": [
       "<Figure size 432x288 with 1 Axes>"
      ]
     },
     "metadata": {
      "needs_background": "light"
     },
     "output_type": "display_data"
    },
    {
     "data": {
      "image/png": "[encoded data removed]",
      "text/plain": [
       "<Figure size 432x288 with 1 Axes>"
      ]
     },
     "metadata": {
      "needs_background": "light"
     },
     "output_type": "display_data"
    },
    {
     "name": "stdout",
     "output_type": "stream",
     "text": [
      "Lasso picked 186 features and eliminated the other 259 features\n"
     ]
    },
    {
     "data": {
      "image/png": "[encoded data removed]",
      "text/plain": [
       "<Figure size 576x432 with 1 Axes>"
      ]
     },
     "metadata": {
      "needs_background": "light"
     },
     "output_type": "display_data"
    }
   ],
   "source": [
    "y_train_las = lasso.predict(X_train_preproc)\n",
    "y_test_las = lasso.predict(X_test_preproc)\n",
    "\n",
    "# Plot residuals\n",
    "plt.scatter(y_train_las, y_train_las - y_train, c = \"blue\", marker = \"s\", label = \"Training data\")\n",
    "plt.scatter(y_test_las, y_test_las - y_test, c = \"lightgreen\", marker = \"s\", label = \"Validation data\")\n",
    "plt.title(\"Linear regression with Lasso regularization\")\n",
    "plt.xlabel(\"Predicted values\")\n",
    "plt.ylabel(\"Residuals\")\n",
    "plt.legend(loc = \"upper left\")\n",
    "plt.hlines(y = 0, xmin = 10.5, xmax = 13.5, color = \"red\")\n",
    "plt.show()\n",
    "\n",
    "# Plot predictions\n",
    "plt.scatter(y_train_las, y_train, c = \"blue\", marker = \"s\", label = \"Training data\")\n",
    "plt.scatter(y_test_las, y_test, c = \"lightgreen\", marker = \"s\", label = \"Validation data\")\n",
    "plt.title(\"Linear regression with Lasso regularization\")\n",
    "plt.xlabel(\"Predicted values\")\n",
    "plt.ylabel(\"Real values\")\n",
    "plt.legend(loc = \"upper left\")\n",
    "plt.plot([10.5, 13.5], [10.5, 13.5], c = \"red\")\n",
    "plt.show()\n",
    "\n",
    "# Plot important coefficients\n",
    "coefs = pd.Series(lasso.coef_, index = X_train_preproc.columns)\n",
    "print(\"Lasso picked \" + str(sum(coefs != 0)) + \" features and eliminated the other \" +  \\\n",
    "      str(sum(coefs == 0)) + \" features\")\n",
    "imp_coefs = pd.concat([coefs.sort_values().head(10),\n",
    "                     coefs.sort_values().tail(10)])\n",
    "imp_coefs.plot(kind = \"barh\",figsize=(8,6))\n",
    "plt.title(\"Coefficients in the Lasso Model\");"
   ]
  },
  {
   "cell_type": "code",
   "execution_count": 37,
   "metadata": {},
   "outputs": [
    {
     "name": "stderr",
     "output_type": "stream",
     "text": [
      "/home/climbach/anaconda3/lib/python3.7/site-packages/sklearn/linear_model/coordinate_descent.py:475: ConvergenceWarning: Objective did not converge. You might want to increase the number of iterations. Duality gap: 4.240853930681643, tolerance: 0.013795237924590231\n",
      "  positive)\n",
      "/home/climbach/anaconda3/lib/python3.7/site-packages/sklearn/linear_model/coordinate_descent.py:475: ConvergenceWarning: Objective did not converge. You might want to increase the number of iterations. Duality gap: 3.963211142120197, tolerance: 0.012943336987437614\n",
      "  positive)\n",
      "/home/climbach/anaconda3/lib/python3.7/site-packages/sklearn/linear_model/coordinate_descent.py:475: ConvergenceWarning: Objective did not converge. You might want to increase the number of iterations. Duality gap: 4.225550881369123, tolerance: 0.013157892506500804\n",
      "  positive)\n",
      "/home/climbach/anaconda3/lib/python3.7/site-packages/sklearn/linear_model/coordinate_descent.py:475: ConvergenceWarning: Objective did not converge. You might want to increase the number of iterations. Duality gap: 3.474947182280086, tolerance: 0.012371144130072379\n",
      "  positive)\n",
      "/home/climbach/anaconda3/lib/python3.7/site-packages/sklearn/linear_model/coordinate_descent.py:475: ConvergenceWarning: Objective did not converge. You might want to increase the number of iterations. Duality gap: 4.285620653945629, tolerance: 0.012832354703236857\n",
      "  positive)\n",
      "/home/climbach/anaconda3/lib/python3.7/site-packages/sklearn/linear_model/coordinate_descent.py:475: ConvergenceWarning: Objective did not converge. You might want to increase the number of iterations. Duality gap: 1.0248705099824058, tolerance: 0.0045044892999135215\n",
      "  positive)\n",
      "/home/climbach/anaconda3/lib/python3.7/site-packages/sklearn/linear_model/coordinate_descent.py:475: ConvergenceWarning: Objective did not converge. You might want to increase the number of iterations. Duality gap: 1.0447636833637561, tolerance: 0.005122410270656295\n",
      "  positive)\n",
      "/home/climbach/anaconda3/lib/python3.7/site-packages/sklearn/linear_model/coordinate_descent.py:475: ConvergenceWarning: Objective did not converge. You might want to increase the number of iterations. Duality gap: 0.9024837617345123, tolerance: 0.004562169364648453\n",
      "  positive)\n",
      "/home/climbach/anaconda3/lib/python3.7/site-packages/sklearn/linear_model/coordinate_descent.py:475: ConvergenceWarning: Objective did not converge. You might want to increase the number of iterations. Duality gap: 1.0404482432435698, tolerance: 0.004803317500323421\n",
      "  positive)\n"
     ]
    },
    {
     "name": "stdout",
     "output_type": "stream",
     "text": [
      "CV5 train R-sq: [0.1065528  0.11845077 0.10593694 0.14341775 0.10270357]\n",
      "---------------------------------------------------------------------------\n",
      "CV5 test R-sq: [0.1338236  0.10908658 0.13896864 0.11066229 0.11006018]\n"
     ]
    },
    {
     "name": "stderr",
     "output_type": "stream",
     "text": [
      "/home/climbach/anaconda3/lib/python3.7/site-packages/sklearn/linear_model/coordinate_descent.py:475: ConvergenceWarning: Objective did not converge. You might want to increase the number of iterations. Duality gap: 1.0271650389738067, tolerance: 0.005124729527928506\n",
      "  positive)\n"
     ]
    }
   ],
   "source": [
    "cv5_accuracy_train =  cv_rmse(lasso, X_train_preproc, y_train, cv=5)\n",
    "cv5_accuracy_test = cv_rmse(lasso, X_test_preproc, y_test, cv=5)\n",
    "\n",
    "print('CV5 train R-sq:',cv5_accuracy_train)\n",
    "print('-'*75)\n",
    "print('CV5 test R-sq:', cv5_accuracy_test)\n",
    "\n",
    "model_list.append(models(name='lasso',params=lasso.get_params(),\n",
    "                         cv5_mean_accuracy_train = np.mean(cv5_accuracy_train),\n",
    "                         cv5_std_accuracy_train=np.std(cv5_accuracy_train),\n",
    "                         cv5_mean_accuracy_test=np.mean(cv5_accuracy_test),\n",
    "                         cv5_std_accuracy_test=np.std(cv5_accuracy_test)))"
   ]
  },
  {
   "cell_type": "markdown",
   "metadata": {},
   "source": [
    "## **Linear Regression with ElasticNet Regularization (L1 and L2 penalty)**"
   ]
  },
  {
   "cell_type": "code",
   "execution_count": 38,
   "metadata": {},
   "outputs": [],
   "source": [
    "from sklearn.linear_model import ElasticNetCV, ElasticNet\n",
    "from sklearn.model_selection import RandomizedSearchCV"
   ]
  },
  {
   "cell_type": "code",
   "execution_count": 39,
   "metadata": {},
   "outputs": [
    {
     "name": "stdout",
     "output_type": "stream",
     "text": [
      "R-sq: 0.8257527527432964\n",
      "MSE: 0.02427225113957088\n",
      "RMSE: 0.155795542746161\n",
      "--------------------------------------------------\n",
      "R-sq: 0.8249030494543257\n",
      "MSE: 871746484.7593763\n",
      "RMSE: 29525.35325376102\n"
     ]
    },
    {
     "name": "stderr",
     "output_type": "stream",
     "text": [
      "/home/climbach/anaconda3/lib/python3.7/site-packages/sklearn/linear_model/coordinate_descent.py:475: ConvergenceWarning: Objective did not converge. You might want to increase the number of iterations. Duality gap: 15.941420848911807, tolerance: 0.016279907156276183\n",
      "  positive)\n"
     ]
    }
   ],
   "source": [
    "enet = ElasticNet(alpha=1,l1_ratio=0.5)\n",
    "enet.fit(X_train_preproc,y_train)\n",
    "y_pred = enet.predict(X_test_preproc)\n",
    "\n",
    "print('R-sq:', r2_score(y_test,y_pred))\n",
    "print('MSE:', mean_squared_error(y_test,y_pred))\n",
    "print('RMSE:', np.sqrt(mean_squared_error(y_test,y_pred)))\n",
    "\n",
    "y_pred_exp = np.expm1(y_pred)\n",
    "print('-'*50)\n",
    "print('R-sq:', r2_score(y_test_exp,y_pred_exp))\n",
    "print('MSE:', mean_squared_error(y_test_exp,y_pred_exp))\n",
    "print('RMSE:', np.sqrt(mean_squared_error(y_test_exp,y_pred_exp)))"
   ]
  },
  {
   "cell_type": "code",
   "execution_count": 40,
   "metadata": {},
   "outputs": [
    {
     "name": "stdout",
     "output_type": "stream",
     "text": [
      "R-sq: 0.9130349063112119\n",
      "MSE: 0.01211404270439267\n",
      "RMSE: 0.11006381196557145\n",
      "--------------------------------------------------\n",
      "R-sq: 0.9129018193389796\n",
      "MSE: 433631382.97703147\n",
      "RMSE: 20823.817684973892\n"
     ]
    },
    {
     "name": "stderr",
     "output_type": "stream",
     "text": [
      "/home/climbach/anaconda3/lib/python3.7/site-packages/sklearn/linear_model/coordinate_descent.py:475: ConvergenceWarning: Objective did not converge. You might want to increase the number of iterations. Duality gap: 5.386909462543727, tolerance: 0.016279907156276183\n",
      "  positive)\n"
     ]
    }
   ],
   "source": [
    "enet = ElasticNet(l1_ratio=0,alpha=0.03)\n",
    "enet.fit(X_train_preproc,y_train)\n",
    "y_pred = enet.predict(X_test_preproc)\n",
    "\n",
    "print('R-sq:', r2_score(y_test,y_pred))\n",
    "print('MSE:', mean_squared_error(y_test,y_pred))\n",
    "print('RMSE:', np.sqrt(mean_squared_error(y_test,y_pred)))\n",
    "\n",
    "y_pred_exp = np.expm1(y_pred)\n",
    "print('-'*50)\n",
    "print('R-sq:', r2_score(y_test_exp,y_pred_exp))\n",
    "print('MSE:', mean_squared_error(y_test_exp,y_pred_exp))\n",
    "print('RMSE:', np.sqrt(mean_squared_error(y_test_exp,y_pred_exp)))"
   ]
  },
  {
   "cell_type": "code",
   "execution_count": 41,
   "metadata": {},
   "outputs": [
    {
     "data": {
      "image/png": "[encoded data removed]",
      "text/plain": [
       "<Figure size 432x288 with 1 Axes>"
      ]
     },
     "metadata": {
      "needs_background": "light"
     },
     "output_type": "display_data"
    },
    {
     "data": {
      "image/png": "[encoded data removed]",
      "text/plain": [
       "<Figure size 432x288 with 1 Axes>"
      ]
     },
     "metadata": {
      "needs_background": "light"
     },
     "output_type": "display_data"
    },
    {
     "name": "stdout",
     "output_type": "stream",
     "text": [
      "ElasticNet picked 440 features and eliminated the other 5 features\n"
     ]
    },
    {
     "data": {
      "image/png": "[encoded data removed]",
      "text/plain": [
       "<Figure size 576x432 with 1 Axes>"
      ]
     },
     "metadata": {
      "needs_background": "light"
     },
     "output_type": "display_data"
    }
   ],
   "source": [
    "y_train_ela = enet.predict(X_train_preproc)\n",
    "y_test_ela = enet.predict(X_test_preproc)\n",
    "\n",
    "# Plot residuals\n",
    "plt.scatter(y_train_ela, y_train_ela - y_train, c = \"blue\", marker = \"s\", label = \"Training data\")\n",
    "plt.scatter(y_test_ela, y_test_ela - y_test, c = \"lightgreen\", marker = \"s\", label = \"Validation data\")\n",
    "plt.title(\"Linear regression with ElasticNet regularization\")\n",
    "plt.xlabel(\"Predicted values\")\n",
    "plt.ylabel(\"Residuals\")\n",
    "plt.legend(loc = \"upper left\")\n",
    "plt.hlines(y = 0, xmin = 10.5, xmax = 13.5, color = \"red\")\n",
    "plt.show()\n",
    "\n",
    "# Plot predictions\n",
    "plt.scatter(y_train, y_train_ela, c = \"blue\", marker = \"s\", label = \"Training data\")\n",
    "plt.scatter(y_test, y_test_ela, c = \"lightgreen\", marker = \"s\", label = \"Validation data\")\n",
    "plt.title(\"Linear regression with ElasticNet regularization\")\n",
    "plt.xlabel(\"Predicted values\")\n",
    "plt.ylabel(\"Real values\")\n",
    "plt.legend(loc = \"upper left\")\n",
    "plt.plot([10.5, 13.5], [10.5, 13.5], c = \"red\")\n",
    "plt.show()\n",
    "\n",
    "# Plot important coefficients\n",
    "coefs = pd.Series(enet.coef_, index = X_train_preproc.columns)\n",
    "print(\"ElasticNet picked \" + str(sum(coefs != 0)) + \" features and eliminated the other \" +  str(sum(coefs == 0)) + \" features\")\n",
    "imp_coefs = pd.concat([coefs.sort_values().head(10),\n",
    "                     coefs.sort_values().tail(10)])\n",
    "imp_coefs.plot(kind = \"barh\",figsize=(8,6))\n",
    "plt.title(\"Coefficients in the ElasticNet Model\");"
   ]
  },
  {
   "cell_type": "code",
   "execution_count": 42,
   "metadata": {},
   "outputs": [
    {
     "name": "stderr",
     "output_type": "stream",
     "text": [
      "/home/climbach/anaconda3/lib/python3.7/site-packages/sklearn/linear_model/coordinate_descent.py:475: ConvergenceWarning: Objective did not converge. You might want to increase the number of iterations. Duality gap: 4.388033081651992, tolerance: 0.013795237924590231\n",
      "  positive)\n",
      "/home/climbach/anaconda3/lib/python3.7/site-packages/sklearn/linear_model/coordinate_descent.py:475: ConvergenceWarning: Objective did not converge. You might want to increase the number of iterations. Duality gap: 4.070427593967666, tolerance: 0.012943336987437614\n",
      "  positive)\n",
      "/home/climbach/anaconda3/lib/python3.7/site-packages/sklearn/linear_model/coordinate_descent.py:475: ConvergenceWarning: Objective did not converge. You might want to increase the number of iterations. Duality gap: 4.347341599882508, tolerance: 0.013157892506500804\n",
      "  positive)\n",
      "/home/climbach/anaconda3/lib/python3.7/site-packages/sklearn/linear_model/coordinate_descent.py:475: ConvergenceWarning: Objective did not converge. You might want to increase the number of iterations. Duality gap: 3.5024235622339512, tolerance: 0.012371144130072379\n",
      "  positive)\n",
      "/home/climbach/anaconda3/lib/python3.7/site-packages/sklearn/linear_model/coordinate_descent.py:475: ConvergenceWarning: Objective did not converge. You might want to increase the number of iterations. Duality gap: 4.434258592176512, tolerance: 0.012832354703236857\n",
      "  positive)\n",
      "/home/climbach/anaconda3/lib/python3.7/site-packages/sklearn/linear_model/coordinate_descent.py:475: ConvergenceWarning: Objective did not converge. You might want to increase the number of iterations. Duality gap: 1.1138630484031273, tolerance: 0.0045044892999135215\n",
      "  positive)\n",
      "/home/climbach/anaconda3/lib/python3.7/site-packages/sklearn/linear_model/coordinate_descent.py:475: ConvergenceWarning: Objective did not converge. You might want to increase the number of iterations. Duality gap: 1.201462243341236, tolerance: 0.005122410270656295\n",
      "  positive)\n",
      "/home/climbach/anaconda3/lib/python3.7/site-packages/sklearn/linear_model/coordinate_descent.py:475: ConvergenceWarning: Objective did not converge. You might want to increase the number of iterations. Duality gap: 1.011448575315579, tolerance: 0.004562169364648453\n",
      "  positive)\n",
      "/home/climbach/anaconda3/lib/python3.7/site-packages/sklearn/linear_model/coordinate_descent.py:475: ConvergenceWarning: Objective did not converge. You might want to increase the number of iterations. Duality gap: 1.232761658525251, tolerance: 0.004803317500323421\n",
      "  positive)\n"
     ]
    },
    {
     "name": "stdout",
     "output_type": "stream",
     "text": [
      "CV5 train R-sq: [0.10472496 0.11744123 0.10574563 0.14612587 0.09930025]\n",
      "---------------------------------------------------------------------------\n",
      "CV5 test R-sq: [0.13075885 0.1044385  0.13285132 0.097538   0.10480744]\n"
     ]
    },
    {
     "name": "stderr",
     "output_type": "stream",
     "text": [
      "/home/climbach/anaconda3/lib/python3.7/site-packages/sklearn/linear_model/coordinate_descent.py:475: ConvergenceWarning: Objective did not converge. You might want to increase the number of iterations. Duality gap: 1.185030448351542, tolerance: 0.005124729527928506\n",
      "  positive)\n"
     ]
    }
   ],
   "source": [
    "cv5_accuracy_train =  cv_rmse(enet, X_train_preproc, y_train, cv=5)\n",
    "cv5_accuracy_test =  cv_rmse(enet, X_test_preproc, y_test, cv=5)\n",
    "\n",
    "print('CV5 train R-sq:',cv5_accuracy_train)\n",
    "print('-'*75)\n",
    "print('CV5 test R-sq:', cv5_accuracy_test)\n",
    "\n",
    "model_list.append(models(name='ElasticNet',params=enet.get_params(),\n",
    "                         cv5_mean_accuracy_train = np.mean(cv5_accuracy_train),\n",
    "                         cv5_std_accuracy_train=np.std(cv5_accuracy_train),\n",
    "                         cv5_mean_accuracy_test=np.mean(cv5_accuracy_test),\n",
    "                         cv5_std_accuracy_test=np.std(cv5_accuracy_test)))"
   ]
  },
  {
   "cell_type": "markdown",
   "metadata": {},
   "source": [
    "## **Support Vector Machine Regression**"
   ]
  },
  {
   "cell_type": "raw",
   "metadata": {},
   "source": [
    "from sklearn.svm import SVR\n",
    "from sklearn.model_selection import GridSearchCV"
   ]
  },
  {
   "cell_type": "raw",
   "metadata": {},
   "source": [
    "svm = SVR(C=0.1, cache_size=200, coef0=1, degree=3, epsilon=0.1,\n",
    "          gamma='auto_deprecated', kernel='linear', max_iter=-1, shrinking=True,\n",
    "          tol=0.001, verbose=False)\n",
    "svm.fit(X_train_preproc,y_train)\n",
    "y_pred = svm.predict(X_test_preproc)\n",
    "\n",
    "print('R-sq:',r2_score(y_test,y_pred))\n",
    "print('MSE:',mean_squared_error(y_test,y_pred))\n",
    "print('RMSE:', np.sqrt(mean_squared_error(y_test,y_pred)))\n",
    "\n",
    "y_pred_exp = np.expm1(y_pred)\n",
    "print('-'*50)\n",
    "print('R-sq:',r2_score(y_test_exp,y_pred_exp))\n",
    "print('MSE:',mean_squared_error(y_test_exp,y_pred_exp))\n",
    "print('RMSE:',np.sqrt(mean_squared_error(y_test_exp,y_pred_exp)))"
   ]
  },
  {
   "cell_type": "raw",
   "metadata": {},
   "source": [
    "y_train_svm = svm.predict(X_train_preproc)\n",
    "y_test_svm = svm.predict(X_test_preproc)\n",
    "\n",
    "# Plot residuals\n",
    "plt.scatter(y_train_svm, y_train_svm - y_train, c = \"blue\", marker = \"s\", label = \"Training data\")\n",
    "plt.scatter(y_test_svm, y_test_svm - y_test, c = \"lightgreen\", marker = \"s\", label = \"Validation data\")\n",
    "plt.title(\"SVM regression with regularization\")\n",
    "plt.xlabel(\"Predicted values\")\n",
    "plt.ylabel(\"Residuals\")\n",
    "plt.legend(loc = \"upper left\")\n",
    "plt.hlines(y = 0, xmin = 10.5, xmax = 13.5, color = \"red\")\n",
    "plt.show()\n",
    "\n",
    "# Plot predictions\n",
    "plt.scatter(y_train_svm, y_train, c = \"blue\", marker = \"s\", label = \"Training data\")\n",
    "plt.scatter(y_test_svm, y_test, c = \"lightgreen\", marker = \"s\", label = \"Validation data\")\n",
    "plt.title(\"SVM regression with regularization\")\n",
    "plt.xlabel(\"Predicted values\")\n",
    "plt.ylabel(\"Real values\")\n",
    "plt.legend(loc = \"upper left\")\n",
    "plt.plot([10.5, 13.5], [10.5, 13.5], c = \"red\")\n",
    "plt.show()\n",
    "\n",
    "# Plot important coefficients\n",
    "coefs = pd.Series(np.squeeze(svm.coef_) , index = X_train_preproc.columns)\n",
    "print(\"SVR picked up \" + str(sum(coefs != 0)) + \" features and eliminated \" +  \\\n",
    "      str(sum(coefs == 0)) + \" features\")\n",
    "imp_coefs = pd.concat([coefs.sort_values().head(10),\n",
    "                     coefs.sort_values().tail(10)])\n",
    "imp_coefs.plot(kind = \"barh\",figsize=(8,6))\n",
    "plt.title(\"Coefficients in the SVM Model\");"
   ]
  },
  {
   "cell_type": "raw",
   "metadata": {},
   "source": [
    "cv5_accuracy_train =  cv_rmse(svm, X_train_preproc, y_train, cv=5)\n",
    "cv5_accuracy_test = cv_rmse(svm, X_test_preproc, y_test, cv=5)\n",
    "\n",
    "print('CV5 train R-sq:',cv5_accuracy_train)\n",
    "print('-'*75)\n",
    "print('CV5 test R-sq:', cv5_accuracy_test)\n",
    "\n",
    "model_list.append(models(name='svm',params=svm.get_params(),\n",
    "                         cv5_mean_accuracy_train = np.mean(cv5_accuracy_train),\n",
    "                         cv5_std_accuracy_train=np.std(cv5_accuracy_train),\n",
    "                         cv5_mean_accuracy_test=np.mean(cv5_accuracy_test),\n",
    "                         cv5_std_accuracy_test=np.std(cv5_accuracy_test)))"
   ]
  },
  {
   "cell_type": "markdown",
   "metadata": {},
   "source": [
    "## **Random Forest**"
   ]
  },
  {
   "cell_type": "code",
   "execution_count": 43,
   "metadata": {},
   "outputs": [],
   "source": [
    "from sklearn.ensemble import RandomForestRegressor"
   ]
  },
  {
   "cell_type": "code",
   "execution_count": null,
   "metadata": {},
   "outputs": [],
   "source": [
    "rf = RandomForestRegressor(n_estimators=100)\n",
    "rf.fit(X_train,y_train)\n",
    "y_pred = rf.predict(X_test)\n",
    "\n",
    "print('R-sq:',r2_score(y_test,y_pred))\n",
    "print('MSE:',mean_squared_error(y_test,y_pred))\n",
    "print('RMSE:', np.sqrt(mean_squared_error(y_test,y_pred)))\n",
    "\n",
    "y_pred_exp = np.expm1(y_pred)\n",
    "print('-'*50)\n",
    "print('R-sq:',r2_score(y_test_exp,y_pred_exp))\n",
    "print('MSE:',mean_squared_error(y_test_exp,y_pred_exp))\n",
    "print('RMSE:',np.sqrt(mean_squared_error(y_test_exp,y_pred_exp)))"
   ]
  },
  {
   "cell_type": "code",
   "execution_count": null,
   "metadata": {},
   "outputs": [],
   "source": [
    "feature_importance = pd.DataFrame(np.round(rf.feature_importances_,decimals=4),\n",
    "                                  index=X_train.columns,columns=['importance']).sort_values(by='importance',\n",
    "                                                                                            ascending=False)\n",
    "feature_importance.index.name = 'feature'\n",
    "feature_importance.reset_index(inplace =True)"
   ]
  },
  {
   "cell_type": "code",
   "execution_count": null,
   "metadata": {},
   "outputs": [],
   "source": [
    "plt.figure(figsize=(15,35))\n",
    "sns.barplot(y='feature',x='importance',data=feature_importance[feature_importance['importance']>0.0003],orient='h')"
   ]
  },
  {
   "cell_type": "code",
   "execution_count": null,
   "metadata": {},
   "outputs": [],
   "source": [
    "rf = RandomForestRegressor(n_estimators=200,\n",
    "                           max_depth=75,\n",
    "                           min_samples_leaf=3,\n",
    "                           min_samples_split=4)\n",
    "rf.fit(X_train,y_train)\n",
    "y_pred = rf.predict(X_test)\n",
    "\n",
    "print('R-sq:',r2_score(y_test,y_pred))\n",
    "print('MSE:',mean_squared_error(y_test,y_pred))\n",
    "print('RMSE:', np.sqrt(mean_squared_error(y_test,y_pred)))\n",
    "\n",
    "y_pred_exp = np.expm1(y_pred)\n",
    "print('-'*50)\n",
    "print('R-sq:',r2_score(y_test_exp,y_pred_exp))\n",
    "print('MSE:',mean_squared_error(y_test_exp,y_pred_exp))\n",
    "print('RMSE:',np.sqrt(mean_squared_error(y_test_exp,y_pred_exp)))"
   ]
  },
  {
   "cell_type": "code",
   "execution_count": null,
   "metadata": {},
   "outputs": [],
   "source": [
    "feature_importance = pd.DataFrame(np.round(rf.feature_importances_,decimals=4),\n",
    "                                  index=X_train.columns,columns=['importance']).sort_values(by='importance',\n",
    "                                                                                            ascending=False)\n",
    "feature_importance.index.name = 'feature'\n",
    "feature_importance.reset_index(inplace =True)"
   ]
  },
  {
   "cell_type": "code",
   "execution_count": null,
   "metadata": {},
   "outputs": [],
   "source": [
    "plt.figure(figsize=(15,25))\n",
    "sns.barplot(y='feature',x='importance',data=feature_importance[feature_importance['importance']>0.0003],orient='h')"
   ]
  },
  {
   "cell_type": "code",
   "execution_count": null,
   "metadata": {},
   "outputs": [],
   "source": [
    "cv5_accuracy_train = cv_rmse(rf, X_train, y_train, cv=5)\n",
    "cv5_accuracy_test = cv_rmse(rf, X_test, y_test, cv=5)\n",
    "\n",
    "print('CV5 train R-sq:',cv5_accuracy_train)\n",
    "print('-'*75)\n",
    "print('CV5 test R-sq:', cv5_accuracy_test)\n",
    "\n",
    "model_list.append(models(name='rf',params=rf.get_params(),\n",
    "                         cv5_mean_accuracy_train = np.mean(cv5_accuracy_train),\n",
    "                         cv5_std_accuracy_train=np.std(cv5_accuracy_train),\n",
    "                         cv5_mean_accuracy_test=np.mean(cv5_accuracy_test),\n",
    "                         cv5_std_accuracy_test=np.std(cv5_accuracy_test)))"
   ]
  },
  {
   "cell_type": "markdown",
   "metadata": {},
   "source": [
    "## **Adaptive Boost (AdaBoost)**"
   ]
  },
  {
   "cell_type": "code",
   "execution_count": null,
   "metadata": {},
   "outputs": [],
   "source": [
    "from sklearn.ensemble import AdaBoostRegressor\n",
    "from sklearn.tree import DecisionTreeRegressor"
   ]
  },
  {
   "cell_type": "code",
   "execution_count": null,
   "metadata": {},
   "outputs": [],
   "source": [
    "ada = AdaBoostRegressor(base_estimator=DecisionTreeRegressor(max_depth=75,\n",
    "                                                             min_samples_leaf=3,\n",
    "                                                             min_samples_split= 4),\n",
    "                       n_estimators=200,learning_rate=0.5,random_state=42)\n",
    "\n",
    "ada.fit(X_train,y_train)\n",
    "\n",
    "y_pred = ada.predict(X_test)\n",
    "\n",
    "print('R-sq:',r2_score(y_test,y_pred))\n",
    "print('MSE:',mean_squared_error(y_test,y_pred))\n",
    "print('RMSE:', np.sqrt(mean_squared_error(y_test,y_pred)))\n",
    "y_test_exp = np.expm1(y_test)\n",
    "y_pred_exp = np.expm1(y_pred)\n",
    "print('-'*50)\n",
    "print('R-sq:',r2_score(y_test_exp,y_pred_exp))\n",
    "print('MSE:',mean_squared_error(y_test_exp,y_pred_exp))\n",
    "print('RMSE:',np.sqrt(mean_squared_error(y_test_exp,y_pred_exp)))"
   ]
  },
  {
   "cell_type": "code",
   "execution_count": null,
   "metadata": {},
   "outputs": [],
   "source": [
    "feature_importance = pd.DataFrame(np.round(ada.feature_importances_,decimals=4),\n",
    "                                  index=X_train.columns,columns=['importance']).sort_values(by='importance',\n",
    "                                                                                            ascending=False)\n",
    "feature_importance.index.name = 'feature'\n",
    "feature_importance.reset_index(inplace = True)\n",
    "\n",
    "plt.figure(figsize=(15,30))\n",
    "sns.barplot(y='feature',x='importance',data=feature_importance[feature_importance['importance']>0.0003],orient='h')"
   ]
  },
  {
   "cell_type": "code",
   "execution_count": null,
   "metadata": {},
   "outputs": [],
   "source": [
    "with open('ada_mod.pkl','rb') as mod_file:\n",
    "    ada_cv = pickle.load(mod_file)"
   ]
  },
  {
   "cell_type": "code",
   "execution_count": null,
   "metadata": {},
   "outputs": [],
   "source": [
    "ada = ada_cv.best_estimator_\n",
    "ada.fit(X_train,y_train)\n",
    "\n",
    "y_pred = ada.predict(X_test)\n",
    "\n",
    "print('R-sq:',r2_score(y_test,y_pred))\n",
    "print('MSE:',mean_squared_error(y_test,y_pred))\n",
    "print('RMSE:', np.sqrt(mean_squared_error(y_test,y_pred)))\n",
    "y_test_exp = np.expm1(y_test)\n",
    "y_pred_exp = np.expm1(y_pred)\n",
    "print('-'*50)\n",
    "print('R-sq:',r2_score(y_test_exp,y_pred_exp))\n",
    "print('MSE:',mean_squared_error(y_test_exp,y_pred_exp))\n",
    "print('RMSE:',np.sqrt(mean_squared_error(y_test_exp,y_pred_exp)))"
   ]
  },
  {
   "cell_type": "code",
   "execution_count": null,
   "metadata": {},
   "outputs": [],
   "source": [
    "cv5_accuracy_train =  cv_rmse(ada, X_train, y_train, cv=5)\n",
    "cv5_accuracy_test =  cv_rmse(ada, X_test, y_test, cv=5)\n",
    "\n",
    "print('CV5 train R-sq:',cv5_accuracy_train)\n",
    "print('-'*75)\n",
    "print('CV5 test R-sq:', cv5_accuracy_test)\n",
    "\n",
    "model_list.append(models(name='ada',params=ada.get_params(),\n",
    "                         cv5_mean_accuracy_train = np.mean(cv5_accuracy_train),\n",
    "                         cv5_std_accuracy_train=np.std(cv5_accuracy_train),\n",
    "                         cv5_mean_accuracy_test=np.mean(cv5_accuracy_test),\n",
    "                         cv5_std_accuracy_test=np.std(cv5_accuracy_test)))"
   ]
  },
  {
   "cell_type": "markdown",
   "metadata": {},
   "source": [
    "## **Gradient Boost**"
   ]
  },
  {
   "cell_type": "code",
   "execution_count": null,
   "metadata": {},
   "outputs": [],
   "source": [
    "from sklearn.ensemble import GradientBoostingRegressor"
   ]
  },
  {
   "cell_type": "code",
   "execution_count": null,
   "metadata": {},
   "outputs": [],
   "source": [
    "gbrt = GradientBoostingRegressor()\n",
    "gbrt.fit(X_train,y_train)\n",
    "y_pred = gbrt.predict(X_test)\n",
    "\n",
    "print('Test accuracies:')\n",
    "print('-'*50)\n",
    "print('R-sq:', r2_score(y_test, y_pred))\n",
    "print('MSE:', mean_squared_error(y_test, y_pred))\n",
    "print('RMSE:', np.sqrt(mean_squared_error(y_test, y_pred)))\n",
    "\n",
    "y_pred_exp = np.expm1(y_pred)\n",
    "print('-'*50)\n",
    "print('R-sq orig price:', r2_score(y_test_exp, y_pred_exp))\n",
    "print('MSE orig price:', mean_squared_error(y_test_exp, y_pred_exp))\n",
    "print('RMSE orig price:', np.sqrt(mean_squared_error(y_test_exp, y_pred_exp)))"
   ]
  },
  {
   "cell_type": "code",
   "execution_count": null,
   "metadata": {},
   "outputs": [],
   "source": [
    "cv5_accuracy_train =  cv_rmse(gbrt, X_train, y_train, cv=5)\n",
    "cv5_accuracy_test =  cv_rmse(gbrt, X_test, y_test, cv=5)\n",
    "\n",
    "print('CV5 train R-sq:',cv5_accuracy_train)\n",
    "print('-'*75)\n",
    "print('CV5 test R-sq:', cv5_accuracy_test)\n",
    "\n",
    "model_list.append(models(name='gbrt',params=gbrt.get_params(),\n",
    "                         cv5_mean_accuracy_train = np.mean(cv5_accuracy_train),\n",
    "                         cv5_std_accuracy_train=np.std(cv5_accuracy_train),\n",
    "                         cv5_mean_accuracy_test=np.mean(cv5_accuracy_test),\n",
    "                         cv5_std_accuracy_test=np.std(cv5_accuracy_test)))"
   ]
  },
  {
   "cell_type": "code",
   "execution_count": null,
   "metadata": {},
   "outputs": [],
   "source": [
    "mod_table = pd.DataFrame()\n",
    "for model in model_list:\n",
    "    tmp_df = pd.DataFrame([model.name,\n",
    "                           model.cv5_mean_accuracy_train,\n",
    "                           model.cv5_std_accuracy_train,\n",
    "                           model.cv5_mean_accuracy_test,\n",
    "                           model.cv5_std_accuracy_test],\n",
    "                          index=['model',\n",
    "                                   'train_mean_ac',\n",
    "                                   'train_std_ac',\n",
    "                                   'test_mean_ac',\n",
    "                                   'test_std_ac']).T\n",
    "    \n",
    "    mod_table = pd.concat([mod_table,tmp_df],axis=0)\n",
    "    \n",
    "mod_table.reset_index(drop=True,inplace=True)"
   ]
  },
  {
   "cell_type": "code",
   "execution_count": null,
   "metadata": {},
   "outputs": [],
   "source": [
    "for col in mod_table.columns:\n",
    "    if col != 'model':\n",
    "        mod_table[col]= mod_table[col].astype(float)"
   ]
  },
  {
   "cell_type": "code",
   "execution_count": null,
   "metadata": {},
   "outputs": [],
   "source": [
    "mod_table.info()"
   ]
  },
  {
   "cell_type": "code",
   "execution_count": null,
   "metadata": {},
   "outputs": [],
   "source": [
    "train_errorbar_width_array = (mod_table.loc[1:,'train_std_ac']/np.sqrt(5))*2\n",
    "\n",
    "plt.figure(figsize =(8,6))\n",
    "plt.errorbar(x=mod_table.loc[1:,'model'],\n",
    "             y=mod_table.loc[1:,'train_mean_ac'],\n",
    "             yerr=train_errorbar_width_array,\n",
    "             label='Train RMSE',\n",
    "             linewidth=5)\n",
    "\n",
    "test_errorbar_width_array = (mod_table.loc[1:,'test_std_ac']/np.sqrt(5))*2\n",
    "plt.errorbar(x=mod_table.loc[1:,'model'],\n",
    "             y=mod_table.loc[1:,'test_mean_ac'],\n",
    "             yerr=test_errorbar_width_array,\n",
    "             label='Test RMSE',\n",
    "             linewidth=5,\n",
    "             color='red',\n",
    "             alpha =0.5)\n",
    "plt.legend()\n",
    "plt.ylim(0.095,0.165)\n",
    "plt.title('Train vs. Test RMSE')"
   ]
  },
  {
   "cell_type": "code",
   "execution_count": null,
   "metadata": {},
   "outputs": [],
   "source": [
    "mod_table.sort_values(by=['test_mean_ac','test_std_ac'],ascending=[True,True])"
   ]
  },
  {
   "cell_type": "code",
   "execution_count": null,
   "metadata": {},
   "outputs": [],
   "source": []
  }
 ],
 "metadata": {
  "kernelspec": {
   "display_name": "Python 3",
   "language": "python",
   "name": "python3"
  },
  "language_info": {
   "codemirror_mode": {
    "name": "ipython",
    "version": 3
   },
   "file_extension": ".py",
   "mimetype": "text/x-python",
   "name": "python",
   "nbconvert_exporter": "python",
   "pygments_lexer": "ipython3",
   "version": "3.7.3"
  }
 },
 "nbformat": 4,
 "nbformat_minor": 4
}
