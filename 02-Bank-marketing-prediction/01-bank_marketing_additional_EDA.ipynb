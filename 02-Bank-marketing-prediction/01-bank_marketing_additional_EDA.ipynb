{
 "cells": [
  {
   "cell_type": "code",
   "execution_count": null,
   "metadata": {},
   "outputs": [],
   "source": [
    "from IPython.display import HTML\n",
    "\n",
    "HTML('''<script>\n",
    "code_show=true; \n",
    "function code_toggle() {\n",
    " if (code_show){\n",
    " $('div.input').hide();\n",
    " } else {\n",
    " $('div.input').show();\n",
    " }\n",
    " code_show = !code_show\n",
    "} \n",
    "$( document ).ready(code_toggle);\n",
    "</script>\n",
    "<form action=\"javascript:code_toggle()\"><input type=\"submit\" value=\"Show Code\"></form>''')"
   ]
  },
  {
   "cell_type": "markdown",
   "metadata": {},
   "source": [
    "# **Bank marketing predictions**"
   ]
  },
  {
   "cell_type": "code",
   "execution_count": 85,
   "metadata": {},
   "outputs": [],
   "source": [
    "import pandas as pd\n",
    "import numpy as np\n",
    "import pickle\n",
    "import matplotlib.pyplot as plt\n",
    "\n",
    "import matplotlib as mpl\n",
    "import seaborn as sns\n",
    "\n",
    "sns.set(style ='white',font_scale=1.25)\n",
    "\n",
    "%matplotlib inline"
   ]
  },
  {
   "cell_type": "markdown",
   "metadata": {},
   "source": [
    "## Load the data"
   ]
  },
  {
   "cell_type": "code",
   "execution_count": 86,
   "metadata": {},
   "outputs": [],
   "source": [
    "bank_raw = pd.read_csv('../data/02-Bank-Marketing/bank-additional/bank-additional.csv',\n",
    "                   sep=';',\n",
    "                   na_values='unknown')\n",
    "y = (bank_raw['y'] == 'yes').astype(int)"
   ]
  },
  {
   "cell_type": "code",
   "execution_count": 87,
   "metadata": {},
   "outputs": [
    {
     "data": {
      "text/plain": [
       "0    3668\n",
       "1     451\n",
       "Name: y, dtype: int64"
      ]
     },
     "execution_count": 87,
     "metadata": {},
     "output_type": "execute_result"
    }
   ],
   "source": [
    "y.value_counts()"
   ]
  },
  {
   "cell_type": "code",
   "execution_count": 88,
   "metadata": {},
   "outputs": [
    {
     "data": {
      "text/plain": [
       "(4119, 19)"
      ]
     },
     "execution_count": 88,
     "metadata": {},
     "output_type": "execute_result"
    }
   ],
   "source": [
    "bank = bank_raw.drop(labels=['y','duration'],axis=1)\n",
    "bank.shape"
   ]
  },
  {
   "cell_type": "code",
   "execution_count": 89,
   "metadata": {},
   "outputs": [
    {
     "name": "stdout",
     "output_type": "stream",
     "text": [
      "<class 'pandas.core.frame.DataFrame'>\n",
      "RangeIndex: 4119 entries, 0 to 4118\n",
      "Data columns (total 19 columns):\n",
      "age               4119 non-null int64\n",
      "job               4080 non-null object\n",
      "marital           4108 non-null object\n",
      "education         3952 non-null object\n",
      "default           3316 non-null object\n",
      "housing           4014 non-null object\n",
      "loan              4014 non-null object\n",
      "contact           4119 non-null object\n",
      "month             4119 non-null object\n",
      "day_of_week       4119 non-null object\n",
      "campaign          4119 non-null int64\n",
      "pdays             4119 non-null int64\n",
      "previous          4119 non-null int64\n",
      "poutcome          4119 non-null object\n",
      "emp.var.rate      4119 non-null float64\n",
      "cons.price.idx    4119 non-null float64\n",
      "cons.conf.idx     4119 non-null float64\n",
      "euribor3m         4119 non-null float64\n",
      "nr.employed       4119 non-null float64\n",
      "dtypes: float64(5), int64(4), object(10)\n",
      "memory usage: 611.5+ KB\n"
     ]
    }
   ],
   "source": [
    "bank.info()"
   ]
  },
  {
   "cell_type": "markdown",
   "metadata": {},
   "source": [
    "Drop duration because it is not known before a call is performed. Also, after the end of the call y is obviously known. Thus, this input should only be included for benchmark purposes and should be discarded if the intention is to have a realistic predictive model"
   ]
  },
  {
   "cell_type": "code",
   "execution_count": 90,
   "metadata": {},
   "outputs": [],
   "source": [
    "#bank.drop(labels='duration',axis=1,inplace=True)\n",
    "bank.rename(columns={'day_of_week':'dayOfWeek'},inplace=True)"
   ]
  },
  {
   "cell_type": "markdown",
   "metadata": {},
   "source": [
    "## Look for ourliers"
   ]
  },
  {
   "cell_type": "raw",
   "metadata": {},
   "source": [
    "sns.pairplot(bank)"
   ]
  },
  {
   "cell_type": "code",
   "execution_count": 91,
   "metadata": {},
   "outputs": [
    {
     "name": "stdout",
     "output_type": "stream",
     "text": [
      "Hit class percentage: 10.95%\n"
     ]
    },
    {
     "data": {
      "image/png": "[encoded data removed]",
      "text/plain": [
       "<Figure size 432x288 with 1 Axes>"
      ]
     },
     "metadata": {
      "needs_background": "light"
     },
     "output_type": "display_data"
    }
   ],
   "source": [
    "sns.countplot(x='y',data=bank_raw)\n",
    "print('Hit class percentage: %.2f%%' %(100*y.mean()))"
   ]
  },
  {
   "cell_type": "markdown",
   "metadata": {},
   "source": [
    "Imbalanced class"
   ]
  },
  {
   "cell_type": "code",
   "execution_count": 92,
   "metadata": {},
   "outputs": [
    {
     "data": {
      "text/plain": [
       "1735    3\n",
       "1254    3\n",
       "2235    3\n",
       "615     3\n",
       "1676    3\n",
       "896     3\n",
       "2444    3\n",
       "671     3\n",
       "3630    3\n",
       "1964    3\n",
       "dtype: int64"
      ]
     },
     "execution_count": 92,
     "metadata": {},
     "output_type": "execute_result"
    }
   ],
   "source": [
    "bank.isnull().sum(axis=1).sort_values(ascending=False)[:10]"
   ]
  },
  {
   "cell_type": "markdown",
   "metadata": {},
   "source": [
    "At max an example has only 3 missing features. "
   ]
  },
  {
   "cell_type": "code",
   "execution_count": 93,
   "metadata": {},
   "outputs": [
    {
     "data": {
      "text/plain": [
       "age                 0\n",
       "job                39\n",
       "marital            11\n",
       "education         167\n",
       "default           803\n",
       "housing           105\n",
       "loan              105\n",
       "contact             0\n",
       "month               0\n",
       "dayOfWeek           0\n",
       "campaign            0\n",
       "pdays               0\n",
       "previous            0\n",
       "poutcome            0\n",
       "emp.var.rate        0\n",
       "cons.price.idx      0\n",
       "cons.conf.idx       0\n",
       "euribor3m           0\n",
       "nr.employed         0\n",
       "dtype: int64"
      ]
     },
     "execution_count": 93,
     "metadata": {},
     "output_type": "execute_result"
    }
   ],
   "source": [
    "bank.isnull().sum()"
   ]
  },
  {
   "cell_type": "code",
   "execution_count": 94,
   "metadata": {},
   "outputs": [
    {
     "data": {
      "text/html": [
       "<div>\n",
       "<style scoped>\n",
       "    .dataframe tbody tr th:only-of-type {\n",
       "        vertical-align: middle;\n",
       "    }\n",
       "\n",
       "    .dataframe tbody tr th {\n",
       "        vertical-align: top;\n",
       "    }\n",
       "\n",
       "    .dataframe thead th {\n",
       "        text-align: right;\n",
       "    }\n",
       "</style>\n",
       "<table border=\"1\" class=\"dataframe\">\n",
       "  <thead>\n",
       "    <tr style=\"text-align: right;\">\n",
       "      <th></th>\n",
       "      <th>Feature</th>\n",
       "      <th># of missing vals</th>\n",
       "      <th>% of missing vals</th>\n",
       "    </tr>\n",
       "  </thead>\n",
       "  <tbody>\n",
       "    <tr>\n",
       "      <th>0</th>\n",
       "      <td>default</td>\n",
       "      <td>803</td>\n",
       "      <td>19.495</td>\n",
       "    </tr>\n",
       "    <tr>\n",
       "      <th>1</th>\n",
       "      <td>education</td>\n",
       "      <td>167</td>\n",
       "      <td>4.05438</td>\n",
       "    </tr>\n",
       "    <tr>\n",
       "      <th>2</th>\n",
       "      <td>housing</td>\n",
       "      <td>105</td>\n",
       "      <td>2.54916</td>\n",
       "    </tr>\n",
       "    <tr>\n",
       "      <th>3</th>\n",
       "      <td>loan</td>\n",
       "      <td>105</td>\n",
       "      <td>2.54916</td>\n",
       "    </tr>\n",
       "    <tr>\n",
       "      <th>4</th>\n",
       "      <td>job</td>\n",
       "      <td>39</td>\n",
       "      <td>0.946832</td>\n",
       "    </tr>\n",
       "    <tr>\n",
       "      <th>5</th>\n",
       "      <td>marital</td>\n",
       "      <td>11</td>\n",
       "      <td>0.267055</td>\n",
       "    </tr>\n",
       "    <tr>\n",
       "      <th>6</th>\n",
       "      <td>contact</td>\n",
       "      <td>0</td>\n",
       "      <td>0</td>\n",
       "    </tr>\n",
       "    <tr>\n",
       "      <th>7</th>\n",
       "      <td>month</td>\n",
       "      <td>0</td>\n",
       "      <td>0</td>\n",
       "    </tr>\n",
       "    <tr>\n",
       "      <th>8</th>\n",
       "      <td>dayOfWeek</td>\n",
       "      <td>0</td>\n",
       "      <td>0</td>\n",
       "    </tr>\n",
       "    <tr>\n",
       "      <th>9</th>\n",
       "      <td>poutcome</td>\n",
       "      <td>0</td>\n",
       "      <td>0</td>\n",
       "    </tr>\n",
       "  </tbody>\n",
       "</table>\n",
       "</div>"
      ],
      "text/plain": [
       "     Feature # of missing vals % of missing vals\n",
       "0    default               803            19.495\n",
       "1  education               167           4.05438\n",
       "2    housing               105           2.54916\n",
       "3       loan               105           2.54916\n",
       "4        job                39          0.946832\n",
       "5    marital                11          0.267055\n",
       "6    contact                 0                 0\n",
       "7      month                 0                 0\n",
       "8  dayOfWeek                 0                 0\n",
       "9   poutcome                 0                 0"
      ]
     },
     "execution_count": 94,
     "metadata": {},
     "output_type": "execute_result"
    }
   ],
   "source": [
    "from collections import defaultdict\n",
    "\n",
    "FEATURES = defaultdict(list)\n",
    "missing_cat_table = pd.DataFrame()\n",
    "for feature,num_null in bank.isnull().sum().iteritems():\n",
    "    if feature != 'y':\n",
    "        if bank[feature].dtypes == 'object':\n",
    "            FEATURES['cat'].append(feature)\n",
    "            percent_null = 100*(num_null/bank.shape[0])\n",
    "\n",
    "            tmp_df = pd.DataFrame([feature,num_null,percent_null],index=['Feature','# of missing vals','% of missing vals']).T\n",
    "            missing_cat_table = pd.concat([missing_cat_table,tmp_df],axis=0)\n",
    "        else:\n",
    "            FEATURES['cont'].append(feature)\n",
    "\n",
    "missing_cat_table.sort_values(by='# of missing vals',ascending=False).reset_index(drop=True)"
   ]
  },
  {
   "cell_type": "code",
   "execution_count": 95,
   "metadata": {},
   "outputs": [
    {
     "data": {
      "text/plain": [
       "defaultdict(list,\n",
       "            {'cont': ['age',\n",
       "              'campaign',\n",
       "              'pdays',\n",
       "              'previous',\n",
       "              'emp.var.rate',\n",
       "              'cons.price.idx',\n",
       "              'cons.conf.idx',\n",
       "              'euribor3m',\n",
       "              'nr.employed'],\n",
       "             'cat': ['job',\n",
       "              'marital',\n",
       "              'education',\n",
       "              'default',\n",
       "              'housing',\n",
       "              'loan',\n",
       "              'contact',\n",
       "              'month',\n",
       "              'dayOfWeek',\n",
       "              'poutcome']})"
      ]
     },
     "execution_count": 95,
     "metadata": {},
     "output_type": "execute_result"
    }
   ],
   "source": [
    "FEATURES"
   ]
  },
  {
   "cell_type": "markdown",
   "metadata": {},
   "source": [
    "## **Visualization**\n",
    "Understand the categorical features"
   ]
  },
  {
   "cell_type": "code",
   "execution_count": 96,
   "metadata": {},
   "outputs": [
    {
     "data": {
      "text/plain": [
       "(array([  0., 100., 200., 300., 400., 500., 600.]),\n",
       " <a list of 7 Text xticklabel objects>)"
      ]
     },
     "execution_count": 96,
     "metadata": {},
     "output_type": "execute_result"
    },
    {
     "data": {
      "image/png": "[encoded data removed]",
      "text/plain": [
       "<Figure size 720x1080 with 1 Axes>"
      ]
     },
     "metadata": {
      "needs_background": "light"
     },
     "output_type": "display_data"
    }
   ],
   "source": [
    "hue_order = ['university.degree',\n",
    "             'high.school',\n",
    "             'basic.9y',\n",
    "             'professional.course',\n",
    "             'basic.6y',\n",
    "             'basic.4y',\n",
    "             'illiterate']\n",
    "order = ['admin.',\n",
    "         'management',\n",
    "         'technician',\n",
    "         'self-employed',\n",
    "         'entrepreneur',\n",
    "         'services',\n",
    "         'blue-collar',\n",
    "         'retired',\n",
    "         'housemaid',\n",
    "         'unemployed',\n",
    "         'student',\n",
    "         'illiterate']\n",
    "         \n",
    "plt.figure(figsize=(10,15))\n",
    "sns.countplot(y='job',hue='education',order=order,hue_order=hue_order,data=bank,orient='h')\n",
    "plt.xticks(rotation=45)"
   ]
  },
  {
   "cell_type": "code",
   "execution_count": 97,
   "metadata": {},
   "outputs": [],
   "source": [
    "ordinal_mapper = {'default':{'no':0,'yes':1},\n",
    "                  'education':{'illiterate':0,\n",
    "                               'basic.4y':1,\n",
    "                               'basic.6y':2,\n",
    "                               'professional.course':3,\n",
    "                               'basic.9y':4,\n",
    "                               'high.school':5,\n",
    "                               'university.degree':6,\n",
    "                               },\n",
    "                  'housing':{'no':0,'yes':1},\n",
    "                  'loan':{'no':0,'yes':1},\n",
    "                  'job':{'illiterate':0,\n",
    "                         'student':0,\n",
    "                         'unemployed':1,\n",
    "                         'housemaid':2,\n",
    "                         'retired':3,\n",
    "                         'blue-collar':4,\n",
    "                         'services':5,\n",
    "                         'entrepreneur':6,\n",
    "                         'self-employed':7,\n",
    "                         'technician':8,\n",
    "                         'management':9,\n",
    "                         'admin.':10\n",
    "                        },\n",
    "                  'contact':{'telephone':0,\n",
    "                             'cellular':1\n",
    "                            },\n",
    "}"
   ]
  },
  {
   "cell_type": "code",
   "execution_count": 98,
   "metadata": {},
   "outputs": [
    {
     "data": {
      "text/html": [
       "<div>\n",
       "<style scoped>\n",
       "    .dataframe tbody tr th:only-of-type {\n",
       "        vertical-align: middle;\n",
       "    }\n",
       "\n",
       "    .dataframe tbody tr th {\n",
       "        vertical-align: top;\n",
       "    }\n",
       "\n",
       "    .dataframe thead th {\n",
       "        text-align: right;\n",
       "    }\n",
       "</style>\n",
       "<table border=\"1\" class=\"dataframe\">\n",
       "  <thead>\n",
       "    <tr style=\"text-align: right;\">\n",
       "      <th></th>\n",
       "      <th>age</th>\n",
       "      <th>job</th>\n",
       "      <th>marital</th>\n",
       "      <th>education</th>\n",
       "      <th>default</th>\n",
       "      <th>housing</th>\n",
       "      <th>loan</th>\n",
       "      <th>contact</th>\n",
       "      <th>month</th>\n",
       "      <th>dayOfWeek</th>\n",
       "      <th>campaign</th>\n",
       "      <th>pdays</th>\n",
       "      <th>previous</th>\n",
       "      <th>poutcome</th>\n",
       "      <th>emp.var.rate</th>\n",
       "      <th>cons.price.idx</th>\n",
       "      <th>cons.conf.idx</th>\n",
       "      <th>euribor3m</th>\n",
       "      <th>nr.employed</th>\n",
       "    </tr>\n",
       "  </thead>\n",
       "  <tbody>\n",
       "    <tr>\n",
       "      <th>0</th>\n",
       "      <td>30</td>\n",
       "      <td>blue-collar</td>\n",
       "      <td>married</td>\n",
       "      <td>basic.9y</td>\n",
       "      <td>no</td>\n",
       "      <td>yes</td>\n",
       "      <td>no</td>\n",
       "      <td>cellular</td>\n",
       "      <td>may</td>\n",
       "      <td>fri</td>\n",
       "      <td>2</td>\n",
       "      <td>999</td>\n",
       "      <td>0</td>\n",
       "      <td>nonexistent</td>\n",
       "      <td>-1.8</td>\n",
       "      <td>92.893</td>\n",
       "      <td>-46.2</td>\n",
       "      <td>1.313</td>\n",
       "      <td>5099.1</td>\n",
       "    </tr>\n",
       "    <tr>\n",
       "      <th>1</th>\n",
       "      <td>39</td>\n",
       "      <td>services</td>\n",
       "      <td>single</td>\n",
       "      <td>high.school</td>\n",
       "      <td>no</td>\n",
       "      <td>no</td>\n",
       "      <td>no</td>\n",
       "      <td>telephone</td>\n",
       "      <td>may</td>\n",
       "      <td>fri</td>\n",
       "      <td>4</td>\n",
       "      <td>999</td>\n",
       "      <td>0</td>\n",
       "      <td>nonexistent</td>\n",
       "      <td>1.1</td>\n",
       "      <td>93.994</td>\n",
       "      <td>-36.4</td>\n",
       "      <td>4.855</td>\n",
       "      <td>5191.0</td>\n",
       "    </tr>\n",
       "    <tr>\n",
       "      <th>2</th>\n",
       "      <td>25</td>\n",
       "      <td>services</td>\n",
       "      <td>married</td>\n",
       "      <td>high.school</td>\n",
       "      <td>no</td>\n",
       "      <td>yes</td>\n",
       "      <td>no</td>\n",
       "      <td>telephone</td>\n",
       "      <td>jun</td>\n",
       "      <td>wed</td>\n",
       "      <td>1</td>\n",
       "      <td>999</td>\n",
       "      <td>0</td>\n",
       "      <td>nonexistent</td>\n",
       "      <td>1.4</td>\n",
       "      <td>94.465</td>\n",
       "      <td>-41.8</td>\n",
       "      <td>4.962</td>\n",
       "      <td>5228.1</td>\n",
       "    </tr>\n",
       "    <tr>\n",
       "      <th>3</th>\n",
       "      <td>38</td>\n",
       "      <td>services</td>\n",
       "      <td>married</td>\n",
       "      <td>basic.9y</td>\n",
       "      <td>no</td>\n",
       "      <td>NaN</td>\n",
       "      <td>NaN</td>\n",
       "      <td>telephone</td>\n",
       "      <td>jun</td>\n",
       "      <td>fri</td>\n",
       "      <td>3</td>\n",
       "      <td>999</td>\n",
       "      <td>0</td>\n",
       "      <td>nonexistent</td>\n",
       "      <td>1.4</td>\n",
       "      <td>94.465</td>\n",
       "      <td>-41.8</td>\n",
       "      <td>4.959</td>\n",
       "      <td>5228.1</td>\n",
       "    </tr>\n",
       "    <tr>\n",
       "      <th>4</th>\n",
       "      <td>47</td>\n",
       "      <td>admin.</td>\n",
       "      <td>married</td>\n",
       "      <td>university.degree</td>\n",
       "      <td>no</td>\n",
       "      <td>yes</td>\n",
       "      <td>no</td>\n",
       "      <td>cellular</td>\n",
       "      <td>nov</td>\n",
       "      <td>mon</td>\n",
       "      <td>1</td>\n",
       "      <td>999</td>\n",
       "      <td>0</td>\n",
       "      <td>nonexistent</td>\n",
       "      <td>-0.1</td>\n",
       "      <td>93.200</td>\n",
       "      <td>-42.0</td>\n",
       "      <td>4.191</td>\n",
       "      <td>5195.8</td>\n",
       "    </tr>\n",
       "  </tbody>\n",
       "</table>\n",
       "</div>"
      ],
      "text/plain": [
       "   age          job  marital          education default housing loan  \\\n",
       "0   30  blue-collar  married           basic.9y      no     yes   no   \n",
       "1   39     services   single        high.school      no      no   no   \n",
       "2   25     services  married        high.school      no     yes   no   \n",
       "3   38     services  married           basic.9y      no     NaN  NaN   \n",
       "4   47       admin.  married  university.degree      no     yes   no   \n",
       "\n",
       "     contact month dayOfWeek  campaign  pdays  previous     poutcome  \\\n",
       "0   cellular   may       fri         2    999         0  nonexistent   \n",
       "1  telephone   may       fri         4    999         0  nonexistent   \n",
       "2  telephone   jun       wed         1    999         0  nonexistent   \n",
       "3  telephone   jun       fri         3    999         0  nonexistent   \n",
       "4   cellular   nov       mon         1    999         0  nonexistent   \n",
       "\n",
       "   emp.var.rate  cons.price.idx  cons.conf.idx  euribor3m  nr.employed  \n",
       "0          -1.8          92.893          -46.2      1.313       5099.1  \n",
       "1           1.1          93.994          -36.4      4.855       5191.0  \n",
       "2           1.4          94.465          -41.8      4.962       5228.1  \n",
       "3           1.4          94.465          -41.8      4.959       5228.1  \n",
       "4          -0.1          93.200          -42.0      4.191       5195.8  "
      ]
     },
     "execution_count": 98,
     "metadata": {},
     "output_type": "execute_result"
    }
   ],
   "source": [
    "bank.head()"
   ]
  },
  {
   "cell_type": "code",
   "execution_count": 99,
   "metadata": {},
   "outputs": [
    {
     "data": {
      "text/html": [
       "<div>\n",
       "<style scoped>\n",
       "    .dataframe tbody tr th:only-of-type {\n",
       "        vertical-align: middle;\n",
       "    }\n",
       "\n",
       "    .dataframe tbody tr th {\n",
       "        vertical-align: top;\n",
       "    }\n",
       "\n",
       "    .dataframe thead th {\n",
       "        text-align: right;\n",
       "    }\n",
       "</style>\n",
       "<table border=\"1\" class=\"dataframe\">\n",
       "  <thead>\n",
       "    <tr style=\"text-align: right;\">\n",
       "      <th></th>\n",
       "      <th>age</th>\n",
       "      <th>job</th>\n",
       "      <th>marital</th>\n",
       "      <th>education</th>\n",
       "      <th>default</th>\n",
       "      <th>housing</th>\n",
       "      <th>loan</th>\n",
       "      <th>contact</th>\n",
       "      <th>month</th>\n",
       "      <th>dayOfWeek</th>\n",
       "      <th>campaign</th>\n",
       "      <th>pdays</th>\n",
       "      <th>previous</th>\n",
       "      <th>poutcome</th>\n",
       "      <th>emp.var.rate</th>\n",
       "      <th>cons.price.idx</th>\n",
       "      <th>cons.conf.idx</th>\n",
       "      <th>euribor3m</th>\n",
       "      <th>nr.employed</th>\n",
       "    </tr>\n",
       "  </thead>\n",
       "  <tbody>\n",
       "    <tr>\n",
       "      <th>0</th>\n",
       "      <td>30</td>\n",
       "      <td>4.0</td>\n",
       "      <td>married</td>\n",
       "      <td>4.0</td>\n",
       "      <td>0.0</td>\n",
       "      <td>1.0</td>\n",
       "      <td>0.0</td>\n",
       "      <td>1</td>\n",
       "      <td>may</td>\n",
       "      <td>fri</td>\n",
       "      <td>2</td>\n",
       "      <td>999</td>\n",
       "      <td>0</td>\n",
       "      <td>nonexistent</td>\n",
       "      <td>-1.8</td>\n",
       "      <td>92.893</td>\n",
       "      <td>-46.2</td>\n",
       "      <td>1.313</td>\n",
       "      <td>5099.1</td>\n",
       "    </tr>\n",
       "    <tr>\n",
       "      <th>1</th>\n",
       "      <td>39</td>\n",
       "      <td>5.0</td>\n",
       "      <td>single</td>\n",
       "      <td>5.0</td>\n",
       "      <td>0.0</td>\n",
       "      <td>0.0</td>\n",
       "      <td>0.0</td>\n",
       "      <td>0</td>\n",
       "      <td>may</td>\n",
       "      <td>fri</td>\n",
       "      <td>4</td>\n",
       "      <td>999</td>\n",
       "      <td>0</td>\n",
       "      <td>nonexistent</td>\n",
       "      <td>1.1</td>\n",
       "      <td>93.994</td>\n",
       "      <td>-36.4</td>\n",
       "      <td>4.855</td>\n",
       "      <td>5191.0</td>\n",
       "    </tr>\n",
       "    <tr>\n",
       "      <th>2</th>\n",
       "      <td>25</td>\n",
       "      <td>5.0</td>\n",
       "      <td>married</td>\n",
       "      <td>5.0</td>\n",
       "      <td>0.0</td>\n",
       "      <td>1.0</td>\n",
       "      <td>0.0</td>\n",
       "      <td>0</td>\n",
       "      <td>jun</td>\n",
       "      <td>wed</td>\n",
       "      <td>1</td>\n",
       "      <td>999</td>\n",
       "      <td>0</td>\n",
       "      <td>nonexistent</td>\n",
       "      <td>1.4</td>\n",
       "      <td>94.465</td>\n",
       "      <td>-41.8</td>\n",
       "      <td>4.962</td>\n",
       "      <td>5228.1</td>\n",
       "    </tr>\n",
       "    <tr>\n",
       "      <th>3</th>\n",
       "      <td>38</td>\n",
       "      <td>5.0</td>\n",
       "      <td>married</td>\n",
       "      <td>4.0</td>\n",
       "      <td>0.0</td>\n",
       "      <td>NaN</td>\n",
       "      <td>NaN</td>\n",
       "      <td>0</td>\n",
       "      <td>jun</td>\n",
       "      <td>fri</td>\n",
       "      <td>3</td>\n",
       "      <td>999</td>\n",
       "      <td>0</td>\n",
       "      <td>nonexistent</td>\n",
       "      <td>1.4</td>\n",
       "      <td>94.465</td>\n",
       "      <td>-41.8</td>\n",
       "      <td>4.959</td>\n",
       "      <td>5228.1</td>\n",
       "    </tr>\n",
       "    <tr>\n",
       "      <th>4</th>\n",
       "      <td>47</td>\n",
       "      <td>10.0</td>\n",
       "      <td>married</td>\n",
       "      <td>6.0</td>\n",
       "      <td>0.0</td>\n",
       "      <td>1.0</td>\n",
       "      <td>0.0</td>\n",
       "      <td>1</td>\n",
       "      <td>nov</td>\n",
       "      <td>mon</td>\n",
       "      <td>1</td>\n",
       "      <td>999</td>\n",
       "      <td>0</td>\n",
       "      <td>nonexistent</td>\n",
       "      <td>-0.1</td>\n",
       "      <td>93.200</td>\n",
       "      <td>-42.0</td>\n",
       "      <td>4.191</td>\n",
       "      <td>5195.8</td>\n",
       "    </tr>\n",
       "  </tbody>\n",
       "</table>\n",
       "</div>"
      ],
      "text/plain": [
       "   age   job  marital  education  default  housing  loan  contact month  \\\n",
       "0   30   4.0  married        4.0      0.0      1.0   0.0        1   may   \n",
       "1   39   5.0   single        5.0      0.0      0.0   0.0        0   may   \n",
       "2   25   5.0  married        5.0      0.0      1.0   0.0        0   jun   \n",
       "3   38   5.0  married        4.0      0.0      NaN   NaN        0   jun   \n",
       "4   47  10.0  married        6.0      0.0      1.0   0.0        1   nov   \n",
       "\n",
       "  dayOfWeek  campaign  pdays  previous     poutcome  emp.var.rate  \\\n",
       "0       fri         2    999         0  nonexistent          -1.8   \n",
       "1       fri         4    999         0  nonexistent           1.1   \n",
       "2       wed         1    999         0  nonexistent           1.4   \n",
       "3       fri         3    999         0  nonexistent           1.4   \n",
       "4       mon         1    999         0  nonexistent          -0.1   \n",
       "\n",
       "   cons.price.idx  cons.conf.idx  euribor3m  nr.employed  \n",
       "0          92.893          -46.2      1.313       5099.1  \n",
       "1          93.994          -36.4      4.855       5191.0  \n",
       "2          94.465          -41.8      4.962       5228.1  \n",
       "3          94.465          -41.8      4.959       5228.1  \n",
       "4          93.200          -42.0      4.191       5195.8  "
      ]
     },
     "execution_count": 99,
     "metadata": {},
     "output_type": "execute_result"
    }
   ],
   "source": [
    "bank = bank.replace(to_replace=ordinal_mapper)\n",
    "bank.head()"
   ]
  },
  {
   "cell_type": "code",
   "execution_count": 100,
   "metadata": {},
   "outputs": [
    {
     "data": {
      "text/plain": [
       "[None, None, None, None, None, None]"
      ]
     },
     "execution_count": 100,
     "metadata": {},
     "output_type": "execute_result"
    }
   ],
   "source": [
    "FEATURES['ordinal']=list(ordinal_mapper.keys())\n",
    "[FEATURES['cat'].remove(col) for col in FEATURES['ordinal']]"
   ]
  },
  {
   "cell_type": "code",
   "execution_count": 101,
   "metadata": {},
   "outputs": [
    {
     "data": {
      "text/plain": [
       "defaultdict(list,\n",
       "            {'cont': ['age',\n",
       "              'campaign',\n",
       "              'pdays',\n",
       "              'previous',\n",
       "              'emp.var.rate',\n",
       "              'cons.price.idx',\n",
       "              'cons.conf.idx',\n",
       "              'euribor3m',\n",
       "              'nr.employed'],\n",
       "             'cat': ['marital', 'month', 'dayOfWeek', 'poutcome'],\n",
       "             'ordinal': ['default',\n",
       "              'education',\n",
       "              'housing',\n",
       "              'loan',\n",
       "              'job',\n",
       "              'contact']})"
      ]
     },
     "execution_count": 101,
     "metadata": {},
     "output_type": "execute_result"
    }
   ],
   "source": [
    "FEATURES"
   ]
  },
  {
   "cell_type": "code",
   "execution_count": 102,
   "metadata": {},
   "outputs": [
    {
     "data": {
      "text/plain": [
       "<matplotlib.axes._subplots.AxesSubplot at 0x7f0b9c9f97b8>"
      ]
     },
     "execution_count": 102,
     "metadata": {},
     "output_type": "execute_result"
    },
    {
     "data": {
      "image/png": "[encoded data removed]",
      "text/plain": [
       "<Figure size 432x288 with 1 Axes>"
      ]
     },
     "metadata": {
      "needs_background": "light"
     },
     "output_type": "display_data"
    }
   ],
   "source": [
    "sns.boxplot(x='marital',y='age',data=bank)"
   ]
  },
  {
   "cell_type": "code",
   "execution_count": 103,
   "metadata": {},
   "outputs": [
    {
     "data": {
      "text/html": [
       "<div>\n",
       "<style scoped>\n",
       "    .dataframe tbody tr th:only-of-type {\n",
       "        vertical-align: middle;\n",
       "    }\n",
       "\n",
       "    .dataframe tbody tr th {\n",
       "        vertical-align: top;\n",
       "    }\n",
       "\n",
       "    .dataframe thead th {\n",
       "        text-align: right;\n",
       "    }\n",
       "</style>\n",
       "<table border=\"1\" class=\"dataframe\">\n",
       "  <thead>\n",
       "    <tr style=\"text-align: right;\">\n",
       "      <th></th>\n",
       "      <th>age</th>\n",
       "      <th>job</th>\n",
       "      <th>marital</th>\n",
       "      <th>education</th>\n",
       "      <th>default</th>\n",
       "      <th>housing</th>\n",
       "      <th>loan</th>\n",
       "      <th>contact</th>\n",
       "      <th>month</th>\n",
       "      <th>dayOfWeek</th>\n",
       "      <th>campaign</th>\n",
       "      <th>pdays</th>\n",
       "      <th>previous</th>\n",
       "      <th>poutcome</th>\n",
       "      <th>emp.var.rate</th>\n",
       "      <th>cons.price.idx</th>\n",
       "      <th>cons.conf.idx</th>\n",
       "      <th>euribor3m</th>\n",
       "      <th>nr.employed</th>\n",
       "    </tr>\n",
       "  </thead>\n",
       "  <tbody>\n",
       "    <tr>\n",
       "      <th>272</th>\n",
       "      <td>57</td>\n",
       "      <td>3.0</td>\n",
       "      <td>NaN</td>\n",
       "      <td>1.0</td>\n",
       "      <td>0.0</td>\n",
       "      <td>0.0</td>\n",
       "      <td>0.0</td>\n",
       "      <td>0</td>\n",
       "      <td>may</td>\n",
       "      <td>tue</td>\n",
       "      <td>1</td>\n",
       "      <td>999</td>\n",
       "      <td>0</td>\n",
       "      <td>nonexistent</td>\n",
       "      <td>1.1</td>\n",
       "      <td>93.994</td>\n",
       "      <td>-36.4</td>\n",
       "      <td>4.857</td>\n",
       "      <td>5191.0</td>\n",
       "    </tr>\n",
       "    <tr>\n",
       "      <th>882</th>\n",
       "      <td>35</td>\n",
       "      <td>7.0</td>\n",
       "      <td>NaN</td>\n",
       "      <td>6.0</td>\n",
       "      <td>0.0</td>\n",
       "      <td>0.0</td>\n",
       "      <td>0.0</td>\n",
       "      <td>1</td>\n",
       "      <td>nov</td>\n",
       "      <td>thu</td>\n",
       "      <td>1</td>\n",
       "      <td>999</td>\n",
       "      <td>0</td>\n",
       "      <td>nonexistent</td>\n",
       "      <td>-0.1</td>\n",
       "      <td>93.200</td>\n",
       "      <td>-42.0</td>\n",
       "      <td>4.076</td>\n",
       "      <td>5195.8</td>\n",
       "    </tr>\n",
       "    <tr>\n",
       "      <th>1049</th>\n",
       "      <td>37</td>\n",
       "      <td>1.0</td>\n",
       "      <td>NaN</td>\n",
       "      <td>6.0</td>\n",
       "      <td>0.0</td>\n",
       "      <td>0.0</td>\n",
       "      <td>0.0</td>\n",
       "      <td>1</td>\n",
       "      <td>jun</td>\n",
       "      <td>tue</td>\n",
       "      <td>1</td>\n",
       "      <td>999</td>\n",
       "      <td>0</td>\n",
       "      <td>nonexistent</td>\n",
       "      <td>-2.9</td>\n",
       "      <td>92.963</td>\n",
       "      <td>-40.8</td>\n",
       "      <td>1.262</td>\n",
       "      <td>5076.2</td>\n",
       "    </tr>\n",
       "    <tr>\n",
       "      <th>1289</th>\n",
       "      <td>59</td>\n",
       "      <td>3.0</td>\n",
       "      <td>NaN</td>\n",
       "      <td>6.0</td>\n",
       "      <td>NaN</td>\n",
       "      <td>0.0</td>\n",
       "      <td>0.0</td>\n",
       "      <td>0</td>\n",
       "      <td>may</td>\n",
       "      <td>tue</td>\n",
       "      <td>1</td>\n",
       "      <td>999</td>\n",
       "      <td>0</td>\n",
       "      <td>nonexistent</td>\n",
       "      <td>1.1</td>\n",
       "      <td>93.994</td>\n",
       "      <td>-36.4</td>\n",
       "      <td>4.857</td>\n",
       "      <td>5191.0</td>\n",
       "    </tr>\n",
       "    <tr>\n",
       "      <th>1644</th>\n",
       "      <td>36</td>\n",
       "      <td>10.0</td>\n",
       "      <td>NaN</td>\n",
       "      <td>6.0</td>\n",
       "      <td>0.0</td>\n",
       "      <td>1.0</td>\n",
       "      <td>0.0</td>\n",
       "      <td>1</td>\n",
       "      <td>aug</td>\n",
       "      <td>wed</td>\n",
       "      <td>1</td>\n",
       "      <td>999</td>\n",
       "      <td>0</td>\n",
       "      <td>nonexistent</td>\n",
       "      <td>1.4</td>\n",
       "      <td>93.444</td>\n",
       "      <td>-36.1</td>\n",
       "      <td>4.965</td>\n",
       "      <td>5228.1</td>\n",
       "    </tr>\n",
       "    <tr>\n",
       "      <th>1857</th>\n",
       "      <td>29</td>\n",
       "      <td>8.0</td>\n",
       "      <td>NaN</td>\n",
       "      <td>5.0</td>\n",
       "      <td>0.0</td>\n",
       "      <td>1.0</td>\n",
       "      <td>0.0</td>\n",
       "      <td>1</td>\n",
       "      <td>aug</td>\n",
       "      <td>wed</td>\n",
       "      <td>1</td>\n",
       "      <td>999</td>\n",
       "      <td>0</td>\n",
       "      <td>nonexistent</td>\n",
       "      <td>1.4</td>\n",
       "      <td>93.444</td>\n",
       "      <td>-36.1</td>\n",
       "      <td>4.965</td>\n",
       "      <td>5228.1</td>\n",
       "    </tr>\n",
       "    <tr>\n",
       "      <th>2532</th>\n",
       "      <td>56</td>\n",
       "      <td>4.0</td>\n",
       "      <td>NaN</td>\n",
       "      <td>1.0</td>\n",
       "      <td>0.0</td>\n",
       "      <td>0.0</td>\n",
       "      <td>0.0</td>\n",
       "      <td>1</td>\n",
       "      <td>apr</td>\n",
       "      <td>fri</td>\n",
       "      <td>1</td>\n",
       "      <td>999</td>\n",
       "      <td>0</td>\n",
       "      <td>nonexistent</td>\n",
       "      <td>-1.8</td>\n",
       "      <td>93.075</td>\n",
       "      <td>-47.1</td>\n",
       "      <td>1.405</td>\n",
       "      <td>5099.1</td>\n",
       "    </tr>\n",
       "    <tr>\n",
       "      <th>2547</th>\n",
       "      <td>34</td>\n",
       "      <td>5.0</td>\n",
       "      <td>NaN</td>\n",
       "      <td>5.0</td>\n",
       "      <td>0.0</td>\n",
       "      <td>1.0</td>\n",
       "      <td>1.0</td>\n",
       "      <td>1</td>\n",
       "      <td>may</td>\n",
       "      <td>tue</td>\n",
       "      <td>2</td>\n",
       "      <td>999</td>\n",
       "      <td>1</td>\n",
       "      <td>failure</td>\n",
       "      <td>-1.8</td>\n",
       "      <td>92.893</td>\n",
       "      <td>-46.2</td>\n",
       "      <td>1.344</td>\n",
       "      <td>5099.1</td>\n",
       "    </tr>\n",
       "    <tr>\n",
       "      <th>2798</th>\n",
       "      <td>34</td>\n",
       "      <td>10.0</td>\n",
       "      <td>NaN</td>\n",
       "      <td>6.0</td>\n",
       "      <td>0.0</td>\n",
       "      <td>1.0</td>\n",
       "      <td>0.0</td>\n",
       "      <td>1</td>\n",
       "      <td>jul</td>\n",
       "      <td>thu</td>\n",
       "      <td>1</td>\n",
       "      <td>999</td>\n",
       "      <td>0</td>\n",
       "      <td>nonexistent</td>\n",
       "      <td>1.4</td>\n",
       "      <td>93.918</td>\n",
       "      <td>-42.7</td>\n",
       "      <td>4.958</td>\n",
       "      <td>5228.1</td>\n",
       "    </tr>\n",
       "    <tr>\n",
       "      <th>3000</th>\n",
       "      <td>31</td>\n",
       "      <td>10.0</td>\n",
       "      <td>NaN</td>\n",
       "      <td>5.0</td>\n",
       "      <td>0.0</td>\n",
       "      <td>0.0</td>\n",
       "      <td>0.0</td>\n",
       "      <td>0</td>\n",
       "      <td>may</td>\n",
       "      <td>mon</td>\n",
       "      <td>8</td>\n",
       "      <td>999</td>\n",
       "      <td>0</td>\n",
       "      <td>nonexistent</td>\n",
       "      <td>1.1</td>\n",
       "      <td>93.994</td>\n",
       "      <td>-36.4</td>\n",
       "      <td>4.858</td>\n",
       "      <td>5191.0</td>\n",
       "    </tr>\n",
       "    <tr>\n",
       "      <th>3178</th>\n",
       "      <td>57</td>\n",
       "      <td>3.0</td>\n",
       "      <td>NaN</td>\n",
       "      <td>1.0</td>\n",
       "      <td>0.0</td>\n",
       "      <td>1.0</td>\n",
       "      <td>0.0</td>\n",
       "      <td>0</td>\n",
       "      <td>may</td>\n",
       "      <td>thu</td>\n",
       "      <td>10</td>\n",
       "      <td>999</td>\n",
       "      <td>0</td>\n",
       "      <td>nonexistent</td>\n",
       "      <td>1.1</td>\n",
       "      <td>93.994</td>\n",
       "      <td>-36.4</td>\n",
       "      <td>4.860</td>\n",
       "      <td>5191.0</td>\n",
       "    </tr>\n",
       "  </tbody>\n",
       "</table>\n",
       "</div>"
      ],
      "text/plain": [
       "      age   job marital  education  default  housing  loan  contact month  \\\n",
       "272    57   3.0     NaN        1.0      0.0      0.0   0.0        0   may   \n",
       "882    35   7.0     NaN        6.0      0.0      0.0   0.0        1   nov   \n",
       "1049   37   1.0     NaN        6.0      0.0      0.0   0.0        1   jun   \n",
       "1289   59   3.0     NaN        6.0      NaN      0.0   0.0        0   may   \n",
       "1644   36  10.0     NaN        6.0      0.0      1.0   0.0        1   aug   \n",
       "1857   29   8.0     NaN        5.0      0.0      1.0   0.0        1   aug   \n",
       "2532   56   4.0     NaN        1.0      0.0      0.0   0.0        1   apr   \n",
       "2547   34   5.0     NaN        5.0      0.0      1.0   1.0        1   may   \n",
       "2798   34  10.0     NaN        6.0      0.0      1.0   0.0        1   jul   \n",
       "3000   31  10.0     NaN        5.0      0.0      0.0   0.0        0   may   \n",
       "3178   57   3.0     NaN        1.0      0.0      1.0   0.0        0   may   \n",
       "\n",
       "     dayOfWeek  campaign  pdays  previous     poutcome  emp.var.rate  \\\n",
       "272        tue         1    999         0  nonexistent           1.1   \n",
       "882        thu         1    999         0  nonexistent          -0.1   \n",
       "1049       tue         1    999         0  nonexistent          -2.9   \n",
       "1289       tue         1    999         0  nonexistent           1.1   \n",
       "1644       wed         1    999         0  nonexistent           1.4   \n",
       "1857       wed         1    999         0  nonexistent           1.4   \n",
       "2532       fri         1    999         0  nonexistent          -1.8   \n",
       "2547       tue         2    999         1      failure          -1.8   \n",
       "2798       thu         1    999         0  nonexistent           1.4   \n",
       "3000       mon         8    999         0  nonexistent           1.1   \n",
       "3178       thu        10    999         0  nonexistent           1.1   \n",
       "\n",
       "      cons.price.idx  cons.conf.idx  euribor3m  nr.employed  \n",
       "272           93.994          -36.4      4.857       5191.0  \n",
       "882           93.200          -42.0      4.076       5195.8  \n",
       "1049          92.963          -40.8      1.262       5076.2  \n",
       "1289          93.994          -36.4      4.857       5191.0  \n",
       "1644          93.444          -36.1      4.965       5228.1  \n",
       "1857          93.444          -36.1      4.965       5228.1  \n",
       "2532          93.075          -47.1      1.405       5099.1  \n",
       "2547          92.893          -46.2      1.344       5099.1  \n",
       "2798          93.918          -42.7      4.958       5228.1  \n",
       "3000          93.994          -36.4      4.858       5191.0  \n",
       "3178          93.994          -36.4      4.860       5191.0  "
      ]
     },
     "execution_count": 103,
     "metadata": {},
     "output_type": "execute_result"
    }
   ],
   "source": [
    "bank[bank['marital'].isnull()]"
   ]
  },
  {
   "cell_type": "code",
   "execution_count": 104,
   "metadata": {},
   "outputs": [
    {
     "data": {
      "text/plain": [
       "37.0"
      ]
     },
     "execution_count": 104,
     "metadata": {},
     "output_type": "execute_result"
    }
   ],
   "source": [
    "bank.groupby('marital')['age'].quantile(.75)['single']"
   ]
  },
  {
   "cell_type": "code",
   "execution_count": 105,
   "metadata": {},
   "outputs": [],
   "source": [
    "def marital_imputer(df):\n",
    "    if df['age'] < bank.groupby('marital')['age'].quantile(.75)['single']:\n",
    "        return 'single'\n",
    "    else:\n",
    "        return bank['marital'].mode()[0]\n",
    "    "
   ]
  },
  {
   "cell_type": "code",
   "execution_count": 106,
   "metadata": {},
   "outputs": [],
   "source": [
    "bank.loc[bank['marital'].isnull(),'marital'] = bank.apply(marital_imputer,axis=1)"
   ]
  },
  {
   "cell_type": "code",
   "execution_count": 107,
   "metadata": {},
   "outputs": [
    {
     "data": {
      "text/html": [
       "<div>\n",
       "<style scoped>\n",
       "    .dataframe tbody tr th:only-of-type {\n",
       "        vertical-align: middle;\n",
       "    }\n",
       "\n",
       "    .dataframe tbody tr th {\n",
       "        vertical-align: top;\n",
       "    }\n",
       "\n",
       "    .dataframe thead th {\n",
       "        text-align: right;\n",
       "    }\n",
       "</style>\n",
       "<table border=\"1\" class=\"dataframe\">\n",
       "  <thead>\n",
       "    <tr style=\"text-align: right;\">\n",
       "      <th></th>\n",
       "      <th>age</th>\n",
       "      <th>job</th>\n",
       "      <th>marital</th>\n",
       "      <th>education</th>\n",
       "      <th>default</th>\n",
       "      <th>housing</th>\n",
       "      <th>loan</th>\n",
       "      <th>contact</th>\n",
       "      <th>month</th>\n",
       "      <th>dayOfWeek</th>\n",
       "      <th>campaign</th>\n",
       "      <th>pdays</th>\n",
       "      <th>previous</th>\n",
       "      <th>poutcome</th>\n",
       "      <th>emp.var.rate</th>\n",
       "      <th>cons.price.idx</th>\n",
       "      <th>cons.conf.idx</th>\n",
       "      <th>euribor3m</th>\n",
       "      <th>nr.employed</th>\n",
       "    </tr>\n",
       "  </thead>\n",
       "  <tbody>\n",
       "    <tr>\n",
       "      <th>272</th>\n",
       "      <td>57</td>\n",
       "      <td>3.0</td>\n",
       "      <td>married</td>\n",
       "      <td>1.0</td>\n",
       "      <td>0.0</td>\n",
       "      <td>0.0</td>\n",
       "      <td>0.0</td>\n",
       "      <td>0</td>\n",
       "      <td>may</td>\n",
       "      <td>tue</td>\n",
       "      <td>1</td>\n",
       "      <td>999</td>\n",
       "      <td>0</td>\n",
       "      <td>nonexistent</td>\n",
       "      <td>1.1</td>\n",
       "      <td>93.994</td>\n",
       "      <td>-36.4</td>\n",
       "      <td>4.857</td>\n",
       "      <td>5191.0</td>\n",
       "    </tr>\n",
       "    <tr>\n",
       "      <th>882</th>\n",
       "      <td>35</td>\n",
       "      <td>7.0</td>\n",
       "      <td>single</td>\n",
       "      <td>6.0</td>\n",
       "      <td>0.0</td>\n",
       "      <td>0.0</td>\n",
       "      <td>0.0</td>\n",
       "      <td>1</td>\n",
       "      <td>nov</td>\n",
       "      <td>thu</td>\n",
       "      <td>1</td>\n",
       "      <td>999</td>\n",
       "      <td>0</td>\n",
       "      <td>nonexistent</td>\n",
       "      <td>-0.1</td>\n",
       "      <td>93.200</td>\n",
       "      <td>-42.0</td>\n",
       "      <td>4.076</td>\n",
       "      <td>5195.8</td>\n",
       "    </tr>\n",
       "    <tr>\n",
       "      <th>1049</th>\n",
       "      <td>37</td>\n",
       "      <td>1.0</td>\n",
       "      <td>married</td>\n",
       "      <td>6.0</td>\n",
       "      <td>0.0</td>\n",
       "      <td>0.0</td>\n",
       "      <td>0.0</td>\n",
       "      <td>1</td>\n",
       "      <td>jun</td>\n",
       "      <td>tue</td>\n",
       "      <td>1</td>\n",
       "      <td>999</td>\n",
       "      <td>0</td>\n",
       "      <td>nonexistent</td>\n",
       "      <td>-2.9</td>\n",
       "      <td>92.963</td>\n",
       "      <td>-40.8</td>\n",
       "      <td>1.262</td>\n",
       "      <td>5076.2</td>\n",
       "    </tr>\n",
       "    <tr>\n",
       "      <th>1289</th>\n",
       "      <td>59</td>\n",
       "      <td>3.0</td>\n",
       "      <td>married</td>\n",
       "      <td>6.0</td>\n",
       "      <td>NaN</td>\n",
       "      <td>0.0</td>\n",
       "      <td>0.0</td>\n",
       "      <td>0</td>\n",
       "      <td>may</td>\n",
       "      <td>tue</td>\n",
       "      <td>1</td>\n",
       "      <td>999</td>\n",
       "      <td>0</td>\n",
       "      <td>nonexistent</td>\n",
       "      <td>1.1</td>\n",
       "      <td>93.994</td>\n",
       "      <td>-36.4</td>\n",
       "      <td>4.857</td>\n",
       "      <td>5191.0</td>\n",
       "    </tr>\n",
       "    <tr>\n",
       "      <th>1644</th>\n",
       "      <td>36</td>\n",
       "      <td>10.0</td>\n",
       "      <td>single</td>\n",
       "      <td>6.0</td>\n",
       "      <td>0.0</td>\n",
       "      <td>1.0</td>\n",
       "      <td>0.0</td>\n",
       "      <td>1</td>\n",
       "      <td>aug</td>\n",
       "      <td>wed</td>\n",
       "      <td>1</td>\n",
       "      <td>999</td>\n",
       "      <td>0</td>\n",
       "      <td>nonexistent</td>\n",
       "      <td>1.4</td>\n",
       "      <td>93.444</td>\n",
       "      <td>-36.1</td>\n",
       "      <td>4.965</td>\n",
       "      <td>5228.1</td>\n",
       "    </tr>\n",
       "    <tr>\n",
       "      <th>1857</th>\n",
       "      <td>29</td>\n",
       "      <td>8.0</td>\n",
       "      <td>single</td>\n",
       "      <td>5.0</td>\n",
       "      <td>0.0</td>\n",
       "      <td>1.0</td>\n",
       "      <td>0.0</td>\n",
       "      <td>1</td>\n",
       "      <td>aug</td>\n",
       "      <td>wed</td>\n",
       "      <td>1</td>\n",
       "      <td>999</td>\n",
       "      <td>0</td>\n",
       "      <td>nonexistent</td>\n",
       "      <td>1.4</td>\n",
       "      <td>93.444</td>\n",
       "      <td>-36.1</td>\n",
       "      <td>4.965</td>\n",
       "      <td>5228.1</td>\n",
       "    </tr>\n",
       "    <tr>\n",
       "      <th>2532</th>\n",
       "      <td>56</td>\n",
       "      <td>4.0</td>\n",
       "      <td>married</td>\n",
       "      <td>1.0</td>\n",
       "      <td>0.0</td>\n",
       "      <td>0.0</td>\n",
       "      <td>0.0</td>\n",
       "      <td>1</td>\n",
       "      <td>apr</td>\n",
       "      <td>fri</td>\n",
       "      <td>1</td>\n",
       "      <td>999</td>\n",
       "      <td>0</td>\n",
       "      <td>nonexistent</td>\n",
       "      <td>-1.8</td>\n",
       "      <td>93.075</td>\n",
       "      <td>-47.1</td>\n",
       "      <td>1.405</td>\n",
       "      <td>5099.1</td>\n",
       "    </tr>\n",
       "    <tr>\n",
       "      <th>2547</th>\n",
       "      <td>34</td>\n",
       "      <td>5.0</td>\n",
       "      <td>single</td>\n",
       "      <td>5.0</td>\n",
       "      <td>0.0</td>\n",
       "      <td>1.0</td>\n",
       "      <td>1.0</td>\n",
       "      <td>1</td>\n",
       "      <td>may</td>\n",
       "      <td>tue</td>\n",
       "      <td>2</td>\n",
       "      <td>999</td>\n",
       "      <td>1</td>\n",
       "      <td>failure</td>\n",
       "      <td>-1.8</td>\n",
       "      <td>92.893</td>\n",
       "      <td>-46.2</td>\n",
       "      <td>1.344</td>\n",
       "      <td>5099.1</td>\n",
       "    </tr>\n",
       "    <tr>\n",
       "      <th>2798</th>\n",
       "      <td>34</td>\n",
       "      <td>10.0</td>\n",
       "      <td>single</td>\n",
       "      <td>6.0</td>\n",
       "      <td>0.0</td>\n",
       "      <td>1.0</td>\n",
       "      <td>0.0</td>\n",
       "      <td>1</td>\n",
       "      <td>jul</td>\n",
       "      <td>thu</td>\n",
       "      <td>1</td>\n",
       "      <td>999</td>\n",
       "      <td>0</td>\n",
       "      <td>nonexistent</td>\n",
       "      <td>1.4</td>\n",
       "      <td>93.918</td>\n",
       "      <td>-42.7</td>\n",
       "      <td>4.958</td>\n",
       "      <td>5228.1</td>\n",
       "    </tr>\n",
       "    <tr>\n",
       "      <th>3000</th>\n",
       "      <td>31</td>\n",
       "      <td>10.0</td>\n",
       "      <td>single</td>\n",
       "      <td>5.0</td>\n",
       "      <td>0.0</td>\n",
       "      <td>0.0</td>\n",
       "      <td>0.0</td>\n",
       "      <td>0</td>\n",
       "      <td>may</td>\n",
       "      <td>mon</td>\n",
       "      <td>8</td>\n",
       "      <td>999</td>\n",
       "      <td>0</td>\n",
       "      <td>nonexistent</td>\n",
       "      <td>1.1</td>\n",
       "      <td>93.994</td>\n",
       "      <td>-36.4</td>\n",
       "      <td>4.858</td>\n",
       "      <td>5191.0</td>\n",
       "    </tr>\n",
       "    <tr>\n",
       "      <th>3178</th>\n",
       "      <td>57</td>\n",
       "      <td>3.0</td>\n",
       "      <td>married</td>\n",
       "      <td>1.0</td>\n",
       "      <td>0.0</td>\n",
       "      <td>1.0</td>\n",
       "      <td>0.0</td>\n",
       "      <td>0</td>\n",
       "      <td>may</td>\n",
       "      <td>thu</td>\n",
       "      <td>10</td>\n",
       "      <td>999</td>\n",
       "      <td>0</td>\n",
       "      <td>nonexistent</td>\n",
       "      <td>1.1</td>\n",
       "      <td>93.994</td>\n",
       "      <td>-36.4</td>\n",
       "      <td>4.860</td>\n",
       "      <td>5191.0</td>\n",
       "    </tr>\n",
       "  </tbody>\n",
       "</table>\n",
       "</div>"
      ],
      "text/plain": [
       "      age   job  marital  education  default  housing  loan  contact month  \\\n",
       "272    57   3.0  married        1.0      0.0      0.0   0.0        0   may   \n",
       "882    35   7.0   single        6.0      0.0      0.0   0.0        1   nov   \n",
       "1049   37   1.0  married        6.0      0.0      0.0   0.0        1   jun   \n",
       "1289   59   3.0  married        6.0      NaN      0.0   0.0        0   may   \n",
       "1644   36  10.0   single        6.0      0.0      1.0   0.0        1   aug   \n",
       "1857   29   8.0   single        5.0      0.0      1.0   0.0        1   aug   \n",
       "2532   56   4.0  married        1.0      0.0      0.0   0.0        1   apr   \n",
       "2547   34   5.0   single        5.0      0.0      1.0   1.0        1   may   \n",
       "2798   34  10.0   single        6.0      0.0      1.0   0.0        1   jul   \n",
       "3000   31  10.0   single        5.0      0.0      0.0   0.0        0   may   \n",
       "3178   57   3.0  married        1.0      0.0      1.0   0.0        0   may   \n",
       "\n",
       "     dayOfWeek  campaign  pdays  previous     poutcome  emp.var.rate  \\\n",
       "272        tue         1    999         0  nonexistent           1.1   \n",
       "882        thu         1    999         0  nonexistent          -0.1   \n",
       "1049       tue         1    999         0  nonexistent          -2.9   \n",
       "1289       tue         1    999         0  nonexistent           1.1   \n",
       "1644       wed         1    999         0  nonexistent           1.4   \n",
       "1857       wed         1    999         0  nonexistent           1.4   \n",
       "2532       fri         1    999         0  nonexistent          -1.8   \n",
       "2547       tue         2    999         1      failure          -1.8   \n",
       "2798       thu         1    999         0  nonexistent           1.4   \n",
       "3000       mon         8    999         0  nonexistent           1.1   \n",
       "3178       thu        10    999         0  nonexistent           1.1   \n",
       "\n",
       "      cons.price.idx  cons.conf.idx  euribor3m  nr.employed  \n",
       "272           93.994          -36.4      4.857       5191.0  \n",
       "882           93.200          -42.0      4.076       5195.8  \n",
       "1049          92.963          -40.8      1.262       5076.2  \n",
       "1289          93.994          -36.4      4.857       5191.0  \n",
       "1644          93.444          -36.1      4.965       5228.1  \n",
       "1857          93.444          -36.1      4.965       5228.1  \n",
       "2532          93.075          -47.1      1.405       5099.1  \n",
       "2547          92.893          -46.2      1.344       5099.1  \n",
       "2798          93.918          -42.7      4.958       5228.1  \n",
       "3000          93.994          -36.4      4.858       5191.0  \n",
       "3178          93.994          -36.4      4.860       5191.0  "
      ]
     },
     "execution_count": 107,
     "metadata": {},
     "output_type": "execute_result"
    }
   ],
   "source": [
    "bank[bank_raw['marital'].isnull()]"
   ]
  },
  {
   "cell_type": "code",
   "execution_count": 108,
   "metadata": {},
   "outputs": [],
   "source": [
    "bank = pd.get_dummies(bank,drop_first=True)"
   ]
  },
  {
   "cell_type": "code",
   "execution_count": 109,
   "metadata": {},
   "outputs": [
    {
     "data": {
      "text/plain": [
       "age                       0\n",
       "job                      39\n",
       "education               167\n",
       "default                 803\n",
       "housing                 105\n",
       "loan                    105\n",
       "contact                   0\n",
       "campaign                  0\n",
       "pdays                     0\n",
       "previous                  0\n",
       "emp.var.rate              0\n",
       "cons.price.idx            0\n",
       "cons.conf.idx             0\n",
       "euribor3m                 0\n",
       "nr.employed               0\n",
       "marital_married           0\n",
       "marital_single            0\n",
       "month_aug                 0\n",
       "month_dec                 0\n",
       "month_jul                 0\n",
       "month_jun                 0\n",
       "month_mar                 0\n",
       "month_may                 0\n",
       "month_nov                 0\n",
       "month_oct                 0\n",
       "month_sep                 0\n",
       "dayOfWeek_mon             0\n",
       "dayOfWeek_thu             0\n",
       "dayOfWeek_tue             0\n",
       "dayOfWeek_wed             0\n",
       "poutcome_nonexistent      0\n",
       "poutcome_success          0\n",
       "dtype: int64"
      ]
     },
     "execution_count": 109,
     "metadata": {},
     "output_type": "execute_result"
    }
   ],
   "source": [
    "bank.isnull().sum()"
   ]
  },
  {
   "cell_type": "code",
   "execution_count": 110,
   "metadata": {},
   "outputs": [
    {
     "data": {
      "text/plain": [
       "['marital', 'month', 'dayOfWeek', 'poutcome']"
      ]
     },
     "execution_count": 110,
     "metadata": {},
     "output_type": "execute_result"
    }
   ],
   "source": [
    "FEATURES['cat']"
   ]
  },
  {
   "cell_type": "code",
   "execution_count": 111,
   "metadata": {},
   "outputs": [],
   "source": [
    "to_impute_cols = ['age','job',\n",
    "                  'default','education',\n",
    "                  'housing','loan',\n",
    "                  'marital_married',\n",
    "                  'marital_single']"
   ]
  },
  {
   "cell_type": "markdown",
   "metadata": {},
   "source": [
    "## Impute missing values using KNN imputer"
   ]
  },
  {
   "cell_type": "code",
   "execution_count": 112,
   "metadata": {},
   "outputs": [],
   "source": [
    "from missingpy import KNNImputer, MissForest"
   ]
  },
  {
   "cell_type": "code",
   "execution_count": 113,
   "metadata": {},
   "outputs": [
    {
     "name": "stdout",
     "output_type": "stream",
     "text": [
      "Iteration: 0\n",
      "Iteration: 1\n",
      "Iteration: 2\n",
      "Iteration: 3\n",
      "Iteration: 4\n",
      "Iteration: 5\n"
     ]
    }
   ],
   "source": [
    "#imputer = KNNImputer(n_neighbors=2,weights='distance')\n",
    "imputer = MissForest()\n",
    "bank[to_impute_cols] = pd.DataFrame(imputer.fit_transform(bank[to_impute_cols]),columns=to_impute_cols)"
   ]
  },
  {
   "cell_type": "code",
   "execution_count": 114,
   "metadata": {},
   "outputs": [
    {
     "data": {
      "text/plain": [
       "age                     0\n",
       "job                     0\n",
       "education               0\n",
       "default                 0\n",
       "housing                 0\n",
       "loan                    0\n",
       "contact                 0\n",
       "campaign                0\n",
       "pdays                   0\n",
       "previous                0\n",
       "emp.var.rate            0\n",
       "cons.price.idx          0\n",
       "cons.conf.idx           0\n",
       "euribor3m               0\n",
       "nr.employed             0\n",
       "marital_married         0\n",
       "marital_single          0\n",
       "month_aug               0\n",
       "month_dec               0\n",
       "month_jul               0\n",
       "month_jun               0\n",
       "month_mar               0\n",
       "month_may               0\n",
       "month_nov               0\n",
       "month_oct               0\n",
       "month_sep               0\n",
       "dayOfWeek_mon           0\n",
       "dayOfWeek_thu           0\n",
       "dayOfWeek_tue           0\n",
       "dayOfWeek_wed           0\n",
       "poutcome_nonexistent    0\n",
       "poutcome_success        0\n",
       "dtype: int64"
      ]
     },
     "execution_count": 114,
     "metadata": {},
     "output_type": "execute_result"
    }
   ],
   "source": [
    "bank.isnull().sum()"
   ]
  },
  {
   "cell_type": "code",
   "execution_count": 115,
   "metadata": {},
   "outputs": [
    {
     "data": {
      "text/html": [
       "<div>\n",
       "<style scoped>\n",
       "    .dataframe tbody tr th:only-of-type {\n",
       "        vertical-align: middle;\n",
       "    }\n",
       "\n",
       "    .dataframe tbody tr th {\n",
       "        vertical-align: top;\n",
       "    }\n",
       "\n",
       "    .dataframe thead th {\n",
       "        text-align: right;\n",
       "    }\n",
       "</style>\n",
       "<table border=\"1\" class=\"dataframe\">\n",
       "  <thead>\n",
       "    <tr style=\"text-align: right;\">\n",
       "      <th></th>\n",
       "      <th>age</th>\n",
       "      <th>job</th>\n",
       "      <th>education</th>\n",
       "      <th>default</th>\n",
       "      <th>housing</th>\n",
       "      <th>loan</th>\n",
       "      <th>contact</th>\n",
       "      <th>campaign</th>\n",
       "      <th>pdays</th>\n",
       "      <th>previous</th>\n",
       "      <th>...</th>\n",
       "      <th>month_may</th>\n",
       "      <th>month_nov</th>\n",
       "      <th>month_oct</th>\n",
       "      <th>month_sep</th>\n",
       "      <th>dayOfWeek_mon</th>\n",
       "      <th>dayOfWeek_thu</th>\n",
       "      <th>dayOfWeek_tue</th>\n",
       "      <th>dayOfWeek_wed</th>\n",
       "      <th>poutcome_nonexistent</th>\n",
       "      <th>poutcome_success</th>\n",
       "    </tr>\n",
       "  </thead>\n",
       "  <tbody>\n",
       "    <tr>\n",
       "      <th>0</th>\n",
       "      <td>30.0</td>\n",
       "      <td>4.0</td>\n",
       "      <td>4.0</td>\n",
       "      <td>0.0</td>\n",
       "      <td>1.000000</td>\n",
       "      <td>0.000000</td>\n",
       "      <td>1</td>\n",
       "      <td>2</td>\n",
       "      <td>-1</td>\n",
       "      <td>0</td>\n",
       "      <td>...</td>\n",
       "      <td>1</td>\n",
       "      <td>0</td>\n",
       "      <td>0</td>\n",
       "      <td>0</td>\n",
       "      <td>0</td>\n",
       "      <td>0</td>\n",
       "      <td>0</td>\n",
       "      <td>0</td>\n",
       "      <td>1</td>\n",
       "      <td>0</td>\n",
       "    </tr>\n",
       "    <tr>\n",
       "      <th>1</th>\n",
       "      <td>39.0</td>\n",
       "      <td>5.0</td>\n",
       "      <td>5.0</td>\n",
       "      <td>0.0</td>\n",
       "      <td>0.000000</td>\n",
       "      <td>0.000000</td>\n",
       "      <td>0</td>\n",
       "      <td>4</td>\n",
       "      <td>-1</td>\n",
       "      <td>0</td>\n",
       "      <td>...</td>\n",
       "      <td>1</td>\n",
       "      <td>0</td>\n",
       "      <td>0</td>\n",
       "      <td>0</td>\n",
       "      <td>0</td>\n",
       "      <td>0</td>\n",
       "      <td>0</td>\n",
       "      <td>0</td>\n",
       "      <td>1</td>\n",
       "      <td>0</td>\n",
       "    </tr>\n",
       "    <tr>\n",
       "      <th>2</th>\n",
       "      <td>25.0</td>\n",
       "      <td>5.0</td>\n",
       "      <td>5.0</td>\n",
       "      <td>0.0</td>\n",
       "      <td>1.000000</td>\n",
       "      <td>0.000000</td>\n",
       "      <td>0</td>\n",
       "      <td>1</td>\n",
       "      <td>-1</td>\n",
       "      <td>0</td>\n",
       "      <td>...</td>\n",
       "      <td>0</td>\n",
       "      <td>0</td>\n",
       "      <td>0</td>\n",
       "      <td>0</td>\n",
       "      <td>0</td>\n",
       "      <td>0</td>\n",
       "      <td>0</td>\n",
       "      <td>1</td>\n",
       "      <td>1</td>\n",
       "      <td>0</td>\n",
       "    </tr>\n",
       "    <tr>\n",
       "      <th>3</th>\n",
       "      <td>38.0</td>\n",
       "      <td>5.0</td>\n",
       "      <td>4.0</td>\n",
       "      <td>0.0</td>\n",
       "      <td>0.292206</td>\n",
       "      <td>0.467421</td>\n",
       "      <td>0</td>\n",
       "      <td>3</td>\n",
       "      <td>-1</td>\n",
       "      <td>0</td>\n",
       "      <td>...</td>\n",
       "      <td>0</td>\n",
       "      <td>0</td>\n",
       "      <td>0</td>\n",
       "      <td>0</td>\n",
       "      <td>0</td>\n",
       "      <td>0</td>\n",
       "      <td>0</td>\n",
       "      <td>0</td>\n",
       "      <td>1</td>\n",
       "      <td>0</td>\n",
       "    </tr>\n",
       "    <tr>\n",
       "      <th>4</th>\n",
       "      <td>47.0</td>\n",
       "      <td>10.0</td>\n",
       "      <td>6.0</td>\n",
       "      <td>0.0</td>\n",
       "      <td>1.000000</td>\n",
       "      <td>0.000000</td>\n",
       "      <td>1</td>\n",
       "      <td>1</td>\n",
       "      <td>-1</td>\n",
       "      <td>0</td>\n",
       "      <td>...</td>\n",
       "      <td>0</td>\n",
       "      <td>1</td>\n",
       "      <td>0</td>\n",
       "      <td>0</td>\n",
       "      <td>1</td>\n",
       "      <td>0</td>\n",
       "      <td>0</td>\n",
       "      <td>0</td>\n",
       "      <td>1</td>\n",
       "      <td>0</td>\n",
       "    </tr>\n",
       "  </tbody>\n",
       "</table>\n",
       "<p>5 rows × 32 columns</p>\n",
       "</div>"
      ],
      "text/plain": [
       "    age   job  education  default   housing      loan  contact  campaign  \\\n",
       "0  30.0   4.0        4.0      0.0  1.000000  0.000000        1         2   \n",
       "1  39.0   5.0        5.0      0.0  0.000000  0.000000        0         4   \n",
       "2  25.0   5.0        5.0      0.0  1.000000  0.000000        0         1   \n",
       "3  38.0   5.0        4.0      0.0  0.292206  0.467421        0         3   \n",
       "4  47.0  10.0        6.0      0.0  1.000000  0.000000        1         1   \n",
       "\n",
       "   pdays  previous  ...  month_may  month_nov  month_oct  month_sep  \\\n",
       "0     -1         0  ...          1          0          0          0   \n",
       "1     -1         0  ...          1          0          0          0   \n",
       "2     -1         0  ...          0          0          0          0   \n",
       "3     -1         0  ...          0          0          0          0   \n",
       "4     -1         0  ...          0          1          0          0   \n",
       "\n",
       "   dayOfWeek_mon  dayOfWeek_thu  dayOfWeek_tue  dayOfWeek_wed  \\\n",
       "0              0              0              0              0   \n",
       "1              0              0              0              0   \n",
       "2              0              0              0              1   \n",
       "3              0              0              0              0   \n",
       "4              1              0              0              0   \n",
       "\n",
       "   poutcome_nonexistent  poutcome_success  \n",
       "0                     1                 0  \n",
       "1                     1                 0  \n",
       "2                     1                 0  \n",
       "3                     1                 0  \n",
       "4                     1                 0  \n",
       "\n",
       "[5 rows x 32 columns]"
      ]
     },
     "execution_count": 115,
     "metadata": {},
     "output_type": "execute_result"
    }
   ],
   "source": [
    "bank.loc[bank['pdays']==999,'pdays'] = -1\n",
    "bank.head()"
   ]
  },
  {
   "cell_type": "markdown",
   "metadata": {},
   "source": [
    "## **Feature Engineering**\n",
    "- Check pairwise feature correlation\n",
    "- Create interaction of feature pairs with high correlation (>0.4)"
   ]
  },
  {
   "cell_type": "code",
   "execution_count": 116,
   "metadata": {},
   "outputs": [],
   "source": [
    "corr_df = bank.corr()"
   ]
  },
  {
   "cell_type": "code",
   "execution_count": 117,
   "metadata": {},
   "outputs": [],
   "source": [
    "''' Create a dictionary with feature pairs as keys and their correlations as values'''\n",
    "corr_dict = {}\n",
    "for key, val in corr_df.unstack().to_dict().items():\n",
    "    if (key == key[::-1]) or (key in corr_dict) or (key[::-1] in corr_dict):\n",
    "        pass\n",
    "    else:\n",
    "        corr_dict[key] = val"
   ]
  },
  {
   "cell_type": "code",
   "execution_count": 118,
   "metadata": {},
   "outputs": [
    {
     "name": "stdout",
     "output_type": "stream",
     "text": [
      "Total pairs with corr greater than 0.40: 15\n"
     ]
    }
   ],
   "source": [
    "'''Find feature pairs with corr > 0.4'''\n",
    "high_corr_dict = {}\n",
    "targetCorr = 0.4\n",
    "for key, val in corr_dict.items():\n",
    "    if val > targetCorr:\n",
    "        high_corr_dict[key] = val\n",
    "        \n",
    "print('Total pairs with corr greater than %.2f: %i' %(targetCorr,len(high_corr_dict)))\n",
    "\n",
    "'''Sort corr dict in descending order'''\n",
    "from collections import OrderedDict\n",
    "high_corr_dict = OrderedDict(sorted(high_corr_dict.items(), key=lambda x: x[1],reverse=True))\n",
    "#print(high_corr_dict)"
   ]
  },
  {
   "cell_type": "code",
   "execution_count": 119,
   "metadata": {},
   "outputs": [],
   "source": [
    "interactions = []\n",
    "for feat1, feat2 in high_corr_dict:\n",
    "    bank['X'.join([feat1,feat2])] = bank[feat1] * bank[feat2]\n",
    "    interactions.append('X'.join([feat1,feat2]))"
   ]
  },
  {
   "cell_type": "markdown",
   "metadata": {},
   "source": [
    "## **Correlation with the target variable**\n",
    "High correlations with newly engineered feature is a good indication"
   ]
  },
  {
   "cell_type": "code",
   "execution_count": 120,
   "metadata": {},
   "outputs": [
    {
     "data": {
      "text/plain": [
       "poutcome_success             0.325804\n",
       "previousXpoutcome_success    0.305612\n",
       "pdays                        0.271290\n",
       "pdaysXpoutcome_success       0.266920\n",
       "previous                     0.255697\n",
       "pdaysXprevious               0.221360\n",
       "month_mar                    0.164775\n",
       "contact                      0.137401\n",
       "month_sep                    0.119395\n",
       "month_oct                    0.105684\n",
       "dtype: float64"
      ]
     },
     "execution_count": 120,
     "metadata": {},
     "output_type": "execute_result"
    }
   ],
   "source": [
    "bank.corrwith(y,method='pearson').sort_values(ascending = False)[:10]"
   ]
  },
  {
   "cell_type": "code",
   "execution_count": 121,
   "metadata": {},
   "outputs": [
    {
     "data": {
      "text/plain": [
       "emp.var.rateXeuribor3m           -0.233793\n",
       "emp.var.rateXnr.employed         -0.281200\n",
       "euribor3mXpoutcome_nonexistent   -0.281605\n",
       "emp.var.rate                     -0.283216\n",
       "emp.var.rateXcons.price.idx      -0.283585\n",
       "cons.price.idxXeuribor3m         -0.297866\n",
       "euribor3mXnr.employed            -0.298304\n",
       "euribor3m                        -0.298565\n",
       "cons.price.idxXnr.employed       -0.310298\n",
       "nr.employed                      -0.349241\n",
       "dtype: float64"
      ]
     },
     "execution_count": 121,
     "metadata": {},
     "output_type": "execute_result"
    }
   ],
   "source": [
    "bank.corrwith(y).sort_values(ascending = False)[-10:]"
   ]
  },
  {
   "cell_type": "markdown",
   "metadata": {},
   "source": [
    "## **Three-way interactions and some polynomial features**"
   ]
  },
  {
   "cell_type": "code",
   "execution_count": 51,
   "metadata": {},
   "outputs": [],
   "source": [
    "bank['pdaysSq'] = bank['pdays']**2\n",
    "bank['previousSq'] = bank['previous']**2\n",
    "bank['pdaysXpreviousXpoutcome_success'] = bank['pdays']*bank['previous']*bank['poutcome_success']\n",
    "\n",
    "bank['nr.employedSq'] = bank['nr.employed']**2\n",
    "bank['euribor3mSq'] = bank['euribor3m']**2\n",
    "bank['euribor3mXnr.employedXcons.price'] = bank['euribor3m']*bank['nr.employed']*bank['cons.conf.idx']\n",
    "\n",
    "bank['emp.var.rateSq'] = bank['emp.var.rate']**2\n",
    "bank['emp.var.rateXnr_employedXcons.price.idx'] = bank['emp.var.rate']*bank['nr.employed']*bank['cons.conf.idx']\n"
   ]
  },
  {
   "cell_type": "code",
   "execution_count": 52,
   "metadata": {},
   "outputs": [
    {
     "data": {
      "text/plain": [
       "pdays                                      0.331325\n",
       "previousXpoutcome_success                  0.326988\n",
       "poutcome_success                           0.325804\n",
       "pdaysXpreviousXpoutcome_success            0.321251\n",
       "pdaysSq                                    0.321166\n",
       "pdaysXpoutcome_success                     0.320317\n",
       "euribor3mXnr.employedXcons.price           0.256593\n",
       "emp.var.rateXnr_employedXcons.price.idx    0.216796\n",
       "previousSq                                 0.216074\n",
       "previous                                   0.216074\n",
       "dtype: float64"
      ]
     },
     "execution_count": 52,
     "metadata": {},
     "output_type": "execute_result"
    }
   ],
   "source": [
    "bank.corrwith(y,method='spearman').sort_values(ascending = False)[:10]"
   ]
  },
  {
   "cell_type": "code",
   "execution_count": 53,
   "metadata": {},
   "outputs": [
    {
     "data": {
      "text/plain": [
       "euribor3mXpoutcome_nonexistent   -0.281605\n",
       "euribor3mSq                      -0.281642\n",
       "emp.var.rate                     -0.283216\n",
       "emp.var.rateXcons.price.idx      -0.283585\n",
       "cons.price.idxXeuribor3m         -0.297866\n",
       "euribor3mXnr.employed            -0.298304\n",
       "euribor3m                        -0.298565\n",
       "cons.price.idxXnr.employed       -0.310298\n",
       "nr.employedSq                    -0.348148\n",
       "nr.employed                      -0.349241\n",
       "dtype: float64"
      ]
     },
     "execution_count": 53,
     "metadata": {},
     "output_type": "execute_result"
    }
   ],
   "source": [
    "bank.corrwith(y).sort_values(ascending = False)[-10:]"
   ]
  },
  {
   "cell_type": "markdown",
   "metadata": {},
   "source": [
    "# **Building model**"
   ]
  },
  {
   "cell_type": "code",
   "execution_count": 54,
   "metadata": {},
   "outputs": [],
   "source": [
    "from sklearn.model_selection import train_test_split\n",
    "from sklearn.linear_model import LogisticRegression"
   ]
  },
  {
   "cell_type": "code",
   "execution_count": 55,
   "metadata": {},
   "outputs": [
    {
     "name": "stdout",
     "output_type": "stream",
     "text": [
      "X_train : (2883, 55)\n",
      "X_test : (1236, 55)\n",
      "y_train : (2883,)\n",
      "y_test : (1236,)\n"
     ]
    }
   ],
   "source": [
    "X = bank.copy()\n",
    "X_train, X_test, y_train, y_test = train_test_split(X, y, test_size=0.3, random_state=42)\n",
    "print(\"X_train : \" + str(X_train.shape))\n",
    "print(\"X_test : \" + str(X_test.shape))\n",
    "print(\"y_train : \" + str(y_train.shape))\n",
    "print(\"y_test : \" + str(y_test.shape))"
   ]
  },
  {
   "cell_type": "markdown",
   "metadata": {},
   "source": [
    "## **Feature Standardize**"
   ]
  },
  {
   "cell_type": "code",
   "execution_count": 56,
   "metadata": {},
   "outputs": [],
   "source": [
    "feat_to_norm = ['age','campaign','pdays',\n",
    "                'previous','emp.var.rate',\n",
    "                'cons.price.idx','cons.conf.idx',\n",
    "                'euribor3m','nr.employed',\n",
    "                'job', 'education']\\\n",
    "                + [inter for inter in interactions if len(inter.split('_')) < 3]\\\n",
    "                + ['pdaysSq','previousSq','pdaysXpreviousXpoutcome_success']\\\n",
    "                + ['nr.employedSq','euribor3mSq','euribor3mXnr.employedXcons.price']\\\n",
    "                + ['emp.var.rateSq','emp.var.rateXnr_employedXcons.price.idx']"
   ]
  },
  {
   "cell_type": "code",
   "execution_count": 57,
   "metadata": {},
   "outputs": [],
   "source": [
    "from sklearn.preprocessing import StandardScaler\n",
    "\n",
    "ss = StandardScaler()\n",
    "ss.fit(X_train[feat_to_norm])\n",
    "\n",
    "X_num_train_norm = pd.DataFrame(ss.transform(X_train[feat_to_norm]),columns=feat_to_norm,index=X_train.index)\n",
    "X_cat_train = X_train[[col for col in X_train.columns if col not in feat_to_norm]]\n",
    "X_train_preproc = pd.concat([X_num_train_norm,X_cat_train],axis=1)\n",
    "\n",
    "X_num_test_norm = pd.DataFrame(ss.transform(X_test[feat_to_norm]),columns=feat_to_norm,index=X_test.index)\n",
    "X_cat_test = X_test[[col for col in X_test.columns if col not in feat_to_norm]]\n",
    "X_test_preproc = pd.concat([X_num_test_norm,X_cat_test],axis=1)"
   ]
  },
  {
   "cell_type": "code",
   "execution_count": 58,
   "metadata": {},
   "outputs": [],
   "source": [
    "from sklearn.metrics import f1_score, confusion_matrix, classification_report, accuracy_score\n",
    "\n",
    "from sklearn.model_selection import GridSearchCV\n",
    "from sklearn.model_selection import cross_val_predict\n",
    "\n",
    "\n",
    "from sklearn.metrics import precision_recall_curve\n",
    "from sklearn.metrics import average_precision_score\n",
    "\n",
    "from sklearn.metrics import precision_score\n",
    "from sklearn.metrics import recall_score\n",
    "\n",
    "from sklearn.metrics import roc_curve\n",
    "from sklearn.metrics import roc_auc_score"
   ]
  },
  {
   "cell_type": "markdown",
   "metadata": {},
   "source": [
    "### **IMP Note**\n",
    "\n",
    "We are interesed in predicting if the client will subscribe a bank term deposite based and their data. \n",
    "This can help in idenetifying types of clients that are most likely to subscribe. \n",
    "Knowing client types that are most likely to subscribe can help bank marketeer in carrring out targeted marketing campiang.\n",
    "\n",
    "The postive (hit) class is only approximatly 11% of the total data. A 100% hit class recall (TRP)\n",
    "with ressonable trade-off with false positve rate is acceptable. Hence, we want to build a classifier that yields high roc_auc_score,"
   ]
  },
  {
   "cell_type": "code",
   "execution_count": 59,
   "metadata": {},
   "outputs": [],
   "source": [
    "def plot_precision_recall_vs_threshold(model,X_train_preproc,y_train):\n",
    "    \n",
    "    y_train_scores = cross_val_predict(model,X_train_preproc,y_train,\n",
    "                                   cv=5,method=\"decision_function\")\n",
    "    precision, recalls, thresholds = precision_recall_curve(y_train,y_train_scores)\n",
    "    \n",
    "    plt.plot(thresholds,precision[:-1],\"b--\",label=\"Precision\")\n",
    "    plt.plot(thresholds,recalls[:-1],\"g--\",label=\"Recall\")\n",
    "    plt.xlabel(\"Threshold\")\n",
    "    plt.legend(loc=\"upper left\")\n",
    "    plt.ylim([0,1])\n",
    "    \n",
    "    plt.figure()\n",
    "    plt.plot(recalls,precision)\n",
    "    plt.xlabel('Recall')\n",
    "    plt.ylabel('Precision')\n",
    "    plt.title('Presicion vs. Recall')\n",
    "    return (precision, recalls)\n",
    "\n",
    "\n",
    "def plot_roc_curve(model,X_train_preproc,y_train):\n",
    "    y_train_scores = cross_val_predict(model,X_train_preproc,y_train,\n",
    "                                   cv=5,method=\"decision_function\")\n",
    "    fpr,tpr,threshold = roc_curve(y_train,y_train_scores)\n",
    "    plt.figure()\n",
    "    plt.plot(fpr,tpr,linewidth = 2,label=None)\n",
    "    plt.plot([0,1],[0,1],'k--')\n",
    "    plt.xlabel('False Positive Rate')\n",
    "    plt.ylabel('True Positive Rate')\n",
    "    plt.title('ROC curve')\n",
    "    \n",
    "    return (fpr,tpr)"
   ]
  },
  {
   "cell_type": "markdown",
   "metadata": {},
   "source": [
    "## **Dirty model**"
   ]
  },
  {
   "cell_type": "code",
   "execution_count": 68,
   "metadata": {},
   "outputs": [],
   "source": [
    "threshold = 0.3"
   ]
  },
  {
   "cell_type": "code",
   "execution_count": 60,
   "metadata": {},
   "outputs": [],
   "source": [
    "logit = LogisticRegression(penalty=\"l2\",\n",
    "                           random_state = 42,\n",
    "                           class_weight='balanced',\n",
    "                           solver = 'liblinear',\n",
    "                           max_iter = 1000)"
   ]
  },
  {
   "cell_type": "code",
   "execution_count": 75,
   "metadata": {},
   "outputs": [
    {
     "name": "stderr",
     "output_type": "stream",
     "text": [
      "/home/climbach/anaconda3/lib/python3.7/site-packages/sklearn/linear_model/logistic.py:1510: UserWarning: Setting penalty='none' will ignore the C and l1_ratio parameters\n",
      "  \"Setting penalty='none' will ignore the C and l1_ratio \"\n",
      "/home/climbach/anaconda3/lib/python3.7/site-packages/sklearn/linear_model/sag.py:337: ConvergenceWarning: The max_iter was reached which means the coef_ did not converge\n",
      "  \"the coef_ did not converge\", ConvergenceWarning)\n",
      "/home/climbach/anaconda3/lib/python3.7/site-packages/sklearn/linear_model/logistic.py:1510: UserWarning: Setting penalty='none' will ignore the C and l1_ratio parameters\n",
      "  \"Setting penalty='none' will ignore the C and l1_ratio \"\n"
     ]
    },
    {
     "name": "stdout",
     "output_type": "stream",
     "text": [
      "----------------------Accuracies-----------------------\n",
      "Train accuracy: 0.4762\n",
      "Test accuracy: 0.4660\n",
      "----------------Precision-Recall Scores----------------\n",
      "Train: 0.4559\n",
      "Test: 0.4284\n",
      "-------------------------------------------------------\n",
      "f1 score: 0.2466\n",
      "ROC and AUC scores: 0.6240\n",
      "-------------------------------------------------------\n",
      "Confusion matrix:\n",
      "[[468 637]\n",
      " [ 23 108]]\n",
      "-------------------------------------------------------\n",
      "Classification report:\n",
      "              precision    recall  f1-score   support\n",
      "\n",
      "           0       0.95      0.42      0.59      1105\n",
      "           1       0.14      0.82      0.25       131\n",
      "\n",
      "    accuracy                           0.47      1236\n",
      "   macro avg       0.55      0.62      0.42      1236\n",
      "weighted avg       0.87      0.47      0.55      1236\n",
      "\n"
     ]
    },
    {
     "name": "stderr",
     "output_type": "stream",
     "text": [
      "/home/climbach/anaconda3/lib/python3.7/site-packages/sklearn/linear_model/sag.py:337: ConvergenceWarning: The max_iter was reached which means the coef_ did not converge\n",
      "  \"the coef_ did not converge\", ConvergenceWarning)\n",
      "/home/climbach/anaconda3/lib/python3.7/site-packages/sklearn/linear_model/logistic.py:1510: UserWarning: Setting penalty='none' will ignore the C and l1_ratio parameters\n",
      "  \"Setting penalty='none' will ignore the C and l1_ratio \"\n",
      "/home/climbach/anaconda3/lib/python3.7/site-packages/sklearn/linear_model/sag.py:337: ConvergenceWarning: The max_iter was reached which means the coef_ did not converge\n",
      "  \"the coef_ did not converge\", ConvergenceWarning)\n",
      "/home/climbach/anaconda3/lib/python3.7/site-packages/sklearn/linear_model/logistic.py:1510: UserWarning: Setting penalty='none' will ignore the C and l1_ratio parameters\n",
      "  \"Setting penalty='none' will ignore the C and l1_ratio \"\n",
      "/home/climbach/anaconda3/lib/python3.7/site-packages/sklearn/linear_model/sag.py:337: ConvergenceWarning: The max_iter was reached which means the coef_ did not converge\n",
      "  \"the coef_ did not converge\", ConvergenceWarning)\n",
      "/home/climbach/anaconda3/lib/python3.7/site-packages/sklearn/linear_model/logistic.py:1510: UserWarning: Setting penalty='none' will ignore the C and l1_ratio parameters\n",
      "  \"Setting penalty='none' will ignore the C and l1_ratio \"\n",
      "/home/climbach/anaconda3/lib/python3.7/site-packages/sklearn/linear_model/sag.py:337: ConvergenceWarning: The max_iter was reached which means the coef_ did not converge\n",
      "  \"the coef_ did not converge\", ConvergenceWarning)\n",
      "/home/climbach/anaconda3/lib/python3.7/site-packages/sklearn/linear_model/logistic.py:1510: UserWarning: Setting penalty='none' will ignore the C and l1_ratio parameters\n",
      "  \"Setting penalty='none' will ignore the C and l1_ratio \"\n",
      "/home/climbach/anaconda3/lib/python3.7/site-packages/sklearn/linear_model/sag.py:337: ConvergenceWarning: The max_iter was reached which means the coef_ did not converge\n",
      "  \"the coef_ did not converge\", ConvergenceWarning)\n",
      "/home/climbach/anaconda3/lib/python3.7/site-packages/sklearn/linear_model/logistic.py:1510: UserWarning: Setting penalty='none' will ignore the C and l1_ratio parameters\n",
      "  \"Setting penalty='none' will ignore the C and l1_ratio \"\n",
      "/home/climbach/anaconda3/lib/python3.7/site-packages/sklearn/linear_model/sag.py:337: ConvergenceWarning: The max_iter was reached which means the coef_ did not converge\n",
      "  \"the coef_ did not converge\", ConvergenceWarning)\n",
      "/home/climbach/anaconda3/lib/python3.7/site-packages/sklearn/linear_model/logistic.py:1510: UserWarning: Setting penalty='none' will ignore the C and l1_ratio parameters\n",
      "  \"Setting penalty='none' will ignore the C and l1_ratio \"\n",
      "/home/climbach/anaconda3/lib/python3.7/site-packages/sklearn/linear_model/sag.py:337: ConvergenceWarning: The max_iter was reached which means the coef_ did not converge\n",
      "  \"the coef_ did not converge\", ConvergenceWarning)\n",
      "/home/climbach/anaconda3/lib/python3.7/site-packages/sklearn/linear_model/logistic.py:1510: UserWarning: Setting penalty='none' will ignore the C and l1_ratio parameters\n",
      "  \"Setting penalty='none' will ignore the C and l1_ratio \"\n",
      "/home/climbach/anaconda3/lib/python3.7/site-packages/sklearn/linear_model/sag.py:337: ConvergenceWarning: The max_iter was reached which means the coef_ did not converge\n",
      "  \"the coef_ did not converge\", ConvergenceWarning)\n",
      "/home/climbach/anaconda3/lib/python3.7/site-packages/sklearn/linear_model/logistic.py:1510: UserWarning: Setting penalty='none' will ignore the C and l1_ratio parameters\n",
      "  \"Setting penalty='none' will ignore the C and l1_ratio \"\n",
      "/home/climbach/anaconda3/lib/python3.7/site-packages/sklearn/linear_model/sag.py:337: ConvergenceWarning: The max_iter was reached which means the coef_ did not converge\n",
      "  \"the coef_ did not converge\", ConvergenceWarning)\n",
      "/home/climbach/anaconda3/lib/python3.7/site-packages/sklearn/linear_model/logistic.py:1510: UserWarning: Setting penalty='none' will ignore the C and l1_ratio parameters\n",
      "  \"Setting penalty='none' will ignore the C and l1_ratio \"\n",
      "/home/climbach/anaconda3/lib/python3.7/site-packages/sklearn/linear_model/sag.py:337: ConvergenceWarning: The max_iter was reached which means the coef_ did not converge\n",
      "  \"the coef_ did not converge\", ConvergenceWarning)\n"
     ]
    },
    {
     "data": {
      "image/png": "[encoded data removed]",
      "text/plain": [
       "<Figure size 432x288 with 1 Axes>"
      ]
     },
     "metadata": {
      "needs_background": "light"
     },
     "output_type": "display_data"
    },
    {
     "data": {
      "image/png": "[encoded data removed]",
      "text/plain": [
       "<Figure size 432x288 with 1 Axes>"
      ]
     },
     "metadata": {
      "needs_background": "light"
     },
     "output_type": "display_data"
    },
    {
     "data": {
      "image/png": "[encoded data removed]",
      "text/plain": [
       "<Figure size 432x288 with 1 Axes>"
      ]
     },
     "metadata": {
      "needs_background": "light"
     },
     "output_type": "display_data"
    }
   ],
   "source": [
    "logit.fit(X_train_preproc,y_train)\n",
    "\n",
    "y_train_prob = logit.predict_proba(X_train_preproc)[:,1]\n",
    "y_train_pred = (y_train_prob > threshold).astype(int)\n",
    "\n",
    "y_test_prob = logit.predict_proba(X_test_preproc)[:,1]\n",
    "y_test_pred = (y_test_prob > threshold).astype(int)\n",
    "\n",
    "y_scores_train = logit.decision_function(X_train_preproc)\n",
    "y_scores_test = logit.decision_function(X_test_preproc)\n",
    "\n",
    "print('-'*22+'Accuracies'+'-'*23)\n",
    "print('Train accuracy: %.4f' %(accuracy_score(y_train,y_train_pred)))\n",
    "print('Test accuracy: %.4f' %(accuracy_score(y_test,y_test_pred)))\n",
    "print('-'*16+'Precision-Recall Scores'+'-'*16)\n",
    "print('Train: %.4f' %(average_precision_score(y_train,y_scores_train)))\n",
    "print('Test: %.4f'%(average_precision_score(y_test,y_scores_test)))\n",
    "print('-'*55)\n",
    "print('f1 score: %.4f' %(f1_score(y_test,y_test_pred)))\n",
    "print('ROC and AUC scores: %.4f' %(roc_auc_score(y_test,y_test_pred)))\n",
    "print('-'*55)\n",
    "print('Confusion matrix:')\n",
    "print(confusion_matrix(y_test,y_test_pred))\n",
    "print('-'*55)\n",
    "print('Classification report:')\n",
    "print(classification_report(y_test,y_test_pred))\n",
    "\n",
    "precision,recalls=plot_precision_recall_vs_threshold(logit,X_train_preproc,y_train)\n",
    "fpr,tpr = plot_roc_curve(logit,X_train_preproc,y_train)"
   ]
  },
  {
   "cell_type": "markdown",
   "metadata": {},
   "source": [
    "# **Model Building with CV**"
   ]
  },
  {
   "cell_type": "code",
   "execution_count": 71,
   "metadata": {},
   "outputs": [],
   "source": [
    "from collections import namedtuple\n",
    "\n",
    "models = namedtuple('models',['name','params','precision_recall_train','precision_recall_test'])\n",
    "model_list = []"
   ]
  },
  {
   "cell_type": "markdown",
   "metadata": {},
   "source": [
    "## **1. Logistic Regression with no regularization**\n",
    "\n",
    "Precision-recall scoring criteria used to optimize the model.\n",
    "When positive class is rare or when you care more about the false positive than the false negatives, and ROC score otherwise. \n",
    "Other scoring criteria can be found at https://scikit-learn.org/stable/modules/model_evaluation.html"
   ]
  },
  {
   "cell_type": "code",
   "execution_count": 72,
   "metadata": {},
   "outputs": [
    {
     "name": "stderr",
     "output_type": "stream",
     "text": [
      "/home/climbach/anaconda3/lib/python3.7/site-packages/sklearn/linear_model/logistic.py:1510: UserWarning: Setting penalty='none' will ignore the C and l1_ratio parameters\n",
      "  \"Setting penalty='none' will ignore the C and l1_ratio \"\n",
      "/home/climbach/anaconda3/lib/python3.7/site-packages/sklearn/linear_model/sag.py:337: ConvergenceWarning: The max_iter was reached which means the coef_ did not converge\n",
      "  \"the coef_ did not converge\", ConvergenceWarning)\n"
     ]
    },
    {
     "data": {
      "text/plain": [
       "LogisticRegression(C=0.0001, class_weight='balanced', dual=False,\n",
       "                   fit_intercept=True, intercept_scaling=1, l1_ratio=None,\n",
       "                   max_iter=100, multi_class='warn', n_jobs=None,\n",
       "                   penalty='none', random_state=42, solver='saga', tol=0.0001,\n",
       "                   verbose=0, warm_start=False)"
      ]
     },
     "execution_count": 72,
     "metadata": {},
     "output_type": "execute_result"
    }
   ],
   "source": [
    "param_grid = {'C':[0.0001, 0.0003, 0.0006, \n",
    "                   0.001, 0.003, 0.006, 0.01, \n",
    "                   0.03, 0.06, 0.1, 0.3, 0.6, \n",
    "                   1, 3, 6, 10, 30, 60, 100],\n",
    "                 'class_weight':[None,'balanced'],\n",
    "                 'solver':['newton-cg', 'lbfgs','sag','saga'],\n",
    "             }\n",
    "logit_cv = GridSearchCV(LogisticRegression(penalty='none',random_state=42),param_grid=param_grid,n_jobs=-1,cv=10,\n",
    "                        scoring='recall')\n",
    "logit_cv.fit(X_train_preproc,y_train)\n",
    "logit_cv.best_estimator_"
   ]
  },
  {
   "cell_type": "code",
   "execution_count": 74,
   "metadata": {},
   "outputs": [
    {
     "name": "stderr",
     "output_type": "stream",
     "text": [
      "/home/climbach/anaconda3/lib/python3.7/site-packages/sklearn/linear_model/logistic.py:1510: UserWarning: Setting penalty='none' will ignore the C and l1_ratio parameters\n",
      "  \"Setting penalty='none' will ignore the C and l1_ratio \"\n",
      "/home/climbach/anaconda3/lib/python3.7/site-packages/sklearn/linear_model/sag.py:337: ConvergenceWarning: The max_iter was reached which means the coef_ did not converge\n",
      "  \"the coef_ did not converge\", ConvergenceWarning)\n",
      "/home/climbach/anaconda3/lib/python3.7/site-packages/sklearn/linear_model/logistic.py:1510: UserWarning: Setting penalty='none' will ignore the C and l1_ratio parameters\n",
      "  \"Setting penalty='none' will ignore the C and l1_ratio \"\n"
     ]
    },
    {
     "name": "stdout",
     "output_type": "stream",
     "text": [
      "----------------------Accuracies-----------------------\n",
      "Train accuracy: 0.4762\n",
      "Test accuracy: 0.4660\n",
      "----------------Precision-Recall Scores----------------\n",
      "Train: 0.4559\n",
      "Test: 0.4284\n",
      "-------------------------------------------------------\n",
      "f1 score: 0.2466\n",
      "ROC and AUC scores: 0.6240\n",
      "-------------------------------------------------------\n",
      "Confusion matrix:\n",
      "[[468 637]\n",
      " [ 23 108]]\n",
      "-------------------------------------------------------\n",
      "Classification report:\n",
      "              precision    recall  f1-score   support\n",
      "\n",
      "           0       0.95      0.42      0.59      1105\n",
      "           1       0.14      0.82      0.25       131\n",
      "\n",
      "    accuracy                           0.47      1236\n",
      "   macro avg       0.55      0.62      0.42      1236\n",
      "weighted avg       0.87      0.47      0.55      1236\n",
      "\n"
     ]
    },
    {
     "name": "stderr",
     "output_type": "stream",
     "text": [
      "/home/climbach/anaconda3/lib/python3.7/site-packages/sklearn/linear_model/sag.py:337: ConvergenceWarning: The max_iter was reached which means the coef_ did not converge\n",
      "  \"the coef_ did not converge\", ConvergenceWarning)\n",
      "/home/climbach/anaconda3/lib/python3.7/site-packages/sklearn/linear_model/logistic.py:1510: UserWarning: Setting penalty='none' will ignore the C and l1_ratio parameters\n",
      "  \"Setting penalty='none' will ignore the C and l1_ratio \"\n",
      "/home/climbach/anaconda3/lib/python3.7/site-packages/sklearn/linear_model/sag.py:337: ConvergenceWarning: The max_iter was reached which means the coef_ did not converge\n",
      "  \"the coef_ did not converge\", ConvergenceWarning)\n",
      "/home/climbach/anaconda3/lib/python3.7/site-packages/sklearn/linear_model/logistic.py:1510: UserWarning: Setting penalty='none' will ignore the C and l1_ratio parameters\n",
      "  \"Setting penalty='none' will ignore the C and l1_ratio \"\n",
      "/home/climbach/anaconda3/lib/python3.7/site-packages/sklearn/linear_model/sag.py:337: ConvergenceWarning: The max_iter was reached which means the coef_ did not converge\n",
      "  \"the coef_ did not converge\", ConvergenceWarning)\n",
      "/home/climbach/anaconda3/lib/python3.7/site-packages/sklearn/linear_model/logistic.py:1510: UserWarning: Setting penalty='none' will ignore the C and l1_ratio parameters\n",
      "  \"Setting penalty='none' will ignore the C and l1_ratio \"\n",
      "/home/climbach/anaconda3/lib/python3.7/site-packages/sklearn/linear_model/sag.py:337: ConvergenceWarning: The max_iter was reached which means the coef_ did not converge\n",
      "  \"the coef_ did not converge\", ConvergenceWarning)\n",
      "/home/climbach/anaconda3/lib/python3.7/site-packages/sklearn/linear_model/logistic.py:1510: UserWarning: Setting penalty='none' will ignore the C and l1_ratio parameters\n",
      "  \"Setting penalty='none' will ignore the C and l1_ratio \"\n",
      "/home/climbach/anaconda3/lib/python3.7/site-packages/sklearn/linear_model/sag.py:337: ConvergenceWarning: The max_iter was reached which means the coef_ did not converge\n",
      "  \"the coef_ did not converge\", ConvergenceWarning)\n",
      "/home/climbach/anaconda3/lib/python3.7/site-packages/sklearn/linear_model/logistic.py:1510: UserWarning: Setting penalty='none' will ignore the C and l1_ratio parameters\n",
      "  \"Setting penalty='none' will ignore the C and l1_ratio \"\n",
      "/home/climbach/anaconda3/lib/python3.7/site-packages/sklearn/linear_model/sag.py:337: ConvergenceWarning: The max_iter was reached which means the coef_ did not converge\n",
      "  \"the coef_ did not converge\", ConvergenceWarning)\n",
      "/home/climbach/anaconda3/lib/python3.7/site-packages/sklearn/linear_model/logistic.py:1510: UserWarning: Setting penalty='none' will ignore the C and l1_ratio parameters\n",
      "  \"Setting penalty='none' will ignore the C and l1_ratio \"\n",
      "/home/climbach/anaconda3/lib/python3.7/site-packages/sklearn/linear_model/sag.py:337: ConvergenceWarning: The max_iter was reached which means the coef_ did not converge\n",
      "  \"the coef_ did not converge\", ConvergenceWarning)\n",
      "/home/climbach/anaconda3/lib/python3.7/site-packages/sklearn/linear_model/logistic.py:1510: UserWarning: Setting penalty='none' will ignore the C and l1_ratio parameters\n",
      "  \"Setting penalty='none' will ignore the C and l1_ratio \"\n",
      "/home/climbach/anaconda3/lib/python3.7/site-packages/sklearn/linear_model/sag.py:337: ConvergenceWarning: The max_iter was reached which means the coef_ did not converge\n",
      "  \"the coef_ did not converge\", ConvergenceWarning)\n",
      "/home/climbach/anaconda3/lib/python3.7/site-packages/sklearn/linear_model/logistic.py:1510: UserWarning: Setting penalty='none' will ignore the C and l1_ratio parameters\n",
      "  \"Setting penalty='none' will ignore the C and l1_ratio \"\n",
      "/home/climbach/anaconda3/lib/python3.7/site-packages/sklearn/linear_model/sag.py:337: ConvergenceWarning: The max_iter was reached which means the coef_ did not converge\n",
      "  \"the coef_ did not converge\", ConvergenceWarning)\n",
      "/home/climbach/anaconda3/lib/python3.7/site-packages/sklearn/linear_model/logistic.py:1510: UserWarning: Setting penalty='none' will ignore the C and l1_ratio parameters\n",
      "  \"Setting penalty='none' will ignore the C and l1_ratio \"\n",
      "/home/climbach/anaconda3/lib/python3.7/site-packages/sklearn/linear_model/sag.py:337: ConvergenceWarning: The max_iter was reached which means the coef_ did not converge\n",
      "  \"the coef_ did not converge\", ConvergenceWarning)\n"
     ]
    },
    {
     "data": {
      "image/png": "[encoded data removed]",
      "text/plain": [
       "<Figure size 432x288 with 1 Axes>"
      ]
     },
     "metadata": {
      "needs_background": "light"
     },
     "output_type": "display_data"
    },
    {
     "data": {
      "image/png": "[encoded data removed]",
      "text/plain": [
       "<Figure size 432x288 with 1 Axes>"
      ]
     },
     "metadata": {
      "needs_background": "light"
     },
     "output_type": "display_data"
    },
    {
     "data": {
      "image/png": "[encoded data removed]",
      "text/plain": [
       "<Figure size 432x288 with 1 Axes>"
      ]
     },
     "metadata": {
      "needs_background": "light"
     },
     "output_type": "display_data"
    }
   ],
   "source": [
    "logit = LogisticRegression(C=0.0001, class_weight='balanced', dual=False,\n",
    "                   fit_intercept=True, intercept_scaling=1, l1_ratio=None,\n",
    "                   max_iter=100, multi_class='warn', n_jobs=None,\n",
    "                   penalty='none', random_state=42, solver='saga', tol=0.0001,\n",
    "                   verbose=0, warm_start=False)\n",
    "\n",
    "logit.fit(X_train_preproc,y_train)\n",
    "\n",
    "y_train_prob = logit.predict_proba(X_train_preproc)[:,1]\n",
    "y_train_pred = (y_train_prob > threshold).astype(int)\n",
    "\n",
    "y_test_prob = logit.predict_proba(X_test_preproc)[:,1]\n",
    "y_test_pred = (y_test_prob > threshold).astype(int)\n",
    "\n",
    "y_scores_train = logit.decision_function(X_train_preproc)\n",
    "y_scores_test = logit.decision_function(X_test_preproc)\n",
    "\n",
    "print('-'*22+'Accuracies'+'-'*23)\n",
    "print('Train accuracy: %.4f' %(accuracy_score(y_train,y_train_pred)))\n",
    "print('Test accuracy: %.4f' %(accuracy_score(y_test,y_test_pred)))\n",
    "print('-'*16+'Precision-Recall Scores'+'-'*16)\n",
    "print('Train: %.4f' %(average_precision_score(y_train,y_scores_train)))\n",
    "print('Test: %.4f'%(average_precision_score(y_test,y_scores_test)))\n",
    "print('-'*55)\n",
    "print('f1 score: %.4f' %(f1_score(y_test,y_test_pred)))\n",
    "print('ROC and AUC scores: %.4f' %(roc_auc_score(y_test,y_test_pred)))\n",
    "print('-'*55)\n",
    "print('Confusion matrix:')\n",
    "print(confusion_matrix(y_test,y_test_pred))\n",
    "print('-'*55)\n",
    "print('Classification report:')\n",
    "print(classification_report(y_test,y_test_pred))\n",
    "\n",
    "precision,recalls=plot_precision_recall_vs_threshold(logit,X_train_preproc,y_train)\n",
    "fpr,tpr = plot_roc_curve(logit,X_train_preproc,y_train)\n",
    "\n",
    "model_list.append(models('logit',\n",
    "                         logit,\n",
    "                         average_precision_score(y_train,y_scores_train),\n",
    "                         average_precision_score(y_test,y_scores_test)\n",
    "                        )\n",
    "                 )"
   ]
  },
  {
   "cell_type": "markdown",
   "metadata": {},
   "source": [
    "## **2. Logistic regression with L2 regularization**"
   ]
  },
  {
   "cell_type": "raw",
   "metadata": {},
   "source": [
    "param_grid = {'C':[0.0001, 0.0003, 0.0006, \n",
    "                   0.001, 0.003, 0.006, 0.01, \n",
    "                   0.03, 0.06, 0.1, 0.3, 0.6, \n",
    "                   1, 3, 6, 10, 30, 60, 100],\n",
    "                 'class_weight':[None,'balanced'],\n",
    "                 'solver':['newton-cg', 'lbfgs','sag','saga','liblinear'],\n",
    "             }\n",
    "logit_cv = GridSearchCV(LogisticRegression(penalty='l2',random_state=42),param_grid=param_grid,n_jobs=-1,cv=10,\n",
    "                        scoring='recall')\n",
    "logit_cv.fit(X_train_preproc,y_train)\n",
    "logit_cv.best_estimator_"
   ]
  },
  {
   "cell_type": "code",
   "execution_count": 77,
   "metadata": {},
   "outputs": [
    {
     "name": "stdout",
     "output_type": "stream",
     "text": [
      "----------------------Accuracies-----------------------\n",
      "Train accuracy: 0.1110\n",
      "Test accuracy: 0.1060\n",
      "----------------Precision-Recall Scores----------------\n",
      "Train: 0.3948\n",
      "Test: 0.3929\n",
      "-------------------------------------------------------\n",
      "f1 score: 0.1917\n",
      "ROC and AUC scores: 0.5000\n",
      "-------------------------------------------------------\n",
      "Confusion matrix:\n",
      "[[   0 1105]\n",
      " [   0  131]]\n",
      "-------------------------------------------------------\n",
      "Classification report:\n",
      "              precision    recall  f1-score   support\n",
      "\n",
      "           0       0.00      0.00      0.00      1105\n",
      "           1       0.11      1.00      0.19       131\n",
      "\n",
      "    accuracy                           0.11      1236\n",
      "   macro avg       0.05      0.50      0.10      1236\n",
      "weighted avg       0.01      0.11      0.02      1236\n",
      "\n"
     ]
    },
    {
     "name": "stderr",
     "output_type": "stream",
     "text": [
      "/home/climbach/anaconda3/lib/python3.7/site-packages/sklearn/metrics/classification.py:1437: UndefinedMetricWarning: Precision and F-score are ill-defined and being set to 0.0 in labels with no predicted samples.\n",
      "  'precision', 'predicted', average, warn_for)\n"
     ]
    },
    {
     "data": {
      "image/png": "[encoded data removed]",
      "text/plain": [
       "<Figure size 432x288 with 1 Axes>"
      ]
     },
     "metadata": {
      "needs_background": "light"
     },
     "output_type": "display_data"
    },
    {
     "data": {
      "image/png": "[encoded data removed]",
      "text/plain": [
       "<Figure size 432x288 with 1 Axes>"
      ]
     },
     "metadata": {
      "needs_background": "light"
     },
     "output_type": "display_data"
    },
    {
     "data": {
      "image/png": "[encoded data removed]",
      "text/plain": [
       "<Figure size 432x288 with 1 Axes>"
      ]
     },
     "metadata": {
      "needs_background": "light"
     },
     "output_type": "display_data"
    }
   ],
   "source": [
    "logit_l2 = LogisticRegression(C=0.0001, class_weight='balanced', dual=False,\n",
    "                              fit_intercept=True, intercept_scaling=1, l1_ratio=None,\n",
    "                              max_iter=100, multi_class='warn', n_jobs=None, penalty='l2',\n",
    "                              random_state=42, solver='liblinear', tol=0.0001, verbose=0,\n",
    "                              warm_start=False)\n",
    "\n",
    "logit_l2.fit(X_train_preproc,y_train)\n",
    "\n",
    "y_train_prob = logit_l2.predict_proba(X_train_preproc)[:,1]\n",
    "y_train_pred = (y_train_prob > threshold).astype(int)\n",
    "\n",
    "y_test_prob = logit_l2.predict_proba(X_test_preproc)[:,1]\n",
    "y_test_pred = (y_test_prob > threshold).astype(int)\n",
    "\n",
    "\n",
    "y_scores_train = logit_l2.decision_function(X_train_preproc)\n",
    "y_scores_test = logit_l2.decision_function(X_test_preproc)\n",
    "\n",
    "print('-'*22+'Accuracies'+'-'*23)\n",
    "print('Train accuracy: %.4f' %(accuracy_score(y_train,y_train_pred)))\n",
    "print('Test accuracy: %.4f' %(accuracy_score(y_test,y_test_pred)))\n",
    "print('-'*16+'Precision-Recall Scores'+'-'*16)\n",
    "print('Train: %.4f' %(average_precision_score(y_train,y_scores_train)))\n",
    "print('Test: %.4f'%(average_precision_score(y_test,y_scores_test)))\n",
    "print('-'*55)\n",
    "print('f1 score: %.4f' %(f1_score(y_test,y_test_pred)))\n",
    "print('ROC and AUC scores: %.4f' %(roc_auc_score(y_test,y_test_pred)))\n",
    "print('-'*55)\n",
    "print('Confusion matrix:')\n",
    "print(confusion_matrix(y_test,y_test_pred))\n",
    "print('-'*55)\n",
    "print('Classification report:')\n",
    "print(classification_report(y_test,y_test_pred))\n",
    "\n",
    "precision,recalls=plot_precision_recall_vs_threshold(logit_l2,X_train_preproc,y_train)\n",
    "fpr,tpr = plot_roc_curve(logit_l2,X_train_preproc,y_train)\n",
    "\n",
    "model_list.append(models('logit_l2',\n",
    "                         logit_l2,\n",
    "                         average_precision_score(y_train,y_scores_train),\n",
    "                         average_precision_score(y_test,y_scores_test)\n",
    "                        )\n",
    "                 )"
   ]
  },
  {
   "cell_type": "markdown",
   "metadata": {},
   "source": [
    "## **3. Logistic Regression with L1 regularization**"
   ]
  },
  {
   "cell_type": "raw",
   "metadata": {},
   "source": [
    "param_grid = {'C':[0.0001, 0.0003, 0.0006, \n",
    "                   0.001, 0.003, 0.006, 0.01, \n",
    "                   0.03, 0.06, 0.1, 0.3, 0.6, \n",
    "                   1, 3, 6, 10, 30, 60, 100],\n",
    "                 'class_weight':[None,'balanced'],\n",
    "                 'solver':['saga','liblinear'],\n",
    "             }\n",
    "logit_cv = GridSearchCV(LogisticRegression(penalty='l1',random_state=42),param_grid=param_grid,n_jobs=-1,cv=10,\n",
    "                        scoring='recall')\n",
    "logit_cv.fit(X_train_preproc,y_train)\n",
    "logit_cv.best_estimator_"
   ]
  },
  {
   "cell_type": "code",
   "execution_count": 78,
   "metadata": {},
   "outputs": [
    {
     "name": "stdout",
     "output_type": "stream",
     "text": [
      "----------------------Accuracies-----------------------\n",
      "Train accuracy: 0.1110\n",
      "Test accuracy: 0.1060\n",
      "----------------Precision-Recall Scores----------------\n",
      "Train: 0.1110\n",
      "Test: 0.1060\n",
      "-------------------------------------------------------\n",
      "f1 score: 0.1917\n",
      "ROC and AUC scores: 0.5000\n",
      "-------------------------------------------------------\n",
      "Confusion matrix:\n",
      "[[   0 1105]\n",
      " [   0  131]]\n",
      "-------------------------------------------------------\n",
      "Classification report:\n",
      "              precision    recall  f1-score   support\n",
      "\n",
      "           0       0.00      0.00      0.00      1105\n",
      "           1       0.11      1.00      0.19       131\n",
      "\n",
      "    accuracy                           0.11      1236\n",
      "   macro avg       0.05      0.50      0.10      1236\n",
      "weighted avg       0.01      0.11      0.02      1236\n",
      "\n"
     ]
    },
    {
     "name": "stderr",
     "output_type": "stream",
     "text": [
      "/home/climbach/anaconda3/lib/python3.7/site-packages/sklearn/metrics/classification.py:1437: UndefinedMetricWarning: Precision and F-score are ill-defined and being set to 0.0 in labels with no predicted samples.\n",
      "  'precision', 'predicted', average, warn_for)\n"
     ]
    },
    {
     "data": {
      "image/png": "[encoded data removed]",
      "text/plain": [
       "<Figure size 432x288 with 1 Axes>"
      ]
     },
     "metadata": {
      "needs_background": "light"
     },
     "output_type": "display_data"
    },
    {
     "data": {
      "image/png": "[encoded data removed]",
      "text/plain": [
       "<Figure size 432x288 with 1 Axes>"
      ]
     },
     "metadata": {
      "needs_background": "light"
     },
     "output_type": "display_data"
    },
    {
     "data": {
      "image/png": "[encoded data removed]",
      "text/plain": [
       "<Figure size 432x288 with 1 Axes>"
      ]
     },
     "metadata": {
      "needs_background": "light"
     },
     "output_type": "display_data"
    }
   ],
   "source": [
    "logit_l1 = LogisticRegression(C=0.0001, class_weight='balanced', dual=False,\n",
    "                   fit_intercept=True, intercept_scaling=1, l1_ratio=None,\n",
    "                   max_iter=100, multi_class='warn', n_jobs=None, penalty='l1',\n",
    "                   random_state=42, solver='saga', tol=0.0001, verbose=0,\n",
    "                   warm_start=False)\n",
    "\n",
    "logit_l1.fit(X_train_preproc,y_train)\n",
    "\n",
    "y_train_prob = logit_l1.predict_proba(X_train_preproc)[:,1]\n",
    "y_train_pred = (y_train_prob > threshold).astype(int)\n",
    "\n",
    "y_test_prob = logit_l1.predict_proba(X_test_preproc)[:,1]\n",
    "y_test_pred = (y_test_prob > threshold).astype(int)\n",
    "\n",
    "\n",
    "y_scores_train = logit_l1.decision_function(X_train_preproc)\n",
    "y_scores_test = logit_l1.decision_function(X_test_preproc)\n",
    "\n",
    "print('-'*22+'Accuracies'+'-'*23)\n",
    "print('Train accuracy: %.4f' %(accuracy_score(y_train,y_train_pred)))\n",
    "print('Test accuracy: %.4f' %(accuracy_score(y_test,y_test_pred)))\n",
    "print('-'*16+'Precision-Recall Scores'+'-'*16)\n",
    "print('Train: %.4f' %(average_precision_score(y_train,y_scores_train)))\n",
    "print('Test: %.4f'%(average_precision_score(y_test,y_scores_test)))\n",
    "print('-'*55)\n",
    "print('f1 score: %.4f' %(f1_score(y_test,y_test_pred)))\n",
    "print('ROC and AUC scores: %.4f' %(roc_auc_score(y_test,y_test_pred)))\n",
    "print('-'*55)\n",
    "print('Confusion matrix:')\n",
    "print(confusion_matrix(y_test,y_test_pred))\n",
    "print('-'*55)\n",
    "print('Classification report:')\n",
    "print(classification_report(y_test,y_test_pred))\n",
    "\n",
    "precision,recalls=plot_precision_recall_vs_threshold(logit_l1,X_train_preproc,y_train)\n",
    "fpr,tpr = plot_roc_curve(logit_l1,X_train_preproc,y_train)\n",
    "\n",
    "model_list.append(models('logit_l1',\n",
    "                         logit_l1,\n",
    "                         average_precision_score(y_train,y_scores_train),\n",
    "                         average_precision_score(y_test,y_scores_test)\n",
    "                        )\n",
    "                 )"
   ]
  },
  {
   "cell_type": "code",
   "execution_count": 79,
   "metadata": {},
   "outputs": [
    {
     "data": {
      "text/plain": [
       "[models(name='logit', params=LogisticRegression(C=0.0001, class_weight='balanced', dual=False,\n",
       "                    fit_intercept=True, intercept_scaling=1, l1_ratio=None,\n",
       "                    max_iter=100, multi_class='warn', n_jobs=None,\n",
       "                    penalty='none', random_state=42, solver='saga', tol=0.0001,\n",
       "                    verbose=0, warm_start=False), precision_recall_train=0.4558660457018554, precision_recall_test=0.42843985628421627),\n",
       " models(name='logit', params=LogisticRegression(C=0.0001, class_weight='balanced', dual=False,\n",
       "                    fit_intercept=True, intercept_scaling=1, l1_ratio=None,\n",
       "                    max_iter=100, multi_class='warn', n_jobs=None,\n",
       "                    penalty='none', random_state=42, solver='saga', tol=0.0001,\n",
       "                    verbose=0, warm_start=False), precision_recall_train=0.4558660457018554, precision_recall_test=0.42843985628421627),\n",
       " models(name='logit_l2', params=LogisticRegression(C=0.0001, class_weight='balanced', dual=False,\n",
       "                    fit_intercept=True, intercept_scaling=1, l1_ratio=None,\n",
       "                    max_iter=100, multi_class='warn', n_jobs=None, penalty='l2',\n",
       "                    random_state=42, solver='liblinear', tol=0.0001, verbose=0,\n",
       "                    warm_start=False), precision_recall_train=0.3948223552491331, precision_recall_test=0.3928826706315942),\n",
       " models(name='logit_l2', params=LogisticRegression(C=0.0001, class_weight='balanced', dual=False,\n",
       "                    fit_intercept=True, intercept_scaling=1, l1_ratio=None,\n",
       "                    max_iter=100, multi_class='warn', n_jobs=None, penalty='l2',\n",
       "                    random_state=42, solver='liblinear', tol=0.0001, verbose=0,\n",
       "                    warm_start=False), precision_recall_train=0.3948223552491331, precision_recall_test=0.3928826706315942),\n",
       " models(name='logit_l1', params=LogisticRegression(C=0.0001, class_weight='balanced', dual=False,\n",
       "                    fit_intercept=True, intercept_scaling=1, l1_ratio=None,\n",
       "                    max_iter=100, multi_class='warn', n_jobs=None, penalty='l1',\n",
       "                    random_state=42, solver='saga', tol=0.0001, verbose=0,\n",
       "                    warm_start=False), precision_recall_train=0.11099549080818592, precision_recall_test=0.10598705501618123)]"
      ]
     },
     "execution_count": 79,
     "metadata": {},
     "output_type": "execute_result"
    }
   ],
   "source": [
    "model_list"
   ]
  },
  {
   "cell_type": "markdown",
   "metadata": {},
   "source": [
    "## **SVM**"
   ]
  },
  {
   "cell_type": "code",
   "execution_count": 80,
   "metadata": {},
   "outputs": [],
   "source": [
    "from sklearn.svm import SVC"
   ]
  },
  {
   "cell_type": "code",
   "execution_count": 83,
   "metadata": {},
   "outputs": [
    {
     "name": "stderr",
     "output_type": "stream",
     "text": [
      "/home/climbach/anaconda3/lib/python3.7/site-packages/sklearn/svm/base.py:193: FutureWarning: The default value of gamma will change from 'auto' to 'scale' in version 0.22 to account better for unscaled features. Set gamma explicitly to 'auto' or 'scale' to avoid this warning.\n",
      "  \"avoid this warning.\", FutureWarning)\n"
     ]
    },
    {
     "name": "stdout",
     "output_type": "stream",
     "text": [
      "Train accuracy:  0.9046132500867152\n",
      "Test accuracy:  0.9053398058252428\n",
      "---------------------------------------------------------------------------\n",
      "Confusion matrix:\n",
      "[[1097    8]\n",
      " [ 109   22]]\n",
      "Classification report:\n",
      "              precision    recall  f1-score   support\n",
      "\n",
      "           0       0.91      0.99      0.95      1105\n",
      "           1       0.73      0.17      0.27       131\n",
      "\n",
      "    accuracy                           0.91      1236\n",
      "   macro avg       0.82      0.58      0.61      1236\n",
      "weighted avg       0.89      0.91      0.88      1236\n",
      "\n",
      "f1 score: 0.2732919254658385\n",
      "ROC and AUC scores:  0.5803495561465926\n"
     ]
    },
    {
     "name": "stderr",
     "output_type": "stream",
     "text": [
      "/home/climbach/anaconda3/lib/python3.7/site-packages/sklearn/svm/base.py:193: FutureWarning: The default value of gamma will change from 'auto' to 'scale' in version 0.22 to account better for unscaled features. Set gamma explicitly to 'auto' or 'scale' to avoid this warning.\n",
      "  \"avoid this warning.\", FutureWarning)\n",
      "/home/climbach/anaconda3/lib/python3.7/site-packages/sklearn/svm/base.py:193: FutureWarning: The default value of gamma will change from 'auto' to 'scale' in version 0.22 to account better for unscaled features. Set gamma explicitly to 'auto' or 'scale' to avoid this warning.\n",
      "  \"avoid this warning.\", FutureWarning)\n",
      "/home/climbach/anaconda3/lib/python3.7/site-packages/sklearn/svm/base.py:193: FutureWarning: The default value of gamma will change from 'auto' to 'scale' in version 0.22 to account better for unscaled features. Set gamma explicitly to 'auto' or 'scale' to avoid this warning.\n",
      "  \"avoid this warning.\", FutureWarning)\n",
      "/home/climbach/anaconda3/lib/python3.7/site-packages/sklearn/svm/base.py:193: FutureWarning: The default value of gamma will change from 'auto' to 'scale' in version 0.22 to account better for unscaled features. Set gamma explicitly to 'auto' or 'scale' to avoid this warning.\n",
      "  \"avoid this warning.\", FutureWarning)\n",
      "/home/climbach/anaconda3/lib/python3.7/site-packages/sklearn/svm/base.py:193: FutureWarning: The default value of gamma will change from 'auto' to 'scale' in version 0.22 to account better for unscaled features. Set gamma explicitly to 'auto' or 'scale' to avoid this warning.\n",
      "  \"avoid this warning.\", FutureWarning)\n",
      "/home/climbach/anaconda3/lib/python3.7/site-packages/sklearn/svm/base.py:193: FutureWarning: The default value of gamma will change from 'auto' to 'scale' in version 0.22 to account better for unscaled features. Set gamma explicitly to 'auto' or 'scale' to avoid this warning.\n",
      "  \"avoid this warning.\", FutureWarning)\n",
      "/home/climbach/anaconda3/lib/python3.7/site-packages/sklearn/svm/base.py:193: FutureWarning: The default value of gamma will change from 'auto' to 'scale' in version 0.22 to account better for unscaled features. Set gamma explicitly to 'auto' or 'scale' to avoid this warning.\n",
      "  \"avoid this warning.\", FutureWarning)\n",
      "/home/climbach/anaconda3/lib/python3.7/site-packages/sklearn/svm/base.py:193: FutureWarning: The default value of gamma will change from 'auto' to 'scale' in version 0.22 to account better for unscaled features. Set gamma explicitly to 'auto' or 'scale' to avoid this warning.\n",
      "  \"avoid this warning.\", FutureWarning)\n",
      "/home/climbach/anaconda3/lib/python3.7/site-packages/sklearn/svm/base.py:193: FutureWarning: The default value of gamma will change from 'auto' to 'scale' in version 0.22 to account better for unscaled features. Set gamma explicitly to 'auto' or 'scale' to avoid this warning.\n",
      "  \"avoid this warning.\", FutureWarning)\n",
      "/home/climbach/anaconda3/lib/python3.7/site-packages/sklearn/svm/base.py:193: FutureWarning: The default value of gamma will change from 'auto' to 'scale' in version 0.22 to account better for unscaled features. Set gamma explicitly to 'auto' or 'scale' to avoid this warning.\n",
      "  \"avoid this warning.\", FutureWarning)\n"
     ]
    },
    {
     "data": {
      "image/png": "[encoded data removed]",
      "text/plain": [
       "<Figure size 432x288 with 1 Axes>"
      ]
     },
     "metadata": {
      "needs_background": "light"
     },
     "output_type": "display_data"
    },
    {
     "data": {
      "image/png": "[encoded data removed]",
      "text/plain": [
       "<Figure size 432x288 with 1 Axes>"
      ]
     },
     "metadata": {
      "needs_background": "light"
     },
     "output_type": "display_data"
    },
    {
     "data": {
      "image/png": "[encoded data removed]",
      "text/plain": [
       "<Figure size 432x288 with 1 Axes>"
      ]
     },
     "metadata": {
      "needs_background": "light"
     },
     "output_type": "display_data"
    }
   ],
   "source": [
    "svm = SVC(probability=True)\n",
    "svm.fit(X_train_preproc,y_train)\n",
    "\n",
    "y_train_prob = svm.predict_proba(X_train_preproc)[:,1]\n",
    "y_train_pred = (y_train_prob > threshold).astype(int)\n",
    "\n",
    "y_test_prob = svm.predict_proba(X_test_preproc)[:,1]\n",
    "y_test_pred = (y_test_prob > threshold).astype(int)\n",
    "\n",
    "\n",
    "print('Train accuracy: ',accuracy_score(y_train,y_train_pred))\n",
    "print('Test accuracy: ',accuracy_score(y_test,y_test_pred))\n",
    "print('-'*75)\n",
    "print('Confusion matrix:')\n",
    "print(confusion_matrix(y_test,y_test_pred))\n",
    "print('Classification report:')\n",
    "print(classification_report(y_test,y_test_pred))\n",
    "print('f1 score:',f1_score(y_test,y_test_pred))\n",
    "print('ROC and AUC scores: ',roc_auc_score(y_test,y_test_pred))\n",
    "_=precision,recalls=plot_precision_recall_vs_threshold(svm,X_train_preproc,y_train)\n",
    "_=plot_roc_curve(svm,X_train_preproc,y_train)"
   ]
  },
  {
   "cell_type": "code",
   "execution_count": null,
   "metadata": {},
   "outputs": [],
   "source": []
  },
  {
   "cell_type": "code",
   "execution_count": null,
   "metadata": {},
   "outputs": [],
   "source": []
  },
  {
   "cell_type": "code",
   "execution_count": null,
   "metadata": {},
   "outputs": [],
   "source": []
  },
  {
   "cell_type": "code",
   "execution_count": null,
   "metadata": {},
   "outputs": [],
   "source": []
  }
 ],
 "metadata": {
  "kernelspec": {
   "display_name": "Python 3",
   "language": "python",
   "name": "python3"
  },
  "language_info": {
   "codemirror_mode": {
    "name": "ipython",
    "version": 3
   },
   "file_extension": ".py",
   "mimetype": "text/x-python",
   "name": "python",
   "nbconvert_exporter": "python",
   "pygments_lexer": "ipython3",
   "version": "3.7.3"
  }
 },
 "nbformat": 4,
 "nbformat_minor": 4
}
