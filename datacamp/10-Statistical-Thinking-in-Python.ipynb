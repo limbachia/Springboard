{
 "cells": [
  {
   "cell_type": "markdown",
   "metadata": {},
   "source": [
    "# **Statistical Thinking (Part 1)**"
   ]
  },
  {
   "cell_type": "markdown",
   "metadata": {},
   "source": [
    "As rule of thumb use keep the number of bins equal to the number of observations for histograms."
   ]
  },
  {
   "cell_type": "markdown",
   "metadata": {},
   "source": [
    "## Covariance & Pearson Correlation\n",
    "\n",
    "$$cov(x,y) = \\frac{1}{n}\\sum_{i=1}^{n}{(x_{i} - \\bar{x})(y_{i} - \\bar{y})}$$\n",
    "\n",
    "To make covariance dimensionless, we divide covarience with standard deviations of $x$ and $y$, which gives us a Pearson correlation coefficient ($\\rho$):\n",
    "\n",
    "$$\\rho = \\frac{cov(x,y)}{std(x)*std(y)}$$"
   ]
  },
  {
   "cell_type": "markdown",
   "metadata": {},
   "source": [
    "## Hacker Statistics\n",
    "### Random number generators "
   ]
  },
  {
   "cell_type": "markdown",
   "metadata": {},
   "source": [
    "#### Bernoulli Trial\n",
    "* An experiment that has two options, \"success\" (True), and \"failure\" (False)."
   ]
  },
  {
   "cell_type": "markdown",
   "metadata": {},
   "source": [
    "Simulating 4 coin flips"
   ]
  },
  {
   "cell_type": "code",
   "execution_count": 2,
   "metadata": {},
   "outputs": [
    {
     "data": {
      "text/plain": [
       "array([0.37454012, 0.95071431, 0.73199394, 0.59865848])"
      ]
     },
     "execution_count": 2,
     "metadata": {},
     "output_type": "execute_result"
    }
   ],
   "source": [
    "import numpy as np\n",
    "np.random.seed(42)\n",
    "\n",
    "random_numbers = np.random.random(size=4)\n",
    "random_numbers"
   ]
  },
  {
   "cell_type": "code",
   "execution_count": 2,
   "metadata": {},
   "outputs": [
    {
     "data": {
      "text/plain": [
       "array([ True, False, False, False])"
      ]
     },
     "execution_count": 2,
     "metadata": {},
     "output_type": "execute_result"
    }
   ],
   "source": [
    "heads = random_numbers < 0.5\n",
    "heads"
   ]
  },
  {
   "cell_type": "code",
   "execution_count": 3,
   "metadata": {},
   "outputs": [
    {
     "data": {
      "text/plain": [
       "1"
      ]
     },
     "execution_count": 3,
     "metadata": {},
     "output_type": "execute_result"
    }
   ],
   "source": [
    "np.sum(heads)"
   ]
  },
  {
   "cell_type": "markdown",
   "metadata": {},
   "source": [
    "**What is the probabilty of getting 4 heads in succession?**\n",
    "\n",
    "Probability of getting a head is $P(H) = 0.5$.  \n",
    "\n",
    "Therefore, to get probability of getting 4 heads in succession, we simply need to\n",
    "multiply the probabilities of getting a head four times. \n",
    "\n",
    "$$P(H,H,H,H) = 0.5^4 = 0.0625$$\n",
    "\n",
    "This is a theoretical solutions which was rather easy to compute. But real world problems are far more complex and it very difficult to estimate probabilites. \n",
    "\n",
    "Therefore, we will leverage high computation resources at our disposal to do some hacker statistics and compute the probability for $P(H,H,H,H)$."
   ]
  },
  {
   "cell_type": "code",
   "execution_count": 43,
   "metadata": {},
   "outputs": [
    {
     "name": "stdout",
     "output_type": "stream",
     "text": [
      "P(H,H,H,H): 0.06264\n"
     ]
    }
   ],
   "source": [
    "n_all_heads = 0 # Initialize number of 4-heads trails \n",
    "n = 100000 # Total number of repetitions\n",
    "for _ in range(n):\n",
    "    heads = np.random.random(size=4) < 0.5\n",
    "    n_heads  = np.sum(heads)\n",
    "    if n_heads == 4:\n",
    "        n_all_heads+=1\n",
    "        \n",
    "print('P(H,H,H,H):',n_all_heads/n)"
   ]
  },
  {
   "cell_type": "markdown",
   "metadata": {},
   "source": [
    "Indeed! as we repeatedly carry out the experiment over and over, we get a $P(H,H,H,H)$ that is very close to the theoretical probability."
   ]
  },
  {
   "cell_type": "markdown",
   "metadata": {},
   "source": [
    "### **The np.random module and Bernoulli trials**\n",
    "You can think of a Bernoulli trial as a flip of a possibly biased coin. Specifically, each coin flip has a probability p of landing heads (success) and probability 1−p of landing tails (failure). In this exercise, you will write a function to perform n Bernoulli trials, perform_bernoulli_trials(n, p), which returns the number of successes out of n Bernoulli trials, each of which has probability p of success. To perform each Bernoulli trial, use the np.random.random() function, which returns a random number between zero and one."
   ]
  },
  {
   "cell_type": "code",
   "execution_count": 44,
   "metadata": {},
   "outputs": [],
   "source": [
    "def perform_bernoulli_trials(n, p):\n",
    "    \"\"\"Perform n Bernoulli trials with success probability p\n",
    "    and return number of successes.\"\"\"\n",
    "    # Initialize number of successes: n_success\n",
    "    n_success = 0\n",
    "\n",
    "    # Perform trials\n",
    "    for i in range(n):\n",
    "        # Choose random number between zero and one: random_number\n",
    "        random_number = np.random.random()\n",
    "\n",
    "        # If less than p, it's a success so add one to n_success\n",
    "        if random_number < p:\n",
    "            n_success += 1\n",
    "    return n_success"
   ]
  },
  {
   "cell_type": "code",
   "execution_count": 45,
   "metadata": {},
   "outputs": [
    {
     "data": {
      "text/plain": [
       "5035"
      ]
     },
     "execution_count": 45,
     "metadata": {},
     "output_type": "execute_result"
    }
   ],
   "source": [
    "perform_bernoulli_trials(10000,0.5)"
   ]
  },
  {
   "cell_type": "markdown",
   "metadata": {},
   "source": [
    "### **The Binomial distribution**\n",
    "\n",
    "#### Probability mass function (PMF)\n",
    "* The set of probabilities of discrete outcomes\n",
    "\n",
    "#### Discrete Uniform distribution: the story\n",
    "The outcome of rolling a single fair die is\n",
    "- Discrete\n",
    "- Uniformly distributed\n",
    "\n",
    "\n",
    "#### Binomial distribution: the story\n",
    "- The number *r* of successes in n Bernoulli trials with probability p of success, is Binomially distributed\n",
    "- The number *r* of heads in 4 coin flips with probability 0.5 of heads, is Binomially distributed"
   ]
  },
  {
   "cell_type": "markdown",
   "metadata": {},
   "source": [
    "#### Sampling from a Binomial distribution"
   ]
  },
  {
   "cell_type": "code",
   "execution_count": 48,
   "metadata": {},
   "outputs": [
    {
     "data": {
      "text/plain": [
       "3"
      ]
     },
     "execution_count": 48,
     "metadata": {},
     "output_type": "execute_result"
    }
   ],
   "source": [
    "np.random.binomial(4,0.5)"
   ]
  },
  {
   "cell_type": "markdown",
   "metadata": {},
   "source": [
    "That is 3 heads out of 4 coin flips."
   ]
  },
  {
   "cell_type": "markdown",
   "metadata": {},
   "source": [
    "Lets repeate this 4-flip experiment 10 times."
   ]
  },
  {
   "cell_type": "code",
   "execution_count": 49,
   "metadata": {},
   "outputs": [
    {
     "data": {
      "text/plain": [
       "array([2, 2, 2, 1, 1, 4, 2, 3, 1, 2])"
      ]
     },
     "execution_count": 49,
     "metadata": {},
     "output_type": "execute_result"
    }
   ],
   "source": [
    "np.random.binomial(4,0.5,size=10)"
   ]
  },
  {
   "cell_type": "markdown",
   "metadata": {},
   "source": [
    "In first, second and third experiments, we got 2 heads out of 4 flips and so on."
   ]
  },
  {
   "cell_type": "markdown",
   "metadata": {},
   "source": [
    "### **The Poisson process**\n",
    "- The timing of the next event is completely independent of when the previous event happened.\n",
    "\n",
    "#### Examples of Poisson processes\n",
    "- Natural births in a given hospital\n",
    "- Hit on a website during a given hour\n",
    "- Meteor strikes \n",
    "- Molecular collisions in a gas\n",
    "- Aviation incidents\n",
    "- Buses in Poissonville\n",
    "\n",
    "### **Poisson distribution**\n",
    "- The number *r* of arrivals of a Poisson process in a given time interval with average rate of? arrivals per interval is Poisson distributed.\n",
    "\n",
    "- The number *r* of hits on a website in one hour with an average hit rate of 6 hits per hour is Poisson distributed."
   ]
  },
  {
   "cell_type": "code",
   "execution_count": 56,
   "metadata": {},
   "outputs": [
    {
     "data": {
      "image/png": "[encoded data removed]",
      "text/plain": [
       "<Figure size 432x288 with 1 Axes>"
      ]
     },
     "metadata": {},
     "output_type": "display_data"
    }
   ],
   "source": [
    "import matplotlib.pyplot as plt\n",
    "import seaborn as sns\n",
    "%matplotlib inline\n",
    "sns.set()\n",
    "\n",
    "_=plt.hist(np.random.poisson(10,10000),bins=int(np.sqrt(10000)))"
   ]
  },
  {
   "cell_type": "markdown",
   "metadata": {},
   "source": [
    "### Was 2015 anomalous?\n",
    "1990 and 2015 featured the most no-hitters of any season of baseball (there were seven). Given that there are on average 251/115 no-hitters per season, what is the probability of having seven or more in a season?\n",
    "\n",
    "* Draw 10000 samples from a Poisson distribution with a mean of 251/115 and assign to n_nohitters.\n",
    "* Determine how many of your samples had a result greater than or equal to 7 and assign to n_large.\n",
    "* Compute the probability, p_large, of having 7 or more no-hitters by dividing n_large by the total number of samples (10000).\n",
    "* Hit 'Submit Answer' to print the probability that you calculated."
   ]
  },
  {
   "cell_type": "code",
   "execution_count": 58,
   "metadata": {},
   "outputs": [],
   "source": [
    "n_nohitters = np.random.poisson(251/115,size=10000)"
   ]
  },
  {
   "cell_type": "code",
   "execution_count": 60,
   "metadata": {},
   "outputs": [
    {
     "data": {
      "image/png": "[encoded data removed]",
      "text/plain": [
       "<Figure size 432x288 with 1 Axes>"
      ]
     },
     "metadata": {},
     "output_type": "display_data"
    }
   ],
   "source": [
    "_=plt.hist(n_nohitters,bins=int(np.sqrt(len(n_nohitters))))"
   ]
  },
  {
   "cell_type": "code",
   "execution_count": 61,
   "metadata": {},
   "outputs": [],
   "source": [
    "n_large = (n_nohitters >= 7).sum()"
   ]
  },
  {
   "cell_type": "code",
   "execution_count": 63,
   "metadata": {},
   "outputs": [
    {
     "data": {
      "text/plain": [
       "0.0074"
      ]
     },
     "execution_count": 63,
     "metadata": {},
     "output_type": "execute_result"
    }
   ],
   "source": [
    "p_large = n_large/10000\n",
    "p_large"
   ]
  },
  {
   "cell_type": "markdown",
   "metadata": {},
   "source": [
    "## Continous Distribution\n",
    "### Normal Distribution\n",
    "- I already have good idea about it, so no notes needed\n",
    "\n",
    "\n",
    "### Exponential Distribution\n",
    "- The waiting time between arrivals of a Poisson process is Exponentially distributed\n",
    "- For example: it can model waiting times between rare events "
   ]
  },
  {
   "cell_type": "markdown",
   "metadata": {},
   "source": [
    "# **Statistical Thinking (Part 2)**"
   ]
  },
  {
   "cell_type": "markdown",
   "metadata": {},
   "source": [
    "## Optimal parameters\n",
    "- Parameter values that bring the model in closest agreement with the data."
   ]
  },
  {
   "cell_type": "markdown",
   "metadata": {},
   "source": [
    "## Hypothesis testing using Permutation\n",
    "Assumption: two quantities are identically distributed.\n",
    "\n",
    "The null hypothesis ($H_{0}$) is that both groups come from the same distribution.\n",
    "\n",
    "$$H_{0}: \\mu_{1} = \\mu_{2}$$\n",
    "$$H_{1}: \\mu_{1} \\neq \\mu_{2}$$\n",
    "\n",
    "Therefore, we need to simulate the $H_{0}$ distribution as follow:\n",
    "1. Concatenate the data of both groups in single array\n",
    "2. Scramble the array using np.permutation \n",
    "3. Split the scrambled array into groups \n",
    "4. Compute test statistic for each group, take their difference and store the value in an array.\n",
    "5. Repeat 1-4 10000 times to generate a $H_{0}$ distribution."
   ]
  },
  {
   "cell_type": "code",
   "execution_count": 16,
   "metadata": {},
   "outputs": [],
   "source": [
    "## Functions to simulate null hypothesis (permutation replicates) \n",
    "## that two groups are not dufferent.\n",
    "\n",
    "def permutation_sample(data1,data2):\n",
    "    \"\"\"Generate a permutation sample from two datasets.\"\"\"\n",
    "    # Concatenate the data sets: data\n",
    "    data = np.concatenate((data1,data2))\n",
    "\n",
    "    # Permute the concatenated array: permuted_data\n",
    "    permuted_data = np.random.permutation(data)\n",
    "\n",
    "    # Split the permuted array into two: perm_sample_1, perm_sample_2\n",
    "    perm_sample_1 = permuted_data[:len(data1)]\n",
    "    perm_sample_2 = permuted_data[len(data1):]\n",
    "\n",
    "    return perm_sample_1, perm_sample_2\n",
    "\n",
    "\n",
    "def draw_perm_rep(data1,data2,func,size=1):\n",
    "    \"\"\"Generate multiple permutation replicates.\"\"\"\n",
    "\n",
    "    # Initialize array of replicates: perm_replicates\n",
    "    perm_replicates = np.empty(size)\n",
    "\n",
    "    for i in range(size):\n",
    "        # Generate permutation sample\n",
    "        perm_sample_1, perm_sample_2 = permutation_sample(data1,data2)\n",
    "\n",
    "        # Compute the test statistic\n",
    "        perm_replicates[i] = func(perm_sample_1,perm_sample_2)\n",
    "    return perm_replicates\n",
    "    "
   ]
  },
  {
   "cell_type": "markdown",
   "metadata": {},
   "source": [
    "## Hypothesis testing using Bootstrapping\n",
    "Assumption: Does NOT assume that the two quantities have identical distributed.\n",
    "\n",
    "The null hypothesis ($H_{0}$) is that both groups have same means.\n",
    "\n",
    "$$H_{0}: \\mu_{1} = \\mu_{2}$$\n",
    "$$H_{1}: \\mu_{1} \\neq \\mu_{2}$$\n",
    "\n",
    "Therefore, we need to simulate the $H_{0}$ distribution as follow:\n",
    "1. Concatenate the data of both groups in single array\n",
    "2. Compute the common mean\n",
    "3. Shift data of each group to the common mean (this preserves the unique variance of each group, only means are shifted).\n",
    "4. Generate bootstrap replicates for each group separately\n",
    "5. Subtract the bootstrap replicates\n",
    "6. Get the p-value one from the distribution of the subtract the bootstrap replicates"
   ]
  },
  {
   "cell_type": "markdown",
   "metadata": {},
   "source": [
    "When to use two-sample bootstrap vs. a permutation test?"
   ]
  },
  {
   "cell_type": "markdown",
   "metadata": {},
   "source": [
    "## **A/B testing**\n",
    "### **Null hypothesis of an A/B test**\n",
    "* The test statistic is impervious to the changes."
   ]
  },
  {
   "cell_type": "markdown",
   "metadata": {},
   "source": [
    "**The vote for the Civil Rights Act in 1964**  \n",
    "The Civil Rights Act of 1964 was one of the most important pieces of legislation ever passed in the USA. Excluding \"present\" and \"abstain\" votes, 153 House Democrats and 136 Republicans voted yea. However, 91 Democrats and 35 Republicans voted nay. Did party affiliation make a difference in the vote?\n",
    "\n",
    "To answer this question, you will evaluate the hypothesis that the party of a House member has no bearing on his or her vote. You will use the fraction of Democrats voting in favor as your test statistic and evaluate the probability of observing a fraction of Democrats voting in favor at least as small as the observed fraction of 153/244. (That's right, at least as small as. In 1964, it was the Democrats who were less progressive on civil rights issues.) To do this, permute the party labels of the House voters and then arbitrarily divide them into \"Democrats\" and \"Republicans\" and compute the fraction of Democrats voting yea."
   ]
  },
  {
   "cell_type": "markdown",
   "metadata": {},
   "source": [
    "* Construct Boolean arrays, dems and reps that contain the votes of the respective parties; e.g., dems has 153 True entries and 91 False entries.\n",
    "* Write a function, frac_yea_dems(dems, reps) that returns the fraction of Democrats that voted yea. The first input is an array of Booleans, Two inputs are required to use your draw_perm_reps() function, but the second is not used.\n",
    "* Use your draw_perm_reps() function to draw 10,000 permutation replicates of the fraction of Democrat yea votes.\n",
    "* Compute and print the p-value."
   ]
  },
  {
   "cell_type": "markdown",
   "metadata": {},
   "source": [
    "## **Test of correlation**\n",
    "### **Hypothesis test of correlation**\n",
    "\n",
    "* Posit null hypothesis: the two variables are completely uncorrelated\n",
    "* Simulate data assuming null hypothesis is true"
   ]
  },
  {
   "cell_type": "code",
   "execution_count": null,
   "metadata": {},
   "outputs": [],
   "source": []
  },
  {
   "cell_type": "code",
   "execution_count": null,
   "metadata": {},
   "outputs": [],
   "source": []
  },
  {
   "cell_type": "code",
   "execution_count": null,
   "metadata": {},
   "outputs": [],
   "source": []
  }
 ],
 "metadata": {
  "kernelspec": {
   "display_name": "Python 3",
   "language": "python",
   "name": "python3"
  },
  "language_info": {
   "codemirror_mode": {
    "name": "ipython",
    "version": 3
   },
   "file_extension": ".py",
   "mimetype": "text/x-python",
   "name": "python",
   "nbconvert_exporter": "python",
   "pygments_lexer": "ipython3",
   "version": "3.7.3"
  }
 },
 "nbformat": 4,
 "nbformat_minor": 4
}
