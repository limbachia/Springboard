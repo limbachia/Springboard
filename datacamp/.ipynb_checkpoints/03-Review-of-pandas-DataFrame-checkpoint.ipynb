{
 "cells": [
  {
   "cell_type": "code",
   "execution_count": 1,
   "metadata": {},
   "outputs": [],
   "source": [
    "import pandas as pd\n",
    "from datetime import datetime as dt"
   ]
  },
  {
   "cell_type": "code",
   "execution_count": 2,
   "metadata": {},
   "outputs": [
    {
     "data": {
      "text/html": [
       "<div>\n",
       "<style scoped>\n",
       "    .dataframe tbody tr th:only-of-type {\n",
       "        vertical-align: middle;\n",
       "    }\n",
       "\n",
       "    .dataframe tbody tr th {\n",
       "        vertical-align: top;\n",
       "    }\n",
       "\n",
       "    .dataframe thead th {\n",
       "        text-align: right;\n",
       "    }\n",
       "</style>\n",
       "<table border=\"1\" class=\"dataframe\">\n",
       "  <thead>\n",
       "    <tr style=\"text-align: right;\">\n",
       "      <th></th>\n",
       "      <th>Global_active_power</th>\n",
       "      <th>Global_reactive_power</th>\n",
       "      <th>Voltage</th>\n",
       "      <th>Global_intensity</th>\n",
       "      <th>Sub_metering_1</th>\n",
       "      <th>Sub_metering_2</th>\n",
       "      <th>Sub_metering_3</th>\n",
       "      <th>Datetime</th>\n",
       "    </tr>\n",
       "    <tr>\n",
       "      <th>datetime</th>\n",
       "      <th></th>\n",
       "      <th></th>\n",
       "      <th></th>\n",
       "      <th></th>\n",
       "      <th></th>\n",
       "      <th></th>\n",
       "      <th></th>\n",
       "      <th></th>\n",
       "    </tr>\n",
       "  </thead>\n",
       "  <tbody>\n",
       "    <tr>\n",
       "      <th>2010-01-01 00:00:00</th>\n",
       "      <td>1.790</td>\n",
       "      <td>0.236</td>\n",
       "      <td>240.65</td>\n",
       "      <td>7.4</td>\n",
       "      <td>0.0</td>\n",
       "      <td>0.0</td>\n",
       "      <td>18.0</td>\n",
       "      <td>2010-01-01 00:00:00</td>\n",
       "    </tr>\n",
       "    <tr>\n",
       "      <th>2010-01-01 00:01:00</th>\n",
       "      <td>1.780</td>\n",
       "      <td>0.234</td>\n",
       "      <td>240.07</td>\n",
       "      <td>7.4</td>\n",
       "      <td>0.0</td>\n",
       "      <td>0.0</td>\n",
       "      <td>18.0</td>\n",
       "      <td>2010-01-01 00:01:00</td>\n",
       "    </tr>\n",
       "    <tr>\n",
       "      <th>2010-01-01 00:02:00</th>\n",
       "      <td>1.780</td>\n",
       "      <td>0.234</td>\n",
       "      <td>240.15</td>\n",
       "      <td>7.4</td>\n",
       "      <td>0.0</td>\n",
       "      <td>0.0</td>\n",
       "      <td>19.0</td>\n",
       "      <td>2010-01-01 00:02:00</td>\n",
       "    </tr>\n",
       "    <tr>\n",
       "      <th>2010-01-01 00:03:00</th>\n",
       "      <td>1.746</td>\n",
       "      <td>0.186</td>\n",
       "      <td>240.26</td>\n",
       "      <td>7.2</td>\n",
       "      <td>0.0</td>\n",
       "      <td>0.0</td>\n",
       "      <td>18.0</td>\n",
       "      <td>2010-01-01 00:03:00</td>\n",
       "    </tr>\n",
       "    <tr>\n",
       "      <th>2010-01-01 00:04:00</th>\n",
       "      <td>1.686</td>\n",
       "      <td>0.102</td>\n",
       "      <td>240.12</td>\n",
       "      <td>7.0</td>\n",
       "      <td>0.0</td>\n",
       "      <td>0.0</td>\n",
       "      <td>18.0</td>\n",
       "      <td>2010-01-01 00:04:00</td>\n",
       "    </tr>\n",
       "  </tbody>\n",
       "</table>\n",
       "</div>"
      ],
      "text/plain": [
       "                     Global_active_power  Global_reactive_power  Voltage  \\\n",
       "datetime                                                                   \n",
       "2010-01-01 00:00:00                1.790                  0.236   240.65   \n",
       "2010-01-01 00:01:00                1.780                  0.234   240.07   \n",
       "2010-01-01 00:02:00                1.780                  0.234   240.15   \n",
       "2010-01-01 00:03:00                1.746                  0.186   240.26   \n",
       "2010-01-01 00:04:00                1.686                  0.102   240.12   \n",
       "\n",
       "                     Global_intensity  Sub_metering_1  Sub_metering_2  \\\n",
       "datetime                                                                \n",
       "2010-01-01 00:00:00               7.4             0.0             0.0   \n",
       "2010-01-01 00:01:00               7.4             0.0             0.0   \n",
       "2010-01-01 00:02:00               7.4             0.0             0.0   \n",
       "2010-01-01 00:03:00               7.2             0.0             0.0   \n",
       "2010-01-01 00:04:00               7.0             0.0             0.0   \n",
       "\n",
       "                     Sub_metering_3            Datetime  \n",
       "datetime                                                 \n",
       "2010-01-01 00:00:00            18.0 2010-01-01 00:00:00  \n",
       "2010-01-01 00:01:00            18.0 2010-01-01 00:01:00  \n",
       "2010-01-01 00:02:00            19.0 2010-01-01 00:02:00  \n",
       "2010-01-01 00:03:00            18.0 2010-01-01 00:03:00  \n",
       "2010-01-01 00:04:00            18.0 2010-01-01 00:04:00  "
      ]
     },
     "execution_count": 2,
     "metadata": {},
     "output_type": "execute_result"
    }
   ],
   "source": [
    "df = pd.read_csv('../data/03-Household-Power-Consumption/household_power_consumption.txt',\n",
    "                 sep=';',na_values = '?')\n",
    "\n",
    "# Retaining data only from year 2010\n",
    "df = df[df['Date'].isin([s for s in df['Date'].values if '2010' in s])].reset_index(drop=True)\n",
    "\n",
    "# Removing all null rows\n",
    "df = df.loc[df[df.isnull().sum(axis=1) == 0].index,:]\n",
    "\n",
    "# Converting Date and Time columns into a datetime object and setting that as th index\n",
    "df['Datetime'] = df.apply(lambda x: ' '.join([x['Date'],x['Time']]),axis=1)\n",
    "df.index = pd.to_datetime(df['Datetime'],format='%d/%m/%Y %H:%M:%S')\n",
    "df['Datetime'] = pd.to_datetime(df['Datetime'],format='%d/%m/%Y %H:%M:%S')\n",
    "df.index.name = 'datetime'\n",
    "df.drop(labels = ['Date','Time'],axis=1,inplace = True)\n",
    "df.head()"
   ]
  },
  {
   "cell_type": "markdown",
   "metadata": {},
   "source": [
    "# **1. Data ingestion & inspection**\n",
    "## **Inspecting data**"
   ]
  },
  {
   "cell_type": "code",
   "execution_count": 3,
   "metadata": {},
   "outputs": [
    {
     "name": "stdout",
     "output_type": "stream",
     "text": [
      "<class 'pandas.core.frame.DataFrame'>\n",
      "DatetimeIndex: 457394 entries, 2010-01-01 00:00:00 to 2010-11-26 21:02:00\n",
      "Data columns (total 8 columns):\n",
      "Global_active_power      457394 non-null float64\n",
      "Global_reactive_power    457394 non-null float64\n",
      "Voltage                  457394 non-null float64\n",
      "Global_intensity         457394 non-null float64\n",
      "Sub_metering_1           457394 non-null float64\n",
      "Sub_metering_2           457394 non-null float64\n",
      "Sub_metering_3           457394 non-null float64\n",
      "Datetime                 457394 non-null datetime64[ns]\n",
      "dtypes: datetime64[ns](1), float64(7)\n",
      "memory usage: 31.4 MB\n"
     ]
    }
   ],
   "source": [
    "df.info()"
   ]
  },
  {
   "cell_type": "markdown",
   "metadata": {},
   "source": [
    "## **Building a DataFrame from scratch**"
   ]
  },
  {
   "cell_type": "code",
   "execution_count": 4,
   "metadata": {},
   "outputs": [],
   "source": [
    "cities = ['Austin','Dallas','Austin','Dallas']\n",
    "signups = [7,12,3,5]\n",
    "visitors = [139,237,326,456]\n",
    "weekdays = ['Sun','Sun','Mon','Mon']\n",
    "list_labels = ['city','signups','visitors','weekday']\n",
    "list_cols = [cities, signups, visitors,weekdays]\n",
    "zipped = list(zip(list_labels,list_cols))"
   ]
  },
  {
   "cell_type": "code",
   "execution_count": 5,
   "metadata": {},
   "outputs": [
    {
     "data": {
      "text/plain": [
       "[('city', ['Austin', 'Dallas', 'Austin', 'Dallas']),\n",
       " ('signups', [7, 12, 3, 5]),\n",
       " ('visitors', [139, 237, 326, 456]),\n",
       " ('weekday', ['Sun', 'Sun', 'Mon', 'Mon'])]"
      ]
     },
     "execution_count": 5,
     "metadata": {},
     "output_type": "execute_result"
    }
   ],
   "source": [
    "zipped"
   ]
  },
  {
   "cell_type": "code",
   "execution_count": 6,
   "metadata": {},
   "outputs": [
    {
     "data": {
      "text/html": [
       "<div>\n",
       "<style scoped>\n",
       "    .dataframe tbody tr th:only-of-type {\n",
       "        vertical-align: middle;\n",
       "    }\n",
       "\n",
       "    .dataframe tbody tr th {\n",
       "        vertical-align: top;\n",
       "    }\n",
       "\n",
       "    .dataframe thead th {\n",
       "        text-align: right;\n",
       "    }\n",
       "</style>\n",
       "<table border=\"1\" class=\"dataframe\">\n",
       "  <thead>\n",
       "    <tr style=\"text-align: right;\">\n",
       "      <th></th>\n",
       "      <th>city</th>\n",
       "      <th>signups</th>\n",
       "      <th>visitors</th>\n",
       "      <th>weekday</th>\n",
       "    </tr>\n",
       "  </thead>\n",
       "  <tbody>\n",
       "    <tr>\n",
       "      <th>0</th>\n",
       "      <td>Austin</td>\n",
       "      <td>7</td>\n",
       "      <td>139</td>\n",
       "      <td>Sun</td>\n",
       "    </tr>\n",
       "    <tr>\n",
       "      <th>1</th>\n",
       "      <td>Dallas</td>\n",
       "      <td>12</td>\n",
       "      <td>237</td>\n",
       "      <td>Sun</td>\n",
       "    </tr>\n",
       "    <tr>\n",
       "      <th>2</th>\n",
       "      <td>Austin</td>\n",
       "      <td>3</td>\n",
       "      <td>326</td>\n",
       "      <td>Mon</td>\n",
       "    </tr>\n",
       "    <tr>\n",
       "      <th>3</th>\n",
       "      <td>Dallas</td>\n",
       "      <td>5</td>\n",
       "      <td>456</td>\n",
       "      <td>Mon</td>\n",
       "    </tr>\n",
       "  </tbody>\n",
       "</table>\n",
       "</div>"
      ],
      "text/plain": [
       "     city  signups  visitors weekday\n",
       "0  Austin        7       139     Sun\n",
       "1  Dallas       12       237     Sun\n",
       "2  Austin        3       326     Mon\n",
       "3  Dallas        5       456     Mon"
      ]
     },
     "execution_count": 6,
     "metadata": {},
     "output_type": "execute_result"
    }
   ],
   "source": [
    "pd.DataFrame(dict(zipped))"
   ]
  },
  {
   "cell_type": "markdown",
   "metadata": {},
   "source": [
    "## **Plotting with pandas**"
   ]
  },
  {
   "cell_type": "code",
   "execution_count": 7,
   "metadata": {},
   "outputs": [],
   "source": [
    "import matplotlib.pyplot as plt"
   ]
  },
  {
   "cell_type": "code",
   "execution_count": 8,
   "metadata": {},
   "outputs": [
    {
     "data": {
      "text/plain": [
       "Index(['Global_active_power', 'Global_reactive_power', 'Voltage',\n",
       "       'Global_intensity', 'Sub_metering_1', 'Sub_metering_2',\n",
       "       'Sub_metering_3', 'Datetime'],\n",
       "      dtype='object')"
      ]
     },
     "execution_count": 8,
     "metadata": {},
     "output_type": "execute_result"
    }
   ],
   "source": [
    "df.columns"
   ]
  },
  {
   "cell_type": "code",
   "execution_count": 9,
   "metadata": {},
   "outputs": [
    {
     "name": "stderr",
     "output_type": "stream",
     "text": [
      "/home/climbach/anaconda3/lib/python3.7/site-packages/pandas/plotting/_core.py:1344: MatplotlibDeprecationWarning: \n",
      "The 'normed' kwarg was deprecated in Matplotlib 2.1 and will be removed in 3.1. Use 'density' instead.\n",
      "  n, bins, patches = ax.hist(y, bins=bins, bottom=bottom, **kwds)\n"
     ]
    },
    {
     "data": {
      "text/plain": [
       "<matplotlib.axes._subplots.AxesSubplot at 0x7f87371d0780>"
      ]
     },
     "execution_count": 9,
     "metadata": {},
     "output_type": "execute_result"
    },
    {
     "data": {
      "image/png": "[encoded data removed]",
      "text/plain": [
       "<Figure size 432x288 with 2 Axes>"
      ]
     },
     "metadata": {
      "needs_background": "light"
     },
     "output_type": "display_data"
    }
   ],
   "source": [
    "fig, axes = plt.subplots(nrows=2)\n",
    "df.Global_intensity.plot(ax=axes[0],kind='hist',normed=True,bins=50)\n",
    "df.Global_intensity.plot(ax=axes[1],kind='hist',cumulative=True,normed=True,bins=50)"
   ]
  },
  {
   "cell_type": "markdown",
   "metadata": {},
   "source": [
    "# **2. Exploratory data analysis**\n",
    "## **Statistical exploratory data analysis**"
   ]
  },
  {
   "cell_type": "code",
   "execution_count": 10,
   "metadata": {},
   "outputs": [
    {
     "name": "stdout",
     "output_type": "stream",
     "text": [
      "Mean sub-metering 3: 7.2440\n",
      "Median sub-metering 3: 1.0000\n",
      "0.5 Quantile of sub-metering 3: 1.0000\n",
      "Values that fall in inter quantile range from 0.25 to 0.75:  0.25     1.0\n",
      "0.75    18.0\n",
      "Name: Sub_metering_3, dtype: float64\n"
     ]
    }
   ],
   "source": [
    "print('Mean sub-metering 3: %.4f' %(df.Sub_metering_3.mean()))\n",
    "print('Median sub-metering 3: %.4f' %(df.Sub_metering_3.median()))\n",
    "print('0.5 Quantile of sub-metering 3: %.4f' %(df.Sub_metering_3.quantile(0.5)))\n",
    "print('Values that fall in inter quantile range from 0.25 to 0.75: ',df.Sub_metering_3.quantile([0.25,0.75]))"
   ]
  },
  {
   "cell_type": "code",
   "execution_count": 11,
   "metadata": {},
   "outputs": [
    {
     "data": {
      "text/plain": [
       "1.0"
      ]
     },
     "execution_count": 11,
     "metadata": {},
     "output_type": "execute_result"
    }
   ],
   "source": [
    "df.Sub_metering_3.quantile(0.5) # 0.5 quatile is the 50th percentile which is also the median"
   ]
  },
  {
   "cell_type": "code",
   "execution_count": 12,
   "metadata": {},
   "outputs": [
    {
     "data": {
      "text/plain": [
       "Index(['Global_active_power', 'Global_reactive_power', 'Voltage',\n",
       "       'Global_intensity', 'Sub_metering_1', 'Sub_metering_2',\n",
       "       'Sub_metering_3', 'Datetime'],\n",
       "      dtype='object')"
      ]
     },
     "execution_count": 12,
     "metadata": {},
     "output_type": "execute_result"
    }
   ],
   "source": [
    "df.columns"
   ]
  },
  {
   "cell_type": "code",
   "execution_count": 13,
   "metadata": {},
   "outputs": [
    {
     "data": {
      "text/html": [
       "<div>\n",
       "<style scoped>\n",
       "    .dataframe tbody tr th:only-of-type {\n",
       "        vertical-align: middle;\n",
       "    }\n",
       "\n",
       "    .dataframe tbody tr th {\n",
       "        vertical-align: top;\n",
       "    }\n",
       "\n",
       "    .dataframe thead th {\n",
       "        text-align: right;\n",
       "    }\n",
       "</style>\n",
       "<table border=\"1\" class=\"dataframe\">\n",
       "  <thead>\n",
       "    <tr style=\"text-align: right;\">\n",
       "      <th></th>\n",
       "      <th>Global_active_power</th>\n",
       "      <th>Global_reactive_power</th>\n",
       "      <th>Voltage</th>\n",
       "      <th>Global_intensity</th>\n",
       "      <th>Sub_metering_1</th>\n",
       "      <th>Sub_metering_2</th>\n",
       "      <th>Sub_metering_3</th>\n",
       "    </tr>\n",
       "  </thead>\n",
       "  <tbody>\n",
       "    <tr>\n",
       "      <th>count</th>\n",
       "      <td>457394.000000</td>\n",
       "      <td>457394.000000</td>\n",
       "      <td>457394.000000</td>\n",
       "      <td>457394.000000</td>\n",
       "      <td>457394.000000</td>\n",
       "      <td>457394.000000</td>\n",
       "      <td>457394.000000</td>\n",
       "    </tr>\n",
       "    <tr>\n",
       "      <th>mean</th>\n",
       "      <td>1.061000</td>\n",
       "      <td>0.129428</td>\n",
       "      <td>241.515526</td>\n",
       "      <td>4.478424</td>\n",
       "      <td>0.987521</td>\n",
       "      <td>1.101696</td>\n",
       "      <td>7.244024</td>\n",
       "    </tr>\n",
       "    <tr>\n",
       "      <th>std</th>\n",
       "      <td>0.933006</td>\n",
       "      <td>0.114979</td>\n",
       "      <td>2.851206</td>\n",
       "      <td>3.914296</td>\n",
       "      <td>5.635009</td>\n",
       "      <td>5.092035</td>\n",
       "      <td>8.698377</td>\n",
       "    </tr>\n",
       "    <tr>\n",
       "      <th>min</th>\n",
       "      <td>0.138000</td>\n",
       "      <td>0.000000</td>\n",
       "      <td>225.320000</td>\n",
       "      <td>0.600000</td>\n",
       "      <td>0.000000</td>\n",
       "      <td>0.000000</td>\n",
       "      <td>0.000000</td>\n",
       "    </tr>\n",
       "    <tr>\n",
       "      <th>25%</th>\n",
       "      <td>0.336000</td>\n",
       "      <td>0.054000</td>\n",
       "      <td>239.800000</td>\n",
       "      <td>1.400000</td>\n",
       "      <td>0.000000</td>\n",
       "      <td>0.000000</td>\n",
       "      <td>1.000000</td>\n",
       "    </tr>\n",
       "    <tr>\n",
       "      <th>50%</th>\n",
       "      <td>0.700000</td>\n",
       "      <td>0.100000</td>\n",
       "      <td>241.500000</td>\n",
       "      <td>3.000000</td>\n",
       "      <td>0.000000</td>\n",
       "      <td>0.000000</td>\n",
       "      <td>1.000000</td>\n",
       "    </tr>\n",
       "    <tr>\n",
       "      <th>75%</th>\n",
       "      <td>1.512000</td>\n",
       "      <td>0.200000</td>\n",
       "      <td>243.230000</td>\n",
       "      <td>6.200000</td>\n",
       "      <td>0.000000</td>\n",
       "      <td>1.000000</td>\n",
       "      <td>18.000000</td>\n",
       "    </tr>\n",
       "    <tr>\n",
       "      <th>max</th>\n",
       "      <td>9.724000</td>\n",
       "      <td>1.124000</td>\n",
       "      <td>253.530000</td>\n",
       "      <td>43.000000</td>\n",
       "      <td>88.000000</td>\n",
       "      <td>80.000000</td>\n",
       "      <td>31.000000</td>\n",
       "    </tr>\n",
       "  </tbody>\n",
       "</table>\n",
       "</div>"
      ],
      "text/plain": [
       "       Global_active_power  Global_reactive_power        Voltage  \\\n",
       "count        457394.000000          457394.000000  457394.000000   \n",
       "mean              1.061000               0.129428     241.515526   \n",
       "std               0.933006               0.114979       2.851206   \n",
       "min               0.138000               0.000000     225.320000   \n",
       "25%               0.336000               0.054000     239.800000   \n",
       "50%               0.700000               0.100000     241.500000   \n",
       "75%               1.512000               0.200000     243.230000   \n",
       "max               9.724000               1.124000     253.530000   \n",
       "\n",
       "       Global_intensity  Sub_metering_1  Sub_metering_2  Sub_metering_3  \n",
       "count     457394.000000   457394.000000   457394.000000   457394.000000  \n",
       "mean           4.478424        0.987521        1.101696        7.244024  \n",
       "std            3.914296        5.635009        5.092035        8.698377  \n",
       "min            0.600000        0.000000        0.000000        0.000000  \n",
       "25%            1.400000        0.000000        0.000000        1.000000  \n",
       "50%            3.000000        0.000000        0.000000        1.000000  \n",
       "75%            6.200000        0.000000        1.000000       18.000000  \n",
       "max           43.000000       88.000000       80.000000       31.000000  "
      ]
     },
     "execution_count": 13,
     "metadata": {},
     "output_type": "execute_result"
    }
   ],
   "source": [
    "df.describe()"
   ]
  },
  {
   "cell_type": "markdown",
   "metadata": {},
   "source": [
    "# **3. Time series in pandas**\n",
    "## **Slicing using datetime index**\n",
    "### **Different kinds of datetime slicing ia acceptable.**  \n",
    "Let's see first five *Voltage* entries for February 5, 2010\n"
   ]
  },
  {
   "cell_type": "code",
   "execution_count": 14,
   "metadata": {},
   "outputs": [
    {
     "data": {
      "text/plain": [
       "datetime\n",
       "2010-02-05 00:00:00    240.53\n",
       "2010-02-05 00:01:00    241.41\n",
       "2010-02-05 00:02:00    241.50\n",
       "2010-02-05 00:03:00    241.54\n",
       "2010-02-05 00:04:00    240.45\n",
       "Name: Voltage, dtype: float64"
      ]
     },
     "execution_count": 14,
     "metadata": {},
     "output_type": "execute_result"
    }
   ],
   "source": [
    "df.loc['Feb 5, 2010','Voltage'][:5]"
   ]
  },
  {
   "cell_type": "code",
   "execution_count": 15,
   "metadata": {},
   "outputs": [
    {
     "data": {
      "text/plain": [
       "datetime\n",
       "2010-02-05 00:00:00    240.53\n",
       "2010-02-05 00:01:00    241.41\n",
       "2010-02-05 00:02:00    241.50\n",
       "2010-02-05 00:03:00    241.54\n",
       "2010-02-05 00:04:00    240.45\n",
       "Name: Voltage, dtype: float64"
      ]
     },
     "execution_count": 15,
     "metadata": {},
     "output_type": "execute_result"
    }
   ],
   "source": [
    "df.loc['2010-Feb-5','Voltage'][:5]"
   ]
  },
  {
   "cell_type": "code",
   "execution_count": 16,
   "metadata": {},
   "outputs": [
    {
     "data": {
      "text/plain": [
       "datetime\n",
       "2010-02-05 00:00:00    240.53\n",
       "2010-02-05 00:01:00    241.41\n",
       "2010-02-05 00:02:00    241.50\n",
       "2010-02-05 00:03:00    241.54\n",
       "2010-02-05 00:04:00    240.45\n",
       "Name: Voltage, dtype: float64"
      ]
     },
     "execution_count": 16,
     "metadata": {},
     "output_type": "execute_result"
    }
   ],
   "source": [
    "df.loc['2010-2-5','Voltage'][:5]"
   ]
  },
  {
   "cell_type": "markdown",
   "metadata": {},
   "source": [
    "## **Resampling timeseries data**\n",
    "\n",
    "### **Downsampling** the df to daily (D) entry by taking mean value for day"
   ]
  },
  {
   "cell_type": "code",
   "execution_count": 17,
   "metadata": {},
   "outputs": [
    {
     "data": {
      "text/html": [
       "<div>\n",
       "<style scoped>\n",
       "    .dataframe tbody tr th:only-of-type {\n",
       "        vertical-align: middle;\n",
       "    }\n",
       "\n",
       "    .dataframe tbody tr th {\n",
       "        vertical-align: top;\n",
       "    }\n",
       "\n",
       "    .dataframe thead th {\n",
       "        text-align: right;\n",
       "    }\n",
       "</style>\n",
       "<table border=\"1\" class=\"dataframe\">\n",
       "  <thead>\n",
       "    <tr style=\"text-align: right;\">\n",
       "      <th></th>\n",
       "      <th>Global_active_power</th>\n",
       "      <th>Global_reactive_power</th>\n",
       "      <th>Voltage</th>\n",
       "      <th>Global_intensity</th>\n",
       "      <th>Sub_metering_1</th>\n",
       "      <th>Sub_metering_2</th>\n",
       "      <th>Sub_metering_3</th>\n",
       "    </tr>\n",
       "    <tr>\n",
       "      <th>datetime</th>\n",
       "      <th></th>\n",
       "      <th></th>\n",
       "      <th></th>\n",
       "      <th></th>\n",
       "      <th></th>\n",
       "      <th></th>\n",
       "      <th></th>\n",
       "    </tr>\n",
       "  </thead>\n",
       "  <tbody>\n",
       "    <tr>\n",
       "      <th>2010-01-01</th>\n",
       "      <td>0.850175</td>\n",
       "      <td>0.114817</td>\n",
       "      <td>242.565722</td>\n",
       "      <td>3.537083</td>\n",
       "      <td>1.600000</td>\n",
       "      <td>0.227083</td>\n",
       "      <td>2.470833</td>\n",
       "    </tr>\n",
       "    <tr>\n",
       "      <th>2010-01-02</th>\n",
       "      <td>0.909546</td>\n",
       "      <td>0.138580</td>\n",
       "      <td>244.677179</td>\n",
       "      <td>3.813760</td>\n",
       "      <td>0.556637</td>\n",
       "      <td>0.207088</td>\n",
       "      <td>4.464211</td>\n",
       "    </tr>\n",
       "    <tr>\n",
       "      <th>2010-01-03</th>\n",
       "      <td>1.446843</td>\n",
       "      <td>0.133063</td>\n",
       "      <td>243.744528</td>\n",
       "      <td>6.044167</td>\n",
       "      <td>2.668056</td>\n",
       "      <td>3.416667</td>\n",
       "      <td>6.995833</td>\n",
       "    </tr>\n",
       "    <tr>\n",
       "      <th>2010-01-04</th>\n",
       "      <td>1.113981</td>\n",
       "      <td>0.108614</td>\n",
       "      <td>245.699118</td>\n",
       "      <td>4.599444</td>\n",
       "      <td>0.000000</td>\n",
       "      <td>0.202778</td>\n",
       "      <td>7.508333</td>\n",
       "    </tr>\n",
       "    <tr>\n",
       "      <th>2010-01-05</th>\n",
       "      <td>1.541514</td>\n",
       "      <td>0.103428</td>\n",
       "      <td>244.521035</td>\n",
       "      <td>6.347083</td>\n",
       "      <td>1.239583</td>\n",
       "      <td>0.203472</td>\n",
       "      <td>11.436111</td>\n",
       "    </tr>\n",
       "  </tbody>\n",
       "</table>\n",
       "</div>"
      ],
      "text/plain": [
       "            Global_active_power  Global_reactive_power     Voltage  \\\n",
       "datetime                                                             \n",
       "2010-01-01             0.850175               0.114817  242.565722   \n",
       "2010-01-02             0.909546               0.138580  244.677179   \n",
       "2010-01-03             1.446843               0.133063  243.744528   \n",
       "2010-01-04             1.113981               0.108614  245.699118   \n",
       "2010-01-05             1.541514               0.103428  244.521035   \n",
       "\n",
       "            Global_intensity  Sub_metering_1  Sub_metering_2  Sub_metering_3  \n",
       "datetime                                                                      \n",
       "2010-01-01          3.537083        1.600000        0.227083        2.470833  \n",
       "2010-01-02          3.813760        0.556637        0.207088        4.464211  \n",
       "2010-01-03          6.044167        2.668056        3.416667        6.995833  \n",
       "2010-01-04          4.599444        0.000000        0.202778        7.508333  \n",
       "2010-01-05          6.347083        1.239583        0.203472       11.436111  "
      ]
     },
     "execution_count": 17,
     "metadata": {},
     "output_type": "execute_result"
    }
   ],
   "source": [
    "daily_mean = df.resample(rule='D').mean()\n",
    "daily_mean.head()"
   ]
  },
  {
   "cell_type": "markdown",
   "metadata": {},
   "source": [
    "### Available resampling rules\n",
    "\n",
    "- 'min','T': minute\n",
    "- 'H': hour\n",
    "- 'D': day\n",
    "- 'B': business day\n",
    "- 'W': week\n",
    "- 'M': month\n",
    "- 'Q': quarter\n",
    "- 'A': year\n",
    "\n",
    "We can also use integer before the rule to specify nultiple interval.\n",
    "Following shows mean data every 2 weeks."
   ]
  },
  {
   "cell_type": "code",
   "execution_count": 18,
   "metadata": {},
   "outputs": [
    {
     "data": {
      "text/html": [
       "<div>\n",
       "<style scoped>\n",
       "    .dataframe tbody tr th:only-of-type {\n",
       "        vertical-align: middle;\n",
       "    }\n",
       "\n",
       "    .dataframe tbody tr th {\n",
       "        vertical-align: top;\n",
       "    }\n",
       "\n",
       "    .dataframe thead th {\n",
       "        text-align: right;\n",
       "    }\n",
       "</style>\n",
       "<table border=\"1\" class=\"dataframe\">\n",
       "  <thead>\n",
       "    <tr style=\"text-align: right;\">\n",
       "      <th></th>\n",
       "      <th>Global_active_power</th>\n",
       "      <th>Global_reactive_power</th>\n",
       "      <th>Voltage</th>\n",
       "      <th>Global_intensity</th>\n",
       "      <th>Sub_metering_1</th>\n",
       "      <th>Sub_metering_2</th>\n",
       "      <th>Sub_metering_3</th>\n",
       "    </tr>\n",
       "    <tr>\n",
       "      <th>datetime</th>\n",
       "      <th></th>\n",
       "      <th></th>\n",
       "      <th></th>\n",
       "      <th></th>\n",
       "      <th></th>\n",
       "      <th></th>\n",
       "      <th></th>\n",
       "    </tr>\n",
       "  </thead>\n",
       "  <tbody>\n",
       "    <tr>\n",
       "      <th>2010-01-03</th>\n",
       "      <td>1.068891</td>\n",
       "      <td>0.128817</td>\n",
       "      <td>243.662241</td>\n",
       "      <td>4.465154</td>\n",
       "      <td>1.608474</td>\n",
       "      <td>1.283862</td>\n",
       "      <td>4.643668</td>\n",
       "    </tr>\n",
       "    <tr>\n",
       "      <th>2010-01-17</th>\n",
       "      <td>1.390772</td>\n",
       "      <td>0.127261</td>\n",
       "      <td>244.332423</td>\n",
       "      <td>5.762527</td>\n",
       "      <td>1.251013</td>\n",
       "      <td>1.265633</td>\n",
       "      <td>9.214433</td>\n",
       "    </tr>\n",
       "    <tr>\n",
       "      <th>2010-01-31</th>\n",
       "      <td>1.541588</td>\n",
       "      <td>0.122642</td>\n",
       "      <td>242.670374</td>\n",
       "      <td>6.417610</td>\n",
       "      <td>1.271591</td>\n",
       "      <td>1.461779</td>\n",
       "      <td>10.859963</td>\n",
       "    </tr>\n",
       "    <tr>\n",
       "      <th>2010-02-14</th>\n",
       "      <td>1.476179</td>\n",
       "      <td>0.105689</td>\n",
       "      <td>242.781408</td>\n",
       "      <td>6.113087</td>\n",
       "      <td>1.005903</td>\n",
       "      <td>1.304346</td>\n",
       "      <td>11.470235</td>\n",
       "    </tr>\n",
       "    <tr>\n",
       "      <th>2010-02-28</th>\n",
       "      <td>1.275540</td>\n",
       "      <td>0.099194</td>\n",
       "      <td>241.914857</td>\n",
       "      <td>5.318433</td>\n",
       "      <td>1.438046</td>\n",
       "      <td>1.354018</td>\n",
       "      <td>8.953224</td>\n",
       "    </tr>\n",
       "  </tbody>\n",
       "</table>\n",
       "</div>"
      ],
      "text/plain": [
       "            Global_active_power  Global_reactive_power     Voltage  \\\n",
       "datetime                                                             \n",
       "2010-01-03             1.068891               0.128817  243.662241   \n",
       "2010-01-17             1.390772               0.127261  244.332423   \n",
       "2010-01-31             1.541588               0.122642  242.670374   \n",
       "2010-02-14             1.476179               0.105689  242.781408   \n",
       "2010-02-28             1.275540               0.099194  241.914857   \n",
       "\n",
       "            Global_intensity  Sub_metering_1  Sub_metering_2  Sub_metering_3  \n",
       "datetime                                                                      \n",
       "2010-01-03          4.465154        1.608474        1.283862        4.643668  \n",
       "2010-01-17          5.762527        1.251013        1.265633        9.214433  \n",
       "2010-01-31          6.417610        1.271591        1.461779       10.859963  \n",
       "2010-02-14          6.113087        1.005903        1.304346       11.470235  \n",
       "2010-02-28          5.318433        1.438046        1.354018        8.953224  "
      ]
     },
     "execution_count": 18,
     "metadata": {},
     "output_type": "execute_result"
    }
   ],
   "source": [
    "week2_mean = df.resample(rule='2W').mean()\n",
    "week2_mean.head()"
   ]
  },
  {
   "cell_type": "markdown",
   "metadata": {},
   "source": [
    "### **Upsampling**\n",
    "Lets upsample the daily_mean to every 4 hour data, using forward fill method"
   ]
  },
  {
   "cell_type": "code",
   "execution_count": 19,
   "metadata": {},
   "outputs": [
    {
     "data": {
      "text/html": [
       "<div>\n",
       "<style scoped>\n",
       "    .dataframe tbody tr th:only-of-type {\n",
       "        vertical-align: middle;\n",
       "    }\n",
       "\n",
       "    .dataframe tbody tr th {\n",
       "        vertical-align: top;\n",
       "    }\n",
       "\n",
       "    .dataframe thead th {\n",
       "        text-align: right;\n",
       "    }\n",
       "</style>\n",
       "<table border=\"1\" class=\"dataframe\">\n",
       "  <thead>\n",
       "    <tr style=\"text-align: right;\">\n",
       "      <th></th>\n",
       "      <th>Global_active_power</th>\n",
       "      <th>Global_reactive_power</th>\n",
       "      <th>Voltage</th>\n",
       "      <th>Global_intensity</th>\n",
       "      <th>Sub_metering_1</th>\n",
       "      <th>Sub_metering_2</th>\n",
       "      <th>Sub_metering_3</th>\n",
       "    </tr>\n",
       "    <tr>\n",
       "      <th>datetime</th>\n",
       "      <th></th>\n",
       "      <th></th>\n",
       "      <th></th>\n",
       "      <th></th>\n",
       "      <th></th>\n",
       "      <th></th>\n",
       "      <th></th>\n",
       "    </tr>\n",
       "  </thead>\n",
       "  <tbody>\n",
       "    <tr>\n",
       "      <th>2010-01-01 00:00:00</th>\n",
       "      <td>0.850175</td>\n",
       "      <td>0.114817</td>\n",
       "      <td>242.565722</td>\n",
       "      <td>3.537083</td>\n",
       "      <td>1.6</td>\n",
       "      <td>0.227083</td>\n",
       "      <td>2.470833</td>\n",
       "    </tr>\n",
       "    <tr>\n",
       "      <th>2010-01-01 04:00:00</th>\n",
       "      <td>0.850175</td>\n",
       "      <td>0.114817</td>\n",
       "      <td>242.565722</td>\n",
       "      <td>3.537083</td>\n",
       "      <td>1.6</td>\n",
       "      <td>0.227083</td>\n",
       "      <td>2.470833</td>\n",
       "    </tr>\n",
       "    <tr>\n",
       "      <th>2010-01-01 08:00:00</th>\n",
       "      <td>0.850175</td>\n",
       "      <td>0.114817</td>\n",
       "      <td>242.565722</td>\n",
       "      <td>3.537083</td>\n",
       "      <td>1.6</td>\n",
       "      <td>0.227083</td>\n",
       "      <td>2.470833</td>\n",
       "    </tr>\n",
       "    <tr>\n",
       "      <th>2010-01-01 12:00:00</th>\n",
       "      <td>0.850175</td>\n",
       "      <td>0.114817</td>\n",
       "      <td>242.565722</td>\n",
       "      <td>3.537083</td>\n",
       "      <td>1.6</td>\n",
       "      <td>0.227083</td>\n",
       "      <td>2.470833</td>\n",
       "    </tr>\n",
       "    <tr>\n",
       "      <th>2010-01-01 16:00:00</th>\n",
       "      <td>0.850175</td>\n",
       "      <td>0.114817</td>\n",
       "      <td>242.565722</td>\n",
       "      <td>3.537083</td>\n",
       "      <td>1.6</td>\n",
       "      <td>0.227083</td>\n",
       "      <td>2.470833</td>\n",
       "    </tr>\n",
       "  </tbody>\n",
       "</table>\n",
       "</div>"
      ],
      "text/plain": [
       "                     Global_active_power  Global_reactive_power     Voltage  \\\n",
       "datetime                                                                      \n",
       "2010-01-01 00:00:00             0.850175               0.114817  242.565722   \n",
       "2010-01-01 04:00:00             0.850175               0.114817  242.565722   \n",
       "2010-01-01 08:00:00             0.850175               0.114817  242.565722   \n",
       "2010-01-01 12:00:00             0.850175               0.114817  242.565722   \n",
       "2010-01-01 16:00:00             0.850175               0.114817  242.565722   \n",
       "\n",
       "                     Global_intensity  Sub_metering_1  Sub_metering_2  \\\n",
       "datetime                                                                \n",
       "2010-01-01 00:00:00          3.537083             1.6        0.227083   \n",
       "2010-01-01 04:00:00          3.537083             1.6        0.227083   \n",
       "2010-01-01 08:00:00          3.537083             1.6        0.227083   \n",
       "2010-01-01 12:00:00          3.537083             1.6        0.227083   \n",
       "2010-01-01 16:00:00          3.537083             1.6        0.227083   \n",
       "\n",
       "                     Sub_metering_3  \n",
       "datetime                             \n",
       "2010-01-01 00:00:00        2.470833  \n",
       "2010-01-01 04:00:00        2.470833  \n",
       "2010-01-01 08:00:00        2.470833  \n",
       "2010-01-01 12:00:00        2.470833  \n",
       "2010-01-01 16:00:00        2.470833  "
      ]
     },
     "execution_count": 19,
     "metadata": {},
     "output_type": "execute_result"
    }
   ],
   "source": [
    "daily_mean.resample('4H').ffill().head()"
   ]
  },
  {
   "cell_type": "markdown",
   "metadata": {},
   "source": [
    "### **Rolling**"
   ]
  },
  {
   "cell_type": "code",
   "execution_count": 20,
   "metadata": {},
   "outputs": [
    {
     "data": {
      "text/plain": [
       "<matplotlib.axes._subplots.AxesSubplot at 0x7f8736fcaa58>"
      ]
     },
     "execution_count": 20,
     "metadata": {},
     "output_type": "execute_result"
    },
    {
     "data": {
      "image/png": "[encoded data removed]",
      "text/plain": [
       "<Figure size 1080x360 with 1 Axes>"
      ]
     },
     "metadata": {
      "needs_background": "light"
     },
     "output_type": "display_data"
    }
   ],
   "source": [
    "daily_mean['Voltage'].plot(figsize=(15,5))"
   ]
  },
  {
   "cell_type": "markdown",
   "metadata": {},
   "source": [
    "The graph is too noisy, so lets smoothed it to see the general trend. Let's use the rolling method to smoothed the data over a window of 7 days."
   ]
  },
  {
   "cell_type": "code",
   "execution_count": 21,
   "metadata": {},
   "outputs": [
    {
     "data": {
      "text/plain": [
       "<matplotlib.axes._subplots.AxesSubplot at 0x7f8736e5f390>"
      ]
     },
     "execution_count": 21,
     "metadata": {},
     "output_type": "execute_result"
    },
    {
     "data": {
      "image/png": "[encoded data removed]",
      "text/plain": [
       "<Figure size 1080x360 with 1 Axes>"
      ]
     },
     "metadata": {
      "needs_background": "light"
     },
     "output_type": "display_data"
    }
   ],
   "source": [
    "daily_mean['Voltage'].rolling(window='7D').mean().plot(figsize=(15,5))"
   ]
  },
  {
   "cell_type": "markdown",
   "metadata": {},
   "source": [
    "## **Manipulating time-series data**"
   ]
  },
  {
   "cell_type": "code",
   "execution_count": 23,
   "metadata": {},
   "outputs": [
    {
     "data": {
      "text/plain": [
       "datetime\n",
       "2010-01-01 00:00:00     0\n",
       "2010-01-01 00:01:00     0\n",
       "2010-01-01 00:02:00     0\n",
       "2010-01-01 00:03:00     0\n",
       "2010-01-01 00:04:00     0\n",
       "2010-01-01 00:05:00     0\n",
       "2010-01-01 00:06:00     0\n",
       "2010-01-01 00:07:00     0\n",
       "2010-01-01 00:08:00     0\n",
       "2010-01-01 00:09:00     0\n",
       "2010-01-01 00:10:00     0\n",
       "2010-01-01 00:11:00     0\n",
       "2010-01-01 00:12:00     0\n",
       "2010-01-01 00:13:00     0\n",
       "2010-01-01 00:14:00     0\n",
       "2010-01-01 00:15:00     0\n",
       "2010-01-01 00:16:00     0\n",
       "2010-01-01 00:17:00     0\n",
       "2010-01-01 00:18:00     0\n",
       "2010-01-01 00:19:00     0\n",
       "2010-01-01 00:20:00     0\n",
       "2010-01-01 00:21:00     0\n",
       "2010-01-01 00:22:00     0\n",
       "2010-01-01 00:23:00     0\n",
       "2010-01-01 00:24:00     0\n",
       "2010-01-01 00:25:00     0\n",
       "2010-01-01 00:26:00     0\n",
       "2010-01-01 00:27:00     0\n",
       "2010-01-01 00:28:00     0\n",
       "2010-01-01 00:29:00     0\n",
       "                       ..\n",
       "2010-11-26 20:33:00    20\n",
       "2010-11-26 20:34:00    20\n",
       "2010-11-26 20:35:00    20\n",
       "2010-11-26 20:36:00    20\n",
       "2010-11-26 20:37:00    20\n",
       "2010-11-26 20:38:00    20\n",
       "2010-11-26 20:39:00    20\n",
       "2010-11-26 20:40:00    20\n",
       "2010-11-26 20:41:00    20\n",
       "2010-11-26 20:42:00    20\n",
       "2010-11-26 20:43:00    20\n",
       "2010-11-26 20:44:00    20\n",
       "2010-11-26 20:45:00    20\n",
       "2010-11-26 20:46:00    20\n",
       "2010-11-26 20:47:00    20\n",
       "2010-11-26 20:48:00    20\n",
       "2010-11-26 20:49:00    20\n",
       "2010-11-26 20:50:00    20\n",
       "2010-11-26 20:51:00    20\n",
       "2010-11-26 20:52:00    20\n",
       "2010-11-26 20:53:00    20\n",
       "2010-11-26 20:54:00    20\n",
       "2010-11-26 20:55:00    20\n",
       "2010-11-26 20:56:00    20\n",
       "2010-11-26 20:57:00    20\n",
       "2010-11-26 20:58:00    20\n",
       "2010-11-26 20:59:00    20\n",
       "2010-11-26 21:00:00    21\n",
       "2010-11-26 21:01:00    21\n",
       "2010-11-26 21:02:00    21\n",
       "Name: Datetime, Length: 457394, dtype: int64"
      ]
     },
     "execution_count": 23,
     "metadata": {},
     "output_type": "execute_result"
    }
   ],
   "source": [
    "# Extracting hour of the day from the Datetime column (Datetime column should be a datetime object to be able to this)\n",
    "df['Datetime'].dt.hour"
   ]
  },
  {
   "cell_type": "code",
   "execution_count": 41,
   "metadata": {},
   "outputs": [
    {
     "data": {
      "text/plain": [
       "datetime\n",
       "2010-01-01 00:00:00   2010-01-01 00:00:00+05:30\n",
       "2010-01-01 00:01:00   2010-01-01 00:01:00+05:30\n",
       "2010-01-01 00:02:00   2010-01-01 00:02:00+05:30\n",
       "2010-01-01 00:03:00   2010-01-01 00:03:00+05:30\n",
       "2010-01-01 00:04:00   2010-01-01 00:04:00+05:30\n",
       "2010-01-01 00:05:00   2010-01-01 00:05:00+05:30\n",
       "2010-01-01 00:06:00   2010-01-01 00:06:00+05:30\n",
       "2010-01-01 00:07:00   2010-01-01 00:07:00+05:30\n",
       "2010-01-01 00:08:00   2010-01-01 00:08:00+05:30\n",
       "2010-01-01 00:09:00   2010-01-01 00:09:00+05:30\n",
       "2010-01-01 00:10:00   2010-01-01 00:10:00+05:30\n",
       "2010-01-01 00:11:00   2010-01-01 00:11:00+05:30\n",
       "2010-01-01 00:12:00   2010-01-01 00:12:00+05:30\n",
       "2010-01-01 00:13:00   2010-01-01 00:13:00+05:30\n",
       "2010-01-01 00:14:00   2010-01-01 00:14:00+05:30\n",
       "2010-01-01 00:15:00   2010-01-01 00:15:00+05:30\n",
       "2010-01-01 00:16:00   2010-01-01 00:16:00+05:30\n",
       "2010-01-01 00:17:00   2010-01-01 00:17:00+05:30\n",
       "2010-01-01 00:18:00   2010-01-01 00:18:00+05:30\n",
       "2010-01-01 00:19:00   2010-01-01 00:19:00+05:30\n",
       "2010-01-01 00:20:00   2010-01-01 00:20:00+05:30\n",
       "2010-01-01 00:21:00   2010-01-01 00:21:00+05:30\n",
       "2010-01-01 00:22:00   2010-01-01 00:22:00+05:30\n",
       "2010-01-01 00:23:00   2010-01-01 00:23:00+05:30\n",
       "2010-01-01 00:24:00   2010-01-01 00:24:00+05:30\n",
       "2010-01-01 00:25:00   2010-01-01 00:25:00+05:30\n",
       "2010-01-01 00:26:00   2010-01-01 00:26:00+05:30\n",
       "2010-01-01 00:27:00   2010-01-01 00:27:00+05:30\n",
       "2010-01-01 00:28:00   2010-01-01 00:28:00+05:30\n",
       "2010-01-01 00:29:00   2010-01-01 00:29:00+05:30\n",
       "                                 ...           \n",
       "2010-11-26 20:33:00   2010-11-26 20:33:00+05:30\n",
       "2010-11-26 20:34:00   2010-11-26 20:34:00+05:30\n",
       "2010-11-26 20:35:00   2010-11-26 20:35:00+05:30\n",
       "2010-11-26 20:36:00   2010-11-26 20:36:00+05:30\n",
       "2010-11-26 20:37:00   2010-11-26 20:37:00+05:30\n",
       "2010-11-26 20:38:00   2010-11-26 20:38:00+05:30\n",
       "2010-11-26 20:39:00   2010-11-26 20:39:00+05:30\n",
       "2010-11-26 20:40:00   2010-11-26 20:40:00+05:30\n",
       "2010-11-26 20:41:00   2010-11-26 20:41:00+05:30\n",
       "2010-11-26 20:42:00   2010-11-26 20:42:00+05:30\n",
       "2010-11-26 20:43:00   2010-11-26 20:43:00+05:30\n",
       "2010-11-26 20:44:00   2010-11-26 20:44:00+05:30\n",
       "2010-11-26 20:45:00   2010-11-26 20:45:00+05:30\n",
       "2010-11-26 20:46:00   2010-11-26 20:46:00+05:30\n",
       "2010-11-26 20:47:00   2010-11-26 20:47:00+05:30\n",
       "2010-11-26 20:48:00   2010-11-26 20:48:00+05:30\n",
       "2010-11-26 20:49:00   2010-11-26 20:49:00+05:30\n",
       "2010-11-26 20:50:00   2010-11-26 20:50:00+05:30\n",
       "2010-11-26 20:51:00   2010-11-26 20:51:00+05:30\n",
       "2010-11-26 20:52:00   2010-11-26 20:52:00+05:30\n",
       "2010-11-26 20:53:00   2010-11-26 20:53:00+05:30\n",
       "2010-11-26 20:54:00   2010-11-26 20:54:00+05:30\n",
       "2010-11-26 20:55:00   2010-11-26 20:55:00+05:30\n",
       "2010-11-26 20:56:00   2010-11-26 20:56:00+05:30\n",
       "2010-11-26 20:57:00   2010-11-26 20:57:00+05:30\n",
       "2010-11-26 20:58:00   2010-11-26 20:58:00+05:30\n",
       "2010-11-26 20:59:00   2010-11-26 20:59:00+05:30\n",
       "2010-11-26 21:00:00   2010-11-26 21:00:00+05:30\n",
       "2010-11-26 21:01:00   2010-11-26 21:01:00+05:30\n",
       "2010-11-26 21:02:00   2010-11-26 21:02:00+05:30\n",
       "Name: Datetime, Length: 457394, dtype: datetime64[ns, Asia/Kolkata]"
      ]
     },
     "execution_count": 41,
     "metadata": {},
     "output_type": "execute_result"
    }
   ],
   "source": [
    "## Lets localize data to India's (Kolkata) timezome. Once we do such kind of localization,\n",
    "## it becomes easier to convert the datetime column to another time zome\n",
    "\n",
    "kolkata = df['Datetime'].dt.tz_localize('Asia/Kolkata')\n",
    "kolkata"
   ]
  },
  {
   "cell_type": "code",
   "execution_count": 43,
   "metadata": {},
   "outputs": [
    {
     "data": {
      "text/plain": [
       "datetime\n",
       "2010-01-01 00:00:00   2009-12-31 13:30:00-05:00\n",
       "2010-01-01 00:01:00   2009-12-31 13:31:00-05:00\n",
       "2010-01-01 00:02:00   2009-12-31 13:32:00-05:00\n",
       "2010-01-01 00:03:00   2009-12-31 13:33:00-05:00\n",
       "2010-01-01 00:04:00   2009-12-31 13:34:00-05:00\n",
       "2010-01-01 00:05:00   2009-12-31 13:35:00-05:00\n",
       "2010-01-01 00:06:00   2009-12-31 13:36:00-05:00\n",
       "2010-01-01 00:07:00   2009-12-31 13:37:00-05:00\n",
       "2010-01-01 00:08:00   2009-12-31 13:38:00-05:00\n",
       "2010-01-01 00:09:00   2009-12-31 13:39:00-05:00\n",
       "2010-01-01 00:10:00   2009-12-31 13:40:00-05:00\n",
       "2010-01-01 00:11:00   2009-12-31 13:41:00-05:00\n",
       "2010-01-01 00:12:00   2009-12-31 13:42:00-05:00\n",
       "2010-01-01 00:13:00   2009-12-31 13:43:00-05:00\n",
       "2010-01-01 00:14:00   2009-12-31 13:44:00-05:00\n",
       "2010-01-01 00:15:00   2009-12-31 13:45:00-05:00\n",
       "2010-01-01 00:16:00   2009-12-31 13:46:00-05:00\n",
       "2010-01-01 00:17:00   2009-12-31 13:47:00-05:00\n",
       "2010-01-01 00:18:00   2009-12-31 13:48:00-05:00\n",
       "2010-01-01 00:19:00   2009-12-31 13:49:00-05:00\n",
       "2010-01-01 00:20:00   2009-12-31 13:50:00-05:00\n",
       "2010-01-01 00:21:00   2009-12-31 13:51:00-05:00\n",
       "2010-01-01 00:22:00   2009-12-31 13:52:00-05:00\n",
       "2010-01-01 00:23:00   2009-12-31 13:53:00-05:00\n",
       "2010-01-01 00:24:00   2009-12-31 13:54:00-05:00\n",
       "2010-01-01 00:25:00   2009-12-31 13:55:00-05:00\n",
       "2010-01-01 00:26:00   2009-12-31 13:56:00-05:00\n",
       "2010-01-01 00:27:00   2009-12-31 13:57:00-05:00\n",
       "2010-01-01 00:28:00   2009-12-31 13:58:00-05:00\n",
       "2010-01-01 00:29:00   2009-12-31 13:59:00-05:00\n",
       "                                 ...           \n",
       "2010-11-26 20:33:00   2010-11-26 10:03:00-05:00\n",
       "2010-11-26 20:34:00   2010-11-26 10:04:00-05:00\n",
       "2010-11-26 20:35:00   2010-11-26 10:05:00-05:00\n",
       "2010-11-26 20:36:00   2010-11-26 10:06:00-05:00\n",
       "2010-11-26 20:37:00   2010-11-26 10:07:00-05:00\n",
       "2010-11-26 20:38:00   2010-11-26 10:08:00-05:00\n",
       "2010-11-26 20:39:00   2010-11-26 10:09:00-05:00\n",
       "2010-11-26 20:40:00   2010-11-26 10:10:00-05:00\n",
       "2010-11-26 20:41:00   2010-11-26 10:11:00-05:00\n",
       "2010-11-26 20:42:00   2010-11-26 10:12:00-05:00\n",
       "2010-11-26 20:43:00   2010-11-26 10:13:00-05:00\n",
       "2010-11-26 20:44:00   2010-11-26 10:14:00-05:00\n",
       "2010-11-26 20:45:00   2010-11-26 10:15:00-05:00\n",
       "2010-11-26 20:46:00   2010-11-26 10:16:00-05:00\n",
       "2010-11-26 20:47:00   2010-11-26 10:17:00-05:00\n",
       "2010-11-26 20:48:00   2010-11-26 10:18:00-05:00\n",
       "2010-11-26 20:49:00   2010-11-26 10:19:00-05:00\n",
       "2010-11-26 20:50:00   2010-11-26 10:20:00-05:00\n",
       "2010-11-26 20:51:00   2010-11-26 10:21:00-05:00\n",
       "2010-11-26 20:52:00   2010-11-26 10:22:00-05:00\n",
       "2010-11-26 20:53:00   2010-11-26 10:23:00-05:00\n",
       "2010-11-26 20:54:00   2010-11-26 10:24:00-05:00\n",
       "2010-11-26 20:55:00   2010-11-26 10:25:00-05:00\n",
       "2010-11-26 20:56:00   2010-11-26 10:26:00-05:00\n",
       "2010-11-26 20:57:00   2010-11-26 10:27:00-05:00\n",
       "2010-11-26 20:58:00   2010-11-26 10:28:00-05:00\n",
       "2010-11-26 20:59:00   2010-11-26 10:29:00-05:00\n",
       "2010-11-26 21:00:00   2010-11-26 10:30:00-05:00\n",
       "2010-11-26 21:01:00   2010-11-26 10:31:00-05:00\n",
       "2010-11-26 21:02:00   2010-11-26 10:32:00-05:00\n",
       "Name: Datetime, Length: 457394, dtype: datetime64[ns, US/Eastern]"
      ]
     },
     "execution_count": 43,
     "metadata": {},
     "output_type": "execute_result"
    }
   ],
   "source": [
    "# Convert kolkata time to US/Eastern timezone\n",
    "kolkata.dt.tz_convert('US/Eastern')"
   ]
  },
  {
   "cell_type": "code",
   "execution_count": 47,
   "metadata": {},
   "outputs": [
    {
     "data": {
      "text/plain": [
       "Index(['Global_active_power', 'Global_reactive_power', 'Voltage',\n",
       "       'Global_intensity', 'Sub_metering_1', 'Sub_metering_2',\n",
       "       'Sub_metering_3', 'Datetime'],\n",
       "      dtype='object')"
      ]
     },
     "execution_count": 47,
     "metadata": {},
     "output_type": "execute_result"
    }
   ],
   "source": [
    "df.columns.str.strip()"
   ]
  },
  {
   "cell_type": "markdown",
   "metadata": {},
   "source": [
    "## **More of pandas plotting**\n",
    "\n",
    "- ### **Line plots**"
   ]
  },
  {
   "cell_type": "code",
   "execution_count": 64,
   "metadata": {},
   "outputs": [
    {
     "data": {
      "text/plain": [
       "Text(0.5, 0, 'Month')"
      ]
     },
     "execution_count": 64,
     "metadata": {},
     "output_type": "execute_result"
    },
    {
     "data": {
      "image/png": "[encoded data removed]",
      "text/plain": [
       "<Figure size 720x360 with 1 Axes>"
      ]
     },
     "metadata": {
      "needs_background": "light"
     },
     "output_type": "display_data"
    }
   ],
   "source": [
    "_=daily_mean.Voltage.plot(title = 'Voltage',figsize=(10,5),style='k.-')\n",
    "plt.xlabel('Month')"
   ]
  },
  {
   "cell_type": "markdown",
   "metadata": {},
   "source": [
    "- ### More plot styles\n",
    "    - style = 'color,marker,line'\n",
    "        - Color: blue(b), green(g), red(r), cyan(c)\n",
    "        - Marker: circle(o), star(\\*), square(s), plus(+)\n",
    "        - Line: dotted(:), dashed(-:) "
   ]
  },
  {
   "cell_type": "markdown",
   "metadata": {},
   "source": [
    "- ### **Area plots**"
   ]
  },
  {
   "cell_type": "code",
   "execution_count": 67,
   "metadata": {},
   "outputs": [
    {
     "data": {
      "image/png": "[encoded data removed]",
      "text/plain": [
       "<Figure size 720x360 with 1 Axes>"
      ]
     },
     "metadata": {
      "needs_background": "light"
     },
     "output_type": "display_data"
    }
   ],
   "source": [
    "_= daily_mean.Sub_metering_2.plot(title='Voltage',figsize=(10,5),kind='Area')"
   ]
  },
  {
   "cell_type": "markdown",
   "metadata": {},
   "source": [
    "# **4. Case Study - Sunlight in Austin**"
   ]
  },
  {
   "cell_type": "code",
   "execution_count": 69,
   "metadata": {},
   "outputs": [
    {
     "data": {
      "text/html": [
       "<div>\n",
       "<style scoped>\n",
       "    .dataframe tbody tr th:only-of-type {\n",
       "        vertical-align: middle;\n",
       "    }\n",
       "\n",
       "    .dataframe tbody tr th {\n",
       "        vertical-align: top;\n",
       "    }\n",
       "\n",
       "    .dataframe thead th {\n",
       "        text-align: right;\n",
       "    }\n",
       "</style>\n",
       "<table border=\"1\" class=\"dataframe\">\n",
       "  <thead>\n",
       "    <tr style=\"text-align: right;\">\n",
       "      <th></th>\n",
       "      <th>Global_active_power</th>\n",
       "      <th>Global_reactive_power</th>\n",
       "      <th>Voltage</th>\n",
       "      <th>Global_intensity</th>\n",
       "      <th>Sub_metering_1</th>\n",
       "      <th>Sub_metering_2</th>\n",
       "      <th>Sub_metering_3</th>\n",
       "      <th>Datetime</th>\n",
       "    </tr>\n",
       "    <tr>\n",
       "      <th>datetime</th>\n",
       "      <th></th>\n",
       "      <th></th>\n",
       "      <th></th>\n",
       "      <th></th>\n",
       "      <th></th>\n",
       "      <th></th>\n",
       "      <th></th>\n",
       "      <th></th>\n",
       "    </tr>\n",
       "  </thead>\n",
       "  <tbody>\n",
       "    <tr>\n",
       "      <th>2010-01-01 00:00:00</th>\n",
       "      <td>1.790</td>\n",
       "      <td>0.236</td>\n",
       "      <td>240.65</td>\n",
       "      <td>7.4</td>\n",
       "      <td>0.0</td>\n",
       "      <td>0.0</td>\n",
       "      <td>18.0</td>\n",
       "      <td>2010-01-01 00:00:00</td>\n",
       "    </tr>\n",
       "    <tr>\n",
       "      <th>2010-01-01 00:01:00</th>\n",
       "      <td>1.780</td>\n",
       "      <td>0.234</td>\n",
       "      <td>240.07</td>\n",
       "      <td>7.4</td>\n",
       "      <td>0.0</td>\n",
       "      <td>0.0</td>\n",
       "      <td>18.0</td>\n",
       "      <td>2010-01-01 00:01:00</td>\n",
       "    </tr>\n",
       "    <tr>\n",
       "      <th>2010-01-01 00:02:00</th>\n",
       "      <td>1.780</td>\n",
       "      <td>0.234</td>\n",
       "      <td>240.15</td>\n",
       "      <td>7.4</td>\n",
       "      <td>0.0</td>\n",
       "      <td>0.0</td>\n",
       "      <td>19.0</td>\n",
       "      <td>2010-01-01 00:02:00</td>\n",
       "    </tr>\n",
       "    <tr>\n",
       "      <th>2010-01-01 00:03:00</th>\n",
       "      <td>1.746</td>\n",
       "      <td>0.186</td>\n",
       "      <td>240.26</td>\n",
       "      <td>7.2</td>\n",
       "      <td>0.0</td>\n",
       "      <td>0.0</td>\n",
       "      <td>18.0</td>\n",
       "      <td>2010-01-01 00:03:00</td>\n",
       "    </tr>\n",
       "    <tr>\n",
       "      <th>2010-01-01 00:04:00</th>\n",
       "      <td>1.686</td>\n",
       "      <td>0.102</td>\n",
       "      <td>240.12</td>\n",
       "      <td>7.0</td>\n",
       "      <td>0.0</td>\n",
       "      <td>0.0</td>\n",
       "      <td>18.0</td>\n",
       "      <td>2010-01-01 00:04:00</td>\n",
       "    </tr>\n",
       "  </tbody>\n",
       "</table>\n",
       "</div>"
      ],
      "text/plain": [
       "                     Global_active_power  Global_reactive_power  Voltage  \\\n",
       "datetime                                                                   \n",
       "2010-01-01 00:00:00                1.790                  0.236   240.65   \n",
       "2010-01-01 00:01:00                1.780                  0.234   240.07   \n",
       "2010-01-01 00:02:00                1.780                  0.234   240.15   \n",
       "2010-01-01 00:03:00                1.746                  0.186   240.26   \n",
       "2010-01-01 00:04:00                1.686                  0.102   240.12   \n",
       "\n",
       "                     Global_intensity  Sub_metering_1  Sub_metering_2  \\\n",
       "datetime                                                                \n",
       "2010-01-01 00:00:00               7.4             0.0             0.0   \n",
       "2010-01-01 00:01:00               7.4             0.0             0.0   \n",
       "2010-01-01 00:02:00               7.4             0.0             0.0   \n",
       "2010-01-01 00:03:00               7.2             0.0             0.0   \n",
       "2010-01-01 00:04:00               7.0             0.0             0.0   \n",
       "\n",
       "                     Sub_metering_3            Datetime  \n",
       "datetime                                                 \n",
       "2010-01-01 00:00:00            18.0 2010-01-01 00:00:00  \n",
       "2010-01-01 00:01:00            18.0 2010-01-01 00:01:00  \n",
       "2010-01-01 00:02:00            19.0 2010-01-01 00:02:00  \n",
       "2010-01-01 00:03:00            18.0 2010-01-01 00:03:00  \n",
       "2010-01-01 00:04:00            18.0 2010-01-01 00:04:00  "
      ]
     },
     "execution_count": 69,
     "metadata": {},
     "output_type": "execute_result"
    }
   ],
   "source": [
    "df.head()"
   ]
  },
  {
   "cell_type": "code",
   "execution_count": 77,
   "metadata": {},
   "outputs": [
    {
     "data": {
      "text/html": [
       "<div>\n",
       "<style scoped>\n",
       "    .dataframe tbody tr th:only-of-type {\n",
       "        vertical-align: middle;\n",
       "    }\n",
       "\n",
       "    .dataframe tbody tr th {\n",
       "        vertical-align: top;\n",
       "    }\n",
       "\n",
       "    .dataframe thead th {\n",
       "        text-align: right;\n",
       "    }\n",
       "</style>\n",
       "<table border=\"1\" class=\"dataframe\">\n",
       "  <thead>\n",
       "    <tr style=\"text-align: right;\">\n",
       "      <th></th>\n",
       "      <th>Global_active_power</th>\n",
       "      <th>Global_reactive_power</th>\n",
       "      <th>Voltage</th>\n",
       "      <th>Global_intensity</th>\n",
       "      <th>Sub_metering_1</th>\n",
       "      <th>Sub_metering_2</th>\n",
       "      <th>Sub_metering_3</th>\n",
       "      <th>Datetime</th>\n",
       "    </tr>\n",
       "    <tr>\n",
       "      <th>datetime</th>\n",
       "      <th></th>\n",
       "      <th></th>\n",
       "      <th></th>\n",
       "      <th></th>\n",
       "      <th></th>\n",
       "      <th></th>\n",
       "      <th></th>\n",
       "      <th></th>\n",
       "    </tr>\n",
       "  </thead>\n",
       "  <tbody>\n",
       "    <tr>\n",
       "      <th>2010-01-01 08:00:00</th>\n",
       "      <td>0.746</td>\n",
       "      <td>0.260</td>\n",
       "      <td>240.13</td>\n",
       "      <td>3.2</td>\n",
       "      <td>0.0</td>\n",
       "      <td>2.0</td>\n",
       "      <td>0.0</td>\n",
       "      <td>2010-01-01 08:00:00</td>\n",
       "    </tr>\n",
       "    <tr>\n",
       "      <th>2010-01-01 08:01:00</th>\n",
       "      <td>0.740</td>\n",
       "      <td>0.256</td>\n",
       "      <td>239.55</td>\n",
       "      <td>3.2</td>\n",
       "      <td>0.0</td>\n",
       "      <td>1.0</td>\n",
       "      <td>1.0</td>\n",
       "      <td>2010-01-01 08:01:00</td>\n",
       "    </tr>\n",
       "  </tbody>\n",
       "</table>\n",
       "</div>"
      ],
      "text/plain": [
       "                     Global_active_power  Global_reactive_power  Voltage  \\\n",
       "datetime                                                                   \n",
       "2010-01-01 08:00:00                0.746                  0.260   240.13   \n",
       "2010-01-01 08:01:00                0.740                  0.256   239.55   \n",
       "\n",
       "                     Global_intensity  Sub_metering_1  Sub_metering_2  \\\n",
       "datetime                                                                \n",
       "2010-01-01 08:00:00               3.2             0.0             2.0   \n",
       "2010-01-01 08:01:00               3.2             0.0             1.0   \n",
       "\n",
       "                     Sub_metering_3            Datetime  \n",
       "datetime                                                 \n",
       "2010-01-01 08:00:00             0.0 2010-01-01 08:00:00  \n",
       "2010-01-01 08:01:00             1.0 2010-01-01 08:01:00  "
      ]
     },
     "execution_count": 77,
     "metadata": {},
     "output_type": "execute_result"
    }
   ],
   "source": [
    "df['Jan 1, 2010, 8 AM':'Jan 1, 2010, 8:01 AM']"
   ]
  },
  {
   "cell_type": "code",
   "execution_count": null,
   "metadata": {},
   "outputs": [],
   "source": []
  }
 ],
 "metadata": {
  "kernelspec": {
   "display_name": "Python 3",
   "language": "python",
   "name": "python3"
  },
  "language_info": {
   "codemirror_mode": {
    "name": "ipython",
    "version": 3
   },
   "file_extension": ".py",
   "mimetype": "text/x-python",
   "name": "python",
   "nbconvert_exporter": "python",
   "pygments_lexer": "ipython3",
   "version": "3.7.3"
  }
 },
 "nbformat": 4,
 "nbformat_minor": 4
}
