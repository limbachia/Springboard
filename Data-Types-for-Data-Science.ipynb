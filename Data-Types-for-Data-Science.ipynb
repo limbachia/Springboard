{
 "cells": [
  {
   "cell_type": "markdown",
   "metadata": {},
   "source": [
    "# DataCamp"
   ]
  },
  {
   "cell_type": "markdown",
   "metadata": {},
   "source": [
    "## Dictionaries"
   ]
  },
  {
   "cell_type": "code",
   "execution_count": 349,
   "metadata": {},
   "outputs": [
    {
     "data": {
      "text/plain": [
       "{'key1': ['a', 'b', 'c', 'd'], 'key2': [1, 2, 3, 4]}"
      ]
     },
     "execution_count": 349,
     "metadata": {},
     "output_type": "execute_result"
    }
   ],
   "source": [
    "a = {'key1':'a b c d'.split(),'key2':[1,2,3,4]}\n",
    "a"
   ]
  },
  {
   "cell_type": "code",
   "execution_count": 350,
   "metadata": {},
   "outputs": [],
   "source": [
    "a['key1'].append('e')"
   ]
  },
  {
   "cell_type": "code",
   "execution_count": 352,
   "metadata": {},
   "outputs": [
    {
     "data": {
      "text/plain": [
       "{'key1': ['a', 'b', 'c', 'd', 'e'],\n",
       " 'key2': [1, 2, 3, 4],\n",
       " 'key3': ['a', 1, 'b', 2, 'c', 3, 'd', 4]}"
      ]
     },
     "execution_count": 352,
     "metadata": {},
     "output_type": "execute_result"
    }
   ],
   "source": [
    "a.update({'key3':['a',1,'b',2,'c',3,'d',4]})\n",
    "a"
   ]
  },
  {
   "cell_type": "markdown",
   "metadata": {},
   "source": [
    "## Counter"
   ]
  },
  {
   "cell_type": "code",
   "execution_count": 2,
   "metadata": {},
   "outputs": [
    {
     "name": "stdout",
     "output_type": "stream",
     "text": [
      "Counter({'Chirag': 10, 'Dawal': 2, 'Ravi': 1})\n"
     ]
    },
    {
     "data": {
      "text/plain": [
       "[('Chirag', 10)]"
      ]
     },
     "execution_count": 2,
     "metadata": {},
     "output_type": "execute_result"
    }
   ],
   "source": [
    "from collections import Counter\n",
    "\n",
    "names = ['Chirag']*10 + ['Dawal']*2 + ['Ravi']\n",
    "count_by_names = Counter(names)\n",
    "print(count_by_names)\n",
    "count_by_names.most_common(1)"
   ]
  },
  {
   "cell_type": "markdown",
   "metadata": {},
   "source": [
    "## Dictionaries of unknown structure - Defaultdict "
   ]
  },
  {
   "cell_type": "code",
   "execution_count": 5,
   "metadata": {},
   "outputs": [
    {
     "data": {
      "text/plain": [
       "defaultdict(list, {'key1': ['Chirag']})"
      ]
     },
     "execution_count": 5,
     "metadata": {},
     "output_type": "execute_result"
    }
   ],
   "source": [
    "from collections import defaultdict\n",
    "\n",
    "'''\n",
    "'Defaultdict intializes a dictionaly which will have values in form of lists. \n",
    "This is helpful when you want to add a key if it already does not exist and append to it at the same time \n",
    "'''\n",
    "eateries_by_park = defaultdict(list)\n",
    "\n",
    "eateries_by_park['key1'].append('Chirag')\n",
    "eateries_by_park"
   ]
  },
  {
   "cell_type": "markdown",
   "metadata": {},
   "source": [
    "## Maintaining Dictionary order with Orderdict"
   ]
  },
  {
   "cell_type": "code",
   "execution_count": 6,
   "metadata": {},
   "outputs": [
    {
     "name": "stdout",
     "output_type": "stream",
     "text": [
      "OrderedDict([('Chirag', '03/25/1990'), ('Dawal', '04/15/1988'), ('Bina', '02/06/1987'), ('Nirali', '12/17/1990')])\n"
     ]
    },
    {
     "data": {
      "text/plain": [
       "'Chirag'"
      ]
     },
     "execution_count": 6,
     "metadata": {},
     "output_type": "execute_result"
    }
   ],
   "source": [
    "from collections import OrderedDict\n",
    "\n",
    "birthdates = [('Chirag','03/25/1990'),\n",
    "              ('Dawal','04/15/1988'),\n",
    "              ('Bina','02/06/1987'),\n",
    "              ('Nirali','12/17/1990')]\n",
    "\n",
    "birthdays = OrderedDict()\n",
    "\n",
    "for name, date in birthdates:\n",
    "    if name not in birthdays:\n",
    "        birthdays[name] = date\n",
    "        \n",
    "print(birthdays)\n",
    "birthdays.popitem(last=False)[0]"
   ]
  },
  {
   "cell_type": "markdown",
   "metadata": {},
   "source": [
    "## Namedtuples"
   ]
  },
  {
   "cell_type": "code",
   "execution_count": 7,
   "metadata": {},
   "outputs": [],
   "source": [
    "from collections import namedtuple\n",
    "\n",
    "Birthdays = namedtuple('Birthdays',['name','date'])\n",
    "\n",
    "dates = []\n",
    "\n",
    "for name, date in birthdates:\n",
    "    details = Birthdays(name,date)\n",
    "    dates.append(details)"
   ]
  },
  {
   "cell_type": "code",
   "execution_count": 9,
   "metadata": {},
   "outputs": [
    {
     "data": {
      "text/plain": [
       "[Birthdays(name='Chirag', date='03/25/1990'),\n",
       " Birthdays(name='Dawal', date='04/15/1988'),\n",
       " Birthdays(name='Bina', date='02/06/1987'),\n",
       " Birthdays(name='Nirali', date='12/17/1990')]"
      ]
     },
     "execution_count": 9,
     "metadata": {},
     "output_type": "execute_result"
    }
   ],
   "source": [
    "dates"
   ]
  },
  {
   "cell_type": "markdown",
   "metadata": {},
   "source": [
    "## DateTime"
   ]
  },
  {
   "cell_type": "code",
   "execution_count": 4,
   "metadata": {},
   "outputs": [
    {
     "name": "stdout",
     "output_type": "stream",
     "text": [
      "<class 'datetime.datetime'>\n",
      "1990-03-25 00:00:00\n"
     ]
    }
   ],
   "source": [
    "from datetime import datetime\n",
    "\n",
    "c_birthday = '03/25/1990'\n",
    "\n",
    "date_dt = datetime.strptime(c_birthday,'%m/%d/%Y')\n",
    "print(type(date_dt))\n",
    "print(date_dt)"
   ]
  },
  {
   "cell_type": "markdown",
   "metadata": {},
   "source": [
    "- strptime: to convert from string to dateime object\n",
    "- strftime: to convert from datetime to string\n",
    "- isoformat: converts datetime object to iso format"
   ]
  },
  {
   "cell_type": "code",
   "execution_count": 10,
   "metadata": {},
   "outputs": [
    {
     "name": "stdout",
     "output_type": "stream",
     "text": [
      "Indian format: 25/03/1990\n",
      "1990-03-25T00:00:00\n"
     ]
    }
   ],
   "source": [
    "print('Indian format:',date_dt.strftime('%d/%m/%Y'))\n",
    "print(date_dt.isoformat())"
   ]
  },
  {
   "cell_type": "markdown",
   "metadata": {},
   "source": [
    "### Working with Datetime Components and current time\n",
    "- current time zone\n",
    "- current time zone in UTC format\n",
    "- time zones"
   ]
  },
  {
   "cell_type": "code",
   "execution_count": 15,
   "metadata": {},
   "outputs": [
    {
     "data": {
      "text/plain": [
       "datetime.datetime(2020, 3, 12, 22, 43, 22, 355730)"
      ]
     },
     "execution_count": 15,
     "metadata": {},
     "output_type": "execute_result"
    }
   ],
   "source": [
    "datetime.now()"
   ]
  },
  {
   "cell_type": "code",
   "execution_count": 14,
   "metadata": {},
   "outputs": [
    {
     "data": {
      "text/plain": [
       "datetime.datetime(2020, 3, 13, 2, 42, 6, 354229)"
      ]
     },
     "execution_count": 14,
     "metadata": {},
     "output_type": "execute_result"
    }
   ],
   "source": [
    "datetime.utcnow()"
   ]
  },
  {
   "cell_type": "code",
   "execution_count": 16,
   "metadata": {},
   "outputs": [],
   "source": [
    "from pytz import timezone"
   ]
  },
  {
   "cell_type": "code",
   "execution_count": 17,
   "metadata": {},
   "outputs": [],
   "source": [
    "record_dt = datetime.strptime('07/12/2016 04:39PM','%m/%d/%Y %H:%M%p')"
   ]
  },
  {
   "cell_type": "code",
   "execution_count": 18,
   "metadata": {},
   "outputs": [
    {
     "data": {
      "text/plain": [
       "datetime.datetime(2016, 7, 12, 4, 39)"
      ]
     },
     "execution_count": 18,
     "metadata": {},
     "output_type": "execute_result"
    }
   ],
   "source": [
    "record_dt"
   ]
  },
  {
   "cell_type": "code",
   "execution_count": 27,
   "metadata": {},
   "outputs": [],
   "source": [
    "# Creating timezone objects\n",
    "ny_tz = timezone('US/Eastern')\n",
    "la_tz = timezone('US/Pacific')\n",
    "\n",
    "ny_dt = record_dt.replace(tzinfo=ny_tz)\n",
    "\n",
    "la_dt = ny_dt.astimezone(la_tz)"
   ]
  },
  {
   "cell_type": "code",
   "execution_count": 28,
   "metadata": {},
   "outputs": [
    {
     "name": "stdout",
     "output_type": "stream",
     "text": [
      "2016-07-12 04:39:00\n",
      "2016-07-12 04:39:00-04:56\n",
      "2016-07-12 02:35:00-07:00\n"
     ]
    }
   ],
   "source": [
    "print(record_dt)\n",
    "print(ny_dt)\n",
    "print(la_dt)"
   ]
  },
  {
   "cell_type": "markdown",
   "metadata": {},
   "source": [
    "## Time Travel (Adding and Subtracting Time)\n",
    "- adding subracting time using a timedelta object\n",
    "- getting a time difference, like age"
   ]
  },
  {
   "cell_type": "code",
   "execution_count": 29,
   "metadata": {},
   "outputs": [],
   "source": [
    "from datetime import timedelta"
   ]
  },
  {
   "cell_type": "code",
   "execution_count": 31,
   "metadata": {},
   "outputs": [
    {
     "name": "stdout",
     "output_type": "stream",
     "text": [
      "Today's date: 2016-07-12 04:39:00\n",
      "Date 90 days back:  2016-04-13 04:39:00\n"
     ]
    }
   ],
   "source": [
    "# Lets find out what was the date 90 days back\n",
    "flashback = timedelta(days=90)\n",
    "print(\"Today's date:\", record_dt)\n",
    "print(\"Date 90 days back: \",record_dt - flashback)"
   ]
  },
  {
   "cell_type": "code",
   "execution_count": 33,
   "metadata": {},
   "outputs": [
    {
     "name": "stdout",
     "output_type": "stream",
     "text": [
      "My birthday datetime: 1990-03-25 08:41:00\n"
     ]
    }
   ],
   "source": [
    "my_bdt_str = '03/25/1990 08:41PM'\n",
    "my_bdt = datetime.strptime(my_bdt_str,'%m/%d/%Y %H:%M%p')\n",
    "print('My birthday datetime:',my_bdt)"
   ]
  },
  {
   "cell_type": "code",
   "execution_count": 38,
   "metadata": {},
   "outputs": [
    {
     "name": "stdout",
     "output_type": "stream",
     "text": [
      "Current datetime: 2020-03-12 23:19:25.436434\n"
     ]
    }
   ],
   "source": [
    "current_dt = datetime.now()\n",
    "print('Current datetime:',current_dt)"
   ]
  },
  {
   "cell_type": "code",
   "execution_count": 39,
   "metadata": {},
   "outputs": [
    {
     "name": "stdout",
     "output_type": "stream",
     "text": [
      "My age: 10945 days, 14:38:25.436434\n"
     ]
    }
   ],
   "source": [
    "my_age = current_dt - my_bdt\n",
    "print('My age:',my_age)"
   ]
  },
  {
   "cell_type": "code",
   "execution_count": 66,
   "metadata": {},
   "outputs": [
    {
     "data": {
      "text/plain": [
       "945700705.436434"
      ]
     },
     "execution_count": 66,
     "metadata": {},
     "output_type": "execute_result"
    }
   ],
   "source": [
    "my_age.total_seconds()"
   ]
  },
  {
   "cell_type": "code",
   "execution_count": 63,
   "metadata": {},
   "outputs": [
    {
     "data": {
      "text/plain": [
       "54299294.56356597"
      ]
     },
     "execution_count": 63,
     "metadata": {},
     "output_type": "execute_result"
    }
   ],
   "source": [
    "1e9 - my_age.total_seconds()"
   ]
  },
  {
   "cell_type": "markdown",
   "metadata": {},
   "source": [
    "## HELP! Libraries to make it easier"
   ]
  },
  {
   "cell_type": "code",
   "execution_count": 69,
   "metadata": {},
   "outputs": [],
   "source": [
    "import pendulum"
   ]
  },
  {
   "cell_type": "code",
   "execution_count": 73,
   "metadata": {},
   "outputs": [
    {
     "name": "stdout",
     "output_type": "stream",
     "text": [
      "03/25/1990 08:41PM\n",
      "1990-03-25T20:41:00-05:00\n"
     ]
    }
   ],
   "source": [
    "print(my_bdt_str)\n",
    "my_bdt = pendulum.parse(my_bdt_str,tz='US/Eastern')\n",
    "print(my_bdt)"
   ]
  },
  {
   "cell_type": "code",
   "execution_count": 95,
   "metadata": {},
   "outputs": [
    {
     "name": "stdout",
     "output_type": "stream",
     "text": [
      "1990-03-26T07:11:00+05:30\n"
     ]
    }
   ],
   "source": [
    "# If was born in the US at the same time, what would be my brithday in the Indian time zone?\n",
    "print(my_bdt.in_timezone('Asia/Kolkata'))"
   ]
  },
  {
   "cell_type": "code",
   "execution_count": 100,
   "metadata": {},
   "outputs": [],
   "source": [
    "my_age = pendulum.now() - my_bdt"
   ]
  },
  {
   "cell_type": "code",
   "execution_count": 112,
   "metadata": {},
   "outputs": [
    {
     "name": "stdout",
     "output_type": "stream",
     "text": [
      "My age is:\n",
      "29 years 11 months 2 weeks 2 days 2 hours 21 minutes 52 seconds\n",
      "29 years\n",
      "359 months\n",
      "1563 weeks\n",
      "10946 days\n",
      "262682 hours\n",
      "15760941 minutes\n",
      "945656512 seconds\n"
     ]
    }
   ],
   "source": [
    "print('My age is:')\n",
    "print(my_age.in_words())\n",
    "print(my_age.in_years(),'years')\n",
    "print(my_age.in_months(),'months')\n",
    "print(my_age.in_weeks(),'weeks')\n",
    "print(my_age.in_days(),'days')\n",
    "print(my_age.in_hours(),'hours')\n",
    "print(my_age.in_minutes(),'minutes')\n",
    "print(my_age.in_seconds(),'seconds')"
   ]
  },
  {
   "cell_type": "code",
   "execution_count": 119,
   "metadata": {},
   "outputs": [
    {
     "name": "stdout",
     "output_type": "stream",
     "text": [
      "1990-03-25\n",
      "1990-03-25T20:41:00-05:00\n",
      "1990-03-25 20:41:00\n"
     ]
    }
   ],
   "source": [
    "print(my_bdt.to_date_string())\n",
    "print(my_bdt.to_iso8601_string())\n",
    "print(my_bdt.to_datetime_string())"
   ]
  },
  {
   "cell_type": "markdown",
   "metadata": {},
   "source": [
    "# Counting within Date Ranges"
   ]
  },
  {
   "cell_type": "markdown",
   "metadata": {},
   "source": [
    "## Reading your data with CSV Reader and Establishing your Data Containers\n",
    "Let's get started! The exercises in this chapter are intentionally more challenging, to give you a chance to really solidify your knowledge. Don't lose heart if you find yourself stuck; think back to the concepts you've learned in previous chapters and how you can apply them to this crime dataset. Good luck!\n",
    "\n",
    "Your data file, crime_sampler.csv contains the date (1st column), block where it occurred (2nd column), primary type of the crime (3rd), description of the crime (4th), description of the location (5th), if an arrest was made (6th), was it a domestic case (7th), and city district (8th).\n",
    "\n",
    "Here, however, you'll focus only 4 columns: The date, type of crime, location, and whether or not the crime resulted in an arrest.\n",
    "\n",
    "Your job in this exercise is to use a CSV Reader to load up a list to hold the data you're going to analyze."
   ]
  },
  {
   "cell_type": "markdown",
   "metadata": {},
   "source": [
    "**Instructions**\n",
    "\n",
    "- Import the Python csv module.\n",
    "- Create a Python file object in read mode for crime_sampler.csv called csvfile.\n",
    "- Create an empty list called crime_data.\n",
    "- Loop over a csv reader on the file object :\n",
    "    - Inside the loop, append the date (first element), type of crime (third element), location description (fifth element), and arrest (sixth element) to the crime_data list.\n",
    "- Remove the first element (headers) from the crime_data list.\n",
    "- Print the first 10 records of the crime_data list. This has been done for you, so hit 'Submit Answer' to see the result!"
   ]
  },
  {
   "cell_type": "code",
   "execution_count": null,
   "metadata": {},
   "outputs": [],
   "source": [
    "# Import the csv module\n",
    "import csv\n",
    "\n",
    "# Create the file object: csvfile\n",
    "csvfile = open('crime_sampler.csv','r')\n",
    "\n",
    "# Create an empty list: crime_data\n",
    "crime_data = []\n",
    "\n",
    "# Loop over a csv reader on the file object\n",
    "for row in csv.reader(csvfile):\n",
    "\n",
    "    # Append the date, type of crime, location description, and arrest\n",
    "    crime_data.append((row[0], row[2], row[4], row[5]))\n",
    "    \n",
    "# Remove the first element from crime_data\n",
    "crime_data.pop(0)\n",
    "\n",
    "# Print the first 10 records\n",
    "print(crime_data[:10])"
   ]
  },
  {
   "cell_type": "markdown",
   "metadata": {},
   "source": [
    "## Find the Months with the Highest Number of Crimes\n",
    "Using the crime_data list from the prior exercise, you'll answer a common question that arises when dealing with crime data: How many crimes are committed each month?\n",
    "\n",
    "Feel free to use the IPython Shell to explore the crime_data list - it has been pre-loaded for you. For example, crime_data[0][0] will show you the first column of the first row which, in this case, is the date and time time that the crime occurred.\n"
   ]
  },
  {
   "cell_type": "markdown",
   "metadata": {},
   "source": [
    "**Instructions**\n",
    "\n",
    "- Import Counter from collections and datetime from datetime.\n",
    "- Create a Counter object called crimes_by_month.\n",
    "- Loop over the crime_data list:\n",
    "    - Using the datetime.strptime() function, convert the first element of each item into a Python Datetime Object called date.\n",
    "    - Increment the counter for the month associated with this row by one. You can access the month of date using date.month.\n",
    "- Print the 3 most common months for crime."
   ]
  },
  {
   "cell_type": "code",
   "execution_count": 187,
   "metadata": {},
   "outputs": [],
   "source": [
    "## Since there is no access to the data used by Datacamp, we will use the House Price Dataset\n",
    "\n",
    "import pandas as pd\n",
    "\n",
    "df = pd.read_csv('data/01-House-Price/train.csv')"
   ]
  },
  {
   "cell_type": "markdown",
   "metadata": {},
   "source": [
    "### Count number of occurance of BldgType that have an OverallQual = 10"
   ]
  },
  {
   "cell_type": "code",
   "execution_count": 213,
   "metadata": {},
   "outputs": [],
   "source": [
    "from collections import Counter\n",
    "\n",
    "topOverallQual_by_bldgType = Counter()\n",
    "\n",
    "# Find the BldgTypes that has highest number of OverallQual of 7\n",
    "for i, row in df.iterrows():\n",
    "    if row['OverallQual'] == 7:\n",
    "        topOverallQual_by_bldgType[row['BldgType']] += 1"
   ]
  },
  {
   "cell_type": "code",
   "execution_count": 214,
   "metadata": {},
   "outputs": [
    {
     "data": {
      "text/plain": [
       "Counter({'1Fam': 270, 'Duplex': 2, 'TwnhsE': 34, 'Twnhs': 12, '2fmCon': 1})"
      ]
     },
     "execution_count": 214,
     "metadata": {},
     "output_type": "execute_result"
    }
   ],
   "source": [
    "topOverallQual_by_bldgType"
   ]
  },
  {
   "cell_type": "code",
   "execution_count": 218,
   "metadata": {},
   "outputs": [
    {
     "data": {
      "text/plain": [
       "[('1Fam', 270)]"
      ]
     },
     "execution_count": 218,
     "metadata": {},
     "output_type": "execute_result"
    }
   ],
   "source": [
    "topOverallQual_by_bldgType.most_common(1)"
   ]
  },
  {
   "cell_type": "markdown",
   "metadata": {},
   "source": [
    "## List minute-by-minute voltage for every month in the year 2010"
   ]
  },
  {
   "cell_type": "code",
   "execution_count": 340,
   "metadata": {},
   "outputs": [
    {
     "data": {
      "text/html": [
       "<div>\n",
       "<style scoped>\n",
       "    .dataframe tbody tr th:only-of-type {\n",
       "        vertical-align: middle;\n",
       "    }\n",
       "\n",
       "    .dataframe tbody tr th {\n",
       "        vertical-align: top;\n",
       "    }\n",
       "\n",
       "    .dataframe thead th {\n",
       "        text-align: right;\n",
       "    }\n",
       "</style>\n",
       "<table border=\"1\" class=\"dataframe\">\n",
       "  <thead>\n",
       "    <tr style=\"text-align: right;\">\n",
       "      <th></th>\n",
       "      <th>Date</th>\n",
       "      <th>Time</th>\n",
       "      <th>Global_active_power</th>\n",
       "      <th>Global_reactive_power</th>\n",
       "      <th>Voltage</th>\n",
       "      <th>Global_intensity</th>\n",
       "      <th>Sub_metering_1</th>\n",
       "      <th>Sub_metering_2</th>\n",
       "      <th>Sub_metering_3</th>\n",
       "    </tr>\n",
       "  </thead>\n",
       "  <tbody>\n",
       "    <tr>\n",
       "      <th>1600236</th>\n",
       "      <td>1/1/2010</td>\n",
       "      <td>00:00:00</td>\n",
       "      <td>1.790</td>\n",
       "      <td>0.236</td>\n",
       "      <td>240.650</td>\n",
       "      <td>7.400</td>\n",
       "      <td>0.000</td>\n",
       "      <td>0.000</td>\n",
       "      <td>18.0</td>\n",
       "    </tr>\n",
       "    <tr>\n",
       "      <th>1600237</th>\n",
       "      <td>1/1/2010</td>\n",
       "      <td>00:01:00</td>\n",
       "      <td>1.780</td>\n",
       "      <td>0.234</td>\n",
       "      <td>240.070</td>\n",
       "      <td>7.400</td>\n",
       "      <td>0.000</td>\n",
       "      <td>0.000</td>\n",
       "      <td>18.0</td>\n",
       "    </tr>\n",
       "    <tr>\n",
       "      <th>1600238</th>\n",
       "      <td>1/1/2010</td>\n",
       "      <td>00:02:00</td>\n",
       "      <td>1.780</td>\n",
       "      <td>0.234</td>\n",
       "      <td>240.150</td>\n",
       "      <td>7.400</td>\n",
       "      <td>0.000</td>\n",
       "      <td>0.000</td>\n",
       "      <td>19.0</td>\n",
       "    </tr>\n",
       "    <tr>\n",
       "      <th>1600239</th>\n",
       "      <td>1/1/2010</td>\n",
       "      <td>00:03:00</td>\n",
       "      <td>1.746</td>\n",
       "      <td>0.186</td>\n",
       "      <td>240.260</td>\n",
       "      <td>7.200</td>\n",
       "      <td>0.000</td>\n",
       "      <td>0.000</td>\n",
       "      <td>18.0</td>\n",
       "    </tr>\n",
       "    <tr>\n",
       "      <th>1600240</th>\n",
       "      <td>1/1/2010</td>\n",
       "      <td>00:04:00</td>\n",
       "      <td>1.686</td>\n",
       "      <td>0.102</td>\n",
       "      <td>240.120</td>\n",
       "      <td>7.000</td>\n",
       "      <td>0.000</td>\n",
       "      <td>0.000</td>\n",
       "      <td>18.0</td>\n",
       "    </tr>\n",
       "  </tbody>\n",
       "</table>\n",
       "</div>"
      ],
      "text/plain": [
       "             Date      Time Global_active_power Global_reactive_power  \\\n",
       "1600236  1/1/2010  00:00:00               1.790                 0.236   \n",
       "1600237  1/1/2010  00:01:00               1.780                 0.234   \n",
       "1600238  1/1/2010  00:02:00               1.780                 0.234   \n",
       "1600239  1/1/2010  00:03:00               1.746                 0.186   \n",
       "1600240  1/1/2010  00:04:00               1.686                 0.102   \n",
       "\n",
       "         Voltage Global_intensity Sub_metering_1 Sub_metering_2  \\\n",
       "1600236  240.650            7.400          0.000          0.000   \n",
       "1600237  240.070            7.400          0.000          0.000   \n",
       "1600238  240.150            7.400          0.000          0.000   \n",
       "1600239  240.260            7.200          0.000          0.000   \n",
       "1600240  240.120            7.000          0.000          0.000   \n",
       "\n",
       "         Sub_metering_3  \n",
       "1600236            18.0  \n",
       "1600237            18.0  \n",
       "1600238            19.0  \n",
       "1600239            18.0  \n",
       "1600240            18.0  "
      ]
     },
     "execution_count": 340,
     "metadata": {},
     "output_type": "execute_result"
    }
   ],
   "source": [
    "df = pd.read_csv('data/04-Household-Power-Consumption/household_power_consumption.txt',sep=';')\n",
    "df = df[df['Date'].str.contains(r'2010')]\n",
    "df['Datetime'] = df.apply(lambda df: df['Date']+\" \"+df[\"Time\"], axis=1)\n",
    "df.head()"
   ]
  },
  {
   "cell_type": "code",
   "execution_count": 346,
   "metadata": {},
   "outputs": [
    {
     "data": {
      "text/plain": [
       "Text(0.5, 0.98, 'Voltage Distributions Acorss Months')"
      ]
     },
     "execution_count": 346,
     "metadata": {},
     "output_type": "execute_result"
    },
    {
     "data": {
      "image/png": "[encoded data removed]",
      "text/plain": [
       "<Figure size 1080x1080 with 12 Axes>"
      ]
     },
     "metadata": {
      "needs_background": "light"
     },
     "output_type": "display_data"
    }
   ],
   "source": [
    "from collections import defaultdict\n",
    "\n",
    "voltages_by_month_in_2010 = defaultdict(list)\n",
    "\n",
    "for i, row in df.iterrows():\n",
    "    date = datetime.strptime(row['Datetime'],'%d/%m/%Y %H:%M:%S')\n",
    "    if type(row['Voltage']) == str:\n",
    "        if row['Voltage'].strip().split('.')[0].isnumeric():\n",
    "            voltages_by_month_in_2010[date.month].append(float(row['Voltage']))\n",
    "            \n",
    "            \n",
    "import seaborn as sns\n",
    "import matplotlib.pyplot as plt\n",
    "\n",
    "%matplotlib inline\n",
    "\n",
    "\n",
    "months = 'Jan Feb Mar Apr May June July Aug Sept Oct Nov Dec'.split()\n",
    "\n",
    "fig, axes = plt.subplots(nrows=4,ncols=3,figsize=(15,15))\n",
    "axes= axes.flatten()\n",
    "for i, ax in enumerate(axes):\n",
    "    sns.distplot(voltages_by_month_in_2010[i],ax=axes[i])\n",
    "    axes[i].set_title(months[i],fontsize = 18)\n",
    "    \n",
    "fig.suptitle(\"Voltage Distributions Acorss Months\",fontsize=24)"
   ]
  },
  {
   "cell_type": "markdown",
   "metadata": {},
   "source": [
    "## Find the most common voltage value for each month"
   ]
  },
  {
   "cell_type": "code",
   "execution_count": 347,
   "metadata": {},
   "outputs": [
    {
     "name": "stdout",
     "output_type": "stream",
     "text": [
      "Feb\n",
      "[(243.57, 69)]\n",
      "Mar\n",
      "[(243.19, 70)]\n",
      "Apr\n",
      "[(242.87, 98)]\n",
      "May\n",
      "[(241.44, 116)]\n",
      "June\n",
      "[(241.87, 94)]\n",
      "July\n",
      "[(241.29, 128)]\n",
      "Aug\n",
      "[(241.25, 140)]\n",
      "Sept\n",
      "[(241.16, 128)]\n",
      "Oct\n",
      "[(241.37, 102)]\n",
      "Nov\n",
      "[(242.11, 93)]\n",
      "Jan\n",
      "[]\n",
      "Dec\n",
      "[]\n"
     ]
    }
   ],
   "source": [
    "for month, voltages in voltages_by_month_in_2010.items():\n",
    "    voltage_count = Counter(voltages)\n",
    "    print(months[month])\n",
    "    print(voltage_count.most_common(1))"
   ]
  },
  {
   "cell_type": "markdown",
   "metadata": {},
   "source": [
    "# Reading your Data with DictReader and Establishing your Data Containers"
   ]
  },
  {
   "cell_type": "code",
   "execution_count": null,
   "metadata": {},
   "outputs": [],
   "source": []
  },
  {
   "cell_type": "code",
   "execution_count": null,
   "metadata": {},
   "outputs": [],
   "source": []
  },
  {
   "cell_type": "code",
   "execution_count": null,
   "metadata": {},
   "outputs": [],
   "source": []
  }
 ],
 "metadata": {
  "kernelspec": {
   "display_name": "Python 3",
   "language": "python",
   "name": "python3"
  },
  "language_info": {
   "codemirror_mode": {
    "name": "ipython",
    "version": 3
   },
   "file_extension": ".py",
   "mimetype": "text/x-python",
   "name": "python",
   "nbconvert_exporter": "python",
   "pygments_lexer": "ipython3",
   "version": "3.7.3"
  }
 },
 "nbformat": 4,
 "nbformat_minor": 4
}
