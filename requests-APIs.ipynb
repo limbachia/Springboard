{
 "cells": [
  {
   "cell_type": "markdown",
   "metadata": {},
   "source": [
    "# The Request Library"
   ]
  },
  {
   "cell_type": "code",
   "execution_count": 1,
   "metadata": {},
   "outputs": [],
   "source": [
    "import requests"
   ]
  },
  {
   "cell_type": "code",
   "execution_count": 2,
   "metadata": {},
   "outputs": [],
   "source": [
    "res = requests.get('https://prettyprinted.com')"
   ]
  },
  {
   "cell_type": "code",
   "execution_count": 3,
   "metadata": {},
   "outputs": [
    {
     "name": "stdout",
     "output_type": "stream",
     "text": [
      "<Response [200]>\n"
     ]
    }
   ],
   "source": [
    "print(res)"
   ]
  },
  {
   "cell_type": "code",
   "execution_count": 4,
   "metadata": {},
   "outputs": [
    {
     "name": "stdout",
     "output_type": "stream",
     "text": [
      "200\n"
     ]
    }
   ],
   "source": [
    "print(res.status_code)"
   ]
  },
  {
   "cell_type": "markdown",
   "metadata": {},
   "source": [
    "200 means requests went thru"
   ]
  },
  {
   "cell_type": "code",
   "execution_count": 5,
   "metadata": {},
   "outputs": [
    {
     "name": "stdout",
     "output_type": "stream",
     "text": [
      "Response Okay\n"
     ]
    }
   ],
   "source": [
    "if res:\n",
    "    print('Response Okay')\n",
    "else:\n",
    "    print('Response Failed')"
   ]
  },
  {
   "cell_type": "markdown",
   "metadata": {},
   "source": [
    "Headers are not very important, but will take a look at it"
   ]
  },
  {
   "cell_type": "code",
   "execution_count": 6,
   "metadata": {},
   "outputs": [
    {
     "name": "stdout",
     "output_type": "stream",
     "text": [
      "{'Server': 'nginx/1.14.2', 'Date': 'Fri, 08 May 2020 03:48:29 GMT', 'Content-Type': 'text/html', 'Last-Modified': 'Fri, 06 Mar 2020 08:00:18 GMT', 'Transfer-Encoding': 'chunked', 'Connection': 'keep-alive', 'Vary': 'Accept-Encoding', 'ETag': 'W/\"5e620312-2791\"', 'X-Frame-Options': 'SAMEORIGIN', 'Content-Encoding': 'gzip'}\n"
     ]
    }
   ],
   "source": [
    "print(res.headers)"
   ]
  },
  {
   "cell_type": "markdown",
   "metadata": {},
   "source": [
    "text attribute allows to see the data. Instead of printing the data inline write to a text file, or even better, to an html file."
   ]
  },
  {
   "cell_type": "code",
   "execution_count": 8,
   "metadata": {},
   "outputs": [],
   "source": [
    "with open('prettyprinted.html','w') as f:\n",
    "    f.write(res.text)"
   ]
  },
  {
   "cell_type": "markdown",
   "metadata": {},
   "source": [
    "# API: transational yandex API\n",
    "my API key: trnsl.1.1.20200508T221021Z.35fbb5a6b0fbbaa4.bc7d44f4d1407cbf23c576efaaee547d90b482b5\n",
    "\n",
    "Documentation for yandex translate API is at https://tech.yandex.com/translate/doc/dg/reference/translate-docpage/"
   ]
  },
  {
   "cell_type": "code",
   "execution_count": 9,
   "metadata": {},
   "outputs": [],
   "source": [
    "API_KEY = 'trnsl.1.1.20200508T221021Z.35fbb5a6b0fbbaa4.bc7d44f4d1407cbf23c576efaaee547d90b482b5'"
   ]
  },
  {
   "cell_type": "code",
   "execution_count": 10,
   "metadata": {},
   "outputs": [],
   "source": [
    "url = \"https://translate.yandex.net/api/v1.5/tr.json/translate\""
   ]
  },
  {
   "cell_type": "code",
   "execution_count": 52,
   "metadata": {},
   "outputs": [
    {
     "name": "stdout",
     "output_type": "stream",
     "text": [
      "Status code:  200\n",
      "\n",
      "\n",
      "Request header:  {'Server': 'nginx/1.6.2', 'Date': 'Sat, 09 May 2020 03:47:47 GMT', 'Content-Type': 'application/json; charset=utf-8', 'Content-Length': '82', 'Connection': 'keep-alive', 'Keep-Alive': 'timeout=120', 'Request-Text-Size': '14', 'Request-Uid': '1080099845', 'X-Content-Type-Options': 'nosniff', 'Cache-Control': 'no-store'}\n",
      "\n",
      "\n",
      "{\"code\":200,\"lang\":\"en-hi\",\"text\":[\"आप कैसे करते हैं?\"]}\n"
     ]
    }
   ],
   "source": [
    "params = dict(key=API_KEY,text='How do you do?',lang='en-hi') # english to espanol\n",
    "res = requests.get(url,params=params)\n",
    "\n",
    "print('Status code: ',res.status_code)\n",
    "print('\\n')\n",
    "print('Request header: ',res.headers)\n",
    "print('\\n')\n",
    "print(res.text)"
   ]
  },
  {
   "cell_type": "markdown",
   "metadata": {},
   "source": [
    "### Convert request response to json format"
   ]
  },
  {
   "cell_type": "code",
   "execution_count": 53,
   "metadata": {},
   "outputs": [
    {
     "name": "stdout",
     "output_type": "stream",
     "text": [
      "{'code': 200, 'lang': 'en-hi', 'text': ['आप कैसे करते हैं?']}\n",
      "['आप कैसे करते हैं?']\n"
     ]
    }
   ],
   "source": [
    "print(res.json())\n",
    "print(res.json()['text'])"
   ]
  },
  {
   "cell_type": "code",
   "execution_count": null,
   "metadata": {},
   "outputs": [],
   "source": []
  },
  {
   "cell_type": "code",
   "execution_count": null,
   "metadata": {},
   "outputs": [],
   "source": []
  },
  {
   "cell_type": "code",
   "execution_count": null,
   "metadata": {},
   "outputs": [],
   "source": []
  }
 ],
 "metadata": {
  "kernelspec": {
   "display_name": "Python 3",
   "language": "python",
   "name": "python3"
  },
  "language_info": {
   "codemirror_mode": {
    "name": "ipython",
    "version": 3
   },
   "file_extension": ".py",
   "mimetype": "text/x-python",
   "name": "python",
   "nbconvert_exporter": "python",
   "pygments_lexer": "ipython3",
   "version": "3.7.3"
  }
 },
 "nbformat": 4,
 "nbformat_minor": 4
}
