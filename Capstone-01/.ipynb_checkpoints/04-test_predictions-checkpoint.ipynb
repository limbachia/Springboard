{
 "cells": [
  {
   "cell_type": "code",
   "execution_count": 3,
   "metadata": {},
   "outputs": [],
   "source": [
    "# Import useful libraries\n",
    "import pandas as pd\n",
    "import numpy as np\n",
    "import pickle\n",
    "import matplotlib.pyplot as plt\n",
    "\n",
    "from collections import defaultdict\n",
    "\n",
    "import matplotlib as mpl\n",
    "import seaborn as sns\n",
    "\n",
    "from sklearn.linear_model import Ridge, ElasticNet\n",
    "from sklearn.metrics import r2_score, mean_squared_error\n",
    "\n",
    "sns.set(style ='white',font_scale=1.25)\n",
    "\n",
    "%matplotlib inline"
   ]
  },
  {
   "cell_type": "code",
   "execution_count": 4,
   "metadata": {},
   "outputs": [],
   "source": [
    "with open('../data/01-House-Price/processed_data.pkl','rb') as file:\n",
    "    train,y,test,FEATURES = pickle.load(file)\n",
    "\n",
    "for feat in ['ExterQual','KitchenQual']:\n",
    "    train[feat] = train[feat].astype(np.float)\n",
    "    test[feat] = test[feat].astype(np.float)\n",
    "#test.loc[test['KitchenQual']=='Missing','KitchenQual'] = np.median(train[\"KitchenQual\"])"
   ]
  },
  {
   "cell_type": "code",
   "execution_count": 6,
   "metadata": {},
   "outputs": [
    {
     "name": "stdout",
     "output_type": "stream",
     "text": [
      "Total 217 features to normalize\n"
     ]
    }
   ],
   "source": [
    "feat_to_norm = FEATURES['num'] + FEATURES['aug_num'] + FEATURES['eng_num'] + FEATURES['ord_num'] + FEATURES['interactions_num']\n",
    "print('Total %i features to normalize' %(len(feat_to_norm)))"
   ]
  },
  {
   "cell_type": "code",
   "execution_count": 7,
   "metadata": {},
   "outputs": [
    {
     "name": "stdout",
     "output_type": "stream",
     "text": [
      "X_train_preproc : (1454, 437)\n",
      "X_test_preproc : (1459, 437)\n"
     ]
    }
   ],
   "source": [
    "from sklearn.preprocessing import StandardScaler\n",
    "\n",
    "ss = StandardScaler()\n",
    "ss.fit(train[feat_to_norm])\n",
    "\n",
    "X_num_train_norm = pd.DataFrame(ss.transform(train[feat_to_norm]),columns=feat_to_norm,index=train.index)\n",
    "X_cat_train = train[[col for col in train.columns if col not in feat_to_norm]]\n",
    "X_train_preproc = pd.concat([X_num_train_norm,X_cat_train],axis=1)\n",
    "\n",
    "X_num_test_norm = pd.DataFrame(ss.transform(test[feat_to_norm]),columns=feat_to_norm,index=test.index)\n",
    "X_cat_test = test[[col for col in test.columns if col not in feat_to_norm]]\n",
    "X_test_preproc = pd.concat([X_num_test_norm,X_cat_test],axis=1)\n",
    "\n",
    "print(\"X_train_preproc : \" + str(X_train_preproc.shape))\n",
    "print(\"X_test_preproc : \" + str(X_test_preproc.shape))"
   ]
  },
  {
   "cell_type": "code",
   "execution_count": 8,
   "metadata": {},
   "outputs": [
    {
     "name": "stdout",
     "output_type": "stream",
     "text": [
      "Train accuracies:\n",
      "--------------------------------------------------\n",
      "R-sq: 0.9369684540281578\n",
      "MSE: 0.010020609886453648\n",
      "RMSE: 0.10010299639098547\n",
      "--------------------------------------------------\n",
      "R-sq orig price: 0.9380456428709476\n",
      "MSE orig price: 389178771.5307104\n",
      "RMSE orig price: 19727.614440948262\n"
     ]
    }
   ],
   "source": [
    "ridge = Ridge(alpha=30)\n",
    "ridge.fit(X_train_preproc, y)\n",
    "y_pred = ridge.predict(X_train_preproc)\n",
    "\n",
    "print('Train accuracies:')\n",
    "print('-'*50)\n",
    "print('R-sq:', r2_score(y, y_pred))\n",
    "print('MSE:', mean_squared_error(y, y_pred))\n",
    "print('RMSE:', np.sqrt(mean_squared_error(y, y_pred)))\n",
    "\n",
    "y_exp = np.expm1(y)\n",
    "y_pred_exp = np.expm1(y_pred)\n",
    "print('-'*50)\n",
    "print('R-sq orig price:', r2_score(y_exp, y_pred_exp))\n",
    "print('MSE orig price:', mean_squared_error(y_exp, y_pred_exp))\n",
    "print('RMSE orig price:', np.sqrt(mean_squared_error(y_exp, y_pred_exp)))"
   ]
  },
  {
   "cell_type": "code",
   "execution_count": 9,
   "metadata": {},
   "outputs": [],
   "source": [
    "y_test_pred = ridge.predict(X_test_preproc)\n",
    "y_test_pred_exp = np.expm1(y_test_pred)\n",
    "\n",
    "test_predictions = pd.Series(y_test_pred_exp,index=X_test_preproc.index,name='SalePrice').to_frame()\n",
    "test_predictions.to_csv('../data/01-House-Price/Limbachia_ridge_predictions.csv')"
   ]
  },
  {
   "cell_type": "code",
   "execution_count": 10,
   "metadata": {},
   "outputs": [
    {
     "name": "stdout",
     "output_type": "stream",
     "text": [
      "Train accuracies:\n",
      "--------------------------------------------------\n",
      "R-sq: 0.9406831450080757\n",
      "MSE: 0.009430056877090446\n",
      "RMSE: 0.09710847994428935\n",
      "--------------------------------------------------\n",
      "R-sq orig price: 0.9439481515271043\n",
      "MSE orig price: 352100974.6783039\n",
      "RMSE orig price: 18764.35383055606\n"
     ]
    },
    {
     "name": "stderr",
     "output_type": "stream",
     "text": [
      "/home/climbach/anaconda3/lib/python3.7/site-packages/sklearn/linear_model/coordinate_descent.py:475: ConvergenceWarning: Objective did not converge. You might want to increase the number of iterations. Duality gap: 1.7519111255795714, tolerance: 0.02311535684276627\n",
      "  positive)\n"
     ]
    }
   ],
   "source": [
    "enet = ElasticNet(l1_ratio=1,alpha=0.0003)\n",
    "enet.fit(X_train_preproc, y)\n",
    "y_pred = enet.predict(X_train_preproc)\n",
    "\n",
    "print('Train accuracies:')\n",
    "print('-'*50)\n",
    "print('R-sq:', r2_score(y, y_pred))\n",
    "print('MSE:', mean_squared_error(y, y_pred))\n",
    "print('RMSE:', np.sqrt(mean_squared_error(y, y_pred)))\n",
    "\n",
    "y_exp = np.expm1(y)\n",
    "y_pred_exp = np.expm1(y_pred)\n",
    "print('-'*50)\n",
    "print('R-sq orig price:', r2_score(y_exp, y_pred_exp))\n",
    "print('MSE orig price:', mean_squared_error(y_exp, y_pred_exp))\n",
    "print('RMSE orig price:', np.sqrt(mean_squared_error(y_exp, y_pred_exp)))"
   ]
  },
  {
   "cell_type": "code",
   "execution_count": 11,
   "metadata": {},
   "outputs": [],
   "source": [
    "y_test_pred = enet.predict(X_test_preproc)\n",
    "y_test_pred_exp = np.expm1(y_test_pred)\n",
    "\n",
    "test_predictions = pd.Series(y_test_pred_exp,index=X_test_preproc.index,name='SalePrice').to_frame()\n",
    "test_predictions.to_csv('../data/01-House-Price/Limbachia_enet_predictions.csv')"
   ]
  },
  {
   "cell_type": "code",
   "execution_count": null,
   "metadata": {},
   "outputs": [],
   "source": []
  },
  {
   "cell_type": "code",
   "execution_count": null,
   "metadata": {},
   "outputs": [],
   "source": []
  }
 ],
 "metadata": {
  "kernelspec": {
   "display_name": "Python 3",
   "language": "python",
   "name": "python3"
  },
  "language_info": {
   "codemirror_mode": {
    "name": "ipython",
    "version": 3
   },
   "file_extension": ".py",
   "mimetype": "text/x-python",
   "name": "python",
   "nbconvert_exporter": "python",
   "pygments_lexer": "ipython3",
   "version": "3.7.3"
  }
 },
 "nbformat": 4,
 "nbformat_minor": 4
}
