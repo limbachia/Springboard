{
 "cells": [
  {
   "cell_type": "code",
   "execution_count": 7,
   "metadata": {},
   "outputs": [],
   "source": [
    "# Import useful libraries\n",
    "import pandas as pd\n",
    "import numpy as np\n",
    "import pickle\n",
    "import matplotlib.pyplot as plt\n",
    "\n",
    "from collections import defaultdict\n",
    "\n",
    "import matplotlib as mpl\n",
    "import seaborn as sns\n",
    "\n",
    "from sklearn.linear_model import Ridge, ElasticNet\n",
    "from sklearn.metrics import r2_score, mean_squared_error\n",
    "\n",
    "sns.set(style ='white',font_scale=1.25)\n",
    "\n",
    "%matplotlib inline"
   ]
  },
  {
   "cell_type": "code",
   "execution_count": 2,
   "metadata": {},
   "outputs": [],
   "source": [
    "with open('../data/01-House-Price/processed_data.pkl','rb') as file:\n",
    "    train,y,test,FEATURES = pickle.load(file)\n",
    "    \n",
    "test.loc[test['KitchenQual']=='Missing','KitchenQual'] = np.median(train[\"KitchenQual\"])"
   ]
  },
  {
   "cell_type": "code",
   "execution_count": 3,
   "metadata": {},
   "outputs": [
    {
     "data": {
      "text/plain": [
       "(1459, 413)"
      ]
     },
     "execution_count": 3,
     "metadata": {},
     "output_type": "execute_result"
    }
   ],
   "source": [
    "test.shape"
   ]
  },
  {
   "cell_type": "code",
   "execution_count": 4,
   "metadata": {},
   "outputs": [
    {
     "name": "stdout",
     "output_type": "stream",
     "text": [
      "Total 193 features to normalize\n"
     ]
    }
   ],
   "source": [
    "feat_to_norm = FEATURES['num'] + FEATURES['aug_num'] + FEATURES['eng_num'] + FEATURES['ord_num'] + FEATURES['interactions_num']\n",
    "print('Total %i features to normalize' %(len(feat_to_norm)))"
   ]
  },
  {
   "cell_type": "code",
   "execution_count": 5,
   "metadata": {},
   "outputs": [
    {
     "name": "stdout",
     "output_type": "stream",
     "text": [
      "X_train_preproc : (1454, 413)\n",
      "X_test_preproc : (1459, 413)\n"
     ]
    }
   ],
   "source": [
    "from sklearn.preprocessing import StandardScaler\n",
    "\n",
    "ss = StandardScaler()\n",
    "ss.fit(train[feat_to_norm])\n",
    "\n",
    "X_num_train_norm = pd.DataFrame(ss.transform(train[feat_to_norm]),columns=feat_to_norm,index=train.index)\n",
    "X_cat_train = train[[col for col in train.columns if col not in feat_to_norm]]\n",
    "X_train_preproc = pd.concat([X_num_train_norm,X_cat_train],axis=1)\n",
    "\n",
    "X_num_test_norm = pd.DataFrame(ss.transform(test[feat_to_norm]),columns=feat_to_norm,index=test.index)\n",
    "X_cat_test = test[[col for col in test.columns if col not in feat_to_norm]]\n",
    "X_test_preproc = pd.concat([X_num_test_norm,X_cat_test],axis=1)\n",
    "\n",
    "print(\"X_train_preproc : \" + str(X_train_preproc.shape))\n",
    "print(\"X_test_preproc : \" + str(X_test_preproc.shape))"
   ]
  },
  {
   "cell_type": "code",
   "execution_count": 6,
   "metadata": {},
   "outputs": [
    {
     "name": "stdout",
     "output_type": "stream",
     "text": [
      "Train accuracies:\n",
      "--------------------------------------------------\n",
      "R-sq: 0.9364445251515455\n",
      "MSE: 0.010103902891564522\n",
      "RMSE: 0.10051817194698938\n",
      "--------------------------------------------------\n",
      "R-sq orig price: 0.9382339859682686\n",
      "MSE orig price: 387995656.4337531\n",
      "RMSE orig price: 19697.60534770034\n"
     ]
    }
   ],
   "source": [
    "ridge = Ridge(alpha=30)\n",
    "ridge.fit(X_train_preproc, y)\n",
    "y_pred = ridge.predict(X_train_preproc)\n",
    "\n",
    "print('Train accuracies:')\n",
    "print('-'*50)\n",
    "print('R-sq:', r2_score(y, y_pred))\n",
    "print('MSE:', mean_squared_error(y, y_pred))\n",
    "print('RMSE:', np.sqrt(mean_squared_error(y, y_pred)))\n",
    "\n",
    "y_exp = np.expm1(y)\n",
    "y_pred_exp = np.expm1(y_pred)\n",
    "print('-'*50)\n",
    "print('R-sq orig price:', r2_score(y_exp, y_pred_exp))\n",
    "print('MSE orig price:', mean_squared_error(y_exp, y_pred_exp))\n",
    "print('RMSE orig price:', np.sqrt(mean_squared_error(y_exp, y_pred_exp)))"
   ]
  },
  {
   "cell_type": "code",
   "execution_count": 8,
   "metadata": {},
   "outputs": [
    {
     "name": "stdout",
     "output_type": "stream",
     "text": [
      "Train accuracies:\n",
      "--------------------------------------------------\n",
      "R-sq: 0.9337516920031941\n",
      "MSE: 0.0105320032983195\n",
      "RMSE: 0.10262554895502142\n",
      "--------------------------------------------------\n",
      "R-sq orig price: 0.9351526644577809\n",
      "MSE orig price: 407351598.0609871\n",
      "RMSE orig price: 20182.953155100648\n"
     ]
    },
    {
     "name": "stderr",
     "output_type": "stream",
     "text": [
      "/home/climbach/anaconda3/lib/python3.7/site-packages/sklearn/linear_model/coordinate_descent.py:475: ConvergenceWarning: Objective did not converge. You might want to increase the number of iterations. Duality gap: 8.824467360951529, tolerance: 0.02311535684276627\n",
      "  positive)\n"
     ]
    }
   ],
   "source": [
    "enet = ElasticNet(l1_ratio=0,alpha=0.03)\n",
    "enet.fit(X_train_preproc, y)\n",
    "y_pred = enet.predict(X_train_preproc)\n",
    "\n",
    "print('Train accuracies:')\n",
    "print('-'*50)\n",
    "print('R-sq:', r2_score(y, y_pred))\n",
    "print('MSE:', mean_squared_error(y, y_pred))\n",
    "print('RMSE:', np.sqrt(mean_squared_error(y, y_pred)))\n",
    "\n",
    "y_exp = np.expm1(y)\n",
    "y_pred_exp = np.expm1(y_pred)\n",
    "print('-'*50)\n",
    "print('R-sq orig price:', r2_score(y_exp, y_pred_exp))\n",
    "print('MSE orig price:', mean_squared_error(y_exp, y_pred_exp))\n",
    "print('RMSE orig price:', np.sqrt(mean_squared_error(y_exp, y_pred_exp)))"
   ]
  },
  {
   "cell_type": "code",
   "execution_count": 9,
   "metadata": {},
   "outputs": [],
   "source": [
    "y_test_pred = enet.predict(X_test_preproc)\n",
    "y_test_pred_exp = np.expm1(y_test_pred)"
   ]
  },
  {
   "cell_type": "code",
   "execution_count": 10,
   "metadata": {},
   "outputs": [],
   "source": [
    "test_predictions = pd.Series(y_test_pred_exp,index=X_test_preproc.index,name='SalePrice').to_frame()"
   ]
  },
  {
   "cell_type": "code",
   "execution_count": 12,
   "metadata": {},
   "outputs": [],
   "source": [
    "test_predictions.to_csv('../data/01-House-Price/Limbachia_predictions.csv')"
   ]
  },
  {
   "cell_type": "code",
   "execution_count": 13,
   "metadata": {},
   "outputs": [
    {
     "data": {
      "text/plain": [
       "array([[<matplotlib.axes._subplots.AxesSubplot object at 0x7fb277fd4c18>]],\n",
       "      dtype=object)"
      ]
     },
     "execution_count": 13,
     "metadata": {},
     "output_type": "execute_result"
    },
    {
     "data": {
      "image/png": "[encoded data removed]",
      "text/plain": [
       "<Figure size 432x288 with 1 Axes>"
      ]
     },
     "metadata": {
      "needs_background": "light"
     },
     "output_type": "display_data"
    }
   ],
   "source": [
    "test_predictions.hist()"
   ]
  },
  {
   "cell_type": "code",
   "execution_count": 19,
   "metadata": {},
   "outputs": [
    {
     "data": {
      "text/plain": [
       "<matplotlib.axes._subplots.AxesSubplot at 0x7fb26eda14e0>"
      ]
     },
     "execution_count": 19,
     "metadata": {},
     "output_type": "execute_result"
    },
    {
     "data": {
      "image/png": "[encoded data removed]",
      "text/plain": [
       "<Figure size 432x288 with 1 Axes>"
      ]
     },
     "metadata": {
      "needs_background": "light"
     },
     "output_type": "display_data"
    }
   ],
   "source": [
    "pd.Series(y_exp,index=y.index,name='SalePrice').hist()"
   ]
  },
  {
   "cell_type": "code",
   "execution_count": null,
   "metadata": {},
   "outputs": [],
   "source": []
  },
  {
   "cell_type": "code",
   "execution_count": null,
   "metadata": {},
   "outputs": [],
   "source": []
  }
 ],
 "metadata": {
  "kernelspec": {
   "display_name": "Python 3",
   "language": "python",
   "name": "python3"
  },
  "language_info": {
   "codemirror_mode": {
    "name": "ipython",
    "version": 3
   },
   "file_extension": ".py",
   "mimetype": "text/x-python",
   "name": "python",
   "nbconvert_exporter": "python",
   "pygments_lexer": "ipython3",
   "version": "3.7.3"
  }
 },
 "nbformat": 4,
 "nbformat_minor": 4
}
