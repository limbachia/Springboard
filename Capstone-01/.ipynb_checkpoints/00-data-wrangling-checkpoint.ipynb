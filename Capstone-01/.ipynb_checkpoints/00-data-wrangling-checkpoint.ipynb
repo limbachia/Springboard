{
 "cells": [
  {
   "cell_type": "code",
   "execution_count": 1,
   "metadata": {},
   "outputs": [
    {
     "data": {
      "text/html": [
       "<script>\n",
       "code_show=true; \n",
       "function code_toggle() {\n",
       " if (code_show){\n",
       " $('div.input').hide();\n",
       " } else {\n",
       " $('div.input').show();\n",
       " }\n",
       " code_show = !code_show\n",
       "} \n",
       "$( document ).ready(code_toggle);\n",
       "</script>\n",
       "<form action=\"javascript:code_toggle()\"><input type=\"submit\" value=\"Show Code\"></form>"
      ],
      "text/plain": [
       "<IPython.core.display.HTML object>"
      ]
     },
     "execution_count": 1,
     "metadata": {},
     "output_type": "execute_result"
    }
   ],
   "source": [
    "from IPython.display import HTML\n",
    "\n",
    "HTML('''<script>\n",
    "code_show=true; \n",
    "function code_toggle() {\n",
    " if (code_show){\n",
    " $('div.input').hide();\n",
    " } else {\n",
    " $('div.input').show();\n",
    " }\n",
    " code_show = !code_show\n",
    "} \n",
    "$( document ).ready(code_toggle);\n",
    "</script>\n",
    "<form action=\"javascript:code_toggle()\"><input type=\"submit\" value=\"Show Code\"></form>''')"
   ]
  },
  {
   "cell_type": "markdown",
   "metadata": {},
   "source": [
    "# **Capstone Project 1: Data Wrangling**\n",
    "\n",
    "### **Problem Statement**   \n",
    "\n",
    "Buying a house can be a very challenging process. It takes time, patience, and a lot of research to find a house that you like and then negotiate the right price for it. There are several features that influence house price such as the building type, total number of rooms, garage size, masonary work, location, utilities, and many more. Can house price be estimated (or predicted) using these features? Can we identify features that influence house price the most? How important is Building Type in determining the price? What influences the price more: location or size (sq.ft.)? How much value does remodeling add to the house? These are a few questions among many more that I intend to explore and answer.\n",
    "\n",
    "### **Dataset**\n",
    "\n",
    "Dataset is available on kaggle (https://www.kaggle.com/c/house-prices-advanced-regression-techniques). It is the Ames Housing dataset, compiled by Dean De Cock. It has 1460 instances and 79 explanatory variables that describe almost every aspect of residential homes in Ames, Iowa."
   ]
  },
  {
   "cell_type": "markdown",
   "metadata": {},
   "source": [
    "## **1. Data Wrangling**\n",
    "\n",
    "In this part, we will explore the data. In the process, we will clean and augment the data with additional information from other sources. We will perform the following steps:\n",
    "\n",
    "- Identify and remove outliers\n",
    "- Fill missing values\n",
    "- Augment the dataset by collecting and adding data from other sources like Google's Geocoding API and uszipcode library"
   ]
  },
  {
   "cell_type": "markdown",
   "metadata": {},
   "source": [
    "### Import useful libraries"
   ]
  },
  {
   "cell_type": "code",
   "execution_count": 2,
   "metadata": {},
   "outputs": [],
   "source": [
    "# Import useful libraries\n",
    "import pandas as pd\n",
    "import numpy as np\n",
    "import pickle\n",
    "import matplotlib.pyplot as plt\n",
    "\n",
    "import matplotlib as mpl\n",
    "import seaborn as sns\n",
    "\n",
    "sns.set(style ='white',font_scale=1.25)\n",
    "\n",
    "# sklearn pipeline tools\n",
    "from sklearn.compose import ColumnTransformer\n",
    "from sklearn.pipeline import Pipeline\n",
    "\n",
    "%matplotlib inline"
   ]
  },
  {
   "cell_type": "markdown",
   "metadata": {},
   "source": [
    "### Load the dataset, and look at first few rows"
   ]
  },
  {
   "cell_type": "code",
   "execution_count": 3,
   "metadata": {},
   "outputs": [
    {
     "data": {
      "text/html": [
       "<div>\n",
       "<style scoped>\n",
       "    .dataframe tbody tr th:only-of-type {\n",
       "        vertical-align: middle;\n",
       "    }\n",
       "\n",
       "    .dataframe tbody tr th {\n",
       "        vertical-align: top;\n",
       "    }\n",
       "\n",
       "    .dataframe thead th {\n",
       "        text-align: right;\n",
       "    }\n",
       "</style>\n",
       "<table border=\"1\" class=\"dataframe\">\n",
       "  <thead>\n",
       "    <tr style=\"text-align: right;\">\n",
       "      <th></th>\n",
       "      <th>MSSubClass</th>\n",
       "      <th>MSZoning</th>\n",
       "      <th>LotFrontage</th>\n",
       "      <th>LotArea</th>\n",
       "      <th>Street</th>\n",
       "      <th>Alley</th>\n",
       "      <th>LotShape</th>\n",
       "      <th>LandContour</th>\n",
       "      <th>Utilities</th>\n",
       "      <th>LotConfig</th>\n",
       "      <th>...</th>\n",
       "      <th>PoolArea</th>\n",
       "      <th>PoolQC</th>\n",
       "      <th>Fence</th>\n",
       "      <th>MiscFeature</th>\n",
       "      <th>MiscVal</th>\n",
       "      <th>MoSold</th>\n",
       "      <th>YrSold</th>\n",
       "      <th>SaleType</th>\n",
       "      <th>SaleCondition</th>\n",
       "      <th>SalePrice</th>\n",
       "    </tr>\n",
       "    <tr>\n",
       "      <th>Id</th>\n",
       "      <th></th>\n",
       "      <th></th>\n",
       "      <th></th>\n",
       "      <th></th>\n",
       "      <th></th>\n",
       "      <th></th>\n",
       "      <th></th>\n",
       "      <th></th>\n",
       "      <th></th>\n",
       "      <th></th>\n",
       "      <th></th>\n",
       "      <th></th>\n",
       "      <th></th>\n",
       "      <th></th>\n",
       "      <th></th>\n",
       "      <th></th>\n",
       "      <th></th>\n",
       "      <th></th>\n",
       "      <th></th>\n",
       "      <th></th>\n",
       "      <th></th>\n",
       "    </tr>\n",
       "  </thead>\n",
       "  <tbody>\n",
       "    <tr>\n",
       "      <th>1</th>\n",
       "      <td>60</td>\n",
       "      <td>RL</td>\n",
       "      <td>65.0</td>\n",
       "      <td>8450</td>\n",
       "      <td>Pave</td>\n",
       "      <td>NaN</td>\n",
       "      <td>Reg</td>\n",
       "      <td>Lvl</td>\n",
       "      <td>AllPub</td>\n",
       "      <td>Inside</td>\n",
       "      <td>...</td>\n",
       "      <td>0</td>\n",
       "      <td>NaN</td>\n",
       "      <td>NaN</td>\n",
       "      <td>NaN</td>\n",
       "      <td>0</td>\n",
       "      <td>2</td>\n",
       "      <td>2008</td>\n",
       "      <td>WD</td>\n",
       "      <td>Normal</td>\n",
       "      <td>208500</td>\n",
       "    </tr>\n",
       "    <tr>\n",
       "      <th>2</th>\n",
       "      <td>20</td>\n",
       "      <td>RL</td>\n",
       "      <td>80.0</td>\n",
       "      <td>9600</td>\n",
       "      <td>Pave</td>\n",
       "      <td>NaN</td>\n",
       "      <td>Reg</td>\n",
       "      <td>Lvl</td>\n",
       "      <td>AllPub</td>\n",
       "      <td>FR2</td>\n",
       "      <td>...</td>\n",
       "      <td>0</td>\n",
       "      <td>NaN</td>\n",
       "      <td>NaN</td>\n",
       "      <td>NaN</td>\n",
       "      <td>0</td>\n",
       "      <td>5</td>\n",
       "      <td>2007</td>\n",
       "      <td>WD</td>\n",
       "      <td>Normal</td>\n",
       "      <td>181500</td>\n",
       "    </tr>\n",
       "    <tr>\n",
       "      <th>3</th>\n",
       "      <td>60</td>\n",
       "      <td>RL</td>\n",
       "      <td>68.0</td>\n",
       "      <td>11250</td>\n",
       "      <td>Pave</td>\n",
       "      <td>NaN</td>\n",
       "      <td>IR1</td>\n",
       "      <td>Lvl</td>\n",
       "      <td>AllPub</td>\n",
       "      <td>Inside</td>\n",
       "      <td>...</td>\n",
       "      <td>0</td>\n",
       "      <td>NaN</td>\n",
       "      <td>NaN</td>\n",
       "      <td>NaN</td>\n",
       "      <td>0</td>\n",
       "      <td>9</td>\n",
       "      <td>2008</td>\n",
       "      <td>WD</td>\n",
       "      <td>Normal</td>\n",
       "      <td>223500</td>\n",
       "    </tr>\n",
       "    <tr>\n",
       "      <th>4</th>\n",
       "      <td>70</td>\n",
       "      <td>RL</td>\n",
       "      <td>60.0</td>\n",
       "      <td>9550</td>\n",
       "      <td>Pave</td>\n",
       "      <td>NaN</td>\n",
       "      <td>IR1</td>\n",
       "      <td>Lvl</td>\n",
       "      <td>AllPub</td>\n",
       "      <td>Corner</td>\n",
       "      <td>...</td>\n",
       "      <td>0</td>\n",
       "      <td>NaN</td>\n",
       "      <td>NaN</td>\n",
       "      <td>NaN</td>\n",
       "      <td>0</td>\n",
       "      <td>2</td>\n",
       "      <td>2006</td>\n",
       "      <td>WD</td>\n",
       "      <td>Abnorml</td>\n",
       "      <td>140000</td>\n",
       "    </tr>\n",
       "    <tr>\n",
       "      <th>5</th>\n",
       "      <td>60</td>\n",
       "      <td>RL</td>\n",
       "      <td>84.0</td>\n",
       "      <td>14260</td>\n",
       "      <td>Pave</td>\n",
       "      <td>NaN</td>\n",
       "      <td>IR1</td>\n",
       "      <td>Lvl</td>\n",
       "      <td>AllPub</td>\n",
       "      <td>FR2</td>\n",
       "      <td>...</td>\n",
       "      <td>0</td>\n",
       "      <td>NaN</td>\n",
       "      <td>NaN</td>\n",
       "      <td>NaN</td>\n",
       "      <td>0</td>\n",
       "      <td>12</td>\n",
       "      <td>2008</td>\n",
       "      <td>WD</td>\n",
       "      <td>Normal</td>\n",
       "      <td>250000</td>\n",
       "    </tr>\n",
       "  </tbody>\n",
       "</table>\n",
       "<p>5 rows × 80 columns</p>\n",
       "</div>"
      ],
      "text/plain": [
       "    MSSubClass MSZoning  LotFrontage  LotArea Street Alley LotShape  \\\n",
       "Id                                                                    \n",
       "1           60       RL         65.0     8450   Pave   NaN      Reg   \n",
       "2           20       RL         80.0     9600   Pave   NaN      Reg   \n",
       "3           60       RL         68.0    11250   Pave   NaN      IR1   \n",
       "4           70       RL         60.0     9550   Pave   NaN      IR1   \n",
       "5           60       RL         84.0    14260   Pave   NaN      IR1   \n",
       "\n",
       "   LandContour Utilities LotConfig  ... PoolArea PoolQC Fence MiscFeature  \\\n",
       "Id                                  ...                                     \n",
       "1          Lvl    AllPub    Inside  ...        0    NaN   NaN         NaN   \n",
       "2          Lvl    AllPub       FR2  ...        0    NaN   NaN         NaN   \n",
       "3          Lvl    AllPub    Inside  ...        0    NaN   NaN         NaN   \n",
       "4          Lvl    AllPub    Corner  ...        0    NaN   NaN         NaN   \n",
       "5          Lvl    AllPub       FR2  ...        0    NaN   NaN         NaN   \n",
       "\n",
       "   MiscVal MoSold  YrSold  SaleType  SaleCondition  SalePrice  \n",
       "Id                                                             \n",
       "1        0      2    2008        WD         Normal     208500  \n",
       "2        0      5    2007        WD         Normal     181500  \n",
       "3        0      9    2008        WD         Normal     223500  \n",
       "4        0      2    2006        WD        Abnorml     140000  \n",
       "5        0     12    2008        WD         Normal     250000  \n",
       "\n",
       "[5 rows x 80 columns]"
      ]
     },
     "execution_count": 3,
     "metadata": {},
     "output_type": "execute_result"
    }
   ],
   "source": [
    "housing_raw = pd.read_csv('../data/01-House-Price/train.csv',index_col='Id')\n",
    "housing = housing_raw.copy()\n",
    "housing.head()"
   ]
  },
  {
   "cell_type": "markdown",
   "metadata": {},
   "source": [
    "### Datatype of each column"
   ]
  },
  {
   "cell_type": "code",
   "execution_count": 4,
   "metadata": {},
   "outputs": [
    {
     "name": "stdout",
     "output_type": "stream",
     "text": [
      "<class 'pandas.core.frame.DataFrame'>\n",
      "Int64Index: 1460 entries, 1 to 1460\n",
      "Data columns (total 80 columns):\n",
      "MSSubClass       1460 non-null int64\n",
      "MSZoning         1460 non-null object\n",
      "LotFrontage      1201 non-null float64\n",
      "LotArea          1460 non-null int64\n",
      "Street           1460 non-null object\n",
      "Alley            91 non-null object\n",
      "LotShape         1460 non-null object\n",
      "LandContour      1460 non-null object\n",
      "Utilities        1460 non-null object\n",
      "LotConfig        1460 non-null object\n",
      "LandSlope        1460 non-null object\n",
      "Neighborhood     1460 non-null object\n",
      "Condition1       1460 non-null object\n",
      "Condition2       1460 non-null object\n",
      "BldgType         1460 non-null object\n",
      "HouseStyle       1460 non-null object\n",
      "OverallQual      1460 non-null int64\n",
      "OverallCond      1460 non-null int64\n",
      "YearBuilt        1460 non-null int64\n",
      "YearRemodAdd     1460 non-null int64\n",
      "RoofStyle        1460 non-null object\n",
      "RoofMatl         1460 non-null object\n",
      "Exterior1st      1460 non-null object\n",
      "Exterior2nd      1460 non-null object\n",
      "MasVnrType       1452 non-null object\n",
      "MasVnrArea       1452 non-null float64\n",
      "ExterQual        1460 non-null object\n",
      "ExterCond        1460 non-null object\n",
      "Foundation       1460 non-null object\n",
      "BsmtQual         1423 non-null object\n",
      "BsmtCond         1423 non-null object\n",
      "BsmtExposure     1422 non-null object\n",
      "BsmtFinType1     1423 non-null object\n",
      "BsmtFinSF1       1460 non-null int64\n",
      "BsmtFinType2     1422 non-null object\n",
      "BsmtFinSF2       1460 non-null int64\n",
      "BsmtUnfSF        1460 non-null int64\n",
      "TotalBsmtSF      1460 non-null int64\n",
      "Heating          1460 non-null object\n",
      "HeatingQC        1460 non-null object\n",
      "CentralAir       1460 non-null object\n",
      "Electrical       1459 non-null object\n",
      "1stFlrSF         1460 non-null int64\n",
      "2ndFlrSF         1460 non-null int64\n",
      "LowQualFinSF     1460 non-null int64\n",
      "GrLivArea        1460 non-null int64\n",
      "BsmtFullBath     1460 non-null int64\n",
      "BsmtHalfBath     1460 non-null int64\n",
      "FullBath         1460 non-null int64\n",
      "HalfBath         1460 non-null int64\n",
      "BedroomAbvGr     1460 non-null int64\n",
      "KitchenAbvGr     1460 non-null int64\n",
      "KitchenQual      1460 non-null object\n",
      "TotRmsAbvGrd     1460 non-null int64\n",
      "Functional       1460 non-null object\n",
      "Fireplaces       1460 non-null int64\n",
      "FireplaceQu      770 non-null object\n",
      "GarageType       1379 non-null object\n",
      "GarageYrBlt      1379 non-null float64\n",
      "GarageFinish     1379 non-null object\n",
      "GarageCars       1460 non-null int64\n",
      "GarageArea       1460 non-null int64\n",
      "GarageQual       1379 non-null object\n",
      "GarageCond       1379 non-null object\n",
      "PavedDrive       1460 non-null object\n",
      "WoodDeckSF       1460 non-null int64\n",
      "OpenPorchSF      1460 non-null int64\n",
      "EnclosedPorch    1460 non-null int64\n",
      "3SsnPorch        1460 non-null int64\n",
      "ScreenPorch      1460 non-null int64\n",
      "PoolArea         1460 non-null int64\n",
      "PoolQC           7 non-null object\n",
      "Fence            281 non-null object\n",
      "MiscFeature      54 non-null object\n",
      "MiscVal          1460 non-null int64\n",
      "MoSold           1460 non-null int64\n",
      "YrSold           1460 non-null int64\n",
      "SaleType         1460 non-null object\n",
      "SaleCondition    1460 non-null object\n",
      "SalePrice        1460 non-null int64\n",
      "dtypes: float64(3), int64(34), object(43)\n",
      "memory usage: 923.9+ KB\n"
     ]
    }
   ],
   "source": [
    "housing.info()"
   ]
  },
  {
   "cell_type": "markdown",
   "metadata": {},
   "source": [
    "We can see there are a lot of numerical and categorical features.  \n",
    "Lets first take look at the numerical (particularly continous) features to spot outliers."
   ]
  },
  {
   "cell_type": "markdown",
   "metadata": {},
   "source": [
    "### **1.1. Outliers**"
   ]
  },
  {
   "cell_type": "code",
   "execution_count": 5,
   "metadata": {},
   "outputs": [],
   "source": [
    "# Created a list of continous features to check their distribution and spot potential outliers\n",
    "cont_feats = ['SalePrice','LotFrontage',\n",
    "              'LotArea','MasVnrArea',\n",
    "              'BsmtFinSF1','BsmtFinSF2',\n",
    "              'BsmtUnfSF','TotalBsmtSF',\n",
    "              '1stFlrSF','2ndFlrSF',\n",
    "              'LowQualFinSF','GrLivArea',\n",
    "              'GarageArea','WoodDeckSF',\n",
    "              'OpenPorchSF','EnclosedPorch',\n",
    "              'ScreenPorch']"
   ]
  },
  {
   "cell_type": "markdown",
   "metadata": {},
   "source": [
    "### Distributions of the continous features."
   ]
  },
  {
   "cell_type": "code",
   "execution_count": 6,
   "metadata": {},
   "outputs": [
    {
     "data": {
      "image/png": "[encoded data removed]",
      "text/plain": [
       "<Figure size 1080x1440 with 20 Axes>"
      ]
     },
     "metadata": {
      "needs_background": "light"
     },
     "output_type": "display_data"
    }
   ],
   "source": [
    "_=housing[cont_feats].hist(figsize = (15,20),bins=25)"
   ]
  },
  {
   "cell_type": "markdown",
   "metadata": {},
   "source": [
    "### SalePrice (target variable)"
   ]
  },
  {
   "cell_type": "code",
   "execution_count": 7,
   "metadata": {},
   "outputs": [],
   "source": [
    "from scipy import stats"
   ]
  },
  {
   "cell_type": "code",
   "execution_count": 8,
   "metadata": {},
   "outputs": [
    {
     "data": {
      "image/png": "[encoded data removed]",
      "text/plain": [
       "<Figure size 432x288 with 1 Axes>"
      ]
     },
     "metadata": {
      "needs_background": "light"
     },
     "output_type": "display_data"
    }
   ],
   "source": [
    "sns.distplot(housing.SalePrice, kde=False, bins=30)\n",
    "plt.text(x=5e5, y=100,s='Skew = %.3f' %(housing.SalePrice.skew()),fontdict={'fontsize':14})\n",
    "_=plt.xticks(rotation = 45)"
   ]
  },
  {
   "cell_type": "markdown",
   "metadata": {},
   "source": [
    "Distribution has a postive skew.  Let apply a log tranform."
   ]
  },
  {
   "cell_type": "code",
   "execution_count": 9,
   "metadata": {},
   "outputs": [],
   "source": [
    "housing['log1p(SalePrice)'] = np.log1p(housing['SalePrice'])"
   ]
  },
  {
   "cell_type": "code",
   "execution_count": 10,
   "metadata": {},
   "outputs": [
    {
     "data": {
      "image/png": "[encoded data removed]",
      "text/plain": [
       "<Figure size 1080x360 with 2 Axes>"
      ]
     },
     "metadata": {
      "needs_background": "light"
     },
     "output_type": "display_data"
    }
   ],
   "source": [
    "plt.figure(figsize=(15,5))\n",
    "plt.subplot(1,2,1)\n",
    "sns.distplot(housing.SalePrice, kde=False, bins=30)\n",
    "plt.text(x=5e5, y=100,s='Skew = %.3f' %(housing.SalePrice.skew()),fontdict={'fontsize':14})\n",
    "_=plt.xticks(rotation = 45)\n",
    "\n",
    "plt.subplot(1,2,2)\n",
    "sns.distplot(housing['log1p(SalePrice)'], kde=False, bins=30)\n",
    "_=plt.text(x=12.5, y=150,s='Skew = %.3f' %(housing['log1p(SalePrice)'].skew()),fontdict={'fontsize':14})"
   ]
  },
  {
   "cell_type": "markdown",
   "metadata": {},
   "source": [
    "Looks close to normal after tranforming."
   ]
  },
  {
   "cell_type": "markdown",
   "metadata": {},
   "source": [
    "### GrLivArea"
   ]
  },
  {
   "cell_type": "code",
   "execution_count": 11,
   "metadata": {},
   "outputs": [
    {
     "data": {
      "image/png": "[encoded data removed]",
      "text/plain": [
       "<Figure size 432x288 with 1 Axes>"
      ]
     },
     "metadata": {
      "needs_background": "light"
     },
     "output_type": "display_data"
    }
   ],
   "source": [
    "sns.distplot(housing.GrLivArea, kde=False, bins=30)\n",
    "plt.text(x=3000, y=150,s='Skew = %.3f' %(housing.GrLivArea.skew()),fontdict={'fontsize':14})\n",
    "_=plt.xticks(rotation = 45)"
   ]
  },
  {
   "cell_type": "markdown",
   "metadata": {},
   "source": [
    "Distribution has positve skew."
   ]
  },
  {
   "cell_type": "markdown",
   "metadata": {},
   "source": [
    "Lets also apply log tranform to GrLivArea."
   ]
  },
  {
   "cell_type": "code",
   "execution_count": 12,
   "metadata": {},
   "outputs": [
    {
     "name": "stdout",
     "output_type": "stream",
     "text": [
      "FunctionTransformer(accept_sparse=False, check_inverse=True,\n",
      "                    func=<function log1p at 0x7f3e53e9a9d8>, inv_kw_args=None,\n",
      "                    inverse_func=None, kw_args={'columns': ['GrLivArea']},\n",
      "                    pass_y='deprecated', validate=False)\n"
     ]
    }
   ],
   "source": [
    "## New cell\n",
    "transformers = []\n",
    "def log1p(X,columns):\n",
    "    X_new = X.copy()\n",
    "    for col in columns:\n",
    "        X_new['log1p({})'.format(col)] = np.log1p(X_new[col])\n",
    "        #X_new.drop(col,axis=1,inplace=True)\n",
    "    return X_new\n",
    "\n",
    "from sklearn.preprocessing import FunctionTransformer\n",
    "log_trans = FunctionTransformer(log1p,validate=False,\n",
    "                                      kw_args=dict(columns=['GrLivArea']))\n",
    "print(log_trans)\n",
    "transformers.append(('log_trans',log_trans))"
   ]
  },
  {
   "cell_type": "code",
   "execution_count": 13,
   "metadata": {},
   "outputs": [],
   "source": [
    "housing['log1p(GrLivArea)'] = np.log1p(housing.GrLivArea)\n",
    "#housing.drop('GrLivArea',axis=1,inplace=True)"
   ]
  },
  {
   "cell_type": "code",
   "execution_count": 14,
   "metadata": {},
   "outputs": [
    {
     "data": {
      "text/plain": [
       "Text(0, 0.5, 'log1p(SalePrice)')"
      ]
     },
     "execution_count": 14,
     "metadata": {},
     "output_type": "execute_result"
    },
    {
     "data": {
      "image/png": "[encoded data removed]",
      "text/plain": [
       "<Figure size 1080x360 with 2 Axes>"
      ]
     },
     "metadata": {
      "needs_background": "light"
     },
     "output_type": "display_data"
    }
   ],
   "source": [
    "plt.figure(figsize=(15,5))\n",
    "plt.subplot(1,2,1)\n",
    "sns.distplot(housing['log1p(GrLivArea)'],kde=False,bins=int(np.sqrt(len(housing))))\n",
    "plt.text(x=6, y=120,s='Skew = %.3f' %(housing['log1p(GrLivArea)'].skew()),fontdict={'fontsize':14})\n",
    "plt.subplot(1,2,2)\n",
    "plt.scatter(housing['log1p(GrLivArea)'], housing['log1p(SalePrice)'], c='blue',marker = 's',alpha=0.25)\n",
    "plt.xlabel('log1p(GrLivArea)')\n",
    "plt.ylabel('log1p(SalePrice)')"
   ]
  },
  {
   "cell_type": "markdown",
   "metadata": {},
   "source": [
    "No apparent outliers in log of GrLivArea. Distrubution also looks normal."
   ]
  },
  {
   "cell_type": "markdown",
   "metadata": {},
   "source": [
    "### GarageArea"
   ]
  },
  {
   "cell_type": "code",
   "execution_count": 15,
   "metadata": {},
   "outputs": [
    {
     "data": {
      "image/png": "[encoded data removed]",
      "text/plain": [
       "<Figure size 432x288 with 1 Axes>"
      ]
     },
     "metadata": {
      "needs_background": "light"
     },
     "output_type": "display_data"
    }
   ],
   "source": [
    "sns.distplot(housing.GarageArea, kde=False, bins=30)\n",
    "plt.text(x=1000, y=150,s='Skew = %.3f' %(housing.GarageArea.skew()),fontdict={'fontsize':14})\n",
    "_=plt.xticks(rotation = 45)"
   ]
  },
  {
   "cell_type": "markdown",
   "metadata": {},
   "source": [
    "Distibution looks reasonably normal."
   ]
  },
  {
   "cell_type": "code",
   "execution_count": 16,
   "metadata": {},
   "outputs": [
    {
     "data": {
      "text/plain": [
       "Text(0, 0.5, 'SalePrice')"
      ]
     },
     "execution_count": 16,
     "metadata": {},
     "output_type": "execute_result"
    },
    {
     "data": {
      "image/png": "[encoded data removed]",
      "text/plain": [
       "<Figure size 432x288 with 1 Axes>"
      ]
     },
     "metadata": {
      "needs_background": "light"
     },
     "output_type": "display_data"
    }
   ],
   "source": [
    "plt.scatter(housing.GarageArea, \n",
    "            housing.SalePrice, c='blue',marker = 's',alpha=0.25)\n",
    "plt.xlabel('GarageArea')\n",
    "plt.ylabel('SalePrice')"
   ]
  },
  {
   "cell_type": "markdown",
   "metadata": {},
   "source": [
    "No apparent outliers in the scatter plot"
   ]
  },
  {
   "cell_type": "markdown",
   "metadata": {},
   "source": [
    "### LotArea"
   ]
  },
  {
   "cell_type": "code",
   "execution_count": 17,
   "metadata": {},
   "outputs": [
    {
     "data": {
      "image/png": "[encoded data removed]",
      "text/plain": [
       "<Figure size 432x288 with 1 Axes>"
      ]
     },
     "metadata": {
      "needs_background": "light"
     },
     "output_type": "display_data"
    }
   ],
   "source": [
    "sns.distplot(housing.LotArea, kde=False, bins=50)\n",
    "plt.text(x=50000, y=150,s='Skew = %.3f' %(housing.LotArea.skew()),fontdict={'fontsize':14})\n",
    "_=plt.xticks(rotation = 45)"
   ]
  },
  {
   "cell_type": "markdown",
   "metadata": {},
   "source": [
    "Distribution is highly skewed due to outliers."
   ]
  },
  {
   "cell_type": "code",
   "execution_count": 18,
   "metadata": {},
   "outputs": [
    {
     "data": {
      "text/plain": [
       "Text(0, 0.5, 'log1p(SalePrice)')"
      ]
     },
     "execution_count": 18,
     "metadata": {},
     "output_type": "execute_result"
    },
    {
     "data": {
      "image/png": "[encoded data removed]",
      "text/plain": [
       "<Figure size 432x288 with 1 Axes>"
      ]
     },
     "metadata": {
      "needs_background": "light"
     },
     "output_type": "display_data"
    }
   ],
   "source": [
    "plt.scatter(housing.LotArea, \n",
    "            housing['log1p(SalePrice)'], c='blue',marker = 's',alpha=0.25)\n",
    "plt.axvline(x=60000,color='red',linestyle='--')\n",
    "plt.xlabel('LotArea')\n",
    "plt.ylabel('log1p(SalePrice)')"
   ]
  },
  {
   "cell_type": "code",
   "execution_count": 19,
   "metadata": {},
   "outputs": [
    {
     "data": {
      "text/plain": [
       "Text(0.5, 1.0, 'After removing Lot Area > 60000 sq.ft.')"
      ]
     },
     "execution_count": 19,
     "metadata": {},
     "output_type": "execute_result"
    },
    {
     "data": {
      "image/png": "[encoded data removed]",
      "text/plain": [
       "<Figure size 1080x360 with 2 Axes>"
      ]
     },
     "metadata": {
      "needs_background": "light"
     },
     "output_type": "display_data"
    }
   ],
   "source": [
    "plt.figure(figsize=(15,5))\n",
    "plt.subplot(1,2,1)\n",
    "plt.scatter(housing.LotArea, \n",
    "            housing['log1p(SalePrice)'], \n",
    "            c='blue',marker = 's',alpha=0.25)\n",
    "plt.axvline(x=60000,color='red',linestyle='--')\n",
    "plt.xlabel('LotArea')\n",
    "plt.ylabel('log1p(SalePrice)')\n",
    "\n",
    "outlier = pd.DataFrame()\n",
    "outlier['LotArea'] = housing.LotArea > 60000\n",
    "\n",
    "plt.subplot(1,2,2)\n",
    "plt.scatter(housing[~outlier.any(axis=1)].LotArea, housing[~outlier.any(axis=1)]['log1p(SalePrice)'], c='blue',marker = 's',alpha=0.25)\n",
    "plt.xlabel('LotArea')\n",
    "plt.ylabel('')\n",
    "plt.title('After removing Lot Area > %.0f sq.ft.' %(60000))"
   ]
  },
  {
   "cell_type": "code",
   "execution_count": 20,
   "metadata": {},
   "outputs": [
    {
     "data": {
      "image/png": "[encoded data removed]",
      "text/plain": [
       "<Figure size 1080x360 with 2 Axes>"
      ]
     },
     "metadata": {
      "needs_background": "light"
     },
     "output_type": "display_data"
    }
   ],
   "source": [
    "plt.figure(figsize=(15,5))\n",
    "plt.subplot(1,2,1)\n",
    "sns.distplot(housing.LotArea, kde=False, bins=50)\n",
    "plt.text(x=50000, y=150,s='Skew = %.3f' %(housing.LotArea.skew()),fontdict={'fontsize':14})\n",
    "_=plt.xticks(rotation = 45)\n",
    "_=plt.title('Before outlier removal')\n",
    "\n",
    "plt.subplot(1,2,2)\n",
    "sns.distplot(housing[~outlier.any(axis=1)]['LotArea'], kde=False, bins=50)\n",
    "plt.text(x=15000, y=100,s='Skew = %.3f' %(housing[~outlier.any(axis=1)]['LotArea'].skew()),fontdict={'fontsize':14})\n",
    "_=plt.title('After outlier removal')\n",
    "_=plt.xticks(rotation = 45)"
   ]
  },
  {
   "cell_type": "markdown",
   "metadata": {},
   "source": [
    "Skeweness improved considerably after removing outliers"
   ]
  },
  {
   "cell_type": "markdown",
   "metadata": {},
   "source": [
    "Distribution has looks reasonably normal."
   ]
  },
  {
   "cell_type": "code",
   "execution_count": 21,
   "metadata": {},
   "outputs": [
    {
     "name": "stdout",
     "output_type": "stream",
     "text": [
      "Number of examples before outlier removal:  1460\n",
      "Number of examples after outlier removal:  1454\n",
      "6 examples are excluded\n"
     ]
    }
   ],
   "source": [
    "print('Number of examples before outlier removal: ',housing.shape[0])\n",
    "print('Number of examples after outlier removal: ',housing[~outlier.any(axis=1)].shape[0])\n",
    "print('%i examples are excluded' %(housing.shape[0]-housing[~outlier.any(axis=1)].shape[0]))"
   ]
  },
  {
   "cell_type": "code",
   "execution_count": 22,
   "metadata": {},
   "outputs": [
    {
     "name": "stdout",
     "output_type": "stream",
     "text": [
      "FunctionTransformer(accept_sparse=False, check_inverse=True,\n",
      "                    func=<function remove_outliers at 0x7f3e53f09048>,\n",
      "                    inv_kw_args=None, inverse_func=None,\n",
      "                    kw_args={'columns': ['LotArea'], 'thresholds': [60000]},\n",
      "                    pass_y='deprecated', validate=False)\n"
     ]
    }
   ],
   "source": [
    "### New cell\n",
    "\n",
    "def remove_outliers(X,columns,thresholds):\n",
    "    outlier = pd.DataFrame()\n",
    "    for column,threshold in zip(columns,thresholds):\n",
    "        if column == 'GrLivArea':\n",
    "            outlier[column] = X[column] > threshold\n",
    "        elif column == 'LotArea':\n",
    "            percentile = np.percentile(X[column],99)\n",
    "            outlier[column] = X[column] > threshold\n",
    "        else:\n",
    "            print(column+' not processed for outliers')\n",
    "    return X[~outlier.any(axis=1)]\n",
    "\n",
    "outlier_remover = FunctionTransformer(remove_outliers,validate=False,\n",
    "                                      kw_args=dict(columns=['LotArea'],\n",
    "                                                   thresholds=[60000]))\n",
    "outlier_remover.fit(housing) # Fit on training data\n",
    "print(outlier_remover)\n",
    "transformers.append(('outlier_remover',outlier_remover))\n",
    "\n",
    "housing = outlier_remover.transform(housing) ## Use this line instead the next cell"
   ]
  },
  {
   "cell_type": "code",
   "execution_count": 23,
   "metadata": {},
   "outputs": [
    {
     "name": "stdout",
     "output_type": "stream",
     "text": [
      "Dataset size: (1454, 82)\n"
     ]
    }
   ],
   "source": [
    "#housing = housing[~outlier.any(axis=1)]\n",
    "print('Dataset size:',housing.shape)"
   ]
  },
  {
   "cell_type": "markdown",
   "metadata": {},
   "source": [
    "For more advanced methods of dealing with outliers, ref to:  \n",
    "    1. https://pyod.readthedocs.io/en/latest/  \n",
    "    2. https://scikit-learn.org/stable/modules/generated/sklearn.ensemble.IsolationForest.html#sklearn.ensemble.IsolationForest"
   ]
  },
  {
   "cell_type": "markdown",
   "metadata": {},
   "source": [
    "In the next step we will treat missing values."
   ]
  },
  {
   "cell_type": "markdown",
   "metadata": {},
   "source": [
    "### **1.2. Missing Values**"
   ]
  },
  {
   "cell_type": "markdown",
   "metadata": {},
   "source": [
    "### **1.2.1. Categorical features**\n",
    "Lets first treat missing values in the categorical features  "
   ]
  },
  {
   "cell_type": "markdown",
   "metadata": {},
   "source": [
    "**MSSubclass** is a categorical feature but it got loaded as a numerical feature, so lets change it to categorical."
   ]
  },
  {
   "cell_type": "code",
   "execution_count": 24,
   "metadata": {},
   "outputs": [
    {
     "name": "stdout",
     "output_type": "stream",
     "text": [
      "FunctionTransformer(accept_sparse=False, check_inverse=True,\n",
      "                    func=<function to_str at 0x7f3e53e42048>, inv_kw_args=None,\n",
      "                    inverse_func=None, kw_args={'columns': ['MSSubClass']},\n",
      "                    pass_y='deprecated', validate=False)\n"
     ]
    }
   ],
   "source": [
    "## New cell\n",
    "\n",
    "def to_str(X,columns):\n",
    "    for column in columns:\n",
    "        X[column] = X[column].astype(str)\n",
    "    return X\n",
    "\n",
    "to_string = FunctionTransformer(to_str,validate=False,\n",
    "                                      kw_args=dict(columns=[\"MSSubClass\"]))\n",
    "\n",
    "to_string.fit(housing) # fit on training data\n",
    "print(to_string)\n",
    "transformers.append(('MSSubClass_to_str',to_string))\n",
    "\n",
    "housing = to_string.transform(housing)"
   ]
  },
  {
   "cell_type": "code",
   "execution_count": 25,
   "metadata": {},
   "outputs": [],
   "source": [
    "# housing['MSSubClass'] = housing['MSSubClass'].astype(str)"
   ]
  },
  {
   "cell_type": "code",
   "execution_count": 26,
   "metadata": {},
   "outputs": [],
   "source": [
    "from collections import defaultdict\n",
    "FEATURES = defaultdict(list)"
   ]
  },
  {
   "cell_type": "code",
   "execution_count": 27,
   "metadata": {},
   "outputs": [
    {
     "data": {
      "text/html": [
       "<div>\n",
       "<style scoped>\n",
       "    .dataframe tbody tr th:only-of-type {\n",
       "        vertical-align: middle;\n",
       "    }\n",
       "\n",
       "    .dataframe tbody tr th {\n",
       "        vertical-align: top;\n",
       "    }\n",
       "\n",
       "    .dataframe thead th {\n",
       "        text-align: right;\n",
       "    }\n",
       "</style>\n",
       "<table border=\"1\" class=\"dataframe\">\n",
       "  <thead>\n",
       "    <tr style=\"text-align: right;\">\n",
       "      <th></th>\n",
       "      <th>Feature</th>\n",
       "      <th># of missing vals</th>\n",
       "      <th>% of missing vals</th>\n",
       "    </tr>\n",
       "  </thead>\n",
       "  <tbody>\n",
       "    <tr>\n",
       "      <th>0</th>\n",
       "      <td>PoolQC</td>\n",
       "      <td>1448</td>\n",
       "      <td>99.5873</td>\n",
       "    </tr>\n",
       "    <tr>\n",
       "      <th>1</th>\n",
       "      <td>MiscFeature</td>\n",
       "      <td>1402</td>\n",
       "      <td>96.4237</td>\n",
       "    </tr>\n",
       "    <tr>\n",
       "      <th>2</th>\n",
       "      <td>Alley</td>\n",
       "      <td>1363</td>\n",
       "      <td>93.7414</td>\n",
       "    </tr>\n",
       "    <tr>\n",
       "      <th>3</th>\n",
       "      <td>Fence</td>\n",
       "      <td>1173</td>\n",
       "      <td>80.674</td>\n",
       "    </tr>\n",
       "    <tr>\n",
       "      <th>4</th>\n",
       "      <td>FireplaceQu</td>\n",
       "      <td>690</td>\n",
       "      <td>47.4553</td>\n",
       "    </tr>\n",
       "    <tr>\n",
       "      <th>5</th>\n",
       "      <td>GarageType</td>\n",
       "      <td>81</td>\n",
       "      <td>5.57084</td>\n",
       "    </tr>\n",
       "    <tr>\n",
       "      <th>6</th>\n",
       "      <td>GarageFinish</td>\n",
       "      <td>81</td>\n",
       "      <td>5.57084</td>\n",
       "    </tr>\n",
       "    <tr>\n",
       "      <th>7</th>\n",
       "      <td>GarageQual</td>\n",
       "      <td>81</td>\n",
       "      <td>5.57084</td>\n",
       "    </tr>\n",
       "    <tr>\n",
       "      <th>8</th>\n",
       "      <td>GarageCond</td>\n",
       "      <td>81</td>\n",
       "      <td>5.57084</td>\n",
       "    </tr>\n",
       "    <tr>\n",
       "      <th>9</th>\n",
       "      <td>BsmtExposure</td>\n",
       "      <td>38</td>\n",
       "      <td>2.61348</td>\n",
       "    </tr>\n",
       "    <tr>\n",
       "      <th>10</th>\n",
       "      <td>BsmtFinType2</td>\n",
       "      <td>38</td>\n",
       "      <td>2.61348</td>\n",
       "    </tr>\n",
       "    <tr>\n",
       "      <th>11</th>\n",
       "      <td>BsmtQual</td>\n",
       "      <td>37</td>\n",
       "      <td>2.5447</td>\n",
       "    </tr>\n",
       "    <tr>\n",
       "      <th>12</th>\n",
       "      <td>BsmtCond</td>\n",
       "      <td>37</td>\n",
       "      <td>2.5447</td>\n",
       "    </tr>\n",
       "    <tr>\n",
       "      <th>13</th>\n",
       "      <td>BsmtFinType1</td>\n",
       "      <td>37</td>\n",
       "      <td>2.5447</td>\n",
       "    </tr>\n",
       "    <tr>\n",
       "      <th>14</th>\n",
       "      <td>MasVnrType</td>\n",
       "      <td>8</td>\n",
       "      <td>0.550206</td>\n",
       "    </tr>\n",
       "    <tr>\n",
       "      <th>15</th>\n",
       "      <td>Electrical</td>\n",
       "      <td>1</td>\n",
       "      <td>0.0687758</td>\n",
       "    </tr>\n",
       "  </tbody>\n",
       "</table>\n",
       "</div>"
      ],
      "text/plain": [
       "         Feature # of missing vals % of missing vals\n",
       "0         PoolQC              1448           99.5873\n",
       "1    MiscFeature              1402           96.4237\n",
       "2          Alley              1363           93.7414\n",
       "3          Fence              1173            80.674\n",
       "4    FireplaceQu               690           47.4553\n",
       "5     GarageType                81           5.57084\n",
       "6   GarageFinish                81           5.57084\n",
       "7     GarageQual                81           5.57084\n",
       "8     GarageCond                81           5.57084\n",
       "9   BsmtExposure                38           2.61348\n",
       "10  BsmtFinType2                38           2.61348\n",
       "11      BsmtQual                37            2.5447\n",
       "12      BsmtCond                37            2.5447\n",
       "13  BsmtFinType1                37            2.5447\n",
       "14    MasVnrType                 8          0.550206\n",
       "15    Electrical                 1         0.0687758"
      ]
     },
     "execution_count": 27,
     "metadata": {},
     "output_type": "execute_result"
    }
   ],
   "source": [
    "missing_vals_cat = pd.DataFrame(columns=['Feature', '# of missing vals','% of missing vals'])\n",
    "for feature, numNan in housing.isnull().sum().iteritems():\n",
    "    if housing[feature].dtypes == 'object':\n",
    "        FEATURES['cat'].append(feature)\n",
    "        if numNan != 0:\n",
    "            missing_vals_cat = pd.concat([missing_vals_cat,pd.DataFrame([feature,numNan,(numNan/housing.shape[0])*100],\n",
    "                                                                        index=['Feature', '# of missing vals','% of missing vals']).T])\n",
    "            \n",
    "missing_vals_cat.sort_values(by=['% of missing vals'],ascending=False).reset_index(drop=True)"
   ]
  },
  {
   "cell_type": "markdown",
   "metadata": {},
   "source": [
    "There are two categorical features, **Electrical** and **MasVnrType**, that have missing values. Both have insignificant amounts of missing values (0.072% and 0.51%), hence it will be reasonable to impute them with the most frequently occuring category.\n",
    "\n",
    "All other features have \"meaningful\" missing values. For example, if a house does not have a basement, all features related basement are going to be null values. Hence, replace those missing values in another category called \"**Missing**\"."
   ]
  },
  {
   "cell_type": "markdown",
   "metadata": {},
   "source": [
    "### Electrical & MasVnrType"
   ]
  },
  {
   "cell_type": "code",
   "execution_count": 28,
   "metadata": {},
   "outputs": [
    {
     "data": {
      "text/plain": [
       "Text(0.5, 1.0, 'MasVnrType')"
      ]
     },
     "execution_count": 28,
     "metadata": {},
     "output_type": "execute_result"
    },
    {
     "data": {
      "image/png": "[encoded data removed]",
      "text/plain": [
       "<Figure size 720x288 with 2 Axes>"
      ]
     },
     "metadata": {
      "needs_background": "light"
     },
     "output_type": "display_data"
    }
   ],
   "source": [
    "fig, (ax1,ax2) = plt.subplots(ncols=2,figsize=(10,4))\n",
    "fig.subplots_adjust(wspace=0.25)\n",
    "sns.countplot(x='Electrical',data=housing,ax=ax1)\n",
    "ax1.set_title('Electrical')\n",
    "sns.countplot(x='MasVnrType',data=housing,ax=ax2)\n",
    "ax2.set_title('MasVnrType')"
   ]
  },
  {
   "cell_type": "markdown",
   "metadata": {},
   "source": [
    "***SBrkr*** is the most frequent category in the **Electrical**.\n",
    "\n",
    "***None*** is the most frequent category in **MasVnrType**.\n",
    "\n",
    "Impute the missing categories with most frequently occuring ones."
   ]
  },
  {
   "cell_type": "code",
   "execution_count": 29,
   "metadata": {},
   "outputs": [
    {
     "name": "stdout",
     "output_type": "stream",
     "text": [
      "FunctionTransformer(accept_sparse=False, check_inverse=True,\n",
      "                    func=<function impute_cat at 0x7f3e585f09d8>,\n",
      "                    inv_kw_args=None, inverse_func=None,\n",
      "                    kw_args={'feat_to_mode': ['Electrical', 'MasVnrType'],\n",
      "                             'mapper': {'Alley': 'Grvl', 'BldgType': '1Fam',\n",
      "                                        'BsmtCond': 'TA', 'BsmtExposure': 'No',\n",
      "                                        'BsmtFinType1': 'Unf',\n",
      "                                        'BsmtFinType2': 'Unf', 'BsmtQual': 'TA',\n",
      "                                        'CentralAir': 'Y', 'Conditi...\n",
      "                                        'Exterior2nd': 'VinylSd',\n",
      "                                        'Fence': 'MnPrv', 'FireplaceQu': 'Gd',\n",
      "                                        'Foundation': 'PConc',\n",
      "                                        'Functional': 'Typ', 'GarageCond': 'TA',\n",
      "                                        'GarageFinish': 'Unf',\n",
      "                                        'GarageQual': 'TA',\n",
      "                                        'GarageType': 'Attchd',\n",
      "                                        'Heating': 'GasA', 'HeatingQC': 'Ex',\n",
      "                                        'HouseStyle': '1Story',\n",
      "                                        'KitchenQual': 'TA',\n",
      "                                        'LandContour': 'Lvl',\n",
      "                                        'LandSlope': 'Gtl',\n",
      "                                        'LotConfig': 'Inside', ...}},\n",
      "                    pass_y='deprecated', validate=False)\n"
     ]
    }
   ],
   "source": [
    "### Modified cells\n",
    "cat_mode_mapper = housing[FEATURES['cat']].mode().iloc[0].to_dict()\n",
    "\n",
    "def impute_cat(X,feat_to_mode=['Electrical','MasVnrType'], mapper = cat_mode_mapper):\n",
    "    \"\"\"\n",
    "    Imputes missing values in Electrical and MasVnrType with modes, \n",
    "    and replaces NaN values in all other categorical features with 'Missing'\n",
    "    \"\"\"\n",
    "    for col, mode in mapper.items():\n",
    "        if col in feat_to_mode:\n",
    "            X[col].fillna(mode,inplace=True)\n",
    "        else:\n",
    "            X[col].fillna('Missing',inplace=True)\n",
    "    return X\n",
    "\n",
    "cat_Imputer = FunctionTransformer(impute_cat,validate=False,\n",
    "                                      kw_args=dict(feat_to_mode=['Electrical','MasVnrType'],\n",
    "                                                   mapper=cat_mode_mapper))\n",
    "cat_Imputer.fit(housing)\n",
    "print(cat_Imputer)\n",
    "transformers.append(('cat_Imputer',cat_Imputer))\n",
    "\n",
    "housing = cat_Imputer.transform(housing)"
   ]
  },
  {
   "cell_type": "markdown",
   "metadata": {},
   "source": [
    "### Check if there are still missing values in the categorical features."
   ]
  },
  {
   "cell_type": "code",
   "execution_count": 30,
   "metadata": {},
   "outputs": [
    {
     "data": {
      "text/plain": [
       "MSSubClass       0\n",
       "MSZoning         0\n",
       "Street           0\n",
       "Alley            0\n",
       "LotShape         0\n",
       "LandContour      0\n",
       "Utilities        0\n",
       "LotConfig        0\n",
       "LandSlope        0\n",
       "Neighborhood     0\n",
       "Condition1       0\n",
       "Condition2       0\n",
       "BldgType         0\n",
       "HouseStyle       0\n",
       "RoofStyle        0\n",
       "RoofMatl         0\n",
       "Exterior1st      0\n",
       "Exterior2nd      0\n",
       "MasVnrType       0\n",
       "ExterQual        0\n",
       "ExterCond        0\n",
       "Foundation       0\n",
       "BsmtQual         0\n",
       "BsmtCond         0\n",
       "BsmtExposure     0\n",
       "BsmtFinType1     0\n",
       "BsmtFinType2     0\n",
       "Heating          0\n",
       "HeatingQC        0\n",
       "CentralAir       0\n",
       "Electrical       0\n",
       "KitchenQual      0\n",
       "Functional       0\n",
       "FireplaceQu      0\n",
       "GarageType       0\n",
       "GarageFinish     0\n",
       "GarageQual       0\n",
       "GarageCond       0\n",
       "PavedDrive       0\n",
       "PoolQC           0\n",
       "Fence            0\n",
       "MiscFeature      0\n",
       "SaleType         0\n",
       "SaleCondition    0\n",
       "dtype: int64"
      ]
     },
     "execution_count": 30,
     "metadata": {},
     "output_type": "execute_result"
    }
   ],
   "source": [
    "#housing = impute_cat(housing)\n",
    "housing[FEATURES['cat']].isnull().sum()"
   ]
  },
  {
   "cell_type": "markdown",
   "metadata": {},
   "source": [
    "### **1.2.2. Numerical Features**"
   ]
  },
  {
   "cell_type": "code",
   "execution_count": 31,
   "metadata": {},
   "outputs": [
    {
     "data": {
      "text/html": [
       "<div>\n",
       "<style scoped>\n",
       "    .dataframe tbody tr th:only-of-type {\n",
       "        vertical-align: middle;\n",
       "    }\n",
       "\n",
       "    .dataframe tbody tr th {\n",
       "        vertical-align: top;\n",
       "    }\n",
       "\n",
       "    .dataframe thead th {\n",
       "        text-align: right;\n",
       "    }\n",
       "</style>\n",
       "<table border=\"1\" class=\"dataframe\">\n",
       "  <thead>\n",
       "    <tr style=\"text-align: right;\">\n",
       "      <th></th>\n",
       "      <th>Feature</th>\n",
       "      <th># of missing values</th>\n",
       "      <th>% of missing values</th>\n",
       "    </tr>\n",
       "  </thead>\n",
       "  <tbody>\n",
       "    <tr>\n",
       "      <th>0</th>\n",
       "      <td>LotFrontage</td>\n",
       "      <td>256</td>\n",
       "      <td>17.6066</td>\n",
       "    </tr>\n",
       "    <tr>\n",
       "      <th>2</th>\n",
       "      <td>GarageYrBlt</td>\n",
       "      <td>81</td>\n",
       "      <td>5.57084</td>\n",
       "    </tr>\n",
       "    <tr>\n",
       "      <th>1</th>\n",
       "      <td>MasVnrArea</td>\n",
       "      <td>8</td>\n",
       "      <td>0.550206</td>\n",
       "    </tr>\n",
       "  </tbody>\n",
       "</table>\n",
       "</div>"
      ],
      "text/plain": [
       "       Feature # of missing values % of missing values\n",
       "0  LotFrontage                 256             17.6066\n",
       "2  GarageYrBlt                  81             5.57084\n",
       "1   MasVnrArea                   8            0.550206"
      ]
     },
     "execution_count": 31,
     "metadata": {},
     "output_type": "execute_result"
    }
   ],
   "source": [
    "missing_vals_num = pd.DataFrame(columns=['Feature','# of missing values','% of missing values'])\n",
    "for feature, numNan in housing.isnull().sum().iteritems():\n",
    "    if housing[feature].dtypes!= 'object' and 'SalePrice' not in feature:\n",
    "        FEATURES['num'].append(feature)\n",
    "        if numNan != 0:\n",
    "            missing_vals_num = pd.concat([missing_vals_num,\n",
    "                                          pd.DataFrame([feature,numNan,\n",
    "                                                        (numNan/housing.shape[0])*100],\n",
    "                                                       index=['Feature','# of missing values','% of missing values']).T])\n",
    "\n",
    "missing_vals_num.reset_index(drop = True).sort_values(by='# of missing values',ascending=False)"
   ]
  },
  {
   "cell_type": "markdown",
   "metadata": {},
   "source": [
    "**MasVnrArea**: Since the most common category (None) was imputed for the missing values in the cat feature, **MasVnrType**, it will make sense to impute missing values in **MasVnrArea** with median **MasVnrArea** value of houses that have \"None\" as the **MasVnrType**."
   ]
  },
  {
   "cell_type": "code",
   "execution_count": 32,
   "metadata": {},
   "outputs": [
    {
     "name": "stdout",
     "output_type": "stream",
     "text": [
      "Median MasVnrArea:  0.0\n"
     ]
    }
   ],
   "source": [
    "MedianMasVnrArea = housing[housing['MasVnrType'] == 'None']['MasVnrArea'].median()\n",
    "print(\"Median MasVnrArea: \",MedianMasVnrArea)"
   ]
  },
  {
   "cell_type": "markdown",
   "metadata": {},
   "source": [
    "**GarageYrBlt**: these are same rows which have missing values in other garage related features, indicating that these houses do not have a garage. Imputing median value is a safe option, as these houses have already been flagged as missing a garage in the categorical features."
   ]
  },
  {
   "cell_type": "code",
   "execution_count": 33,
   "metadata": {},
   "outputs": [
    {
     "name": "stdout",
     "output_type": "stream",
     "text": [
      "Median GarageYrBlt:  1980.0\n"
     ]
    }
   ],
   "source": [
    "MedianGarageYrBlt = housing['GarageYrBlt'].median()\n",
    "print(\"Median GarageYrBlt: \",MedianGarageYrBlt)"
   ]
  },
  {
   "cell_type": "markdown",
   "metadata": {},
   "source": [
    "**LotForntage**: missing values needs to be handled more carefully as they amount to 17.73% of the total oberservation.\n",
    "\n",
    "   - Let's take a look at the other three features associated with Lot: LotConfig, LotShape, and LotArea"
   ]
  },
  {
   "cell_type": "code",
   "execution_count": 34,
   "metadata": {},
   "outputs": [
    {
     "data": {
      "text/plain": [
       "<matplotlib.axes._subplots.AxesSubplot at 0x7f3e58651b38>"
      ]
     },
     "execution_count": 34,
     "metadata": {},
     "output_type": "execute_result"
    },
    {
     "data": {
      "image/png": "[encoded data removed]",
      "text/plain": [
       "<Figure size 1080x360 with 2 Axes>"
      ]
     },
     "metadata": {
      "needs_background": "light"
     },
     "output_type": "display_data"
    }
   ],
   "source": [
    "plt.figure(figsize = (15,5))\n",
    "plt.subplots_adjust(wspace=0.25)\n",
    "plt.subplot(1,2,1)\n",
    "sns.boxplot(x='LotConfig',y='LotFrontage',data=housing,hue='LotShape')\n",
    "plt.subplot(1,2,2)\n",
    "sns.scatterplot(x='LotArea',y='LotFrontage',data=housing,marker='s',alpha=0.25)"
   ]
  },
  {
   "cell_type": "markdown",
   "metadata": {},
   "source": [
    "### Impute missing LotFrontage in the following way:  \n",
    "   - Group the data by **LotShape** and **LotConfig** and compute group specific median **LotFrontage**. \n",
    "   - Impute missing **LotFrontage** with group specific median LotFrontage values."
   ]
  },
  {
   "cell_type": "code",
   "execution_count": 35,
   "metadata": {},
   "outputs": [
    {
     "name": "stdout",
     "output_type": "stream",
     "text": [
      "FunctionTransformer(accept_sparse=False, check_inverse=True,\n",
      "                    func=<function impute_num at 0x7f3e5867c0d0>,\n",
      "                    inv_kw_args=None, inverse_func=None,\n",
      "                    kw_args={'mapper': {'1stFlrSF': 1086.0, '2ndFlrSF': 0.0,\n",
      "                                        '3SsnPorch': 0.0, 'BedroomAbvGr': 3.0,\n",
      "                                        'BsmtFinSF1': 380.5, 'BsmtFinSF2': 0.0,\n",
      "                                        'BsmtFullBath': 0.0,\n",
      "                                        'BsmtHalfBath': 0.0, 'BsmtUnfSF': 479.5,\n",
      "                                        'EnclosedPorch': 0.0, 'Fireplaces': 1....\n",
      "                                                        ('FR2', 'Reg'): 64.5,\n",
      "                                                        ('FR3', 'IR1'): 60.0,\n",
      "                                                        ('FR3', 'Reg'): 59.0,\n",
      "                                                        ('Inside', 'IR1'): 71.5,\n",
      "                                                        ('Inside', 'IR2'): 71.0,\n",
      "                                                        ('Inside', 'IR3'): 60.0,\n",
      "                                                        ('Inside', 'Reg'): 65.0},\n",
      "                                        'LowQualFinSF': 0.0, 'MasVnrArea': 0.0,\n",
      "                                        'MiscVal': 0.0, 'MoSold': 6.0,\n",
      "                                        'OpenPorchSF': 24.5, 'OverallCond': 5.0,\n",
      "                                        'OverallQual': 6.0, 'PoolArea': 0.0,\n",
      "                                        'ScreenPorch': 0.0, 'TotRmsAbvGrd': 6.0, ...}},\n",
      "                    pass_y='deprecated', validate=False)\n"
     ]
    }
   ],
   "source": [
    "### New cell\n",
    "num_median_mapper = housing[FEATURES['num']].median().to_dict()\n",
    "num_median_mapper['LotFrontage'] = housing.groupby(['LotConfig','LotShape'])['LotFrontage'].median().to_dict()\n",
    "\n",
    "def impute_num(X,mapper=num_median_mapper):\n",
    "    for feat,vals in mapper.items():\n",
    "        if feat == 'LotFrontage':\n",
    "            for key,val in vals.items():\n",
    "                LotConfig,LotShape = key\n",
    "                X.loc[(X['LotFrontage'].isnull()) & (X['LotConfig']==LotConfig) & (X['LotShape']==LotShape),['LotFrontage']] = val\n",
    "            X.loc[X['LotFrontage'].isnull(),'LotFrontage'] = X['LotFrontage'].median()\n",
    "        else:\n",
    "            X[feat].fillna(vals,inplace=True)\n",
    "    return X\n",
    "\n",
    "num_imputer = FunctionTransformer(impute_num,validate=False,\n",
    "                                      kw_args=dict(mapper=num_median_mapper))\n",
    "num_imputer.fit(housing)\n",
    "print(num_imputer)\n",
    "transformers.append(('num_imputer',num_imputer))\n",
    "\n",
    "housing = num_imputer.transform(housing)"
   ]
  },
  {
   "cell_type": "code",
   "execution_count": 36,
   "metadata": {},
   "outputs": [
    {
     "data": {
      "text/plain": [
       "0"
      ]
     },
     "execution_count": 36,
     "metadata": {},
     "output_type": "execute_result"
    }
   ],
   "source": [
    "housing.isnull().sum().sum()"
   ]
  },
  {
   "cell_type": "markdown",
   "metadata": {},
   "source": [
    "**Data cleaning is done at this point.**\n",
    "\n",
    "Next, we will add more data to the dataset from other sources."
   ]
  },
  {
   "cell_type": "markdown",
   "metadata": {},
   "source": [
    "### **1.3. Data Augmentation**\n",
    "In this part, we will add more features to the dataset by gathering data from other sources like **Google's Geocoding API** and **uszipcode** library. "
   ]
  },
  {
   "cell_type": "markdown",
   "metadata": {},
   "source": [
    "### Count number of unique categories per categorical feature"
   ]
  },
  {
   "cell_type": "code",
   "execution_count": 37,
   "metadata": {},
   "outputs": [
    {
     "data": {
      "text/plain": [
       "Neighborhood     25\n",
       "Exterior2nd      16\n",
       "MSSubClass       15\n",
       "Exterior1st      15\n",
       "Condition1        9\n",
       "SaleType          9\n",
       "Condition2        8\n",
       "HouseStyle        8\n",
       "RoofMatl          7\n",
       "GarageType        7\n",
       "Functional        7\n",
       "BsmtFinType1      7\n",
       "BsmtFinType2      7\n",
       "Heating           6\n",
       "RoofStyle         6\n",
       "SaleCondition     6\n",
       "Foundation        6\n",
       "FireplaceQu       6\n",
       "GarageCond        6\n",
       "GarageQual        6\n",
       "MSZoning          5\n",
       "LotConfig         5\n",
       "MiscFeature       5\n",
       "Fence             5\n",
       "BldgType          5\n",
       "HeatingQC         5\n",
       "ExterCond         5\n",
       "Electrical        5\n",
       "BsmtQual          5\n",
       "BsmtCond          5\n",
       "BsmtExposure      5\n",
       "MasVnrType        4\n",
       "LotShape          4\n",
       "ExterQual         4\n",
       "KitchenQual       4\n",
       "PoolQC            4\n",
       "GarageFinish      4\n",
       "LandContour       4\n",
       "Alley             3\n",
       "LandSlope         3\n",
       "PavedDrive        3\n",
       "Utilities         2\n",
       "Street            2\n",
       "CentralAir        2\n",
       "dtype: int64"
      ]
     },
     "execution_count": 37,
     "metadata": {},
     "output_type": "execute_result"
    }
   ],
   "source": [
    "unique_cats = defaultdict(int)\n",
    "\n",
    "for col in housing.columns:\n",
    "    if housing[col].dtypes == 'object':\n",
    "        unique_cats[col] = housing[col].nunique()\n",
    "        #print('{0}:\\t\\t {1} unique categories'.format(col,housing_cat[col].nunique()))\n",
    "\n",
    "num_unique_cats = pd.Series(unique_cats)\n",
    "num_unique_cats.sort_values(ascending = False)"
   ]
  },
  {
   "cell_type": "markdown",
   "metadata": {},
   "source": [
    "Neighborhood has most number of unique categories. The categories are some sort of location names.  "
   ]
  },
  {
   "cell_type": "markdown",
   "metadata": {},
   "source": [
    "### **1.3.1. Google API: Geocoding**\n",
    "\n",
    "In this section, we will extract Latitude and Longitude coordinates, and zipcodes from Google's Geocoding API."
   ]
  },
  {
   "cell_type": "code",
   "execution_count": 38,
   "metadata": {},
   "outputs": [],
   "source": [
    "import googlemaps\n",
    "import json\n",
    "# Import the googlemaps API key\n",
    "with open('../data/keys.json') as file:\n",
    "    keys = json.load(file)\n",
    "    \n",
    "gmaps = googlemaps.Client(key=keys['geocoding'])"
   ]
  },
  {
   "cell_type": "code",
   "execution_count": 39,
   "metadata": {},
   "outputs": [
    {
     "data": {
      "text/plain": [
       "array(['CollgCr', 'Veenker', 'Crawfor', 'NoRidge', 'Mitchel', 'Somerst',\n",
       "       'NWAmes', 'OldTown', 'BrkSide', 'Sawyer', 'NridgHt', 'NAmes',\n",
       "       'SawyerW', 'IDOTRR', 'MeadowV', 'Edwards', 'Timber', 'Gilbert',\n",
       "       'StoneBr', 'ClearCr', 'NPkVill', 'Blmngtn', 'BrDale', 'SWISU',\n",
       "       'Blueste'], dtype=object)"
      ]
     },
     "execution_count": 39,
     "metadata": {},
     "output_type": "execute_result"
    }
   ],
   "source": [
    "# List of neighborhoods\n",
    "housing.Neighborhood.unique()"
   ]
  },
  {
   "cell_type": "code",
   "execution_count": 40,
   "metadata": {},
   "outputs": [],
   "source": [
    "neighborhoods = {\"CollgCr\":\"College Creek\",\"Veenker\":\"Veenker\",\n",
    "                 \"Crawfor\":\"Crawford\",\"NoRidge\":\"Northridge\",\n",
    "                 \"Mitchel\":\"Mitchell\",\"Somerst\":\"Somerset\",\n",
    "                 \"NWAmes\":\"Northwest Ames\",\"OldTown\":\"Old Town\",\n",
    "                 \"BrkSide\":\"Brookside\",\"Sawyer\":\"Sawyer\",\n",
    "                 \"NridgHt\":\"Northridge Heights\",\"NAmes\":\"North Ames\",\n",
    "                 \"SawyerW\":\"Sawyer West\",\"IDOTRR\":\"Iowa DOT and Rail Road\",\n",
    "                 \"MeadowV\":\"Meadow Village\",\"Edwards\":\"Edwards\",\n",
    "                 \"Timber\":\"Timberland\",\"Gilbert\":\"Gilbert\",\n",
    "                 \"StoneBr\":\"Stone Brook\",\"ClearCr\":\"Clear Creek\",\n",
    "                 \"NPkVill\":\"Northpark Villa\",\"Blmngtn\":\"Bloomington Heights\",\n",
    "                 \"BrDale\":\"Briardale\",\"SWISU\":\"South & West of Iowa State University\",\n",
    "                 \"Blueste\":\"Bluestem\"}"
   ]
  },
  {
   "cell_type": "markdown",
   "metadata": {},
   "source": [
    "Let's create a separate dataframe with unique Neighborhood categories"
   ]
  },
  {
   "cell_type": "code",
   "execution_count": 41,
   "metadata": {},
   "outputs": [
    {
     "data": {
      "text/html": [
       "<div>\n",
       "<style scoped>\n",
       "    .dataframe tbody tr th:only-of-type {\n",
       "        vertical-align: middle;\n",
       "    }\n",
       "\n",
       "    .dataframe tbody tr th {\n",
       "        vertical-align: top;\n",
       "    }\n",
       "\n",
       "    .dataframe thead th {\n",
       "        text-align: right;\n",
       "    }\n",
       "</style>\n",
       "<table border=\"1\" class=\"dataframe\">\n",
       "  <thead>\n",
       "    <tr style=\"text-align: right;\">\n",
       "      <th></th>\n",
       "      <th>Neighborhood</th>\n",
       "    </tr>\n",
       "  </thead>\n",
       "  <tbody>\n",
       "    <tr>\n",
       "      <th>0</th>\n",
       "      <td>CollgCr</td>\n",
       "    </tr>\n",
       "    <tr>\n",
       "      <th>1</th>\n",
       "      <td>Veenker</td>\n",
       "    </tr>\n",
       "    <tr>\n",
       "      <th>2</th>\n",
       "      <td>Crawfor</td>\n",
       "    </tr>\n",
       "    <tr>\n",
       "      <th>3</th>\n",
       "      <td>NoRidge</td>\n",
       "    </tr>\n",
       "    <tr>\n",
       "      <th>4</th>\n",
       "      <td>Mitchel</td>\n",
       "    </tr>\n",
       "  </tbody>\n",
       "</table>\n",
       "</div>"
      ],
      "text/plain": [
       "  Neighborhood\n",
       "0      CollgCr\n",
       "1      Veenker\n",
       "2      Crawfor\n",
       "3      NoRidge\n",
       "4      Mitchel"
      ]
     },
     "execution_count": 41,
     "metadata": {},
     "output_type": "execute_result"
    }
   ],
   "source": [
    "geo_df = pd.DataFrame(housing.Neighborhood.unique(),columns=['Neighborhood'])\n",
    "geo_df.head()"
   ]
  },
  {
   "cell_type": "code",
   "execution_count": 42,
   "metadata": {},
   "outputs": [],
   "source": [
    "import re\n",
    "def getGeoInfo(Neighborhood, output):\n",
    "    '''\n",
    "     Enter the Neighborhood and the kind of output you want (lat,lng, or zipcode)\n",
    "    '''\n",
    "    def getZipCode(formatted_address):\n",
    "        substr = re.findall('IA \\d{5}, USA',formatted_address)\n",
    "        if len(substr) == 0:\n",
    "            return 'Missing'\n",
    "        else:\n",
    "            return re.findall('\\d{5}',substr[0])[0]\n",
    "\n",
    "    geocode_result = gmaps.geocode(neighborhoods[Neighborhood]+', Ames, IA')\n",
    "    \n",
    "    i = 0\n",
    "    while True:\n",
    "        if i == len(geocode_result):\n",
    "            idx = None\n",
    "            break\n",
    "        elif 'IA' in geocode_result[i]['formatted_address']:\n",
    "            idx = i\n",
    "            break\n",
    "        i += 1\n",
    "        \n",
    "    lat = geocode_result[idx]['geometry']['location']['lat']\n",
    "    lng = geocode_result[idx]['geometry']['location']['lng']\n",
    "    zipcode = getZipCode(geocode_result[idx]['formatted_address'])\n",
    "\n",
    "    if output == 'lat':\n",
    "        return lat\n",
    "    elif output == 'lng':\n",
    "        return lng\n",
    "    elif output == 'zipcode':\n",
    "        return zipcode\n",
    "    else:\n",
    "        return 'invalid output!'"
   ]
  },
  {
   "cell_type": "code",
   "execution_count": 43,
   "metadata": {},
   "outputs": [],
   "source": [
    "geo_df['Lat'] = geo_df['Neighborhood'].apply(getGeoInfo,output='lat')\n",
    "geo_df['Lng'] = geo_df['Neighborhood'].apply(getGeoInfo,output='lng')\n",
    "geo_df['zipcode'] = geo_df['Neighborhood'].apply(getGeoInfo,output='zipcode')"
   ]
  },
  {
   "cell_type": "code",
   "execution_count": 44,
   "metadata": {},
   "outputs": [
    {
     "data": {
      "text/html": [
       "<div>\n",
       "<style scoped>\n",
       "    .dataframe tbody tr th:only-of-type {\n",
       "        vertical-align: middle;\n",
       "    }\n",
       "\n",
       "    .dataframe tbody tr th {\n",
       "        vertical-align: top;\n",
       "    }\n",
       "\n",
       "    .dataframe thead th {\n",
       "        text-align: right;\n",
       "    }\n",
       "</style>\n",
       "<table border=\"1\" class=\"dataframe\">\n",
       "  <thead>\n",
       "    <tr style=\"text-align: right;\">\n",
       "      <th></th>\n",
       "      <th>Neighborhood</th>\n",
       "      <th>Lat</th>\n",
       "      <th>Lng</th>\n",
       "      <th>zipcode</th>\n",
       "    </tr>\n",
       "  </thead>\n",
       "  <tbody>\n",
       "    <tr>\n",
       "      <th>0</th>\n",
       "      <td>CollgCr</td>\n",
       "      <td>42.022197</td>\n",
       "      <td>-93.651510</td>\n",
       "      <td>Missing</td>\n",
       "    </tr>\n",
       "    <tr>\n",
       "      <th>1</th>\n",
       "      <td>Veenker</td>\n",
       "      <td>42.041304</td>\n",
       "      <td>-93.650302</td>\n",
       "      <td>50011</td>\n",
       "    </tr>\n",
       "    <tr>\n",
       "      <th>2</th>\n",
       "      <td>Crawfor</td>\n",
       "      <td>42.018614</td>\n",
       "      <td>-93.648898</td>\n",
       "      <td>50014</td>\n",
       "    </tr>\n",
       "    <tr>\n",
       "      <th>3</th>\n",
       "      <td>NoRidge</td>\n",
       "      <td>42.047831</td>\n",
       "      <td>-93.646745</td>\n",
       "      <td>50010</td>\n",
       "    </tr>\n",
       "    <tr>\n",
       "      <th>4</th>\n",
       "      <td>Mitchel</td>\n",
       "      <td>41.990308</td>\n",
       "      <td>-93.601053</td>\n",
       "      <td>50010</td>\n",
       "    </tr>\n",
       "    <tr>\n",
       "      <th>5</th>\n",
       "      <td>Somerst</td>\n",
       "      <td>42.052628</td>\n",
       "      <td>-93.644582</td>\n",
       "      <td>50010</td>\n",
       "    </tr>\n",
       "    <tr>\n",
       "      <th>6</th>\n",
       "      <td>NWAmes</td>\n",
       "      <td>42.038277</td>\n",
       "      <td>-93.625770</td>\n",
       "      <td>50010</td>\n",
       "    </tr>\n",
       "    <tr>\n",
       "      <th>7</th>\n",
       "      <td>OldTown</td>\n",
       "      <td>42.029046</td>\n",
       "      <td>-93.614340</td>\n",
       "      <td>50010</td>\n",
       "    </tr>\n",
       "    <tr>\n",
       "      <th>8</th>\n",
       "      <td>BrkSide</td>\n",
       "      <td>42.028653</td>\n",
       "      <td>-93.630386</td>\n",
       "      <td>50010</td>\n",
       "    </tr>\n",
       "    <tr>\n",
       "      <th>9</th>\n",
       "      <td>Sawyer</td>\n",
       "      <td>42.033903</td>\n",
       "      <td>-93.677066</td>\n",
       "      <td>50014</td>\n",
       "    </tr>\n",
       "    <tr>\n",
       "      <th>10</th>\n",
       "      <td>NridgHt</td>\n",
       "      <td>42.059773</td>\n",
       "      <td>-93.649471</td>\n",
       "      <td>50010</td>\n",
       "    </tr>\n",
       "    <tr>\n",
       "      <th>11</th>\n",
       "      <td>NAmes</td>\n",
       "      <td>42.058026</td>\n",
       "      <td>-93.646599</td>\n",
       "      <td>50010</td>\n",
       "    </tr>\n",
       "    <tr>\n",
       "      <th>12</th>\n",
       "      <td>SawyerW</td>\n",
       "      <td>42.033903</td>\n",
       "      <td>-93.677066</td>\n",
       "      <td>50014</td>\n",
       "    </tr>\n",
       "    <tr>\n",
       "      <th>13</th>\n",
       "      <td>IDOTRR</td>\n",
       "      <td>42.009614</td>\n",
       "      <td>-93.559918</td>\n",
       "      <td>50010</td>\n",
       "    </tr>\n",
       "    <tr>\n",
       "      <th>14</th>\n",
       "      <td>MeadowV</td>\n",
       "      <td>41.992448</td>\n",
       "      <td>-93.602645</td>\n",
       "      <td>50010</td>\n",
       "    </tr>\n",
       "    <tr>\n",
       "      <th>15</th>\n",
       "      <td>Edwards</td>\n",
       "      <td>42.015510</td>\n",
       "      <td>-93.685391</td>\n",
       "      <td>50014</td>\n",
       "    </tr>\n",
       "    <tr>\n",
       "      <th>16</th>\n",
       "      <td>Timber</td>\n",
       "      <td>41.999973</td>\n",
       "      <td>-93.649693</td>\n",
       "      <td>50014</td>\n",
       "    </tr>\n",
       "    <tr>\n",
       "      <th>17</th>\n",
       "      <td>Gilbert</td>\n",
       "      <td>42.106929</td>\n",
       "      <td>-93.649663</td>\n",
       "      <td>50105</td>\n",
       "    </tr>\n",
       "    <tr>\n",
       "      <th>18</th>\n",
       "      <td>StoneBr</td>\n",
       "      <td>42.059727</td>\n",
       "      <td>-93.637642</td>\n",
       "      <td>50010</td>\n",
       "    </tr>\n",
       "    <tr>\n",
       "      <th>19</th>\n",
       "      <td>ClearCr</td>\n",
       "      <td>42.036097</td>\n",
       "      <td>-93.648830</td>\n",
       "      <td>50011</td>\n",
       "    </tr>\n",
       "    <tr>\n",
       "      <th>20</th>\n",
       "      <td>NPkVill</td>\n",
       "      <td>42.030781</td>\n",
       "      <td>-93.631913</td>\n",
       "      <td>Missing</td>\n",
       "    </tr>\n",
       "    <tr>\n",
       "      <th>21</th>\n",
       "      <td>Blmngtn</td>\n",
       "      <td>42.056376</td>\n",
       "      <td>-93.644471</td>\n",
       "      <td>50010</td>\n",
       "    </tr>\n",
       "    <tr>\n",
       "      <th>22</th>\n",
       "      <td>BrDale</td>\n",
       "      <td>42.052795</td>\n",
       "      <td>-93.628821</td>\n",
       "      <td>50010</td>\n",
       "    </tr>\n",
       "    <tr>\n",
       "      <th>23</th>\n",
       "      <td>SWISU</td>\n",
       "      <td>42.026657</td>\n",
       "      <td>-93.646452</td>\n",
       "      <td>50011</td>\n",
       "    </tr>\n",
       "    <tr>\n",
       "      <th>24</th>\n",
       "      <td>Blueste</td>\n",
       "      <td>42.023090</td>\n",
       "      <td>-93.663783</td>\n",
       "      <td>50014</td>\n",
       "    </tr>\n",
       "  </tbody>\n",
       "</table>\n",
       "</div>"
      ],
      "text/plain": [
       "   Neighborhood        Lat        Lng  zipcode\n",
       "0       CollgCr  42.022197 -93.651510  Missing\n",
       "1       Veenker  42.041304 -93.650302    50011\n",
       "2       Crawfor  42.018614 -93.648898    50014\n",
       "3       NoRidge  42.047831 -93.646745    50010\n",
       "4       Mitchel  41.990308 -93.601053    50010\n",
       "5       Somerst  42.052628 -93.644582    50010\n",
       "6        NWAmes  42.038277 -93.625770    50010\n",
       "7       OldTown  42.029046 -93.614340    50010\n",
       "8       BrkSide  42.028653 -93.630386    50010\n",
       "9        Sawyer  42.033903 -93.677066    50014\n",
       "10      NridgHt  42.059773 -93.649471    50010\n",
       "11        NAmes  42.058026 -93.646599    50010\n",
       "12      SawyerW  42.033903 -93.677066    50014\n",
       "13       IDOTRR  42.009614 -93.559918    50010\n",
       "14      MeadowV  41.992448 -93.602645    50010\n",
       "15      Edwards  42.015510 -93.685391    50014\n",
       "16       Timber  41.999973 -93.649693    50014\n",
       "17      Gilbert  42.106929 -93.649663    50105\n",
       "18      StoneBr  42.059727 -93.637642    50010\n",
       "19      ClearCr  42.036097 -93.648830    50011\n",
       "20      NPkVill  42.030781 -93.631913  Missing\n",
       "21      Blmngtn  42.056376 -93.644471    50010\n",
       "22       BrDale  42.052795 -93.628821    50010\n",
       "23        SWISU  42.026657 -93.646452    50011\n",
       "24      Blueste  42.023090 -93.663783    50014"
      ]
     },
     "execution_count": 44,
     "metadata": {},
     "output_type": "execute_result"
    }
   ],
   "source": [
    "geo_df"
   ]
  },
  {
   "cell_type": "markdown",
   "metadata": {},
   "source": [
    "In geo_df, there are two Neighborhoods (CollgCr, NPkVill) for which Google's gecoding API was not able to provide the zipcode.\n",
    "\n",
    "Lets look at Lat vs. Lng scatter plot to see which neighborhoods are close to those with missing zipcode. "
   ]
  },
  {
   "cell_type": "code",
   "execution_count": 45,
   "metadata": {},
   "outputs": [
    {
     "data": {
      "image/png": "[encoded data removed]",
      "text/plain": [
       "<Figure size 432x288 with 1 Axes>"
      ]
     },
     "metadata": {
      "needs_background": "light"
     },
     "output_type": "display_data"
    }
   ],
   "source": [
    "sns.scatterplot(x='Lat',y='Lng',\n",
    "                data=geo_df,\n",
    "                hue='zipcode',\n",
    "                palette=['red','cyan','magenta','green','blue'],\n",
    "                alpha=1,s=100)\n",
    "plt.legend(loc='center right',bbox_to_anchor = (1.35,0.5))\n",
    "_=plt.xticks(rotation=45)"
   ]
  },
  {
   "cell_type": "markdown",
   "metadata": {},
   "source": [
    "It will be reasonable to impute missing zipcodes with the closest neighbors, but there is another library that can provide zipcode info based on geo coordinates. \n",
    "\n",
    "It is the **uszipcode** library https://pypi.org/project/uszipcode/\n",
    "\n",
    "This library can be used to extract demographic information of different locations in US."
   ]
  },
  {
   "cell_type": "markdown",
   "metadata": {},
   "source": [
    "### **1.3.2. uszipcode**\n",
    "In this section, we will impute the missing zipcode, as well as augment our dataset with more features like popution density, total population, median household income, total number of housing units, etc."
   ]
  },
  {
   "cell_type": "code",
   "execution_count": 46,
   "metadata": {},
   "outputs": [],
   "source": [
    "from uszipcode import SearchEngine"
   ]
  },
  {
   "cell_type": "code",
   "execution_count": 47,
   "metadata": {},
   "outputs": [],
   "source": [
    "def getMoreFeat(a,b):\n",
    "    '''\n",
    "    Can take zipcode or [lat,lng] as inputs (a) and return requested information about location, \n",
    "    The information requested should be specifed as the second argument (b).\n",
    "\n",
    "    Acceptable requests are:'lat', 'lng', \n",
    "                            'population', 'zipcode', \n",
    "                            'population_density','housing_units',\n",
    "                            'occupied_housing_units', 'median_home_value'\n",
    "                            'median_household_income'\n",
    "    \n",
    "    '''\n",
    "    def getZipCode(a):\n",
    "        geo_info = search.by_coordinates(a[0],a[1],radius=5)\n",
    "        i = 0\n",
    "        while True:\n",
    "            if i == len(geo_info):\n",
    "                idx = None\n",
    "                break\n",
    "            elif (geo_info[i].post_office_city == 'Ames, IA') and (geo_info[i].major_city == 'Ames') and (geo_info[i].common_city_list[0] == 'Ames'):\n",
    "                idx = i\n",
    "                break\n",
    "            i += 1\n",
    "            \n",
    "        if idx == None:\n",
    "            print(\"Coordinates don't belong to Ames, IA. NaN returned\")\n",
    "            return np.nan\n",
    "        else:\n",
    "            return geo_info[idx].to_dict()[b]\n",
    "    \n",
    "    def getRequest(zipcode,b):\n",
    "        geo_info = search.by_zipcode(zipcode)\n",
    "        return geo_info.to_dict()[b]\n",
    "        \n",
    "        \n",
    "    search = SearchEngine(simple_zipcode=True)\n",
    "    \n",
    "    if b == 'zipcode': \n",
    "        return getZipCode(a)\n",
    "    elif b in ['lat', 'lng', 'population', 'zipcode', \n",
    "                  'population_density','housing_units',\n",
    "                  'occupied_housing_units', 'median_home_value',\n",
    "                  'median_household_income']:\n",
    "        return getRequest(a,b)\n",
    "        "
   ]
  },
  {
   "cell_type": "code",
   "execution_count": 48,
   "metadata": {},
   "outputs": [],
   "source": [
    "geo_df.loc[geo_df.zipcode=='Missing','zipcode'] = geo_df.loc[geo_df.zipcode=='Missing',['Lat','Lng']].apply(getMoreFeat,axis=1,b='zipcode')"
   ]
  },
  {
   "cell_type": "code",
   "execution_count": 49,
   "metadata": {},
   "outputs": [
    {
     "data": {
      "text/html": [
       "<div>\n",
       "<style scoped>\n",
       "    .dataframe tbody tr th:only-of-type {\n",
       "        vertical-align: middle;\n",
       "    }\n",
       "\n",
       "    .dataframe tbody tr th {\n",
       "        vertical-align: top;\n",
       "    }\n",
       "\n",
       "    .dataframe thead th {\n",
       "        text-align: right;\n",
       "    }\n",
       "</style>\n",
       "<table border=\"1\" class=\"dataframe\">\n",
       "  <thead>\n",
       "    <tr style=\"text-align: right;\">\n",
       "      <th></th>\n",
       "      <th>Neighborhood</th>\n",
       "      <th>Lat</th>\n",
       "      <th>Lng</th>\n",
       "      <th>zipcode</th>\n",
       "      <th>median_household_income</th>\n",
       "      <th>median_home_value</th>\n",
       "    </tr>\n",
       "  </thead>\n",
       "  <tbody>\n",
       "    <tr>\n",
       "      <th>0</th>\n",
       "      <td>CollgCr</td>\n",
       "      <td>42.022197</td>\n",
       "      <td>-93.651510</td>\n",
       "      <td>50010</td>\n",
       "      <td>48189.0</td>\n",
       "      <td>165300.0</td>\n",
       "    </tr>\n",
       "    <tr>\n",
       "      <th>1</th>\n",
       "      <td>Veenker</td>\n",
       "      <td>42.041304</td>\n",
       "      <td>-93.650302</td>\n",
       "      <td>50011</td>\n",
       "      <td>NaN</td>\n",
       "      <td>NaN</td>\n",
       "    </tr>\n",
       "    <tr>\n",
       "      <th>2</th>\n",
       "      <td>Crawfor</td>\n",
       "      <td>42.018614</td>\n",
       "      <td>-93.648898</td>\n",
       "      <td>50014</td>\n",
       "      <td>37661.0</td>\n",
       "      <td>212500.0</td>\n",
       "    </tr>\n",
       "    <tr>\n",
       "      <th>3</th>\n",
       "      <td>NoRidge</td>\n",
       "      <td>42.047831</td>\n",
       "      <td>-93.646745</td>\n",
       "      <td>50010</td>\n",
       "      <td>48189.0</td>\n",
       "      <td>165300.0</td>\n",
       "    </tr>\n",
       "    <tr>\n",
       "      <th>4</th>\n",
       "      <td>Mitchel</td>\n",
       "      <td>41.990308</td>\n",
       "      <td>-93.601053</td>\n",
       "      <td>50010</td>\n",
       "      <td>48189.0</td>\n",
       "      <td>165300.0</td>\n",
       "    </tr>\n",
       "    <tr>\n",
       "      <th>5</th>\n",
       "      <td>Somerst</td>\n",
       "      <td>42.052628</td>\n",
       "      <td>-93.644582</td>\n",
       "      <td>50010</td>\n",
       "      <td>48189.0</td>\n",
       "      <td>165300.0</td>\n",
       "    </tr>\n",
       "    <tr>\n",
       "      <th>6</th>\n",
       "      <td>NWAmes</td>\n",
       "      <td>42.038277</td>\n",
       "      <td>-93.625770</td>\n",
       "      <td>50010</td>\n",
       "      <td>48189.0</td>\n",
       "      <td>165300.0</td>\n",
       "    </tr>\n",
       "    <tr>\n",
       "      <th>7</th>\n",
       "      <td>OldTown</td>\n",
       "      <td>42.029046</td>\n",
       "      <td>-93.614340</td>\n",
       "      <td>50010</td>\n",
       "      <td>48189.0</td>\n",
       "      <td>165300.0</td>\n",
       "    </tr>\n",
       "    <tr>\n",
       "      <th>8</th>\n",
       "      <td>BrkSide</td>\n",
       "      <td>42.028653</td>\n",
       "      <td>-93.630386</td>\n",
       "      <td>50010</td>\n",
       "      <td>48189.0</td>\n",
       "      <td>165300.0</td>\n",
       "    </tr>\n",
       "    <tr>\n",
       "      <th>9</th>\n",
       "      <td>Sawyer</td>\n",
       "      <td>42.033903</td>\n",
       "      <td>-93.677066</td>\n",
       "      <td>50014</td>\n",
       "      <td>37661.0</td>\n",
       "      <td>212500.0</td>\n",
       "    </tr>\n",
       "    <tr>\n",
       "      <th>10</th>\n",
       "      <td>NridgHt</td>\n",
       "      <td>42.059773</td>\n",
       "      <td>-93.649471</td>\n",
       "      <td>50010</td>\n",
       "      <td>48189.0</td>\n",
       "      <td>165300.0</td>\n",
       "    </tr>\n",
       "    <tr>\n",
       "      <th>11</th>\n",
       "      <td>NAmes</td>\n",
       "      <td>42.058026</td>\n",
       "      <td>-93.646599</td>\n",
       "      <td>50010</td>\n",
       "      <td>48189.0</td>\n",
       "      <td>165300.0</td>\n",
       "    </tr>\n",
       "    <tr>\n",
       "      <th>12</th>\n",
       "      <td>SawyerW</td>\n",
       "      <td>42.033903</td>\n",
       "      <td>-93.677066</td>\n",
       "      <td>50014</td>\n",
       "      <td>37661.0</td>\n",
       "      <td>212500.0</td>\n",
       "    </tr>\n",
       "    <tr>\n",
       "      <th>13</th>\n",
       "      <td>IDOTRR</td>\n",
       "      <td>42.009614</td>\n",
       "      <td>-93.559918</td>\n",
       "      <td>50010</td>\n",
       "      <td>48189.0</td>\n",
       "      <td>165300.0</td>\n",
       "    </tr>\n",
       "    <tr>\n",
       "      <th>14</th>\n",
       "      <td>MeadowV</td>\n",
       "      <td>41.992448</td>\n",
       "      <td>-93.602645</td>\n",
       "      <td>50010</td>\n",
       "      <td>48189.0</td>\n",
       "      <td>165300.0</td>\n",
       "    </tr>\n",
       "    <tr>\n",
       "      <th>15</th>\n",
       "      <td>Edwards</td>\n",
       "      <td>42.015510</td>\n",
       "      <td>-93.685391</td>\n",
       "      <td>50014</td>\n",
       "      <td>37661.0</td>\n",
       "      <td>212500.0</td>\n",
       "    </tr>\n",
       "    <tr>\n",
       "      <th>16</th>\n",
       "      <td>Timber</td>\n",
       "      <td>41.999973</td>\n",
       "      <td>-93.649693</td>\n",
       "      <td>50014</td>\n",
       "      <td>37661.0</td>\n",
       "      <td>212500.0</td>\n",
       "    </tr>\n",
       "    <tr>\n",
       "      <th>17</th>\n",
       "      <td>Gilbert</td>\n",
       "      <td>42.106929</td>\n",
       "      <td>-93.649663</td>\n",
       "      <td>50105</td>\n",
       "      <td>80703.0</td>\n",
       "      <td>165400.0</td>\n",
       "    </tr>\n",
       "    <tr>\n",
       "      <th>18</th>\n",
       "      <td>StoneBr</td>\n",
       "      <td>42.059727</td>\n",
       "      <td>-93.637642</td>\n",
       "      <td>50010</td>\n",
       "      <td>48189.0</td>\n",
       "      <td>165300.0</td>\n",
       "    </tr>\n",
       "    <tr>\n",
       "      <th>19</th>\n",
       "      <td>ClearCr</td>\n",
       "      <td>42.036097</td>\n",
       "      <td>-93.648830</td>\n",
       "      <td>50011</td>\n",
       "      <td>NaN</td>\n",
       "      <td>NaN</td>\n",
       "    </tr>\n",
       "    <tr>\n",
       "      <th>20</th>\n",
       "      <td>NPkVill</td>\n",
       "      <td>42.030781</td>\n",
       "      <td>-93.631913</td>\n",
       "      <td>50010</td>\n",
       "      <td>48189.0</td>\n",
       "      <td>165300.0</td>\n",
       "    </tr>\n",
       "    <tr>\n",
       "      <th>21</th>\n",
       "      <td>Blmngtn</td>\n",
       "      <td>42.056376</td>\n",
       "      <td>-93.644471</td>\n",
       "      <td>50010</td>\n",
       "      <td>48189.0</td>\n",
       "      <td>165300.0</td>\n",
       "    </tr>\n",
       "    <tr>\n",
       "      <th>22</th>\n",
       "      <td>BrDale</td>\n",
       "      <td>42.052795</td>\n",
       "      <td>-93.628821</td>\n",
       "      <td>50010</td>\n",
       "      <td>48189.0</td>\n",
       "      <td>165300.0</td>\n",
       "    </tr>\n",
       "    <tr>\n",
       "      <th>23</th>\n",
       "      <td>SWISU</td>\n",
       "      <td>42.026657</td>\n",
       "      <td>-93.646452</td>\n",
       "      <td>50011</td>\n",
       "      <td>NaN</td>\n",
       "      <td>NaN</td>\n",
       "    </tr>\n",
       "    <tr>\n",
       "      <th>24</th>\n",
       "      <td>Blueste</td>\n",
       "      <td>42.023090</td>\n",
       "      <td>-93.663783</td>\n",
       "      <td>50014</td>\n",
       "      <td>37661.0</td>\n",
       "      <td>212500.0</td>\n",
       "    </tr>\n",
       "  </tbody>\n",
       "</table>\n",
       "</div>"
      ],
      "text/plain": [
       "   Neighborhood        Lat        Lng zipcode  median_household_income  \\\n",
       "0       CollgCr  42.022197 -93.651510   50010                  48189.0   \n",
       "1       Veenker  42.041304 -93.650302   50011                      NaN   \n",
       "2       Crawfor  42.018614 -93.648898   50014                  37661.0   \n",
       "3       NoRidge  42.047831 -93.646745   50010                  48189.0   \n",
       "4       Mitchel  41.990308 -93.601053   50010                  48189.0   \n",
       "5       Somerst  42.052628 -93.644582   50010                  48189.0   \n",
       "6        NWAmes  42.038277 -93.625770   50010                  48189.0   \n",
       "7       OldTown  42.029046 -93.614340   50010                  48189.0   \n",
       "8       BrkSide  42.028653 -93.630386   50010                  48189.0   \n",
       "9        Sawyer  42.033903 -93.677066   50014                  37661.0   \n",
       "10      NridgHt  42.059773 -93.649471   50010                  48189.0   \n",
       "11        NAmes  42.058026 -93.646599   50010                  48189.0   \n",
       "12      SawyerW  42.033903 -93.677066   50014                  37661.0   \n",
       "13       IDOTRR  42.009614 -93.559918   50010                  48189.0   \n",
       "14      MeadowV  41.992448 -93.602645   50010                  48189.0   \n",
       "15      Edwards  42.015510 -93.685391   50014                  37661.0   \n",
       "16       Timber  41.999973 -93.649693   50014                  37661.0   \n",
       "17      Gilbert  42.106929 -93.649663   50105                  80703.0   \n",
       "18      StoneBr  42.059727 -93.637642   50010                  48189.0   \n",
       "19      ClearCr  42.036097 -93.648830   50011                      NaN   \n",
       "20      NPkVill  42.030781 -93.631913   50010                  48189.0   \n",
       "21      Blmngtn  42.056376 -93.644471   50010                  48189.0   \n",
       "22       BrDale  42.052795 -93.628821   50010                  48189.0   \n",
       "23        SWISU  42.026657 -93.646452   50011                      NaN   \n",
       "24      Blueste  42.023090 -93.663783   50014                  37661.0   \n",
       "\n",
       "    median_home_value  \n",
       "0            165300.0  \n",
       "1                 NaN  \n",
       "2            212500.0  \n",
       "3            165300.0  \n",
       "4            165300.0  \n",
       "5            165300.0  \n",
       "6            165300.0  \n",
       "7            165300.0  \n",
       "8            165300.0  \n",
       "9            212500.0  \n",
       "10           165300.0  \n",
       "11           165300.0  \n",
       "12           212500.0  \n",
       "13           165300.0  \n",
       "14           165300.0  \n",
       "15           212500.0  \n",
       "16           212500.0  \n",
       "17           165400.0  \n",
       "18           165300.0  \n",
       "19                NaN  \n",
       "20           165300.0  \n",
       "21           165300.0  \n",
       "22           165300.0  \n",
       "23                NaN  \n",
       "24           212500.0  "
      ]
     },
     "execution_count": 49,
     "metadata": {},
     "output_type": "execute_result"
    }
   ],
   "source": [
    "geo_df['median_household_income'] = geo_df['zipcode'].apply(getMoreFeat,b='median_household_income')\n",
    "geo_df['median_home_value'] = geo_df['zipcode'].apply(getMoreFeat,b='median_home_value')\n",
    "geo_df"
   ]
  },
  {
   "cell_type": "markdown",
   "metadata": {},
   "source": [
    "There are missing values in median_household_income and median_home_value column. \n",
    "\n",
    "Lets impute missing values using K-nearest neighbor imputer."
   ]
  },
  {
   "cell_type": "code",
   "execution_count": 50,
   "metadata": {},
   "outputs": [],
   "source": [
    "from missingpy import KNNImputer"
   ]
  },
  {
   "cell_type": "code",
   "execution_count": 51,
   "metadata": {},
   "outputs": [],
   "source": [
    "geo_df['zipcode'] = geo_df.zipcode.astype(int)"
   ]
  },
  {
   "cell_type": "code",
   "execution_count": 52,
   "metadata": {},
   "outputs": [],
   "source": [
    "imputer = KNNImputer(n_neighbors=2,weights='distance')"
   ]
  },
  {
   "cell_type": "code",
   "execution_count": 53,
   "metadata": {},
   "outputs": [
    {
     "name": "stderr",
     "output_type": "stream",
     "text": [
      "/home/climbach/anaconda3/lib/python3.7/site-packages/sklearn/utils/validation.py:432: DeprecationWarning: 'warn_on_dtype' is deprecated in version 0.21 and will be removed in 0.23. Don't set `warn_on_dtype` to remove this warning.\n",
      "  DeprecationWarning)\n",
      "/home/climbach/anaconda3/lib/python3.7/site-packages/sklearn/utils/validation.py:432: DeprecationWarning: 'warn_on_dtype' is deprecated in version 0.21 and will be removed in 0.23. Don't set `warn_on_dtype` to remove this warning.\n",
      "  DeprecationWarning)\n"
     ]
    }
   ],
   "source": [
    "geo_df.set_index('Neighborhood',inplace=True)\n",
    "geo_df = pd.DataFrame(imputer.fit_transform(geo_df),columns=geo_df.columns,index=geo_df.index)\n",
    "geo_df.reset_index(inplace=True)"
   ]
  },
  {
   "cell_type": "code",
   "execution_count": 54,
   "metadata": {},
   "outputs": [
    {
     "data": {
      "text/html": [
       "<div>\n",
       "<style scoped>\n",
       "    .dataframe tbody tr th:only-of-type {\n",
       "        vertical-align: middle;\n",
       "    }\n",
       "\n",
       "    .dataframe tbody tr th {\n",
       "        vertical-align: top;\n",
       "    }\n",
       "\n",
       "    .dataframe thead th {\n",
       "        text-align: right;\n",
       "    }\n",
       "</style>\n",
       "<table border=\"1\" class=\"dataframe\">\n",
       "  <thead>\n",
       "    <tr style=\"text-align: right;\">\n",
       "      <th></th>\n",
       "      <th>Neighborhood</th>\n",
       "      <th>Lat</th>\n",
       "      <th>Lng</th>\n",
       "      <th>zipcode</th>\n",
       "      <th>median_household_income</th>\n",
       "      <th>median_home_value</th>\n",
       "    </tr>\n",
       "  </thead>\n",
       "  <tbody>\n",
       "    <tr>\n",
       "      <th>0</th>\n",
       "      <td>CollgCr</td>\n",
       "      <td>42.022197</td>\n",
       "      <td>-93.651510</td>\n",
       "      <td>50010.0</td>\n",
       "      <td>48189.0</td>\n",
       "      <td>165300.0</td>\n",
       "    </tr>\n",
       "    <tr>\n",
       "      <th>1</th>\n",
       "      <td>Veenker</td>\n",
       "      <td>42.041304</td>\n",
       "      <td>-93.650302</td>\n",
       "      <td>50011.0</td>\n",
       "      <td>48189.0</td>\n",
       "      <td>165300.0</td>\n",
       "    </tr>\n",
       "    <tr>\n",
       "      <th>2</th>\n",
       "      <td>Crawfor</td>\n",
       "      <td>42.018614</td>\n",
       "      <td>-93.648898</td>\n",
       "      <td>50014.0</td>\n",
       "      <td>37661.0</td>\n",
       "      <td>212500.0</td>\n",
       "    </tr>\n",
       "    <tr>\n",
       "      <th>3</th>\n",
       "      <td>NoRidge</td>\n",
       "      <td>42.047831</td>\n",
       "      <td>-93.646745</td>\n",
       "      <td>50010.0</td>\n",
       "      <td>48189.0</td>\n",
       "      <td>165300.0</td>\n",
       "    </tr>\n",
       "    <tr>\n",
       "      <th>4</th>\n",
       "      <td>Mitchel</td>\n",
       "      <td>41.990308</td>\n",
       "      <td>-93.601053</td>\n",
       "      <td>50010.0</td>\n",
       "      <td>48189.0</td>\n",
       "      <td>165300.0</td>\n",
       "    </tr>\n",
       "    <tr>\n",
       "      <th>5</th>\n",
       "      <td>Somerst</td>\n",
       "      <td>42.052628</td>\n",
       "      <td>-93.644582</td>\n",
       "      <td>50010.0</td>\n",
       "      <td>48189.0</td>\n",
       "      <td>165300.0</td>\n",
       "    </tr>\n",
       "    <tr>\n",
       "      <th>6</th>\n",
       "      <td>NWAmes</td>\n",
       "      <td>42.038277</td>\n",
       "      <td>-93.625770</td>\n",
       "      <td>50010.0</td>\n",
       "      <td>48189.0</td>\n",
       "      <td>165300.0</td>\n",
       "    </tr>\n",
       "    <tr>\n",
       "      <th>7</th>\n",
       "      <td>OldTown</td>\n",
       "      <td>42.029046</td>\n",
       "      <td>-93.614340</td>\n",
       "      <td>50010.0</td>\n",
       "      <td>48189.0</td>\n",
       "      <td>165300.0</td>\n",
       "    </tr>\n",
       "    <tr>\n",
       "      <th>8</th>\n",
       "      <td>BrkSide</td>\n",
       "      <td>42.028653</td>\n",
       "      <td>-93.630386</td>\n",
       "      <td>50010.0</td>\n",
       "      <td>48189.0</td>\n",
       "      <td>165300.0</td>\n",
       "    </tr>\n",
       "    <tr>\n",
       "      <th>9</th>\n",
       "      <td>Sawyer</td>\n",
       "      <td>42.033903</td>\n",
       "      <td>-93.677066</td>\n",
       "      <td>50014.0</td>\n",
       "      <td>37661.0</td>\n",
       "      <td>212500.0</td>\n",
       "    </tr>\n",
       "    <tr>\n",
       "      <th>10</th>\n",
       "      <td>NridgHt</td>\n",
       "      <td>42.059773</td>\n",
       "      <td>-93.649471</td>\n",
       "      <td>50010.0</td>\n",
       "      <td>48189.0</td>\n",
       "      <td>165300.0</td>\n",
       "    </tr>\n",
       "    <tr>\n",
       "      <th>11</th>\n",
       "      <td>NAmes</td>\n",
       "      <td>42.058026</td>\n",
       "      <td>-93.646599</td>\n",
       "      <td>50010.0</td>\n",
       "      <td>48189.0</td>\n",
       "      <td>165300.0</td>\n",
       "    </tr>\n",
       "    <tr>\n",
       "      <th>12</th>\n",
       "      <td>SawyerW</td>\n",
       "      <td>42.033903</td>\n",
       "      <td>-93.677066</td>\n",
       "      <td>50014.0</td>\n",
       "      <td>37661.0</td>\n",
       "      <td>212500.0</td>\n",
       "    </tr>\n",
       "    <tr>\n",
       "      <th>13</th>\n",
       "      <td>IDOTRR</td>\n",
       "      <td>42.009614</td>\n",
       "      <td>-93.559918</td>\n",
       "      <td>50010.0</td>\n",
       "      <td>48189.0</td>\n",
       "      <td>165300.0</td>\n",
       "    </tr>\n",
       "    <tr>\n",
       "      <th>14</th>\n",
       "      <td>MeadowV</td>\n",
       "      <td>41.992448</td>\n",
       "      <td>-93.602645</td>\n",
       "      <td>50010.0</td>\n",
       "      <td>48189.0</td>\n",
       "      <td>165300.0</td>\n",
       "    </tr>\n",
       "    <tr>\n",
       "      <th>15</th>\n",
       "      <td>Edwards</td>\n",
       "      <td>42.015510</td>\n",
       "      <td>-93.685391</td>\n",
       "      <td>50014.0</td>\n",
       "      <td>37661.0</td>\n",
       "      <td>212500.0</td>\n",
       "    </tr>\n",
       "    <tr>\n",
       "      <th>16</th>\n",
       "      <td>Timber</td>\n",
       "      <td>41.999973</td>\n",
       "      <td>-93.649693</td>\n",
       "      <td>50014.0</td>\n",
       "      <td>37661.0</td>\n",
       "      <td>212500.0</td>\n",
       "    </tr>\n",
       "    <tr>\n",
       "      <th>17</th>\n",
       "      <td>Gilbert</td>\n",
       "      <td>42.106929</td>\n",
       "      <td>-93.649663</td>\n",
       "      <td>50105.0</td>\n",
       "      <td>80703.0</td>\n",
       "      <td>165400.0</td>\n",
       "    </tr>\n",
       "    <tr>\n",
       "      <th>18</th>\n",
       "      <td>StoneBr</td>\n",
       "      <td>42.059727</td>\n",
       "      <td>-93.637642</td>\n",
       "      <td>50010.0</td>\n",
       "      <td>48189.0</td>\n",
       "      <td>165300.0</td>\n",
       "    </tr>\n",
       "    <tr>\n",
       "      <th>19</th>\n",
       "      <td>ClearCr</td>\n",
       "      <td>42.036097</td>\n",
       "      <td>-93.648830</td>\n",
       "      <td>50011.0</td>\n",
       "      <td>48189.0</td>\n",
       "      <td>165300.0</td>\n",
       "    </tr>\n",
       "    <tr>\n",
       "      <th>20</th>\n",
       "      <td>NPkVill</td>\n",
       "      <td>42.030781</td>\n",
       "      <td>-93.631913</td>\n",
       "      <td>50010.0</td>\n",
       "      <td>48189.0</td>\n",
       "      <td>165300.0</td>\n",
       "    </tr>\n",
       "    <tr>\n",
       "      <th>21</th>\n",
       "      <td>Blmngtn</td>\n",
       "      <td>42.056376</td>\n",
       "      <td>-93.644471</td>\n",
       "      <td>50010.0</td>\n",
       "      <td>48189.0</td>\n",
       "      <td>165300.0</td>\n",
       "    </tr>\n",
       "    <tr>\n",
       "      <th>22</th>\n",
       "      <td>BrDale</td>\n",
       "      <td>42.052795</td>\n",
       "      <td>-93.628821</td>\n",
       "      <td>50010.0</td>\n",
       "      <td>48189.0</td>\n",
       "      <td>165300.0</td>\n",
       "    </tr>\n",
       "    <tr>\n",
       "      <th>23</th>\n",
       "      <td>SWISU</td>\n",
       "      <td>42.026657</td>\n",
       "      <td>-93.646452</td>\n",
       "      <td>50011.0</td>\n",
       "      <td>48189.0</td>\n",
       "      <td>165300.0</td>\n",
       "    </tr>\n",
       "    <tr>\n",
       "      <th>24</th>\n",
       "      <td>Blueste</td>\n",
       "      <td>42.023090</td>\n",
       "      <td>-93.663783</td>\n",
       "      <td>50014.0</td>\n",
       "      <td>37661.0</td>\n",
       "      <td>212500.0</td>\n",
       "    </tr>\n",
       "  </tbody>\n",
       "</table>\n",
       "</div>"
      ],
      "text/plain": [
       "   Neighborhood        Lat        Lng  zipcode  median_household_income  \\\n",
       "0       CollgCr  42.022197 -93.651510  50010.0                  48189.0   \n",
       "1       Veenker  42.041304 -93.650302  50011.0                  48189.0   \n",
       "2       Crawfor  42.018614 -93.648898  50014.0                  37661.0   \n",
       "3       NoRidge  42.047831 -93.646745  50010.0                  48189.0   \n",
       "4       Mitchel  41.990308 -93.601053  50010.0                  48189.0   \n",
       "5       Somerst  42.052628 -93.644582  50010.0                  48189.0   \n",
       "6        NWAmes  42.038277 -93.625770  50010.0                  48189.0   \n",
       "7       OldTown  42.029046 -93.614340  50010.0                  48189.0   \n",
       "8       BrkSide  42.028653 -93.630386  50010.0                  48189.0   \n",
       "9        Sawyer  42.033903 -93.677066  50014.0                  37661.0   \n",
       "10      NridgHt  42.059773 -93.649471  50010.0                  48189.0   \n",
       "11        NAmes  42.058026 -93.646599  50010.0                  48189.0   \n",
       "12      SawyerW  42.033903 -93.677066  50014.0                  37661.0   \n",
       "13       IDOTRR  42.009614 -93.559918  50010.0                  48189.0   \n",
       "14      MeadowV  41.992448 -93.602645  50010.0                  48189.0   \n",
       "15      Edwards  42.015510 -93.685391  50014.0                  37661.0   \n",
       "16       Timber  41.999973 -93.649693  50014.0                  37661.0   \n",
       "17      Gilbert  42.106929 -93.649663  50105.0                  80703.0   \n",
       "18      StoneBr  42.059727 -93.637642  50010.0                  48189.0   \n",
       "19      ClearCr  42.036097 -93.648830  50011.0                  48189.0   \n",
       "20      NPkVill  42.030781 -93.631913  50010.0                  48189.0   \n",
       "21      Blmngtn  42.056376 -93.644471  50010.0                  48189.0   \n",
       "22       BrDale  42.052795 -93.628821  50010.0                  48189.0   \n",
       "23        SWISU  42.026657 -93.646452  50011.0                  48189.0   \n",
       "24      Blueste  42.023090 -93.663783  50014.0                  37661.0   \n",
       "\n",
       "    median_home_value  \n",
       "0            165300.0  \n",
       "1            165300.0  \n",
       "2            212500.0  \n",
       "3            165300.0  \n",
       "4            165300.0  \n",
       "5            165300.0  \n",
       "6            165300.0  \n",
       "7            165300.0  \n",
       "8            165300.0  \n",
       "9            212500.0  \n",
       "10           165300.0  \n",
       "11           165300.0  \n",
       "12           212500.0  \n",
       "13           165300.0  \n",
       "14           165300.0  \n",
       "15           212500.0  \n",
       "16           212500.0  \n",
       "17           165400.0  \n",
       "18           165300.0  \n",
       "19           165300.0  \n",
       "20           165300.0  \n",
       "21           165300.0  \n",
       "22           165300.0  \n",
       "23           165300.0  \n",
       "24           212500.0  "
      ]
     },
     "execution_count": 54,
     "metadata": {},
     "output_type": "execute_result"
    }
   ],
   "source": [
    "geo_df"
   ]
  },
  {
   "cell_type": "code",
   "execution_count": 55,
   "metadata": {},
   "outputs": [
    {
     "name": "stdout",
     "output_type": "stream",
     "text": [
      "<class 'pandas.core.frame.DataFrame'>\n",
      "RangeIndex: 25 entries, 0 to 24\n",
      "Data columns (total 6 columns):\n",
      "Neighborhood               25 non-null object\n",
      "Lat                        25 non-null float64\n",
      "Lng                        25 non-null float64\n",
      "zipcode                    25 non-null float64\n",
      "median_household_income    25 non-null float64\n",
      "median_home_value          25 non-null float64\n",
      "dtypes: float64(5), object(1)\n",
      "memory usage: 1.2+ KB\n"
     ]
    }
   ],
   "source": [
    "geo_df.info()"
   ]
  },
  {
   "cell_type": "code",
   "execution_count": 56,
   "metadata": {},
   "outputs": [
    {
     "name": "stdout",
     "output_type": "stream",
     "text": [
      "Neighborhood already in FETAURES[\"cat\"]\n"
     ]
    }
   ],
   "source": [
    "## Adding new features to FEATURES\n",
    "for col in geo_df:\n",
    "    if col == 'Neighborhood':\n",
    "        print(col+' already in FETAURES[\"cat\"]')\n",
    "    elif geo_df[col].dtypes == 'object':\n",
    "        FEATURES['aug_cat'].append(col)\n",
    "    else:\n",
    "        FEATURES['aug_num'].append(col)"
   ]
  },
  {
   "cell_type": "markdown",
   "metadata": {},
   "source": [
    "Now that geo_df, which includes geographical and demographical information, is ready. Lets merge it with the main dataframe "
   ]
  },
  {
   "cell_type": "markdown",
   "metadata": {},
   "source": [
    "Let's merge the addtional features to the main dataset."
   ]
  },
  {
   "cell_type": "code",
   "execution_count": 57,
   "metadata": {},
   "outputs": [
    {
     "name": "stdout",
     "output_type": "stream",
     "text": [
      "FunctionTransformer(accept_sparse=False, check_inverse=True,\n",
      "                    func=<function augment at 0x7f3e48abc6a8>, inv_kw_args=None,\n",
      "                    inverse_func=None,\n",
      "                    kw_args={'geo_df':    Neighborhood        Lat        Lng  zipcode  median_household_income  \\\n",
      "0       CollgCr  42.022197 -93.651510  50010.0                  48189.0   \n",
      "1       Veenker  42.041304 -93.650302  50011.0                  48189.0   \n",
      "2       Crawfor  42.018614 -93.648898  50014.0                  37661.0   \n",
      "3       NoRidge  42.047831 -93.646745...\n",
      "23        SWISU  42.026657 -93.646452  50011.0                  48189.0   \n",
      "24      Blueste  42.023090 -93.663783  50014.0                  37661.0   \n",
      "\n",
      "    median_home_value  \n",
      "0            165300.0  \n",
      "1            165300.0  \n",
      "2            212500.0  \n",
      "3            165300.0  \n",
      "4            165300.0  \n",
      "5            165300.0  \n",
      "6            165300.0  \n",
      "7            165300.0  \n",
      "8            165300.0  \n",
      "9            212500.0  \n",
      "10           165300.0  \n",
      "11           165300.0  \n",
      "12           212500.0  \n",
      "13           165300.0  \n",
      "14           165300.0  \n",
      "15           212500.0  \n",
      "16           212500.0  \n",
      "17           165400.0  \n",
      "18           165300.0  \n",
      "19           165300.0  \n",
      "20           165300.0  \n",
      "21           165300.0  \n",
      "22           165300.0  \n",
      "23           165300.0  \n",
      "24           212500.0  },\n",
      "                    pass_y='deprecated', validate=False)\n",
      "(1454, 87)\n"
     ]
    }
   ],
   "source": [
    "def augment(X,geo_df):\n",
    "    X.reset_index(inplace=True)\n",
    "    X = X.merge(geo_df,how='left')\n",
    "    X.set_index('Id',inplace=True)\n",
    "    return X\n",
    "\n",
    "augmenter = FunctionTransformer(augment,validate=False,kw_args=dict(geo_df=geo_df))\n",
    "print(augmenter)\n",
    "transformers.append(('augmenter',augmenter))\n",
    "\n",
    "housing = augmenter.fit_transform(housing)\n",
    "print(housing.shape)"
   ]
  },
  {
   "cell_type": "code",
   "execution_count": 58,
   "metadata": {},
   "outputs": [],
   "source": [
    "temp = log_trans.fit_transform(housing_raw)"
   ]
  },
  {
   "cell_type": "code",
   "execution_count": 59,
   "metadata": {},
   "outputs": [
    {
     "name": "stdout",
     "output_type": "stream",
     "text": [
      "Manually and pipeline created datasets are equal:\n",
      "True\n"
     ]
    }
   ],
   "source": [
    "## New cell\n",
    "\n",
    "test = pd.read_csv('../data/01-House-Price/test.csv',index_col='Id')\n",
    "my_pipeline = Pipeline(transformers)\n",
    "my_pipeline.fit(housing_raw)\n",
    "housing_temp = my_pipeline.transform(housing_raw)\n",
    "\n",
    "print('Manually and pipeline created datasets are equal:')\n",
    "print(housing.drop('log1p(SalePrice)',axis=1).equals(housing_temp))\n",
    "\n",
    "test_temp = my_pipeline.transform(test)"
   ]
  },
  {
   "cell_type": "code",
   "execution_count": 60,
   "metadata": {},
   "outputs": [
    {
     "name": "stdout",
     "output_type": "stream",
     "text": [
      "SalePrice is missing in housing_temp\n",
      "log1p(SalePrice) is missing in housing_temp\n"
     ]
    }
   ],
   "source": [
    "## Add newly added numerical features to FEATURES\n",
    "for feature in housing.columns:\n",
    "    if feature not in FEATURES['cat']+FEATURES['num']+FEATURES['aug_num']:\n",
    "        print(feature+' is missing in housing_temp')"
   ]
  },
  {
   "cell_type": "markdown",
   "metadata": {},
   "source": [
    "Correlations of the newly added geographic and demograpic features with the target variable. "
   ]
  },
  {
   "cell_type": "code",
   "execution_count": 61,
   "metadata": {},
   "outputs": [
    {
     "data": {
      "text/plain": [
       "Text(0.5, 1, 'Correlation Matrix')"
      ]
     },
     "execution_count": 61,
     "metadata": {},
     "output_type": "execute_result"
    },
    {
     "data": {
      "image/png": "[encoded data removed]",
      "text/plain": [
       "<Figure size 432x288 with 2 Axes>"
      ]
     },
     "metadata": {
      "needs_background": "light"
     },
     "output_type": "display_data"
    }
   ],
   "source": [
    "plt.figure(figsize=(6,4))\n",
    "sns.heatmap(housing[['log1p(SalePrice)','SalePrice','Lat','Lng','zipcode','median_household_income','median_home_value']].corr(),\n",
    "           vmin=-1,vmax=1,cmap='coolwarm',annot=True,annot_kws=dict(size=12),fmt='.2f')\n",
    "plt.title('Correlation Matrix')"
   ]
  },
  {
   "cell_type": "markdown",
   "metadata": {},
   "source": [
    "Correlations are high, but lets keep these features for now. We will come back to this later."
   ]
  },
  {
   "cell_type": "code",
   "execution_count": 62,
   "metadata": {},
   "outputs": [
    {
     "name": "stdout",
     "output_type": "stream",
     "text": [
      "Dimensions of the dataset (1454, 80)\n"
     ]
    }
   ],
   "source": [
    "print('Dimensions of the dataset',housing[FEATURES['num']+FEATURES['cat']].shape)"
   ]
  },
  {
   "cell_type": "code",
   "execution_count": 63,
   "metadata": {},
   "outputs": [
    {
     "name": "stdout",
     "output_type": "stream",
     "text": [
      "Manually and pipeline created datasets are equal:\n",
      "True\n"
     ]
    }
   ],
   "source": [
    "print('Manually and pipeline created datasets are equal:')\n",
    "print(housing.drop('log1p(SalePrice)',axis=1).equals(housing_temp))"
   ]
  },
  {
   "cell_type": "markdown",
   "metadata": {},
   "source": [
    "**At this point, data is free of outliers and missing values.**"
   ]
  },
  {
   "cell_type": "code",
   "execution_count": 64,
   "metadata": {},
   "outputs": [],
   "source": [
    "with open('../data/01-House-Price/wrangled_data.pkl','wb') as file:\n",
    "    pickle.dump((housing,FEATURES,transformers),file)"
   ]
  },
  {
   "cell_type": "code",
   "execution_count": null,
   "metadata": {},
   "outputs": [],
   "source": []
  }
 ],
 "metadata": {
  "kernelspec": {
   "display_name": "Python 3",
   "language": "python",
   "name": "python3"
  },
  "language_info": {
   "codemirror_mode": {
    "name": "ipython",
    "version": 3
   },
   "file_extension": ".py",
   "mimetype": "text/x-python",
   "name": "python",
   "nbconvert_exporter": "python",
   "pygments_lexer": "ipython3",
   "version": "3.7.3"
  }
 },
 "nbformat": 4,
 "nbformat_minor": 4
}
